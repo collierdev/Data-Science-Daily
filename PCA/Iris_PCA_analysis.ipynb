{
 "cells": [
  {
   "cell_type": "markdown",
   "metadata": {
    "colab_type": "text",
    "id": "_dhYUDq9u6lY"
   },
   "source": [
    "# **Machine Learning in Python: Performing Principal Component Analysis (PCA)**\n",
    "\n",
    "Chanin Nantasenamat\n",
    "\n",
    "<i>Data Professor YouTube channel, http://youtube.com/dataprofessor </i>\n",
    "\n",
    "In this Jupyter notebook, we will be performing Principal Component Analysis (PCA) using the Iris data set as an example."
   ]
  },
  {
   "cell_type": "markdown",
   "metadata": {
    "colab_type": "text",
    "id": "06FKTxWKxhS3"
   },
   "source": [
    "---"
   ]
  },
  {
   "cell_type": "markdown",
   "metadata": {
    "colab_type": "text",
    "id": "993wzT_Qu6ld"
   },
   "source": [
    "## **1. Iris data set**"
   ]
  },
  {
   "cell_type": "markdown",
   "metadata": {
    "colab_type": "text",
    "id": "JAoNQBkGxS4k"
   },
   "source": [
    "### Load library"
   ]
  },
  {
   "cell_type": "code",
   "execution_count": 73,
   "metadata": {
    "colab": {},
    "colab_type": "code",
    "id": "J46-WhoNwu1M"
   },
   "outputs": [],
   "source": [
    "from sklearn import datasets"
   ]
  },
  {
   "cell_type": "markdown",
   "metadata": {
    "colab_type": "text",
    "id": "KOezq3OoxXOt"
   },
   "source": [
    "### Load dataset"
   ]
  },
  {
   "cell_type": "code",
   "execution_count": 74,
   "metadata": {
    "colab": {},
    "colab_type": "code",
    "id": "i7tA2pJru6le"
   },
   "outputs": [],
   "source": [
    "iris = datasets.load_iris()"
   ]
  },
  {
   "cell_type": "markdown",
   "metadata": {
    "colab_type": "text",
    "id": "kkfLzx63u6li"
   },
   "source": [
    "### Input features"
   ]
  },
  {
   "cell_type": "code",
   "execution_count": 75,
   "metadata": {
    "colab": {
     "base_uri": "https://localhost:8080/",
     "height": 34
    },
    "colab_type": "code",
    "id": "dsNpvJrau6li",
    "outputId": "c5017eda-020d-4fd1-f3f4-8fc968d0cfef",
    "scrolled": true
   },
   "outputs": [
    {
     "name": "stdout",
     "output_type": "stream",
     "text": [
      "['sepal length (cm)', 'sepal width (cm)', 'petal length (cm)', 'petal width (cm)']\n"
     ]
    }
   ],
   "source": [
    "print(iris.feature_names)"
   ]
  },
  {
   "cell_type": "markdown",
   "metadata": {
    "colab_type": "text",
    "id": "ZP_yudc_u6lm"
   },
   "source": [
    "### Output features"
   ]
  },
  {
   "cell_type": "code",
   "execution_count": 76,
   "metadata": {
    "colab": {
     "base_uri": "https://localhost:8080/",
     "height": 34
    },
    "colab_type": "code",
    "id": "6drPiuLJu6lm",
    "outputId": "362a4109-d3bc-4386-e939-42cb591db072"
   },
   "outputs": [
    {
     "name": "stdout",
     "output_type": "stream",
     "text": [
      "['setosa' 'versicolor' 'virginica']\n"
     ]
    }
   ],
   "source": [
    "print(iris.target_names)"
   ]
  },
  {
   "cell_type": "markdown",
   "metadata": {
    "colab_type": "text",
    "id": "ok1mrQKBu6ly"
   },
   "source": [
    "### Assigning Input (X) and Output (Y) variables\n",
    "Let's assign the 4 input variables to X and the output variable (class label) to Y"
   ]
  },
  {
   "cell_type": "code",
   "execution_count": 77,
   "metadata": {
    "colab": {},
    "colab_type": "code",
    "id": "4dRDJdZju6ly"
   },
   "outputs": [],
   "source": [
    "X = iris.data\n",
    "Y = iris.target"
   ]
  },
  {
   "cell_type": "markdown",
   "metadata": {
    "colab_type": "text",
    "id": "SITDccCXu6l1"
   },
   "source": [
    "### Let's examine the data dimension"
   ]
  },
  {
   "cell_type": "code",
   "execution_count": 78,
   "metadata": {
    "colab": {
     "base_uri": "https://localhost:8080/",
     "height": 34
    },
    "colab_type": "code",
    "id": "BmM56CKxu6l2",
    "outputId": "d970f43c-517c-4ec6-9c8d-2dc8295a6dba"
   },
   "outputs": [
    {
     "data": {
      "text/plain": [
       "(150, 4)"
      ]
     },
     "execution_count": 78,
     "metadata": {},
     "output_type": "execute_result"
    }
   ],
   "source": [
    "X.shape"
   ]
  },
  {
   "cell_type": "code",
   "execution_count": 79,
   "metadata": {
    "colab": {
     "base_uri": "https://localhost:8080/",
     "height": 34
    },
    "colab_type": "code",
    "id": "hGST4G-vu6l5",
    "outputId": "ad084e22-0a73-4bf2-9f72-699cd9cd98ea"
   },
   "outputs": [
    {
     "data": {
      "text/plain": [
       "(150,)"
      ]
     },
     "execution_count": 79,
     "metadata": {},
     "output_type": "execute_result"
    }
   ],
   "source": [
    "Y.shape"
   ]
  },
  {
   "cell_type": "markdown",
   "metadata": {
    "colab_type": "text",
    "id": "I8v0oQWxwlY9"
   },
   "source": [
    "---"
   ]
  },
  {
   "cell_type": "markdown",
   "metadata": {
    "colab_type": "text",
    "id": "zIEVV6ilwmd-"
   },
   "source": [
    "## **2. PCA analysis**"
   ]
  },
  {
   "cell_type": "markdown",
   "metadata": {
    "colab_type": "text",
    "id": "ZKTWaerqP9Fn"
   },
   "source": [
    "### 2.1. Load library"
   ]
  },
  {
   "cell_type": "code",
   "execution_count": 80,
   "metadata": {
    "colab": {},
    "colab_type": "code",
    "id": "VsYGSVAqyEfd"
   },
   "outputs": [],
   "source": [
    "from sklearn.preprocessing import scale # Data scaling\n",
    "from sklearn import decomposition #PCA\n",
    "import pandas as pd # pandas"
   ]
  },
  {
   "cell_type": "markdown",
   "metadata": {
    "colab_type": "text",
    "id": "-NgIE0Vaaw80"
   },
   "source": [
    "### 2.2. Data scaling"
   ]
  },
  {
   "cell_type": "code",
   "execution_count": 81,
   "metadata": {
    "colab": {},
    "colab_type": "code",
    "id": "gwG7MVqWazvO"
   },
   "outputs": [],
   "source": [
    "X = scale(X)"
   ]
  },
  {
   "cell_type": "markdown",
   "metadata": {
    "colab_type": "text",
    "id": "e459eMWpQA5Y"
   },
   "source": [
    "### 2.3. Perform PCA analysis"
   ]
  },
  {
   "cell_type": "markdown",
   "metadata": {
    "colab_type": "text",
    "id": "ljxH8Hclbhpv"
   },
   "source": [
    "Here we define the number of PC to use as 3"
   ]
  },
  {
   "cell_type": "code",
   "execution_count": 82,
   "metadata": {
    "colab": {
     "base_uri": "https://localhost:8080/",
     "height": 51
    },
    "colab_type": "code",
    "id": "xc4axaaBQJVh",
    "outputId": "b98c8a79-5577-4982-fdf1-1672da43359a"
   },
   "outputs": [
    {
     "data": {
      "text/plain": [
       "PCA(n_components=3)"
      ]
     },
     "execution_count": 82,
     "metadata": {},
     "output_type": "execute_result"
    }
   ],
   "source": [
    "pca = decomposition.PCA(n_components=3)\n",
    "pca.fit(X)\n"
   ]
  },
  {
   "cell_type": "markdown",
   "metadata": {
    "colab_type": "text",
    "id": "b6-MMWHVbmoW"
   },
   "source": [
    "#### 2.4. Compute and retrieve the **scores** values"
   ]
  },
  {
   "cell_type": "code",
   "execution_count": 83,
   "metadata": {
    "colab": {},
    "colab_type": "code",
    "id": "CvXA9dWbbecf"
   },
   "outputs": [],
   "source": [
    "scores = pca.transform(X)"
   ]
  },
  {
   "cell_type": "code",
   "execution_count": 84,
   "metadata": {},
   "outputs": [
    {
     "data": {
      "text/plain": [
       "array([[-2.26470281,  0.4800266 , -0.12770602],\n",
       "       [-2.08096115, -0.67413356, -0.23460885],\n",
       "       [-2.36422905, -0.34190802,  0.04420148],\n",
       "       [-2.29938422, -0.59739451,  0.09129011],\n",
       "       [-2.38984217,  0.64683538,  0.0157382 ],\n",
       "       [-2.07563095,  1.48917752,  0.02696829],\n",
       "       [-2.44402884,  0.0476442 ,  0.3354704 ],\n",
       "       [-2.23284716,  0.22314807, -0.0886955 ],\n",
       "       [-2.33464048, -1.11532768,  0.14507686],\n",
       "       [-2.18432817, -0.46901356, -0.25376557],\n",
       "       [-2.1663101 ,  1.04369065, -0.2686811 ],\n",
       "       [-2.32613087,  0.13307834,  0.09375924],\n",
       "       [-2.2184509 , -0.72867617, -0.23091124],\n",
       "       [-2.6331007 , -0.96150673,  0.18079608],\n",
       "       [-2.1987406 ,  1.86005711, -0.472901  ],\n",
       "       [-2.26221453,  2.68628449,  0.03052661],\n",
       "       [-2.2075877 ,  1.48360936, -0.00534409],\n",
       "       [-2.19034951,  0.48883832, -0.04421532],\n",
       "       [-1.898572  ,  1.40501879, -0.37434327],\n",
       "       [-2.34336905,  1.12784938,  0.13263047],\n",
       "       [-1.914323  ,  0.40885571, -0.42129259],\n",
       "       [-2.20701284,  0.92412143,  0.15986528],\n",
       "       [-2.7743447 ,  0.45834367,  0.3321791 ],\n",
       "       [-1.81866953,  0.08555853,  0.0344886 ],\n",
       "       [-2.22716331,  0.13725446,  0.11799354],\n",
       "       [-1.95184633, -0.62561859, -0.30564098],\n",
       "       [-2.05115137,  0.24216355,  0.08636401],\n",
       "       [-2.16857717,  0.52714953, -0.20681625],\n",
       "       [-2.13956345,  0.31321781, -0.27115024],\n",
       "       [-2.26526149, -0.3377319 ,  0.06843578],\n",
       "       [-2.14012214, -0.50454069, -0.07500844],\n",
       "       [-1.83159477,  0.42369507, -0.27046738],\n",
       "       [-2.61494794,  1.79357586,  0.04722842],\n",
       "       [-2.44617739,  2.15072788, -0.08266805],\n",
       "       [-2.10997488, -0.46020184, -0.17027486],\n",
       "       [-2.2078089 , -0.2061074 , -0.22544158],\n",
       "       [-2.04514621,  0.66155811, -0.48453741],\n",
       "       [-2.52733191,  0.59229277,  0.01943581],\n",
       "       [-2.42963258, -0.90418004,  0.19325466],\n",
       "       [-2.16971071,  0.26887896, -0.17588382],\n",
       "       [-2.28647514,  0.44171539,  0.03489491],\n",
       "       [-1.85812246, -2.33741516, -0.20423422],\n",
       "       [-2.5536384 , -0.47910069,  0.30576645],\n",
       "       [-1.96444768,  0.47232667,  0.30960132],\n",
       "       [-2.13705901,  1.14222926,  0.24843356],\n",
       "       [-2.0697443 , -0.71105273, -0.06392983],\n",
       "       [-2.38473317,  1.1204297 ,  0.05721786],\n",
       "       [-2.39437631, -0.38624687,  0.1394679 ],\n",
       "       [-2.22944655,  0.99795976, -0.18149278],\n",
       "       [-2.20383344,  0.00921636, -0.15302949],\n",
       "       [ 1.10178118,  0.86297242, -0.68458616],\n",
       "       [ 0.73133743,  0.59461473, -0.09412172],\n",
       "       [ 1.24097932,  0.61629765, -0.55400684],\n",
       "       [ 0.40748306, -1.75440399, -0.02310177],\n",
       "       [ 1.0754747 , -0.20842105, -0.39825552],\n",
       "       [ 0.38868734, -0.59328364,  0.12419155],\n",
       "       [ 0.74652974,  0.77301931,  0.1489694 ],\n",
       "       [-0.48732274, -1.85242909,  0.24926527],\n",
       "       [ 0.92790164,  0.03222608, -0.59616936],\n",
       "       [ 0.01142619, -1.03401828,  0.53889939],\n",
       "       [-0.11019628, -2.65407282, -0.04679044],\n",
       "       [ 0.44069345, -0.06329519,  0.20507382],\n",
       "       [ 0.56210831, -1.76472438, -0.76577139],\n",
       "       [ 0.71956189, -0.18622461, -0.06865895],\n",
       "       [-0.0333547 , -0.43900321,  0.19493289],\n",
       "       [ 0.87540719,  0.50906396, -0.50351138],\n",
       "       [ 0.35025167, -0.19631173,  0.49087307],\n",
       "       [ 0.15881005, -0.79209574, -0.30203717],\n",
       "       [ 1.22509363, -1.6222438 , -0.48230402],\n",
       "       [ 0.1649179 , -1.30260923, -0.17283781],\n",
       "       [ 0.73768265,  0.39657156,  0.61652631],\n",
       "       [ 0.47628719, -0.41732028, -0.26495223],\n",
       "       [ 1.2341781 , -0.93332573, -0.36841227],\n",
       "       [ 0.6328582 , -0.41638772, -0.29189625],\n",
       "       [ 0.70266118, -0.06341182, -0.44602701],\n",
       "       [ 0.87427365,  0.25079339, -0.47257895],\n",
       "       [ 1.25650912, -0.07725602, -0.727155  ],\n",
       "       [ 1.35840512,  0.33131168, -0.26082658],\n",
       "       [ 0.66480037, -0.22592785,  0.08586389],\n",
       "       [-0.04025861, -1.05871855, -0.31957333],\n",
       "       [ 0.13079518, -1.56227183, -0.14998348],\n",
       "       [ 0.02345269, -1.57247559, -0.24155228],\n",
       "       [ 0.24153827, -0.77725638, -0.15121196],\n",
       "       [ 1.06109461, -0.63384324,  0.10531139],\n",
       "       [ 0.22397877, -0.28777351,  0.66524972],\n",
       "       [ 0.42913912,  0.84558224,  0.45063407],\n",
       "       [ 1.04872805,  0.5220518 , -0.39578638],\n",
       "       [ 1.04453138, -1.38298872, -0.68829596],\n",
       "       [ 0.06958832, -0.21950333,  0.29157927],\n",
       "       [ 0.28347724, -1.32932464,  0.08941002],\n",
       "       [ 0.27907778, -1.12002852,  0.0944876 ],\n",
       "       [ 0.62456979,  0.02492303, -0.02048115],\n",
       "       [ 0.33653037, -0.98840402, -0.19938976],\n",
       "       [-0.36218338, -2.01923787,  0.10582105],\n",
       "       [ 0.28858624, -0.85573032,  0.13088969],\n",
       "       [ 0.09136066, -0.18119213,  0.12897834],\n",
       "       [ 0.22771687, -0.38492008,  0.15621315],\n",
       "       [ 0.57638829, -0.1548736 , -0.27165036],\n",
       "       [-0.44766702, -1.54379203,  0.19040093],\n",
       "       [ 0.25673059, -0.5988518 ,  0.09187916],\n",
       "       [ 1.84456887,  0.87042131,  1.00540102],\n",
       "       [ 1.15788161, -0.69886986,  0.53016015],\n",
       "       [ 2.20526679,  0.56201048, -0.20291417],\n",
       "       [ 1.44015066, -0.04698759,  0.16363011],\n",
       "       [ 1.86781222,  0.29504482,  0.39562837],\n",
       "       [ 2.75187334,  0.8004092 , -0.5823091 ],\n",
       "       [ 0.36701769, -1.56150289,  0.98689327],\n",
       "       [ 2.30243944,  0.42006558, -0.65170644],\n",
       "       [ 2.00668647, -0.71143865, -0.39399057],\n",
       "       [ 2.25977735,  1.92101038,  0.3975519 ],\n",
       "       [ 1.36417549,  0.69275645,  0.28461207],\n",
       "       [ 1.60267867, -0.42170045,  0.02318641],\n",
       "       [ 1.8839007 ,  0.41924965,  0.02633841],\n",
       "       [ 1.2601151 , -1.16226042,  0.58024929],\n",
       "       [ 1.4676452 , -0.44227159,  1.00386957],\n",
       "       [ 1.59007732,  0.67624481,  0.63842871],\n",
       "       [ 1.47143146,  0.25562182,  0.03743126],\n",
       "       [ 2.42632899,  2.55666125, -0.12788146],\n",
       "       [ 3.31069558,  0.01778095, -0.7033053 ],\n",
       "       [ 1.26376667, -1.70674538, -0.26753689],\n",
       "       [ 2.0377163 ,  0.91046741,  0.23479948],\n",
       "       [ 0.97798073, -0.57176432,  0.8281272 ],\n",
       "       [ 2.89765149,  0.41364106, -0.85742182],\n",
       "       [ 1.33323218, -0.48181122, -0.00542836],\n",
       "       [ 1.7007339 ,  1.01392187,  0.29845061],\n",
       "       [ 1.95432671,  1.0077776 , -0.41998472],\n",
       "       [ 1.17510363, -0.31639447,  0.12993776],\n",
       "       [ 1.02095055,  0.06434603,  0.33771597],\n",
       "       [ 1.78834992, -0.18736121,  0.27065801],\n",
       "       [ 1.86364755,  0.56229073, -0.71563412],\n",
       "       [ 2.43595373,  0.25928443, -0.72781615],\n",
       "       [ 2.30492772,  2.62632347, -0.49347381],\n",
       "       [ 1.86270322, -0.17854949,  0.35414871],\n",
       "       [ 1.11414774, -0.29292262, -0.18348839],\n",
       "       [ 1.2024733 , -0.81131527, -0.16472376],\n",
       "       [ 2.79877045,  0.85680333, -0.5429065 ],\n",
       "       [ 1.57625591,  1.06858111,  0.94585382],\n",
       "       [ 1.3462921 ,  0.42243061,  0.18087548],\n",
       "       [ 0.92482492,  0.0172231 ,  0.41682619],\n",
       "       [ 1.85204505,  0.67612817, -0.01267211],\n",
       "       [ 2.01481043,  0.61388564,  0.42833284],\n",
       "       [ 1.90178409,  0.68957549,  0.13007501],\n",
       "       [ 1.15788161, -0.69886986,  0.53016015],\n",
       "       [ 2.04055823,  0.8675206 ,  0.338144  ],\n",
       "       [ 1.9981471 ,  1.04916875,  0.63241344],\n",
       "       [ 1.87050329,  0.38696608,  0.25627385],\n",
       "       [ 1.56458048, -0.89668681, -0.02637135],\n",
       "       [ 1.5211705 ,  0.26906914,  0.18017838],\n",
       "       [ 1.37278779,  1.01125442,  0.93339524],\n",
       "       [ 0.96065603, -0.02433167,  0.52824881]])"
      ]
     },
     "execution_count": 84,
     "metadata": {},
     "output_type": "execute_result"
    }
   ],
   "source": [
    "scores"
   ]
  },
  {
   "cell_type": "code",
   "execution_count": 85,
   "metadata": {
    "colab": {
     "base_uri": "https://localhost:8080/",
     "height": 419
    },
    "colab_type": "code",
    "id": "LECV1kDAQcdG",
    "outputId": "751b7451-f56e-4541-d143-038d9b5cbef9"
   },
   "outputs": [
    {
     "data": {
      "text/html": [
       "<div>\n",
       "<style scoped>\n",
       "    .dataframe tbody tr th:only-of-type {\n",
       "        vertical-align: middle;\n",
       "    }\n",
       "\n",
       "    .dataframe tbody tr th {\n",
       "        vertical-align: top;\n",
       "    }\n",
       "\n",
       "    .dataframe thead th {\n",
       "        text-align: right;\n",
       "    }\n",
       "</style>\n",
       "<table border=\"1\" class=\"dataframe\">\n",
       "  <thead>\n",
       "    <tr style=\"text-align: right;\">\n",
       "      <th></th>\n",
       "      <th>PC1</th>\n",
       "      <th>PC2</th>\n",
       "      <th>PC3</th>\n",
       "    </tr>\n",
       "  </thead>\n",
       "  <tbody>\n",
       "    <tr>\n",
       "      <th>0</th>\n",
       "      <td>-2.264703</td>\n",
       "      <td>0.480027</td>\n",
       "      <td>-0.127706</td>\n",
       "    </tr>\n",
       "    <tr>\n",
       "      <th>1</th>\n",
       "      <td>-2.080961</td>\n",
       "      <td>-0.674134</td>\n",
       "      <td>-0.234609</td>\n",
       "    </tr>\n",
       "    <tr>\n",
       "      <th>2</th>\n",
       "      <td>-2.364229</td>\n",
       "      <td>-0.341908</td>\n",
       "      <td>0.044201</td>\n",
       "    </tr>\n",
       "    <tr>\n",
       "      <th>3</th>\n",
       "      <td>-2.299384</td>\n",
       "      <td>-0.597395</td>\n",
       "      <td>0.091290</td>\n",
       "    </tr>\n",
       "    <tr>\n",
       "      <th>4</th>\n",
       "      <td>-2.389842</td>\n",
       "      <td>0.646835</td>\n",
       "      <td>0.015738</td>\n",
       "    </tr>\n",
       "    <tr>\n",
       "      <th>...</th>\n",
       "      <td>...</td>\n",
       "      <td>...</td>\n",
       "      <td>...</td>\n",
       "    </tr>\n",
       "    <tr>\n",
       "      <th>145</th>\n",
       "      <td>1.870503</td>\n",
       "      <td>0.386966</td>\n",
       "      <td>0.256274</td>\n",
       "    </tr>\n",
       "    <tr>\n",
       "      <th>146</th>\n",
       "      <td>1.564580</td>\n",
       "      <td>-0.896687</td>\n",
       "      <td>-0.026371</td>\n",
       "    </tr>\n",
       "    <tr>\n",
       "      <th>147</th>\n",
       "      <td>1.521170</td>\n",
       "      <td>0.269069</td>\n",
       "      <td>0.180178</td>\n",
       "    </tr>\n",
       "    <tr>\n",
       "      <th>148</th>\n",
       "      <td>1.372788</td>\n",
       "      <td>1.011254</td>\n",
       "      <td>0.933395</td>\n",
       "    </tr>\n",
       "    <tr>\n",
       "      <th>149</th>\n",
       "      <td>0.960656</td>\n",
       "      <td>-0.024332</td>\n",
       "      <td>0.528249</td>\n",
       "    </tr>\n",
       "  </tbody>\n",
       "</table>\n",
       "<p>150 rows × 3 columns</p>\n",
       "</div>"
      ],
      "text/plain": [
       "          PC1       PC2       PC3\n",
       "0   -2.264703  0.480027 -0.127706\n",
       "1   -2.080961 -0.674134 -0.234609\n",
       "2   -2.364229 -0.341908  0.044201\n",
       "3   -2.299384 -0.597395  0.091290\n",
       "4   -2.389842  0.646835  0.015738\n",
       "..        ...       ...       ...\n",
       "145  1.870503  0.386966  0.256274\n",
       "146  1.564580 -0.896687 -0.026371\n",
       "147  1.521170  0.269069  0.180178\n",
       "148  1.372788  1.011254  0.933395\n",
       "149  0.960656 -0.024332  0.528249\n",
       "\n",
       "[150 rows x 3 columns]"
      ]
     },
     "execution_count": 85,
     "metadata": {},
     "output_type": "execute_result"
    }
   ],
   "source": [
    "scores_df = pd.DataFrame(scores, columns=['PC1', 'PC2', 'PC3'])\n",
    "scores_df"
   ]
  },
  {
   "cell_type": "code",
   "execution_count": 86,
   "metadata": {
    "colab": {},
    "colab_type": "code",
    "id": "7eFmcxcPQWgI"
   },
   "outputs": [],
   "source": [
    "Y_label = []\n",
    "\n",
    "for i in Y:\n",
    "  if i == 0:\n",
    "    Y_label.append('Setosa')\n",
    "  elif i == 1:\n",
    "    Y_label.append('Versicolor')\n",
    "  else:\n",
    "    Y_label.append('Virginica')\n",
    "\n",
    "Species = pd.DataFrame(Y_label, columns=['Species'])"
   ]
  },
  {
   "cell_type": "code",
   "execution_count": 87,
   "metadata": {
    "colab": {},
    "colab_type": "code",
    "id": "z7NGBibTSdP2"
   },
   "outputs": [],
   "source": [
    "df_scores = pd.concat([scores_df, Species], axis=1)"
   ]
  },
  {
   "cell_type": "code",
   "execution_count": 88,
   "metadata": {},
   "outputs": [
    {
     "data": {
      "text/html": [
       "<div>\n",
       "<style scoped>\n",
       "    .dataframe tbody tr th:only-of-type {\n",
       "        vertical-align: middle;\n",
       "    }\n",
       "\n",
       "    .dataframe tbody tr th {\n",
       "        vertical-align: top;\n",
       "    }\n",
       "\n",
       "    .dataframe thead th {\n",
       "        text-align: right;\n",
       "    }\n",
       "</style>\n",
       "<table border=\"1\" class=\"dataframe\">\n",
       "  <thead>\n",
       "    <tr style=\"text-align: right;\">\n",
       "      <th></th>\n",
       "      <th>PC1</th>\n",
       "      <th>PC2</th>\n",
       "      <th>PC3</th>\n",
       "      <th>Species</th>\n",
       "    </tr>\n",
       "  </thead>\n",
       "  <tbody>\n",
       "    <tr>\n",
       "      <th>0</th>\n",
       "      <td>-2.264703</td>\n",
       "      <td>0.480027</td>\n",
       "      <td>-0.127706</td>\n",
       "      <td>Setosa</td>\n",
       "    </tr>\n",
       "    <tr>\n",
       "      <th>1</th>\n",
       "      <td>-2.080961</td>\n",
       "      <td>-0.674134</td>\n",
       "      <td>-0.234609</td>\n",
       "      <td>Setosa</td>\n",
       "    </tr>\n",
       "    <tr>\n",
       "      <th>2</th>\n",
       "      <td>-2.364229</td>\n",
       "      <td>-0.341908</td>\n",
       "      <td>0.044201</td>\n",
       "      <td>Setosa</td>\n",
       "    </tr>\n",
       "    <tr>\n",
       "      <th>3</th>\n",
       "      <td>-2.299384</td>\n",
       "      <td>-0.597395</td>\n",
       "      <td>0.091290</td>\n",
       "      <td>Setosa</td>\n",
       "    </tr>\n",
       "    <tr>\n",
       "      <th>4</th>\n",
       "      <td>-2.389842</td>\n",
       "      <td>0.646835</td>\n",
       "      <td>0.015738</td>\n",
       "      <td>Setosa</td>\n",
       "    </tr>\n",
       "    <tr>\n",
       "      <th>...</th>\n",
       "      <td>...</td>\n",
       "      <td>...</td>\n",
       "      <td>...</td>\n",
       "      <td>...</td>\n",
       "    </tr>\n",
       "    <tr>\n",
       "      <th>145</th>\n",
       "      <td>1.870503</td>\n",
       "      <td>0.386966</td>\n",
       "      <td>0.256274</td>\n",
       "      <td>Virginica</td>\n",
       "    </tr>\n",
       "    <tr>\n",
       "      <th>146</th>\n",
       "      <td>1.564580</td>\n",
       "      <td>-0.896687</td>\n",
       "      <td>-0.026371</td>\n",
       "      <td>Virginica</td>\n",
       "    </tr>\n",
       "    <tr>\n",
       "      <th>147</th>\n",
       "      <td>1.521170</td>\n",
       "      <td>0.269069</td>\n",
       "      <td>0.180178</td>\n",
       "      <td>Virginica</td>\n",
       "    </tr>\n",
       "    <tr>\n",
       "      <th>148</th>\n",
       "      <td>1.372788</td>\n",
       "      <td>1.011254</td>\n",
       "      <td>0.933395</td>\n",
       "      <td>Virginica</td>\n",
       "    </tr>\n",
       "    <tr>\n",
       "      <th>149</th>\n",
       "      <td>0.960656</td>\n",
       "      <td>-0.024332</td>\n",
       "      <td>0.528249</td>\n",
       "      <td>Virginica</td>\n",
       "    </tr>\n",
       "  </tbody>\n",
       "</table>\n",
       "<p>150 rows × 4 columns</p>\n",
       "</div>"
      ],
      "text/plain": [
       "          PC1       PC2       PC3    Species\n",
       "0   -2.264703  0.480027 -0.127706     Setosa\n",
       "1   -2.080961 -0.674134 -0.234609     Setosa\n",
       "2   -2.364229 -0.341908  0.044201     Setosa\n",
       "3   -2.299384 -0.597395  0.091290     Setosa\n",
       "4   -2.389842  0.646835  0.015738     Setosa\n",
       "..        ...       ...       ...        ...\n",
       "145  1.870503  0.386966  0.256274  Virginica\n",
       "146  1.564580 -0.896687 -0.026371  Virginica\n",
       "147  1.521170  0.269069  0.180178  Virginica\n",
       "148  1.372788  1.011254  0.933395  Virginica\n",
       "149  0.960656 -0.024332  0.528249  Virginica\n",
       "\n",
       "[150 rows x 4 columns]"
      ]
     },
     "execution_count": 88,
     "metadata": {},
     "output_type": "execute_result"
    }
   ],
   "source": [
    "df_scores"
   ]
  },
  {
   "cell_type": "markdown",
   "metadata": {
    "colab_type": "text",
    "id": "hI6HiOUgbrbn"
   },
   "source": [
    "#### 2.5. Retrieve the **loadings** values"
   ]
  },
  {
   "cell_type": "code",
   "execution_count": 89,
   "metadata": {
    "colab": {
     "base_uri": "https://localhost:8080/",
     "height": 173
    },
    "colab_type": "code",
    "id": "rmm75irIbdlD",
    "outputId": "c077889c-0678-4767-dbd8-f8a9edbb2572"
   },
   "outputs": [
    {
     "data": {
      "text/html": [
       "<div>\n",
       "<style scoped>\n",
       "    .dataframe tbody tr th:only-of-type {\n",
       "        vertical-align: middle;\n",
       "    }\n",
       "\n",
       "    .dataframe tbody tr th {\n",
       "        vertical-align: top;\n",
       "    }\n",
       "\n",
       "    .dataframe thead th {\n",
       "        text-align: right;\n",
       "    }\n",
       "</style>\n",
       "<table border=\"1\" class=\"dataframe\">\n",
       "  <thead>\n",
       "    <tr style=\"text-align: right;\">\n",
       "      <th></th>\n",
       "      <th>PC1</th>\n",
       "      <th>PC2</th>\n",
       "      <th>PC3</th>\n",
       "    </tr>\n",
       "  </thead>\n",
       "  <tbody>\n",
       "    <tr>\n",
       "      <th>sepal length (cm)</th>\n",
       "      <td>0.521066</td>\n",
       "      <td>0.377418</td>\n",
       "      <td>-0.719566</td>\n",
       "    </tr>\n",
       "    <tr>\n",
       "      <th>sepal width (cm)</th>\n",
       "      <td>-0.269347</td>\n",
       "      <td>0.923296</td>\n",
       "      <td>0.244382</td>\n",
       "    </tr>\n",
       "    <tr>\n",
       "      <th>petal length (cm)</th>\n",
       "      <td>0.580413</td>\n",
       "      <td>0.024492</td>\n",
       "      <td>0.142126</td>\n",
       "    </tr>\n",
       "    <tr>\n",
       "      <th>petal width (cm)</th>\n",
       "      <td>0.564857</td>\n",
       "      <td>0.066942</td>\n",
       "      <td>0.634273</td>\n",
       "    </tr>\n",
       "  </tbody>\n",
       "</table>\n",
       "</div>"
      ],
      "text/plain": [
       "                        PC1       PC2       PC3\n",
       "sepal length (cm)  0.521066  0.377418 -0.719566\n",
       "sepal width (cm)  -0.269347  0.923296  0.244382\n",
       "petal length (cm)  0.580413  0.024492  0.142126\n",
       "petal width (cm)   0.564857  0.066942  0.634273"
      ]
     },
     "execution_count": 89,
     "metadata": {},
     "output_type": "execute_result"
    }
   ],
   "source": [
    "loadings = pca.components_.T\n",
    "df_loadings = pd.DataFrame(loadings, columns=['PC1', 'PC2','PC3'], index=iris.feature_names)\n",
    "df_loadings"
   ]
  },
  {
   "cell_type": "markdown",
   "metadata": {
    "colab_type": "text",
    "id": "ltOVa090b7EN"
   },
   "source": [
    "#### 2.6. **Explained variance** for each PC"
   ]
  },
  {
   "cell_type": "code",
   "execution_count": 90,
   "metadata": {
    "colab": {
     "base_uri": "https://localhost:8080/",
     "height": 34
    },
    "colab_type": "code",
    "id": "tWpnfz3qY6Ip",
    "outputId": "467d31e2-60b3-47cc-a04d-a4ae97d0bfb1"
   },
   "outputs": [
    {
     "data": {
      "text/plain": [
       "array([0.72962445, 0.22850762, 0.03668922])"
      ]
     },
     "execution_count": 90,
     "metadata": {},
     "output_type": "execute_result"
    }
   ],
   "source": [
    "explained_variance = pca.explained_variance_ratio_\n",
    "explained_variance"
   ]
  },
  {
   "cell_type": "markdown",
   "metadata": {
    "colab_type": "text",
    "id": "epeccObO2_mi"
   },
   "source": [
    "## **3. Scree Plot**"
   ]
  },
  {
   "cell_type": "markdown",
   "metadata": {
    "colab_type": "text",
    "id": "b2MBGLQW79MO"
   },
   "source": [
    "### 3.1. Import library"
   ]
  },
  {
   "cell_type": "code",
   "execution_count": 91,
   "metadata": {
    "colab": {},
    "colab_type": "code",
    "id": "6437d-bE75HO"
   },
   "outputs": [],
   "source": [
    "import numpy as np\n",
    "import plotly.express as px"
   ]
  },
  {
   "cell_type": "markdown",
   "metadata": {
    "colab_type": "text",
    "id": "AnjyJVWQ8GOd"
   },
   "source": [
    "### 3.2. Preparing explained variance and cumulative variance"
   ]
  },
  {
   "cell_type": "markdown",
   "metadata": {
    "colab_type": "text",
    "id": "v-D9U-xmoA1D"
   },
   "source": [
    "#### 3.2.1. Preparing the explained variance data"
   ]
  },
  {
   "cell_type": "code",
   "execution_count": 92,
   "metadata": {
    "colab": {
     "base_uri": "https://localhost:8080/",
     "height": 34
    },
    "colab_type": "code",
    "id": "JX9Pw88l336w",
    "outputId": "4d239ce6-5eb8-434b-8b44-6e0228c8bed0"
   },
   "outputs": [
    {
     "data": {
      "text/plain": [
       "array([0.72962445, 0.22850762, 0.03668922])"
      ]
     },
     "execution_count": 92,
     "metadata": {},
     "output_type": "execute_result"
    }
   ],
   "source": [
    "explained_variance"
   ]
  },
  {
   "cell_type": "code",
   "execution_count": 93,
   "metadata": {
    "colab": {},
    "colab_type": "code",
    "id": "uBDTjyQad7Qv"
   },
   "outputs": [],
   "source": [
    "explained_variance = np.insert(explained_variance, 0, 0)"
   ]
  },
  {
   "cell_type": "markdown",
   "metadata": {
    "colab_type": "text",
    "id": "DArGTefqoGJb"
   },
   "source": [
    "#### 3.2.2. Preparing the cumulative variance data"
   ]
  },
  {
   "cell_type": "code",
   "execution_count": 94,
   "metadata": {
    "colab": {},
    "colab_type": "code",
    "id": "0XRQQBxD71aS"
   },
   "outputs": [],
   "source": [
    "cumulative_variance = np.cumsum(np.round(explained_variance, decimals=3))"
   ]
  },
  {
   "cell_type": "markdown",
   "metadata": {
    "colab_type": "text",
    "id": "RJeJEaVxoI-F"
   },
   "source": [
    "#### 3.2.3. Combining the dataframe"
   ]
  },
  {
   "cell_type": "code",
   "execution_count": 95,
   "metadata": {
    "colab": {},
    "colab_type": "code",
    "id": "9jiI53l44kd2"
   },
   "outputs": [],
   "source": [
    "pc_df = pd.DataFrame(['','PC1', 'PC2', 'PC3'], columns=['PC'])\n",
    "explained_variance_df = pd.DataFrame(explained_variance, columns=['Explained Variance'])\n",
    "cumulative_variance_df = pd.DataFrame(cumulative_variance, columns=['Cumulative Variance'])"
   ]
  },
  {
   "cell_type": "code",
   "execution_count": 96,
   "metadata": {
    "colab": {
     "base_uri": "https://localhost:8080/",
     "height": 173
    },
    "colab_type": "code",
    "id": "L6LUZkeo6S5C",
    "outputId": "3abacee2-a2d3-4c27-d37a-3be2b200eca9"
   },
   "outputs": [
    {
     "data": {
      "text/html": [
       "<div>\n",
       "<style scoped>\n",
       "    .dataframe tbody tr th:only-of-type {\n",
       "        vertical-align: middle;\n",
       "    }\n",
       "\n",
       "    .dataframe tbody tr th {\n",
       "        vertical-align: top;\n",
       "    }\n",
       "\n",
       "    .dataframe thead th {\n",
       "        text-align: right;\n",
       "    }\n",
       "</style>\n",
       "<table border=\"1\" class=\"dataframe\">\n",
       "  <thead>\n",
       "    <tr style=\"text-align: right;\">\n",
       "      <th></th>\n",
       "      <th>PC</th>\n",
       "      <th>Explained Variance</th>\n",
       "      <th>Cumulative Variance</th>\n",
       "    </tr>\n",
       "  </thead>\n",
       "  <tbody>\n",
       "    <tr>\n",
       "      <th>0</th>\n",
       "      <td></td>\n",
       "      <td>0.000000</td>\n",
       "      <td>0.000</td>\n",
       "    </tr>\n",
       "    <tr>\n",
       "      <th>1</th>\n",
       "      <td>PC1</td>\n",
       "      <td>0.729624</td>\n",
       "      <td>0.730</td>\n",
       "    </tr>\n",
       "    <tr>\n",
       "      <th>2</th>\n",
       "      <td>PC2</td>\n",
       "      <td>0.228508</td>\n",
       "      <td>0.959</td>\n",
       "    </tr>\n",
       "    <tr>\n",
       "      <th>3</th>\n",
       "      <td>PC3</td>\n",
       "      <td>0.036689</td>\n",
       "      <td>0.996</td>\n",
       "    </tr>\n",
       "  </tbody>\n",
       "</table>\n",
       "</div>"
      ],
      "text/plain": [
       "    PC  Explained Variance  Cumulative Variance\n",
       "0                 0.000000                0.000\n",
       "1  PC1            0.729624                0.730\n",
       "2  PC2            0.228508                0.959\n",
       "3  PC3            0.036689                0.996"
      ]
     },
     "execution_count": 96,
     "metadata": {},
     "output_type": "execute_result"
    }
   ],
   "source": [
    "df_explained_variance = pd.concat([pc_df, explained_variance_df, cumulative_variance_df], axis=1)\n",
    "df_explained_variance"
   ]
  },
  {
   "cell_type": "markdown",
   "metadata": {
    "colab_type": "text",
    "id": "zH-g7oLwoayT"
   },
   "source": [
    "#### 3.2.4. Making the scree plot"
   ]
  },
  {
   "cell_type": "markdown",
   "metadata": {
    "colab_type": "text",
    "id": "0ZLF0ShyojlD"
   },
   "source": [
    "##### 3.2.4.1. Explained Variance"
   ]
  },
  {
   "cell_type": "code",
   "execution_count": 97,
   "metadata": {
    "colab": {
     "base_uri": "https://localhost:8080/",
     "height": 542
    },
    "colab_type": "code",
    "id": "07omP_Un3Qjk",
    "outputId": "c54722d5-d931-4f6d-db36-286c7563a20a"
   },
   "outputs": [
    {
     "data": {
      "application/vnd.plotly.v1+json": {
       "config": {
        "plotlyServerURL": "https://plot.ly"
       },
       "data": [
        {
         "alignmentgroup": "True",
         "hovertemplate": "PC=%{x}<br>Explained Variance=%{text}<extra></extra>",
         "legendgroup": "",
         "marker": {
          "color": "#636efa",
          "pattern": {
           "shape": ""
          }
         },
         "name": "",
         "offsetgroup": "",
         "orientation": "v",
         "showlegend": false,
         "text": [
          0,
          0.7296244541329986,
          0.22850761786701776,
          0.03668921889282878
         ],
         "textposition": "outside",
         "texttemplate": "%{text:.3f}",
         "type": "bar",
         "x": [
          "",
          "PC1",
          "PC2",
          "PC3"
         ],
         "xaxis": "x",
         "y": [
          0,
          0.7296244541329986,
          0.22850761786701776,
          0.03668921889282878
         ],
         "yaxis": "y"
        }
       ],
       "layout": {
        "barmode": "relative",
        "legend": {
         "tracegroupgap": 0
        },
        "margin": {
         "t": 60
        },
        "template": {
         "data": {
          "bar": [
           {
            "error_x": {
             "color": "#2a3f5f"
            },
            "error_y": {
             "color": "#2a3f5f"
            },
            "marker": {
             "line": {
              "color": "#E5ECF6",
              "width": 0.5
             },
             "pattern": {
              "fillmode": "overlay",
              "size": 10,
              "solidity": 0.2
             }
            },
            "type": "bar"
           }
          ],
          "barpolar": [
           {
            "marker": {
             "line": {
              "color": "#E5ECF6",
              "width": 0.5
             },
             "pattern": {
              "fillmode": "overlay",
              "size": 10,
              "solidity": 0.2
             }
            },
            "type": "barpolar"
           }
          ],
          "carpet": [
           {
            "aaxis": {
             "endlinecolor": "#2a3f5f",
             "gridcolor": "white",
             "linecolor": "white",
             "minorgridcolor": "white",
             "startlinecolor": "#2a3f5f"
            },
            "baxis": {
             "endlinecolor": "#2a3f5f",
             "gridcolor": "white",
             "linecolor": "white",
             "minorgridcolor": "white",
             "startlinecolor": "#2a3f5f"
            },
            "type": "carpet"
           }
          ],
          "choropleth": [
           {
            "colorbar": {
             "outlinewidth": 0,
             "ticks": ""
            },
            "type": "choropleth"
           }
          ],
          "contour": [
           {
            "colorbar": {
             "outlinewidth": 0,
             "ticks": ""
            },
            "colorscale": [
             [
              0,
              "#0d0887"
             ],
             [
              0.1111111111111111,
              "#46039f"
             ],
             [
              0.2222222222222222,
              "#7201a8"
             ],
             [
              0.3333333333333333,
              "#9c179e"
             ],
             [
              0.4444444444444444,
              "#bd3786"
             ],
             [
              0.5555555555555556,
              "#d8576b"
             ],
             [
              0.6666666666666666,
              "#ed7953"
             ],
             [
              0.7777777777777778,
              "#fb9f3a"
             ],
             [
              0.8888888888888888,
              "#fdca26"
             ],
             [
              1,
              "#f0f921"
             ]
            ],
            "type": "contour"
           }
          ],
          "contourcarpet": [
           {
            "colorbar": {
             "outlinewidth": 0,
             "ticks": ""
            },
            "type": "contourcarpet"
           }
          ],
          "heatmap": [
           {
            "colorbar": {
             "outlinewidth": 0,
             "ticks": ""
            },
            "colorscale": [
             [
              0,
              "#0d0887"
             ],
             [
              0.1111111111111111,
              "#46039f"
             ],
             [
              0.2222222222222222,
              "#7201a8"
             ],
             [
              0.3333333333333333,
              "#9c179e"
             ],
             [
              0.4444444444444444,
              "#bd3786"
             ],
             [
              0.5555555555555556,
              "#d8576b"
             ],
             [
              0.6666666666666666,
              "#ed7953"
             ],
             [
              0.7777777777777778,
              "#fb9f3a"
             ],
             [
              0.8888888888888888,
              "#fdca26"
             ],
             [
              1,
              "#f0f921"
             ]
            ],
            "type": "heatmap"
           }
          ],
          "heatmapgl": [
           {
            "colorbar": {
             "outlinewidth": 0,
             "ticks": ""
            },
            "colorscale": [
             [
              0,
              "#0d0887"
             ],
             [
              0.1111111111111111,
              "#46039f"
             ],
             [
              0.2222222222222222,
              "#7201a8"
             ],
             [
              0.3333333333333333,
              "#9c179e"
             ],
             [
              0.4444444444444444,
              "#bd3786"
             ],
             [
              0.5555555555555556,
              "#d8576b"
             ],
             [
              0.6666666666666666,
              "#ed7953"
             ],
             [
              0.7777777777777778,
              "#fb9f3a"
             ],
             [
              0.8888888888888888,
              "#fdca26"
             ],
             [
              1,
              "#f0f921"
             ]
            ],
            "type": "heatmapgl"
           }
          ],
          "histogram": [
           {
            "marker": {
             "pattern": {
              "fillmode": "overlay",
              "size": 10,
              "solidity": 0.2
             }
            },
            "type": "histogram"
           }
          ],
          "histogram2d": [
           {
            "colorbar": {
             "outlinewidth": 0,
             "ticks": ""
            },
            "colorscale": [
             [
              0,
              "#0d0887"
             ],
             [
              0.1111111111111111,
              "#46039f"
             ],
             [
              0.2222222222222222,
              "#7201a8"
             ],
             [
              0.3333333333333333,
              "#9c179e"
             ],
             [
              0.4444444444444444,
              "#bd3786"
             ],
             [
              0.5555555555555556,
              "#d8576b"
             ],
             [
              0.6666666666666666,
              "#ed7953"
             ],
             [
              0.7777777777777778,
              "#fb9f3a"
             ],
             [
              0.8888888888888888,
              "#fdca26"
             ],
             [
              1,
              "#f0f921"
             ]
            ],
            "type": "histogram2d"
           }
          ],
          "histogram2dcontour": [
           {
            "colorbar": {
             "outlinewidth": 0,
             "ticks": ""
            },
            "colorscale": [
             [
              0,
              "#0d0887"
             ],
             [
              0.1111111111111111,
              "#46039f"
             ],
             [
              0.2222222222222222,
              "#7201a8"
             ],
             [
              0.3333333333333333,
              "#9c179e"
             ],
             [
              0.4444444444444444,
              "#bd3786"
             ],
             [
              0.5555555555555556,
              "#d8576b"
             ],
             [
              0.6666666666666666,
              "#ed7953"
             ],
             [
              0.7777777777777778,
              "#fb9f3a"
             ],
             [
              0.8888888888888888,
              "#fdca26"
             ],
             [
              1,
              "#f0f921"
             ]
            ],
            "type": "histogram2dcontour"
           }
          ],
          "mesh3d": [
           {
            "colorbar": {
             "outlinewidth": 0,
             "ticks": ""
            },
            "type": "mesh3d"
           }
          ],
          "parcoords": [
           {
            "line": {
             "colorbar": {
              "outlinewidth": 0,
              "ticks": ""
             }
            },
            "type": "parcoords"
           }
          ],
          "pie": [
           {
            "automargin": true,
            "type": "pie"
           }
          ],
          "scatter": [
           {
            "marker": {
             "colorbar": {
              "outlinewidth": 0,
              "ticks": ""
             }
            },
            "type": "scatter"
           }
          ],
          "scatter3d": [
           {
            "line": {
             "colorbar": {
              "outlinewidth": 0,
              "ticks": ""
             }
            },
            "marker": {
             "colorbar": {
              "outlinewidth": 0,
              "ticks": ""
             }
            },
            "type": "scatter3d"
           }
          ],
          "scattercarpet": [
           {
            "marker": {
             "colorbar": {
              "outlinewidth": 0,
              "ticks": ""
             }
            },
            "type": "scattercarpet"
           }
          ],
          "scattergeo": [
           {
            "marker": {
             "colorbar": {
              "outlinewidth": 0,
              "ticks": ""
             }
            },
            "type": "scattergeo"
           }
          ],
          "scattergl": [
           {
            "marker": {
             "colorbar": {
              "outlinewidth": 0,
              "ticks": ""
             }
            },
            "type": "scattergl"
           }
          ],
          "scattermapbox": [
           {
            "marker": {
             "colorbar": {
              "outlinewidth": 0,
              "ticks": ""
             }
            },
            "type": "scattermapbox"
           }
          ],
          "scatterpolar": [
           {
            "marker": {
             "colorbar": {
              "outlinewidth": 0,
              "ticks": ""
             }
            },
            "type": "scatterpolar"
           }
          ],
          "scatterpolargl": [
           {
            "marker": {
             "colorbar": {
              "outlinewidth": 0,
              "ticks": ""
             }
            },
            "type": "scatterpolargl"
           }
          ],
          "scatterternary": [
           {
            "marker": {
             "colorbar": {
              "outlinewidth": 0,
              "ticks": ""
             }
            },
            "type": "scatterternary"
           }
          ],
          "surface": [
           {
            "colorbar": {
             "outlinewidth": 0,
             "ticks": ""
            },
            "colorscale": [
             [
              0,
              "#0d0887"
             ],
             [
              0.1111111111111111,
              "#46039f"
             ],
             [
              0.2222222222222222,
              "#7201a8"
             ],
             [
              0.3333333333333333,
              "#9c179e"
             ],
             [
              0.4444444444444444,
              "#bd3786"
             ],
             [
              0.5555555555555556,
              "#d8576b"
             ],
             [
              0.6666666666666666,
              "#ed7953"
             ],
             [
              0.7777777777777778,
              "#fb9f3a"
             ],
             [
              0.8888888888888888,
              "#fdca26"
             ],
             [
              1,
              "#f0f921"
             ]
            ],
            "type": "surface"
           }
          ],
          "table": [
           {
            "cells": {
             "fill": {
              "color": "#EBF0F8"
             },
             "line": {
              "color": "white"
             }
            },
            "header": {
             "fill": {
              "color": "#C8D4E3"
             },
             "line": {
              "color": "white"
             }
            },
            "type": "table"
           }
          ]
         },
         "layout": {
          "annotationdefaults": {
           "arrowcolor": "#2a3f5f",
           "arrowhead": 0,
           "arrowwidth": 1
          },
          "autotypenumbers": "strict",
          "coloraxis": {
           "colorbar": {
            "outlinewidth": 0,
            "ticks": ""
           }
          },
          "colorscale": {
           "diverging": [
            [
             0,
             "#8e0152"
            ],
            [
             0.1,
             "#c51b7d"
            ],
            [
             0.2,
             "#de77ae"
            ],
            [
             0.3,
             "#f1b6da"
            ],
            [
             0.4,
             "#fde0ef"
            ],
            [
             0.5,
             "#f7f7f7"
            ],
            [
             0.6,
             "#e6f5d0"
            ],
            [
             0.7,
             "#b8e186"
            ],
            [
             0.8,
             "#7fbc41"
            ],
            [
             0.9,
             "#4d9221"
            ],
            [
             1,
             "#276419"
            ]
           ],
           "sequential": [
            [
             0,
             "#0d0887"
            ],
            [
             0.1111111111111111,
             "#46039f"
            ],
            [
             0.2222222222222222,
             "#7201a8"
            ],
            [
             0.3333333333333333,
             "#9c179e"
            ],
            [
             0.4444444444444444,
             "#bd3786"
            ],
            [
             0.5555555555555556,
             "#d8576b"
            ],
            [
             0.6666666666666666,
             "#ed7953"
            ],
            [
             0.7777777777777778,
             "#fb9f3a"
            ],
            [
             0.8888888888888888,
             "#fdca26"
            ],
            [
             1,
             "#f0f921"
            ]
           ],
           "sequentialminus": [
            [
             0,
             "#0d0887"
            ],
            [
             0.1111111111111111,
             "#46039f"
            ],
            [
             0.2222222222222222,
             "#7201a8"
            ],
            [
             0.3333333333333333,
             "#9c179e"
            ],
            [
             0.4444444444444444,
             "#bd3786"
            ],
            [
             0.5555555555555556,
             "#d8576b"
            ],
            [
             0.6666666666666666,
             "#ed7953"
            ],
            [
             0.7777777777777778,
             "#fb9f3a"
            ],
            [
             0.8888888888888888,
             "#fdca26"
            ],
            [
             1,
             "#f0f921"
            ]
           ]
          },
          "colorway": [
           "#636efa",
           "#EF553B",
           "#00cc96",
           "#ab63fa",
           "#FFA15A",
           "#19d3f3",
           "#FF6692",
           "#B6E880",
           "#FF97FF",
           "#FECB52"
          ],
          "font": {
           "color": "#2a3f5f"
          },
          "geo": {
           "bgcolor": "white",
           "lakecolor": "white",
           "landcolor": "#E5ECF6",
           "showlakes": true,
           "showland": true,
           "subunitcolor": "white"
          },
          "hoverlabel": {
           "align": "left"
          },
          "hovermode": "closest",
          "mapbox": {
           "style": "light"
          },
          "paper_bgcolor": "white",
          "plot_bgcolor": "#E5ECF6",
          "polar": {
           "angularaxis": {
            "gridcolor": "white",
            "linecolor": "white",
            "ticks": ""
           },
           "bgcolor": "#E5ECF6",
           "radialaxis": {
            "gridcolor": "white",
            "linecolor": "white",
            "ticks": ""
           }
          },
          "scene": {
           "xaxis": {
            "backgroundcolor": "#E5ECF6",
            "gridcolor": "white",
            "gridwidth": 2,
            "linecolor": "white",
            "showbackground": true,
            "ticks": "",
            "zerolinecolor": "white"
           },
           "yaxis": {
            "backgroundcolor": "#E5ECF6",
            "gridcolor": "white",
            "gridwidth": 2,
            "linecolor": "white",
            "showbackground": true,
            "ticks": "",
            "zerolinecolor": "white"
           },
           "zaxis": {
            "backgroundcolor": "#E5ECF6",
            "gridcolor": "white",
            "gridwidth": 2,
            "linecolor": "white",
            "showbackground": true,
            "ticks": "",
            "zerolinecolor": "white"
           }
          },
          "shapedefaults": {
           "line": {
            "color": "#2a3f5f"
           }
          },
          "ternary": {
           "aaxis": {
            "gridcolor": "white",
            "linecolor": "white",
            "ticks": ""
           },
           "baxis": {
            "gridcolor": "white",
            "linecolor": "white",
            "ticks": ""
           },
           "bgcolor": "#E5ECF6",
           "caxis": {
            "gridcolor": "white",
            "linecolor": "white",
            "ticks": ""
           }
          },
          "title": {
           "x": 0.05
          },
          "xaxis": {
           "automargin": true,
           "gridcolor": "white",
           "linecolor": "white",
           "ticks": "",
           "title": {
            "standoff": 15
           },
           "zerolinecolor": "white",
           "zerolinewidth": 2
          },
          "yaxis": {
           "automargin": true,
           "gridcolor": "white",
           "linecolor": "white",
           "ticks": "",
           "title": {
            "standoff": 15
           },
           "zerolinecolor": "white",
           "zerolinewidth": 2
          }
         }
        },
        "width": 800,
        "xaxis": {
         "anchor": "y",
         "domain": [
          0,
          1
         ],
         "title": {
          "text": "PC"
         }
        },
        "yaxis": {
         "anchor": "x",
         "domain": [
          0,
          1
         ],
         "title": {
          "text": "Explained Variance"
         }
        }
       }
      },
      "text/html": [
       "<div>                            <div id=\"7b378eaf-db0d-4de3-99d2-1741a9db5643\" class=\"plotly-graph-div\" style=\"height:525px; width:800px;\"></div>            <script type=\"text/javascript\">                require([\"plotly\"], function(Plotly) {                    window.PLOTLYENV=window.PLOTLYENV || {};                                    if (document.getElementById(\"7b378eaf-db0d-4de3-99d2-1741a9db5643\")) {                    Plotly.newPlot(                        \"7b378eaf-db0d-4de3-99d2-1741a9db5643\",                        [{\"alignmentgroup\":\"True\",\"hovertemplate\":\"PC=%{x}<br>Explained Variance=%{text}<extra></extra>\",\"legendgroup\":\"\",\"marker\":{\"color\":\"#636efa\",\"pattern\":{\"shape\":\"\"}},\"name\":\"\",\"offsetgroup\":\"\",\"orientation\":\"v\",\"showlegend\":false,\"text\":[0.0,0.7296244541329986,0.22850761786701776,0.03668921889282878],\"textposition\":\"outside\",\"x\":[\"\",\"PC1\",\"PC2\",\"PC3\"],\"xaxis\":\"x\",\"y\":[0.0,0.7296244541329986,0.22850761786701776,0.03668921889282878],\"yaxis\":\"y\",\"type\":\"bar\",\"texttemplate\":\"%{text:.3f}\"}],                        {\"template\":{\"data\":{\"bar\":[{\"error_x\":{\"color\":\"#2a3f5f\"},\"error_y\":{\"color\":\"#2a3f5f\"},\"marker\":{\"line\":{\"color\":\"#E5ECF6\",\"width\":0.5},\"pattern\":{\"fillmode\":\"overlay\",\"size\":10,\"solidity\":0.2}},\"type\":\"bar\"}],\"barpolar\":[{\"marker\":{\"line\":{\"color\":\"#E5ECF6\",\"width\":0.5},\"pattern\":{\"fillmode\":\"overlay\",\"size\":10,\"solidity\":0.2}},\"type\":\"barpolar\"}],\"carpet\":[{\"aaxis\":{\"endlinecolor\":\"#2a3f5f\",\"gridcolor\":\"white\",\"linecolor\":\"white\",\"minorgridcolor\":\"white\",\"startlinecolor\":\"#2a3f5f\"},\"baxis\":{\"endlinecolor\":\"#2a3f5f\",\"gridcolor\":\"white\",\"linecolor\":\"white\",\"minorgridcolor\":\"white\",\"startlinecolor\":\"#2a3f5f\"},\"type\":\"carpet\"}],\"choropleth\":[{\"colorbar\":{\"outlinewidth\":0,\"ticks\":\"\"},\"type\":\"choropleth\"}],\"contour\":[{\"colorbar\":{\"outlinewidth\":0,\"ticks\":\"\"},\"colorscale\":[[0.0,\"#0d0887\"],[0.1111111111111111,\"#46039f\"],[0.2222222222222222,\"#7201a8\"],[0.3333333333333333,\"#9c179e\"],[0.4444444444444444,\"#bd3786\"],[0.5555555555555556,\"#d8576b\"],[0.6666666666666666,\"#ed7953\"],[0.7777777777777778,\"#fb9f3a\"],[0.8888888888888888,\"#fdca26\"],[1.0,\"#f0f921\"]],\"type\":\"contour\"}],\"contourcarpet\":[{\"colorbar\":{\"outlinewidth\":0,\"ticks\":\"\"},\"type\":\"contourcarpet\"}],\"heatmap\":[{\"colorbar\":{\"outlinewidth\":0,\"ticks\":\"\"},\"colorscale\":[[0.0,\"#0d0887\"],[0.1111111111111111,\"#46039f\"],[0.2222222222222222,\"#7201a8\"],[0.3333333333333333,\"#9c179e\"],[0.4444444444444444,\"#bd3786\"],[0.5555555555555556,\"#d8576b\"],[0.6666666666666666,\"#ed7953\"],[0.7777777777777778,\"#fb9f3a\"],[0.8888888888888888,\"#fdca26\"],[1.0,\"#f0f921\"]],\"type\":\"heatmap\"}],\"heatmapgl\":[{\"colorbar\":{\"outlinewidth\":0,\"ticks\":\"\"},\"colorscale\":[[0.0,\"#0d0887\"],[0.1111111111111111,\"#46039f\"],[0.2222222222222222,\"#7201a8\"],[0.3333333333333333,\"#9c179e\"],[0.4444444444444444,\"#bd3786\"],[0.5555555555555556,\"#d8576b\"],[0.6666666666666666,\"#ed7953\"],[0.7777777777777778,\"#fb9f3a\"],[0.8888888888888888,\"#fdca26\"],[1.0,\"#f0f921\"]],\"type\":\"heatmapgl\"}],\"histogram\":[{\"marker\":{\"pattern\":{\"fillmode\":\"overlay\",\"size\":10,\"solidity\":0.2}},\"type\":\"histogram\"}],\"histogram2d\":[{\"colorbar\":{\"outlinewidth\":0,\"ticks\":\"\"},\"colorscale\":[[0.0,\"#0d0887\"],[0.1111111111111111,\"#46039f\"],[0.2222222222222222,\"#7201a8\"],[0.3333333333333333,\"#9c179e\"],[0.4444444444444444,\"#bd3786\"],[0.5555555555555556,\"#d8576b\"],[0.6666666666666666,\"#ed7953\"],[0.7777777777777778,\"#fb9f3a\"],[0.8888888888888888,\"#fdca26\"],[1.0,\"#f0f921\"]],\"type\":\"histogram2d\"}],\"histogram2dcontour\":[{\"colorbar\":{\"outlinewidth\":0,\"ticks\":\"\"},\"colorscale\":[[0.0,\"#0d0887\"],[0.1111111111111111,\"#46039f\"],[0.2222222222222222,\"#7201a8\"],[0.3333333333333333,\"#9c179e\"],[0.4444444444444444,\"#bd3786\"],[0.5555555555555556,\"#d8576b\"],[0.6666666666666666,\"#ed7953\"],[0.7777777777777778,\"#fb9f3a\"],[0.8888888888888888,\"#fdca26\"],[1.0,\"#f0f921\"]],\"type\":\"histogram2dcontour\"}],\"mesh3d\":[{\"colorbar\":{\"outlinewidth\":0,\"ticks\":\"\"},\"type\":\"mesh3d\"}],\"parcoords\":[{\"line\":{\"colorbar\":{\"outlinewidth\":0,\"ticks\":\"\"}},\"type\":\"parcoords\"}],\"pie\":[{\"automargin\":true,\"type\":\"pie\"}],\"scatter\":[{\"marker\":{\"colorbar\":{\"outlinewidth\":0,\"ticks\":\"\"}},\"type\":\"scatter\"}],\"scatter3d\":[{\"line\":{\"colorbar\":{\"outlinewidth\":0,\"ticks\":\"\"}},\"marker\":{\"colorbar\":{\"outlinewidth\":0,\"ticks\":\"\"}},\"type\":\"scatter3d\"}],\"scattercarpet\":[{\"marker\":{\"colorbar\":{\"outlinewidth\":0,\"ticks\":\"\"}},\"type\":\"scattercarpet\"}],\"scattergeo\":[{\"marker\":{\"colorbar\":{\"outlinewidth\":0,\"ticks\":\"\"}},\"type\":\"scattergeo\"}],\"scattergl\":[{\"marker\":{\"colorbar\":{\"outlinewidth\":0,\"ticks\":\"\"}},\"type\":\"scattergl\"}],\"scattermapbox\":[{\"marker\":{\"colorbar\":{\"outlinewidth\":0,\"ticks\":\"\"}},\"type\":\"scattermapbox\"}],\"scatterpolar\":[{\"marker\":{\"colorbar\":{\"outlinewidth\":0,\"ticks\":\"\"}},\"type\":\"scatterpolar\"}],\"scatterpolargl\":[{\"marker\":{\"colorbar\":{\"outlinewidth\":0,\"ticks\":\"\"}},\"type\":\"scatterpolargl\"}],\"scatterternary\":[{\"marker\":{\"colorbar\":{\"outlinewidth\":0,\"ticks\":\"\"}},\"type\":\"scatterternary\"}],\"surface\":[{\"colorbar\":{\"outlinewidth\":0,\"ticks\":\"\"},\"colorscale\":[[0.0,\"#0d0887\"],[0.1111111111111111,\"#46039f\"],[0.2222222222222222,\"#7201a8\"],[0.3333333333333333,\"#9c179e\"],[0.4444444444444444,\"#bd3786\"],[0.5555555555555556,\"#d8576b\"],[0.6666666666666666,\"#ed7953\"],[0.7777777777777778,\"#fb9f3a\"],[0.8888888888888888,\"#fdca26\"],[1.0,\"#f0f921\"]],\"type\":\"surface\"}],\"table\":[{\"cells\":{\"fill\":{\"color\":\"#EBF0F8\"},\"line\":{\"color\":\"white\"}},\"header\":{\"fill\":{\"color\":\"#C8D4E3\"},\"line\":{\"color\":\"white\"}},\"type\":\"table\"}]},\"layout\":{\"annotationdefaults\":{\"arrowcolor\":\"#2a3f5f\",\"arrowhead\":0,\"arrowwidth\":1},\"autotypenumbers\":\"strict\",\"coloraxis\":{\"colorbar\":{\"outlinewidth\":0,\"ticks\":\"\"}},\"colorscale\":{\"diverging\":[[0,\"#8e0152\"],[0.1,\"#c51b7d\"],[0.2,\"#de77ae\"],[0.3,\"#f1b6da\"],[0.4,\"#fde0ef\"],[0.5,\"#f7f7f7\"],[0.6,\"#e6f5d0\"],[0.7,\"#b8e186\"],[0.8,\"#7fbc41\"],[0.9,\"#4d9221\"],[1,\"#276419\"]],\"sequential\":[[0.0,\"#0d0887\"],[0.1111111111111111,\"#46039f\"],[0.2222222222222222,\"#7201a8\"],[0.3333333333333333,\"#9c179e\"],[0.4444444444444444,\"#bd3786\"],[0.5555555555555556,\"#d8576b\"],[0.6666666666666666,\"#ed7953\"],[0.7777777777777778,\"#fb9f3a\"],[0.8888888888888888,\"#fdca26\"],[1.0,\"#f0f921\"]],\"sequentialminus\":[[0.0,\"#0d0887\"],[0.1111111111111111,\"#46039f\"],[0.2222222222222222,\"#7201a8\"],[0.3333333333333333,\"#9c179e\"],[0.4444444444444444,\"#bd3786\"],[0.5555555555555556,\"#d8576b\"],[0.6666666666666666,\"#ed7953\"],[0.7777777777777778,\"#fb9f3a\"],[0.8888888888888888,\"#fdca26\"],[1.0,\"#f0f921\"]]},\"colorway\":[\"#636efa\",\"#EF553B\",\"#00cc96\",\"#ab63fa\",\"#FFA15A\",\"#19d3f3\",\"#FF6692\",\"#B6E880\",\"#FF97FF\",\"#FECB52\"],\"font\":{\"color\":\"#2a3f5f\"},\"geo\":{\"bgcolor\":\"white\",\"lakecolor\":\"white\",\"landcolor\":\"#E5ECF6\",\"showlakes\":true,\"showland\":true,\"subunitcolor\":\"white\"},\"hoverlabel\":{\"align\":\"left\"},\"hovermode\":\"closest\",\"mapbox\":{\"style\":\"light\"},\"paper_bgcolor\":\"white\",\"plot_bgcolor\":\"#E5ECF6\",\"polar\":{\"angularaxis\":{\"gridcolor\":\"white\",\"linecolor\":\"white\",\"ticks\":\"\"},\"bgcolor\":\"#E5ECF6\",\"radialaxis\":{\"gridcolor\":\"white\",\"linecolor\":\"white\",\"ticks\":\"\"}},\"scene\":{\"xaxis\":{\"backgroundcolor\":\"#E5ECF6\",\"gridcolor\":\"white\",\"gridwidth\":2,\"linecolor\":\"white\",\"showbackground\":true,\"ticks\":\"\",\"zerolinecolor\":\"white\"},\"yaxis\":{\"backgroundcolor\":\"#E5ECF6\",\"gridcolor\":\"white\",\"gridwidth\":2,\"linecolor\":\"white\",\"showbackground\":true,\"ticks\":\"\",\"zerolinecolor\":\"white\"},\"zaxis\":{\"backgroundcolor\":\"#E5ECF6\",\"gridcolor\":\"white\",\"gridwidth\":2,\"linecolor\":\"white\",\"showbackground\":true,\"ticks\":\"\",\"zerolinecolor\":\"white\"}},\"shapedefaults\":{\"line\":{\"color\":\"#2a3f5f\"}},\"ternary\":{\"aaxis\":{\"gridcolor\":\"white\",\"linecolor\":\"white\",\"ticks\":\"\"},\"baxis\":{\"gridcolor\":\"white\",\"linecolor\":\"white\",\"ticks\":\"\"},\"bgcolor\":\"#E5ECF6\",\"caxis\":{\"gridcolor\":\"white\",\"linecolor\":\"white\",\"ticks\":\"\"}},\"title\":{\"x\":0.05},\"xaxis\":{\"automargin\":true,\"gridcolor\":\"white\",\"linecolor\":\"white\",\"ticks\":\"\",\"title\":{\"standoff\":15},\"zerolinecolor\":\"white\",\"zerolinewidth\":2},\"yaxis\":{\"automargin\":true,\"gridcolor\":\"white\",\"linecolor\":\"white\",\"ticks\":\"\",\"title\":{\"standoff\":15},\"zerolinecolor\":\"white\",\"zerolinewidth\":2}}},\"xaxis\":{\"anchor\":\"y\",\"domain\":[0.0,1.0],\"title\":{\"text\":\"PC\"}},\"yaxis\":{\"anchor\":\"x\",\"domain\":[0.0,1.0],\"title\":{\"text\":\"Explained Variance\"}},\"legend\":{\"tracegroupgap\":0},\"margin\":{\"t\":60},\"barmode\":\"relative\",\"width\":800},                        {\"responsive\": true}                    ).then(function(){\n",
       "                            \n",
       "var gd = document.getElementById('7b378eaf-db0d-4de3-99d2-1741a9db5643');\n",
       "var x = new MutationObserver(function (mutations, observer) {{\n",
       "        var display = window.getComputedStyle(gd).display;\n",
       "        if (!display || display === 'none') {{\n",
       "            console.log([gd, 'removed!']);\n",
       "            Plotly.purge(gd);\n",
       "            observer.disconnect();\n",
       "        }}\n",
       "}});\n",
       "\n",
       "// Listen for the removal of the full notebook cells\n",
       "var notebookContainer = gd.closest('#notebook-container');\n",
       "if (notebookContainer) {{\n",
       "    x.observe(notebookContainer, {childList: true});\n",
       "}}\n",
       "\n",
       "// Listen for the clearing of the current output cell\n",
       "var outputEl = gd.closest('.output');\n",
       "if (outputEl) {{\n",
       "    x.observe(outputEl, {childList: true});\n",
       "}}\n",
       "\n",
       "                        })                };                });            </script>        </div>"
      ]
     },
     "metadata": {},
     "output_type": "display_data"
    }
   ],
   "source": [
    "# https://plotly.com/python/bar-charts/\n",
    "\n",
    "fig = px.bar(df_explained_variance, \n",
    "             x='PC', y='Explained Variance',\n",
    "             text='Explained Variance',\n",
    "             width=800)\n",
    "\n",
    "fig.update_traces(texttemplate='%{text:.3f}', textposition='outside')\n",
    "fig.show()"
   ]
  },
  {
   "cell_type": "markdown",
   "metadata": {
    "colab_type": "text",
    "id": "0ur58j9ZosQy"
   },
   "source": [
    "##### 3.2.4.2. Explained Variance + Cumulative Variance"
   ]
  },
  {
   "cell_type": "code",
   "execution_count": 99,
   "metadata": {
    "colab": {
     "base_uri": "https://localhost:8080/",
     "height": 542
    },
    "colab_type": "code",
    "id": "9zzGeB2J-NJk",
    "outputId": "98656f05-c601-40f3-c2dd-ebcf5b480242"
   },
   "outputs": [
    {
     "data": {
      "application/vnd.plotly.v1+json": {
       "config": {
        "plotlyServerURL": "https://plot.ly"
       },
       "data": [
        {
         "marker": {
          "color": "LightSeaGreen",
          "size": 15
         },
         "type": "scatter",
         "x": [
          "",
          "PC1",
          "PC2",
          "PC3"
         ],
         "y": [
          0,
          0.73,
          0.959,
          0.996
         ]
        },
        {
         "marker": {
          "color": "RoyalBlue"
         },
         "type": "bar",
         "x": [
          "",
          "PC1",
          "PC2",
          "PC3"
         ],
         "y": [
          0,
          0.7296244541329986,
          0.22850761786701776,
          0.03668921889282878
         ]
        }
       ],
       "layout": {
        "template": {
         "data": {
          "bar": [
           {
            "error_x": {
             "color": "#2a3f5f"
            },
            "error_y": {
             "color": "#2a3f5f"
            },
            "marker": {
             "line": {
              "color": "#E5ECF6",
              "width": 0.5
             },
             "pattern": {
              "fillmode": "overlay",
              "size": 10,
              "solidity": 0.2
             }
            },
            "type": "bar"
           }
          ],
          "barpolar": [
           {
            "marker": {
             "line": {
              "color": "#E5ECF6",
              "width": 0.5
             },
             "pattern": {
              "fillmode": "overlay",
              "size": 10,
              "solidity": 0.2
             }
            },
            "type": "barpolar"
           }
          ],
          "carpet": [
           {
            "aaxis": {
             "endlinecolor": "#2a3f5f",
             "gridcolor": "white",
             "linecolor": "white",
             "minorgridcolor": "white",
             "startlinecolor": "#2a3f5f"
            },
            "baxis": {
             "endlinecolor": "#2a3f5f",
             "gridcolor": "white",
             "linecolor": "white",
             "minorgridcolor": "white",
             "startlinecolor": "#2a3f5f"
            },
            "type": "carpet"
           }
          ],
          "choropleth": [
           {
            "colorbar": {
             "outlinewidth": 0,
             "ticks": ""
            },
            "type": "choropleth"
           }
          ],
          "contour": [
           {
            "colorbar": {
             "outlinewidth": 0,
             "ticks": ""
            },
            "colorscale": [
             [
              0,
              "#0d0887"
             ],
             [
              0.1111111111111111,
              "#46039f"
             ],
             [
              0.2222222222222222,
              "#7201a8"
             ],
             [
              0.3333333333333333,
              "#9c179e"
             ],
             [
              0.4444444444444444,
              "#bd3786"
             ],
             [
              0.5555555555555556,
              "#d8576b"
             ],
             [
              0.6666666666666666,
              "#ed7953"
             ],
             [
              0.7777777777777778,
              "#fb9f3a"
             ],
             [
              0.8888888888888888,
              "#fdca26"
             ],
             [
              1,
              "#f0f921"
             ]
            ],
            "type": "contour"
           }
          ],
          "contourcarpet": [
           {
            "colorbar": {
             "outlinewidth": 0,
             "ticks": ""
            },
            "type": "contourcarpet"
           }
          ],
          "heatmap": [
           {
            "colorbar": {
             "outlinewidth": 0,
             "ticks": ""
            },
            "colorscale": [
             [
              0,
              "#0d0887"
             ],
             [
              0.1111111111111111,
              "#46039f"
             ],
             [
              0.2222222222222222,
              "#7201a8"
             ],
             [
              0.3333333333333333,
              "#9c179e"
             ],
             [
              0.4444444444444444,
              "#bd3786"
             ],
             [
              0.5555555555555556,
              "#d8576b"
             ],
             [
              0.6666666666666666,
              "#ed7953"
             ],
             [
              0.7777777777777778,
              "#fb9f3a"
             ],
             [
              0.8888888888888888,
              "#fdca26"
             ],
             [
              1,
              "#f0f921"
             ]
            ],
            "type": "heatmap"
           }
          ],
          "heatmapgl": [
           {
            "colorbar": {
             "outlinewidth": 0,
             "ticks": ""
            },
            "colorscale": [
             [
              0,
              "#0d0887"
             ],
             [
              0.1111111111111111,
              "#46039f"
             ],
             [
              0.2222222222222222,
              "#7201a8"
             ],
             [
              0.3333333333333333,
              "#9c179e"
             ],
             [
              0.4444444444444444,
              "#bd3786"
             ],
             [
              0.5555555555555556,
              "#d8576b"
             ],
             [
              0.6666666666666666,
              "#ed7953"
             ],
             [
              0.7777777777777778,
              "#fb9f3a"
             ],
             [
              0.8888888888888888,
              "#fdca26"
             ],
             [
              1,
              "#f0f921"
             ]
            ],
            "type": "heatmapgl"
           }
          ],
          "histogram": [
           {
            "marker": {
             "pattern": {
              "fillmode": "overlay",
              "size": 10,
              "solidity": 0.2
             }
            },
            "type": "histogram"
           }
          ],
          "histogram2d": [
           {
            "colorbar": {
             "outlinewidth": 0,
             "ticks": ""
            },
            "colorscale": [
             [
              0,
              "#0d0887"
             ],
             [
              0.1111111111111111,
              "#46039f"
             ],
             [
              0.2222222222222222,
              "#7201a8"
             ],
             [
              0.3333333333333333,
              "#9c179e"
             ],
             [
              0.4444444444444444,
              "#bd3786"
             ],
             [
              0.5555555555555556,
              "#d8576b"
             ],
             [
              0.6666666666666666,
              "#ed7953"
             ],
             [
              0.7777777777777778,
              "#fb9f3a"
             ],
             [
              0.8888888888888888,
              "#fdca26"
             ],
             [
              1,
              "#f0f921"
             ]
            ],
            "type": "histogram2d"
           }
          ],
          "histogram2dcontour": [
           {
            "colorbar": {
             "outlinewidth": 0,
             "ticks": ""
            },
            "colorscale": [
             [
              0,
              "#0d0887"
             ],
             [
              0.1111111111111111,
              "#46039f"
             ],
             [
              0.2222222222222222,
              "#7201a8"
             ],
             [
              0.3333333333333333,
              "#9c179e"
             ],
             [
              0.4444444444444444,
              "#bd3786"
             ],
             [
              0.5555555555555556,
              "#d8576b"
             ],
             [
              0.6666666666666666,
              "#ed7953"
             ],
             [
              0.7777777777777778,
              "#fb9f3a"
             ],
             [
              0.8888888888888888,
              "#fdca26"
             ],
             [
              1,
              "#f0f921"
             ]
            ],
            "type": "histogram2dcontour"
           }
          ],
          "mesh3d": [
           {
            "colorbar": {
             "outlinewidth": 0,
             "ticks": ""
            },
            "type": "mesh3d"
           }
          ],
          "parcoords": [
           {
            "line": {
             "colorbar": {
              "outlinewidth": 0,
              "ticks": ""
             }
            },
            "type": "parcoords"
           }
          ],
          "pie": [
           {
            "automargin": true,
            "type": "pie"
           }
          ],
          "scatter": [
           {
            "marker": {
             "colorbar": {
              "outlinewidth": 0,
              "ticks": ""
             }
            },
            "type": "scatter"
           }
          ],
          "scatter3d": [
           {
            "line": {
             "colorbar": {
              "outlinewidth": 0,
              "ticks": ""
             }
            },
            "marker": {
             "colorbar": {
              "outlinewidth": 0,
              "ticks": ""
             }
            },
            "type": "scatter3d"
           }
          ],
          "scattercarpet": [
           {
            "marker": {
             "colorbar": {
              "outlinewidth": 0,
              "ticks": ""
             }
            },
            "type": "scattercarpet"
           }
          ],
          "scattergeo": [
           {
            "marker": {
             "colorbar": {
              "outlinewidth": 0,
              "ticks": ""
             }
            },
            "type": "scattergeo"
           }
          ],
          "scattergl": [
           {
            "marker": {
             "colorbar": {
              "outlinewidth": 0,
              "ticks": ""
             }
            },
            "type": "scattergl"
           }
          ],
          "scattermapbox": [
           {
            "marker": {
             "colorbar": {
              "outlinewidth": 0,
              "ticks": ""
             }
            },
            "type": "scattermapbox"
           }
          ],
          "scatterpolar": [
           {
            "marker": {
             "colorbar": {
              "outlinewidth": 0,
              "ticks": ""
             }
            },
            "type": "scatterpolar"
           }
          ],
          "scatterpolargl": [
           {
            "marker": {
             "colorbar": {
              "outlinewidth": 0,
              "ticks": ""
             }
            },
            "type": "scatterpolargl"
           }
          ],
          "scatterternary": [
           {
            "marker": {
             "colorbar": {
              "outlinewidth": 0,
              "ticks": ""
             }
            },
            "type": "scatterternary"
           }
          ],
          "surface": [
           {
            "colorbar": {
             "outlinewidth": 0,
             "ticks": ""
            },
            "colorscale": [
             [
              0,
              "#0d0887"
             ],
             [
              0.1111111111111111,
              "#46039f"
             ],
             [
              0.2222222222222222,
              "#7201a8"
             ],
             [
              0.3333333333333333,
              "#9c179e"
             ],
             [
              0.4444444444444444,
              "#bd3786"
             ],
             [
              0.5555555555555556,
              "#d8576b"
             ],
             [
              0.6666666666666666,
              "#ed7953"
             ],
             [
              0.7777777777777778,
              "#fb9f3a"
             ],
             [
              0.8888888888888888,
              "#fdca26"
             ],
             [
              1,
              "#f0f921"
             ]
            ],
            "type": "surface"
           }
          ],
          "table": [
           {
            "cells": {
             "fill": {
              "color": "#EBF0F8"
             },
             "line": {
              "color": "white"
             }
            },
            "header": {
             "fill": {
              "color": "#C8D4E3"
             },
             "line": {
              "color": "white"
             }
            },
            "type": "table"
           }
          ]
         },
         "layout": {
          "annotationdefaults": {
           "arrowcolor": "#2a3f5f",
           "arrowhead": 0,
           "arrowwidth": 1
          },
          "autotypenumbers": "strict",
          "coloraxis": {
           "colorbar": {
            "outlinewidth": 0,
            "ticks": ""
           }
          },
          "colorscale": {
           "diverging": [
            [
             0,
             "#8e0152"
            ],
            [
             0.1,
             "#c51b7d"
            ],
            [
             0.2,
             "#de77ae"
            ],
            [
             0.3,
             "#f1b6da"
            ],
            [
             0.4,
             "#fde0ef"
            ],
            [
             0.5,
             "#f7f7f7"
            ],
            [
             0.6,
             "#e6f5d0"
            ],
            [
             0.7,
             "#b8e186"
            ],
            [
             0.8,
             "#7fbc41"
            ],
            [
             0.9,
             "#4d9221"
            ],
            [
             1,
             "#276419"
            ]
           ],
           "sequential": [
            [
             0,
             "#0d0887"
            ],
            [
             0.1111111111111111,
             "#46039f"
            ],
            [
             0.2222222222222222,
             "#7201a8"
            ],
            [
             0.3333333333333333,
             "#9c179e"
            ],
            [
             0.4444444444444444,
             "#bd3786"
            ],
            [
             0.5555555555555556,
             "#d8576b"
            ],
            [
             0.6666666666666666,
             "#ed7953"
            ],
            [
             0.7777777777777778,
             "#fb9f3a"
            ],
            [
             0.8888888888888888,
             "#fdca26"
            ],
            [
             1,
             "#f0f921"
            ]
           ],
           "sequentialminus": [
            [
             0,
             "#0d0887"
            ],
            [
             0.1111111111111111,
             "#46039f"
            ],
            [
             0.2222222222222222,
             "#7201a8"
            ],
            [
             0.3333333333333333,
             "#9c179e"
            ],
            [
             0.4444444444444444,
             "#bd3786"
            ],
            [
             0.5555555555555556,
             "#d8576b"
            ],
            [
             0.6666666666666666,
             "#ed7953"
            ],
            [
             0.7777777777777778,
             "#fb9f3a"
            ],
            [
             0.8888888888888888,
             "#fdca26"
            ],
            [
             1,
             "#f0f921"
            ]
           ]
          },
          "colorway": [
           "#636efa",
           "#EF553B",
           "#00cc96",
           "#ab63fa",
           "#FFA15A",
           "#19d3f3",
           "#FF6692",
           "#B6E880",
           "#FF97FF",
           "#FECB52"
          ],
          "font": {
           "color": "#2a3f5f"
          },
          "geo": {
           "bgcolor": "white",
           "lakecolor": "white",
           "landcolor": "#E5ECF6",
           "showlakes": true,
           "showland": true,
           "subunitcolor": "white"
          },
          "hoverlabel": {
           "align": "left"
          },
          "hovermode": "closest",
          "mapbox": {
           "style": "light"
          },
          "paper_bgcolor": "white",
          "plot_bgcolor": "#E5ECF6",
          "polar": {
           "angularaxis": {
            "gridcolor": "white",
            "linecolor": "white",
            "ticks": ""
           },
           "bgcolor": "#E5ECF6",
           "radialaxis": {
            "gridcolor": "white",
            "linecolor": "white",
            "ticks": ""
           }
          },
          "scene": {
           "xaxis": {
            "backgroundcolor": "#E5ECF6",
            "gridcolor": "white",
            "gridwidth": 2,
            "linecolor": "white",
            "showbackground": true,
            "ticks": "",
            "zerolinecolor": "white"
           },
           "yaxis": {
            "backgroundcolor": "#E5ECF6",
            "gridcolor": "white",
            "gridwidth": 2,
            "linecolor": "white",
            "showbackground": true,
            "ticks": "",
            "zerolinecolor": "white"
           },
           "zaxis": {
            "backgroundcolor": "#E5ECF6",
            "gridcolor": "white",
            "gridwidth": 2,
            "linecolor": "white",
            "showbackground": true,
            "ticks": "",
            "zerolinecolor": "white"
           }
          },
          "shapedefaults": {
           "line": {
            "color": "#2a3f5f"
           }
          },
          "ternary": {
           "aaxis": {
            "gridcolor": "white",
            "linecolor": "white",
            "ticks": ""
           },
           "baxis": {
            "gridcolor": "white",
            "linecolor": "white",
            "ticks": ""
           },
           "bgcolor": "#E5ECF6",
           "caxis": {
            "gridcolor": "white",
            "linecolor": "white",
            "ticks": ""
           }
          },
          "title": {
           "x": 0.05
          },
          "xaxis": {
           "automargin": true,
           "gridcolor": "white",
           "linecolor": "white",
           "ticks": "",
           "title": {
            "standoff": 15
           },
           "zerolinecolor": "white",
           "zerolinewidth": 2
          },
          "yaxis": {
           "automargin": true,
           "gridcolor": "white",
           "linecolor": "white",
           "ticks": "",
           "title": {
            "standoff": 15
           },
           "zerolinecolor": "white",
           "zerolinewidth": 2
          }
         }
        }
       }
      },
      "text/html": [
       "<div>                            <div id=\"b1fb600d-39fd-48fe-b95c-e73200260a92\" class=\"plotly-graph-div\" style=\"height:525px; width:100%;\"></div>            <script type=\"text/javascript\">                require([\"plotly\"], function(Plotly) {                    window.PLOTLYENV=window.PLOTLYENV || {};                                    if (document.getElementById(\"b1fb600d-39fd-48fe-b95c-e73200260a92\")) {                    Plotly.newPlot(                        \"b1fb600d-39fd-48fe-b95c-e73200260a92\",                        [{\"marker\":{\"color\":\"LightSeaGreen\",\"size\":15},\"x\":[\"\",\"PC1\",\"PC2\",\"PC3\"],\"y\":[0.0,0.73,0.959,0.996],\"type\":\"scatter\"},{\"marker\":{\"color\":\"RoyalBlue\"},\"x\":[\"\",\"PC1\",\"PC2\",\"PC3\"],\"y\":[0.0,0.7296244541329986,0.22850761786701776,0.03668921889282878],\"type\":\"bar\"}],                        {\"template\":{\"data\":{\"bar\":[{\"error_x\":{\"color\":\"#2a3f5f\"},\"error_y\":{\"color\":\"#2a3f5f\"},\"marker\":{\"line\":{\"color\":\"#E5ECF6\",\"width\":0.5},\"pattern\":{\"fillmode\":\"overlay\",\"size\":10,\"solidity\":0.2}},\"type\":\"bar\"}],\"barpolar\":[{\"marker\":{\"line\":{\"color\":\"#E5ECF6\",\"width\":0.5},\"pattern\":{\"fillmode\":\"overlay\",\"size\":10,\"solidity\":0.2}},\"type\":\"barpolar\"}],\"carpet\":[{\"aaxis\":{\"endlinecolor\":\"#2a3f5f\",\"gridcolor\":\"white\",\"linecolor\":\"white\",\"minorgridcolor\":\"white\",\"startlinecolor\":\"#2a3f5f\"},\"baxis\":{\"endlinecolor\":\"#2a3f5f\",\"gridcolor\":\"white\",\"linecolor\":\"white\",\"minorgridcolor\":\"white\",\"startlinecolor\":\"#2a3f5f\"},\"type\":\"carpet\"}],\"choropleth\":[{\"colorbar\":{\"outlinewidth\":0,\"ticks\":\"\"},\"type\":\"choropleth\"}],\"contour\":[{\"colorbar\":{\"outlinewidth\":0,\"ticks\":\"\"},\"colorscale\":[[0.0,\"#0d0887\"],[0.1111111111111111,\"#46039f\"],[0.2222222222222222,\"#7201a8\"],[0.3333333333333333,\"#9c179e\"],[0.4444444444444444,\"#bd3786\"],[0.5555555555555556,\"#d8576b\"],[0.6666666666666666,\"#ed7953\"],[0.7777777777777778,\"#fb9f3a\"],[0.8888888888888888,\"#fdca26\"],[1.0,\"#f0f921\"]],\"type\":\"contour\"}],\"contourcarpet\":[{\"colorbar\":{\"outlinewidth\":0,\"ticks\":\"\"},\"type\":\"contourcarpet\"}],\"heatmap\":[{\"colorbar\":{\"outlinewidth\":0,\"ticks\":\"\"},\"colorscale\":[[0.0,\"#0d0887\"],[0.1111111111111111,\"#46039f\"],[0.2222222222222222,\"#7201a8\"],[0.3333333333333333,\"#9c179e\"],[0.4444444444444444,\"#bd3786\"],[0.5555555555555556,\"#d8576b\"],[0.6666666666666666,\"#ed7953\"],[0.7777777777777778,\"#fb9f3a\"],[0.8888888888888888,\"#fdca26\"],[1.0,\"#f0f921\"]],\"type\":\"heatmap\"}],\"heatmapgl\":[{\"colorbar\":{\"outlinewidth\":0,\"ticks\":\"\"},\"colorscale\":[[0.0,\"#0d0887\"],[0.1111111111111111,\"#46039f\"],[0.2222222222222222,\"#7201a8\"],[0.3333333333333333,\"#9c179e\"],[0.4444444444444444,\"#bd3786\"],[0.5555555555555556,\"#d8576b\"],[0.6666666666666666,\"#ed7953\"],[0.7777777777777778,\"#fb9f3a\"],[0.8888888888888888,\"#fdca26\"],[1.0,\"#f0f921\"]],\"type\":\"heatmapgl\"}],\"histogram\":[{\"marker\":{\"pattern\":{\"fillmode\":\"overlay\",\"size\":10,\"solidity\":0.2}},\"type\":\"histogram\"}],\"histogram2d\":[{\"colorbar\":{\"outlinewidth\":0,\"ticks\":\"\"},\"colorscale\":[[0.0,\"#0d0887\"],[0.1111111111111111,\"#46039f\"],[0.2222222222222222,\"#7201a8\"],[0.3333333333333333,\"#9c179e\"],[0.4444444444444444,\"#bd3786\"],[0.5555555555555556,\"#d8576b\"],[0.6666666666666666,\"#ed7953\"],[0.7777777777777778,\"#fb9f3a\"],[0.8888888888888888,\"#fdca26\"],[1.0,\"#f0f921\"]],\"type\":\"histogram2d\"}],\"histogram2dcontour\":[{\"colorbar\":{\"outlinewidth\":0,\"ticks\":\"\"},\"colorscale\":[[0.0,\"#0d0887\"],[0.1111111111111111,\"#46039f\"],[0.2222222222222222,\"#7201a8\"],[0.3333333333333333,\"#9c179e\"],[0.4444444444444444,\"#bd3786\"],[0.5555555555555556,\"#d8576b\"],[0.6666666666666666,\"#ed7953\"],[0.7777777777777778,\"#fb9f3a\"],[0.8888888888888888,\"#fdca26\"],[1.0,\"#f0f921\"]],\"type\":\"histogram2dcontour\"}],\"mesh3d\":[{\"colorbar\":{\"outlinewidth\":0,\"ticks\":\"\"},\"type\":\"mesh3d\"}],\"parcoords\":[{\"line\":{\"colorbar\":{\"outlinewidth\":0,\"ticks\":\"\"}},\"type\":\"parcoords\"}],\"pie\":[{\"automargin\":true,\"type\":\"pie\"}],\"scatter\":[{\"marker\":{\"colorbar\":{\"outlinewidth\":0,\"ticks\":\"\"}},\"type\":\"scatter\"}],\"scatter3d\":[{\"line\":{\"colorbar\":{\"outlinewidth\":0,\"ticks\":\"\"}},\"marker\":{\"colorbar\":{\"outlinewidth\":0,\"ticks\":\"\"}},\"type\":\"scatter3d\"}],\"scattercarpet\":[{\"marker\":{\"colorbar\":{\"outlinewidth\":0,\"ticks\":\"\"}},\"type\":\"scattercarpet\"}],\"scattergeo\":[{\"marker\":{\"colorbar\":{\"outlinewidth\":0,\"ticks\":\"\"}},\"type\":\"scattergeo\"}],\"scattergl\":[{\"marker\":{\"colorbar\":{\"outlinewidth\":0,\"ticks\":\"\"}},\"type\":\"scattergl\"}],\"scattermapbox\":[{\"marker\":{\"colorbar\":{\"outlinewidth\":0,\"ticks\":\"\"}},\"type\":\"scattermapbox\"}],\"scatterpolar\":[{\"marker\":{\"colorbar\":{\"outlinewidth\":0,\"ticks\":\"\"}},\"type\":\"scatterpolar\"}],\"scatterpolargl\":[{\"marker\":{\"colorbar\":{\"outlinewidth\":0,\"ticks\":\"\"}},\"type\":\"scatterpolargl\"}],\"scatterternary\":[{\"marker\":{\"colorbar\":{\"outlinewidth\":0,\"ticks\":\"\"}},\"type\":\"scatterternary\"}],\"surface\":[{\"colorbar\":{\"outlinewidth\":0,\"ticks\":\"\"},\"colorscale\":[[0.0,\"#0d0887\"],[0.1111111111111111,\"#46039f\"],[0.2222222222222222,\"#7201a8\"],[0.3333333333333333,\"#9c179e\"],[0.4444444444444444,\"#bd3786\"],[0.5555555555555556,\"#d8576b\"],[0.6666666666666666,\"#ed7953\"],[0.7777777777777778,\"#fb9f3a\"],[0.8888888888888888,\"#fdca26\"],[1.0,\"#f0f921\"]],\"type\":\"surface\"}],\"table\":[{\"cells\":{\"fill\":{\"color\":\"#EBF0F8\"},\"line\":{\"color\":\"white\"}},\"header\":{\"fill\":{\"color\":\"#C8D4E3\"},\"line\":{\"color\":\"white\"}},\"type\":\"table\"}]},\"layout\":{\"annotationdefaults\":{\"arrowcolor\":\"#2a3f5f\",\"arrowhead\":0,\"arrowwidth\":1},\"autotypenumbers\":\"strict\",\"coloraxis\":{\"colorbar\":{\"outlinewidth\":0,\"ticks\":\"\"}},\"colorscale\":{\"diverging\":[[0,\"#8e0152\"],[0.1,\"#c51b7d\"],[0.2,\"#de77ae\"],[0.3,\"#f1b6da\"],[0.4,\"#fde0ef\"],[0.5,\"#f7f7f7\"],[0.6,\"#e6f5d0\"],[0.7,\"#b8e186\"],[0.8,\"#7fbc41\"],[0.9,\"#4d9221\"],[1,\"#276419\"]],\"sequential\":[[0.0,\"#0d0887\"],[0.1111111111111111,\"#46039f\"],[0.2222222222222222,\"#7201a8\"],[0.3333333333333333,\"#9c179e\"],[0.4444444444444444,\"#bd3786\"],[0.5555555555555556,\"#d8576b\"],[0.6666666666666666,\"#ed7953\"],[0.7777777777777778,\"#fb9f3a\"],[0.8888888888888888,\"#fdca26\"],[1.0,\"#f0f921\"]],\"sequentialminus\":[[0.0,\"#0d0887\"],[0.1111111111111111,\"#46039f\"],[0.2222222222222222,\"#7201a8\"],[0.3333333333333333,\"#9c179e\"],[0.4444444444444444,\"#bd3786\"],[0.5555555555555556,\"#d8576b\"],[0.6666666666666666,\"#ed7953\"],[0.7777777777777778,\"#fb9f3a\"],[0.8888888888888888,\"#fdca26\"],[1.0,\"#f0f921\"]]},\"colorway\":[\"#636efa\",\"#EF553B\",\"#00cc96\",\"#ab63fa\",\"#FFA15A\",\"#19d3f3\",\"#FF6692\",\"#B6E880\",\"#FF97FF\",\"#FECB52\"],\"font\":{\"color\":\"#2a3f5f\"},\"geo\":{\"bgcolor\":\"white\",\"lakecolor\":\"white\",\"landcolor\":\"#E5ECF6\",\"showlakes\":true,\"showland\":true,\"subunitcolor\":\"white\"},\"hoverlabel\":{\"align\":\"left\"},\"hovermode\":\"closest\",\"mapbox\":{\"style\":\"light\"},\"paper_bgcolor\":\"white\",\"plot_bgcolor\":\"#E5ECF6\",\"polar\":{\"angularaxis\":{\"gridcolor\":\"white\",\"linecolor\":\"white\",\"ticks\":\"\"},\"bgcolor\":\"#E5ECF6\",\"radialaxis\":{\"gridcolor\":\"white\",\"linecolor\":\"white\",\"ticks\":\"\"}},\"scene\":{\"xaxis\":{\"backgroundcolor\":\"#E5ECF6\",\"gridcolor\":\"white\",\"gridwidth\":2,\"linecolor\":\"white\",\"showbackground\":true,\"ticks\":\"\",\"zerolinecolor\":\"white\"},\"yaxis\":{\"backgroundcolor\":\"#E5ECF6\",\"gridcolor\":\"white\",\"gridwidth\":2,\"linecolor\":\"white\",\"showbackground\":true,\"ticks\":\"\",\"zerolinecolor\":\"white\"},\"zaxis\":{\"backgroundcolor\":\"#E5ECF6\",\"gridcolor\":\"white\",\"gridwidth\":2,\"linecolor\":\"white\",\"showbackground\":true,\"ticks\":\"\",\"zerolinecolor\":\"white\"}},\"shapedefaults\":{\"line\":{\"color\":\"#2a3f5f\"}},\"ternary\":{\"aaxis\":{\"gridcolor\":\"white\",\"linecolor\":\"white\",\"ticks\":\"\"},\"baxis\":{\"gridcolor\":\"white\",\"linecolor\":\"white\",\"ticks\":\"\"},\"bgcolor\":\"#E5ECF6\",\"caxis\":{\"gridcolor\":\"white\",\"linecolor\":\"white\",\"ticks\":\"\"}},\"title\":{\"x\":0.05},\"xaxis\":{\"automargin\":true,\"gridcolor\":\"white\",\"linecolor\":\"white\",\"ticks\":\"\",\"title\":{\"standoff\":15},\"zerolinecolor\":\"white\",\"zerolinewidth\":2},\"yaxis\":{\"automargin\":true,\"gridcolor\":\"white\",\"linecolor\":\"white\",\"ticks\":\"\",\"title\":{\"standoff\":15},\"zerolinecolor\":\"white\",\"zerolinewidth\":2}}}},                        {\"responsive\": true}                    ).then(function(){\n",
       "                            \n",
       "var gd = document.getElementById('b1fb600d-39fd-48fe-b95c-e73200260a92');\n",
       "var x = new MutationObserver(function (mutations, observer) {{\n",
       "        var display = window.getComputedStyle(gd).display;\n",
       "        if (!display || display === 'none') {{\n",
       "            console.log([gd, 'removed!']);\n",
       "            Plotly.purge(gd);\n",
       "            observer.disconnect();\n",
       "        }}\n",
       "}});\n",
       "\n",
       "// Listen for the removal of the full notebook cells\n",
       "var notebookContainer = gd.closest('#notebook-container');\n",
       "if (notebookContainer) {{\n",
       "    x.observe(notebookContainer, {childList: true});\n",
       "}}\n",
       "\n",
       "// Listen for the clearing of the current output cell\n",
       "var outputEl = gd.closest('.output');\n",
       "if (outputEl) {{\n",
       "    x.observe(outputEl, {childList: true});\n",
       "}}\n",
       "\n",
       "                        })                };                });            </script>        </div>"
      ]
     },
     "metadata": {},
     "output_type": "display_data"
    }
   ],
   "source": [
    "# https://plotly.com/python/creating-and-updating-figures/\n",
    "\n",
    "import plotly.graph_objects as go\n",
    "\n",
    "fig = go.Figure()\n",
    "\n",
    "fig.add_trace(\n",
    "    go.Scatter(\n",
    "        x=df_explained_variance['PC'],\n",
    "        y=df_explained_variance['Cumulative Variance'],\n",
    "        marker=dict(size=15, color=\"LightSeaGreen\")\n",
    "    ))\n",
    "\n",
    "fig.add_trace(\n",
    "    go.Bar(\n",
    "        x=df_explained_variance['PC'],\n",
    "        y=df_explained_variance['Explained Variance'],\n",
    "        marker=dict(color=\"RoyalBlue\")\n",
    "    ))\n",
    "\n",
    "fig.show()"
   ]
  },
  {
   "cell_type": "markdown",
   "metadata": {
    "colab_type": "text",
    "id": "IPPD1wHIo4MG"
   },
   "source": [
    "##### 3.2.4.3. Explained Variance + Cumulative Variance (Separate Plot)"
   ]
  },
  {
   "cell_type": "code",
   "execution_count": 100,
   "metadata": {
    "colab": {
     "base_uri": "https://localhost:8080/",
     "height": 542
    },
    "colab_type": "code",
    "id": "cL4QwGhTgFhV",
    "outputId": "e5b5d2f3-5644-4a20-9f98-1ee9a3daa4a6"
   },
   "outputs": [
    {
     "data": {
      "application/vnd.plotly.v1+json": {
       "config": {
        "plotlyServerURL": "https://plot.ly"
       },
       "data": [
        {
         "marker": {
          "color": "LightSeaGreen",
          "size": 15
         },
         "type": "scatter",
         "x": [
          "",
          "PC1",
          "PC2",
          "PC3"
         ],
         "xaxis": "x",
         "y": [
          0,
          0.73,
          0.959,
          0.996
         ],
         "yaxis": "y"
        },
        {
         "marker": {
          "color": "RoyalBlue"
         },
         "type": "bar",
         "x": [
          "",
          "PC1",
          "PC2",
          "PC3"
         ],
         "xaxis": "x2",
         "y": [
          0,
          0.7296244541329986,
          0.22850761786701776,
          0.03668921889282878
         ],
         "yaxis": "y2"
        }
       ],
       "layout": {
        "height": 500,
        "template": {
         "data": {
          "bar": [
           {
            "error_x": {
             "color": "#2a3f5f"
            },
            "error_y": {
             "color": "#2a3f5f"
            },
            "marker": {
             "line": {
              "color": "#E5ECF6",
              "width": 0.5
             },
             "pattern": {
              "fillmode": "overlay",
              "size": 10,
              "solidity": 0.2
             }
            },
            "type": "bar"
           }
          ],
          "barpolar": [
           {
            "marker": {
             "line": {
              "color": "#E5ECF6",
              "width": 0.5
             },
             "pattern": {
              "fillmode": "overlay",
              "size": 10,
              "solidity": 0.2
             }
            },
            "type": "barpolar"
           }
          ],
          "carpet": [
           {
            "aaxis": {
             "endlinecolor": "#2a3f5f",
             "gridcolor": "white",
             "linecolor": "white",
             "minorgridcolor": "white",
             "startlinecolor": "#2a3f5f"
            },
            "baxis": {
             "endlinecolor": "#2a3f5f",
             "gridcolor": "white",
             "linecolor": "white",
             "minorgridcolor": "white",
             "startlinecolor": "#2a3f5f"
            },
            "type": "carpet"
           }
          ],
          "choropleth": [
           {
            "colorbar": {
             "outlinewidth": 0,
             "ticks": ""
            },
            "type": "choropleth"
           }
          ],
          "contour": [
           {
            "colorbar": {
             "outlinewidth": 0,
             "ticks": ""
            },
            "colorscale": [
             [
              0,
              "#0d0887"
             ],
             [
              0.1111111111111111,
              "#46039f"
             ],
             [
              0.2222222222222222,
              "#7201a8"
             ],
             [
              0.3333333333333333,
              "#9c179e"
             ],
             [
              0.4444444444444444,
              "#bd3786"
             ],
             [
              0.5555555555555556,
              "#d8576b"
             ],
             [
              0.6666666666666666,
              "#ed7953"
             ],
             [
              0.7777777777777778,
              "#fb9f3a"
             ],
             [
              0.8888888888888888,
              "#fdca26"
             ],
             [
              1,
              "#f0f921"
             ]
            ],
            "type": "contour"
           }
          ],
          "contourcarpet": [
           {
            "colorbar": {
             "outlinewidth": 0,
             "ticks": ""
            },
            "type": "contourcarpet"
           }
          ],
          "heatmap": [
           {
            "colorbar": {
             "outlinewidth": 0,
             "ticks": ""
            },
            "colorscale": [
             [
              0,
              "#0d0887"
             ],
             [
              0.1111111111111111,
              "#46039f"
             ],
             [
              0.2222222222222222,
              "#7201a8"
             ],
             [
              0.3333333333333333,
              "#9c179e"
             ],
             [
              0.4444444444444444,
              "#bd3786"
             ],
             [
              0.5555555555555556,
              "#d8576b"
             ],
             [
              0.6666666666666666,
              "#ed7953"
             ],
             [
              0.7777777777777778,
              "#fb9f3a"
             ],
             [
              0.8888888888888888,
              "#fdca26"
             ],
             [
              1,
              "#f0f921"
             ]
            ],
            "type": "heatmap"
           }
          ],
          "heatmapgl": [
           {
            "colorbar": {
             "outlinewidth": 0,
             "ticks": ""
            },
            "colorscale": [
             [
              0,
              "#0d0887"
             ],
             [
              0.1111111111111111,
              "#46039f"
             ],
             [
              0.2222222222222222,
              "#7201a8"
             ],
             [
              0.3333333333333333,
              "#9c179e"
             ],
             [
              0.4444444444444444,
              "#bd3786"
             ],
             [
              0.5555555555555556,
              "#d8576b"
             ],
             [
              0.6666666666666666,
              "#ed7953"
             ],
             [
              0.7777777777777778,
              "#fb9f3a"
             ],
             [
              0.8888888888888888,
              "#fdca26"
             ],
             [
              1,
              "#f0f921"
             ]
            ],
            "type": "heatmapgl"
           }
          ],
          "histogram": [
           {
            "marker": {
             "pattern": {
              "fillmode": "overlay",
              "size": 10,
              "solidity": 0.2
             }
            },
            "type": "histogram"
           }
          ],
          "histogram2d": [
           {
            "colorbar": {
             "outlinewidth": 0,
             "ticks": ""
            },
            "colorscale": [
             [
              0,
              "#0d0887"
             ],
             [
              0.1111111111111111,
              "#46039f"
             ],
             [
              0.2222222222222222,
              "#7201a8"
             ],
             [
              0.3333333333333333,
              "#9c179e"
             ],
             [
              0.4444444444444444,
              "#bd3786"
             ],
             [
              0.5555555555555556,
              "#d8576b"
             ],
             [
              0.6666666666666666,
              "#ed7953"
             ],
             [
              0.7777777777777778,
              "#fb9f3a"
             ],
             [
              0.8888888888888888,
              "#fdca26"
             ],
             [
              1,
              "#f0f921"
             ]
            ],
            "type": "histogram2d"
           }
          ],
          "histogram2dcontour": [
           {
            "colorbar": {
             "outlinewidth": 0,
             "ticks": ""
            },
            "colorscale": [
             [
              0,
              "#0d0887"
             ],
             [
              0.1111111111111111,
              "#46039f"
             ],
             [
              0.2222222222222222,
              "#7201a8"
             ],
             [
              0.3333333333333333,
              "#9c179e"
             ],
             [
              0.4444444444444444,
              "#bd3786"
             ],
             [
              0.5555555555555556,
              "#d8576b"
             ],
             [
              0.6666666666666666,
              "#ed7953"
             ],
             [
              0.7777777777777778,
              "#fb9f3a"
             ],
             [
              0.8888888888888888,
              "#fdca26"
             ],
             [
              1,
              "#f0f921"
             ]
            ],
            "type": "histogram2dcontour"
           }
          ],
          "mesh3d": [
           {
            "colorbar": {
             "outlinewidth": 0,
             "ticks": ""
            },
            "type": "mesh3d"
           }
          ],
          "parcoords": [
           {
            "line": {
             "colorbar": {
              "outlinewidth": 0,
              "ticks": ""
             }
            },
            "type": "parcoords"
           }
          ],
          "pie": [
           {
            "automargin": true,
            "type": "pie"
           }
          ],
          "scatter": [
           {
            "marker": {
             "colorbar": {
              "outlinewidth": 0,
              "ticks": ""
             }
            },
            "type": "scatter"
           }
          ],
          "scatter3d": [
           {
            "line": {
             "colorbar": {
              "outlinewidth": 0,
              "ticks": ""
             }
            },
            "marker": {
             "colorbar": {
              "outlinewidth": 0,
              "ticks": ""
             }
            },
            "type": "scatter3d"
           }
          ],
          "scattercarpet": [
           {
            "marker": {
             "colorbar": {
              "outlinewidth": 0,
              "ticks": ""
             }
            },
            "type": "scattercarpet"
           }
          ],
          "scattergeo": [
           {
            "marker": {
             "colorbar": {
              "outlinewidth": 0,
              "ticks": ""
             }
            },
            "type": "scattergeo"
           }
          ],
          "scattergl": [
           {
            "marker": {
             "colorbar": {
              "outlinewidth": 0,
              "ticks": ""
             }
            },
            "type": "scattergl"
           }
          ],
          "scattermapbox": [
           {
            "marker": {
             "colorbar": {
              "outlinewidth": 0,
              "ticks": ""
             }
            },
            "type": "scattermapbox"
           }
          ],
          "scatterpolar": [
           {
            "marker": {
             "colorbar": {
              "outlinewidth": 0,
              "ticks": ""
             }
            },
            "type": "scatterpolar"
           }
          ],
          "scatterpolargl": [
           {
            "marker": {
             "colorbar": {
              "outlinewidth": 0,
              "ticks": ""
             }
            },
            "type": "scatterpolargl"
           }
          ],
          "scatterternary": [
           {
            "marker": {
             "colorbar": {
              "outlinewidth": 0,
              "ticks": ""
             }
            },
            "type": "scatterternary"
           }
          ],
          "surface": [
           {
            "colorbar": {
             "outlinewidth": 0,
             "ticks": ""
            },
            "colorscale": [
             [
              0,
              "#0d0887"
             ],
             [
              0.1111111111111111,
              "#46039f"
             ],
             [
              0.2222222222222222,
              "#7201a8"
             ],
             [
              0.3333333333333333,
              "#9c179e"
             ],
             [
              0.4444444444444444,
              "#bd3786"
             ],
             [
              0.5555555555555556,
              "#d8576b"
             ],
             [
              0.6666666666666666,
              "#ed7953"
             ],
             [
              0.7777777777777778,
              "#fb9f3a"
             ],
             [
              0.8888888888888888,
              "#fdca26"
             ],
             [
              1,
              "#f0f921"
             ]
            ],
            "type": "surface"
           }
          ],
          "table": [
           {
            "cells": {
             "fill": {
              "color": "#EBF0F8"
             },
             "line": {
              "color": "white"
             }
            },
            "header": {
             "fill": {
              "color": "#C8D4E3"
             },
             "line": {
              "color": "white"
             }
            },
            "type": "table"
           }
          ]
         },
         "layout": {
          "annotationdefaults": {
           "arrowcolor": "#2a3f5f",
           "arrowhead": 0,
           "arrowwidth": 1
          },
          "autotypenumbers": "strict",
          "coloraxis": {
           "colorbar": {
            "outlinewidth": 0,
            "ticks": ""
           }
          },
          "colorscale": {
           "diverging": [
            [
             0,
             "#8e0152"
            ],
            [
             0.1,
             "#c51b7d"
            ],
            [
             0.2,
             "#de77ae"
            ],
            [
             0.3,
             "#f1b6da"
            ],
            [
             0.4,
             "#fde0ef"
            ],
            [
             0.5,
             "#f7f7f7"
            ],
            [
             0.6,
             "#e6f5d0"
            ],
            [
             0.7,
             "#b8e186"
            ],
            [
             0.8,
             "#7fbc41"
            ],
            [
             0.9,
             "#4d9221"
            ],
            [
             1,
             "#276419"
            ]
           ],
           "sequential": [
            [
             0,
             "#0d0887"
            ],
            [
             0.1111111111111111,
             "#46039f"
            ],
            [
             0.2222222222222222,
             "#7201a8"
            ],
            [
             0.3333333333333333,
             "#9c179e"
            ],
            [
             0.4444444444444444,
             "#bd3786"
            ],
            [
             0.5555555555555556,
             "#d8576b"
            ],
            [
             0.6666666666666666,
             "#ed7953"
            ],
            [
             0.7777777777777778,
             "#fb9f3a"
            ],
            [
             0.8888888888888888,
             "#fdca26"
            ],
            [
             1,
             "#f0f921"
            ]
           ],
           "sequentialminus": [
            [
             0,
             "#0d0887"
            ],
            [
             0.1111111111111111,
             "#46039f"
            ],
            [
             0.2222222222222222,
             "#7201a8"
            ],
            [
             0.3333333333333333,
             "#9c179e"
            ],
            [
             0.4444444444444444,
             "#bd3786"
            ],
            [
             0.5555555555555556,
             "#d8576b"
            ],
            [
             0.6666666666666666,
             "#ed7953"
            ],
            [
             0.7777777777777778,
             "#fb9f3a"
            ],
            [
             0.8888888888888888,
             "#fdca26"
            ],
            [
             1,
             "#f0f921"
            ]
           ]
          },
          "colorway": [
           "#636efa",
           "#EF553B",
           "#00cc96",
           "#ab63fa",
           "#FFA15A",
           "#19d3f3",
           "#FF6692",
           "#B6E880",
           "#FF97FF",
           "#FECB52"
          ],
          "font": {
           "color": "#2a3f5f"
          },
          "geo": {
           "bgcolor": "white",
           "lakecolor": "white",
           "landcolor": "#E5ECF6",
           "showlakes": true,
           "showland": true,
           "subunitcolor": "white"
          },
          "hoverlabel": {
           "align": "left"
          },
          "hovermode": "closest",
          "mapbox": {
           "style": "light"
          },
          "paper_bgcolor": "white",
          "plot_bgcolor": "#E5ECF6",
          "polar": {
           "angularaxis": {
            "gridcolor": "white",
            "linecolor": "white",
            "ticks": ""
           },
           "bgcolor": "#E5ECF6",
           "radialaxis": {
            "gridcolor": "white",
            "linecolor": "white",
            "ticks": ""
           }
          },
          "scene": {
           "xaxis": {
            "backgroundcolor": "#E5ECF6",
            "gridcolor": "white",
            "gridwidth": 2,
            "linecolor": "white",
            "showbackground": true,
            "ticks": "",
            "zerolinecolor": "white"
           },
           "yaxis": {
            "backgroundcolor": "#E5ECF6",
            "gridcolor": "white",
            "gridwidth": 2,
            "linecolor": "white",
            "showbackground": true,
            "ticks": "",
            "zerolinecolor": "white"
           },
           "zaxis": {
            "backgroundcolor": "#E5ECF6",
            "gridcolor": "white",
            "gridwidth": 2,
            "linecolor": "white",
            "showbackground": true,
            "ticks": "",
            "zerolinecolor": "white"
           }
          },
          "shapedefaults": {
           "line": {
            "color": "#2a3f5f"
           }
          },
          "ternary": {
           "aaxis": {
            "gridcolor": "white",
            "linecolor": "white",
            "ticks": ""
           },
           "baxis": {
            "gridcolor": "white",
            "linecolor": "white",
            "ticks": ""
           },
           "bgcolor": "#E5ECF6",
           "caxis": {
            "gridcolor": "white",
            "linecolor": "white",
            "ticks": ""
           }
          },
          "title": {
           "x": 0.05
          },
          "xaxis": {
           "automargin": true,
           "gridcolor": "white",
           "linecolor": "white",
           "ticks": "",
           "title": {
            "standoff": 15
           },
           "zerolinecolor": "white",
           "zerolinewidth": 2
          },
          "yaxis": {
           "automargin": true,
           "gridcolor": "white",
           "linecolor": "white",
           "ticks": "",
           "title": {
            "standoff": 15
           },
           "zerolinecolor": "white",
           "zerolinewidth": 2
          }
         }
        },
        "width": 800,
        "xaxis": {
         "anchor": "y",
         "domain": [
          0,
          0.45
         ]
        },
        "xaxis2": {
         "anchor": "y2",
         "domain": [
          0.55,
          1
         ]
        },
        "yaxis": {
         "anchor": "x",
         "domain": [
          0,
          1
         ]
        },
        "yaxis2": {
         "anchor": "x2",
         "domain": [
          0,
          1
         ]
        }
       }
      },
      "text/html": [
       "<div>                            <div id=\"003e7b1d-7b84-43f5-b666-e5c2a73947a3\" class=\"plotly-graph-div\" style=\"height:500px; width:800px;\"></div>            <script type=\"text/javascript\">                require([\"plotly\"], function(Plotly) {                    window.PLOTLYENV=window.PLOTLYENV || {};                                    if (document.getElementById(\"003e7b1d-7b84-43f5-b666-e5c2a73947a3\")) {                    Plotly.newPlot(                        \"003e7b1d-7b84-43f5-b666-e5c2a73947a3\",                        [{\"marker\":{\"color\":\"LightSeaGreen\",\"size\":15},\"x\":[\"\",\"PC1\",\"PC2\",\"PC3\"],\"y\":[0.0,0.73,0.959,0.996],\"type\":\"scatter\",\"xaxis\":\"x\",\"yaxis\":\"y\"},{\"marker\":{\"color\":\"RoyalBlue\"},\"x\":[\"\",\"PC1\",\"PC2\",\"PC3\"],\"y\":[0.0,0.7296244541329986,0.22850761786701776,0.03668921889282878],\"type\":\"bar\",\"xaxis\":\"x2\",\"yaxis\":\"y2\"}],                        {\"template\":{\"data\":{\"bar\":[{\"error_x\":{\"color\":\"#2a3f5f\"},\"error_y\":{\"color\":\"#2a3f5f\"},\"marker\":{\"line\":{\"color\":\"#E5ECF6\",\"width\":0.5},\"pattern\":{\"fillmode\":\"overlay\",\"size\":10,\"solidity\":0.2}},\"type\":\"bar\"}],\"barpolar\":[{\"marker\":{\"line\":{\"color\":\"#E5ECF6\",\"width\":0.5},\"pattern\":{\"fillmode\":\"overlay\",\"size\":10,\"solidity\":0.2}},\"type\":\"barpolar\"}],\"carpet\":[{\"aaxis\":{\"endlinecolor\":\"#2a3f5f\",\"gridcolor\":\"white\",\"linecolor\":\"white\",\"minorgridcolor\":\"white\",\"startlinecolor\":\"#2a3f5f\"},\"baxis\":{\"endlinecolor\":\"#2a3f5f\",\"gridcolor\":\"white\",\"linecolor\":\"white\",\"minorgridcolor\":\"white\",\"startlinecolor\":\"#2a3f5f\"},\"type\":\"carpet\"}],\"choropleth\":[{\"colorbar\":{\"outlinewidth\":0,\"ticks\":\"\"},\"type\":\"choropleth\"}],\"contour\":[{\"colorbar\":{\"outlinewidth\":0,\"ticks\":\"\"},\"colorscale\":[[0.0,\"#0d0887\"],[0.1111111111111111,\"#46039f\"],[0.2222222222222222,\"#7201a8\"],[0.3333333333333333,\"#9c179e\"],[0.4444444444444444,\"#bd3786\"],[0.5555555555555556,\"#d8576b\"],[0.6666666666666666,\"#ed7953\"],[0.7777777777777778,\"#fb9f3a\"],[0.8888888888888888,\"#fdca26\"],[1.0,\"#f0f921\"]],\"type\":\"contour\"}],\"contourcarpet\":[{\"colorbar\":{\"outlinewidth\":0,\"ticks\":\"\"},\"type\":\"contourcarpet\"}],\"heatmap\":[{\"colorbar\":{\"outlinewidth\":0,\"ticks\":\"\"},\"colorscale\":[[0.0,\"#0d0887\"],[0.1111111111111111,\"#46039f\"],[0.2222222222222222,\"#7201a8\"],[0.3333333333333333,\"#9c179e\"],[0.4444444444444444,\"#bd3786\"],[0.5555555555555556,\"#d8576b\"],[0.6666666666666666,\"#ed7953\"],[0.7777777777777778,\"#fb9f3a\"],[0.8888888888888888,\"#fdca26\"],[1.0,\"#f0f921\"]],\"type\":\"heatmap\"}],\"heatmapgl\":[{\"colorbar\":{\"outlinewidth\":0,\"ticks\":\"\"},\"colorscale\":[[0.0,\"#0d0887\"],[0.1111111111111111,\"#46039f\"],[0.2222222222222222,\"#7201a8\"],[0.3333333333333333,\"#9c179e\"],[0.4444444444444444,\"#bd3786\"],[0.5555555555555556,\"#d8576b\"],[0.6666666666666666,\"#ed7953\"],[0.7777777777777778,\"#fb9f3a\"],[0.8888888888888888,\"#fdca26\"],[1.0,\"#f0f921\"]],\"type\":\"heatmapgl\"}],\"histogram\":[{\"marker\":{\"pattern\":{\"fillmode\":\"overlay\",\"size\":10,\"solidity\":0.2}},\"type\":\"histogram\"}],\"histogram2d\":[{\"colorbar\":{\"outlinewidth\":0,\"ticks\":\"\"},\"colorscale\":[[0.0,\"#0d0887\"],[0.1111111111111111,\"#46039f\"],[0.2222222222222222,\"#7201a8\"],[0.3333333333333333,\"#9c179e\"],[0.4444444444444444,\"#bd3786\"],[0.5555555555555556,\"#d8576b\"],[0.6666666666666666,\"#ed7953\"],[0.7777777777777778,\"#fb9f3a\"],[0.8888888888888888,\"#fdca26\"],[1.0,\"#f0f921\"]],\"type\":\"histogram2d\"}],\"histogram2dcontour\":[{\"colorbar\":{\"outlinewidth\":0,\"ticks\":\"\"},\"colorscale\":[[0.0,\"#0d0887\"],[0.1111111111111111,\"#46039f\"],[0.2222222222222222,\"#7201a8\"],[0.3333333333333333,\"#9c179e\"],[0.4444444444444444,\"#bd3786\"],[0.5555555555555556,\"#d8576b\"],[0.6666666666666666,\"#ed7953\"],[0.7777777777777778,\"#fb9f3a\"],[0.8888888888888888,\"#fdca26\"],[1.0,\"#f0f921\"]],\"type\":\"histogram2dcontour\"}],\"mesh3d\":[{\"colorbar\":{\"outlinewidth\":0,\"ticks\":\"\"},\"type\":\"mesh3d\"}],\"parcoords\":[{\"line\":{\"colorbar\":{\"outlinewidth\":0,\"ticks\":\"\"}},\"type\":\"parcoords\"}],\"pie\":[{\"automargin\":true,\"type\":\"pie\"}],\"scatter\":[{\"marker\":{\"colorbar\":{\"outlinewidth\":0,\"ticks\":\"\"}},\"type\":\"scatter\"}],\"scatter3d\":[{\"line\":{\"colorbar\":{\"outlinewidth\":0,\"ticks\":\"\"}},\"marker\":{\"colorbar\":{\"outlinewidth\":0,\"ticks\":\"\"}},\"type\":\"scatter3d\"}],\"scattercarpet\":[{\"marker\":{\"colorbar\":{\"outlinewidth\":0,\"ticks\":\"\"}},\"type\":\"scattercarpet\"}],\"scattergeo\":[{\"marker\":{\"colorbar\":{\"outlinewidth\":0,\"ticks\":\"\"}},\"type\":\"scattergeo\"}],\"scattergl\":[{\"marker\":{\"colorbar\":{\"outlinewidth\":0,\"ticks\":\"\"}},\"type\":\"scattergl\"}],\"scattermapbox\":[{\"marker\":{\"colorbar\":{\"outlinewidth\":0,\"ticks\":\"\"}},\"type\":\"scattermapbox\"}],\"scatterpolar\":[{\"marker\":{\"colorbar\":{\"outlinewidth\":0,\"ticks\":\"\"}},\"type\":\"scatterpolar\"}],\"scatterpolargl\":[{\"marker\":{\"colorbar\":{\"outlinewidth\":0,\"ticks\":\"\"}},\"type\":\"scatterpolargl\"}],\"scatterternary\":[{\"marker\":{\"colorbar\":{\"outlinewidth\":0,\"ticks\":\"\"}},\"type\":\"scatterternary\"}],\"surface\":[{\"colorbar\":{\"outlinewidth\":0,\"ticks\":\"\"},\"colorscale\":[[0.0,\"#0d0887\"],[0.1111111111111111,\"#46039f\"],[0.2222222222222222,\"#7201a8\"],[0.3333333333333333,\"#9c179e\"],[0.4444444444444444,\"#bd3786\"],[0.5555555555555556,\"#d8576b\"],[0.6666666666666666,\"#ed7953\"],[0.7777777777777778,\"#fb9f3a\"],[0.8888888888888888,\"#fdca26\"],[1.0,\"#f0f921\"]],\"type\":\"surface\"}],\"table\":[{\"cells\":{\"fill\":{\"color\":\"#EBF0F8\"},\"line\":{\"color\":\"white\"}},\"header\":{\"fill\":{\"color\":\"#C8D4E3\"},\"line\":{\"color\":\"white\"}},\"type\":\"table\"}]},\"layout\":{\"annotationdefaults\":{\"arrowcolor\":\"#2a3f5f\",\"arrowhead\":0,\"arrowwidth\":1},\"autotypenumbers\":\"strict\",\"coloraxis\":{\"colorbar\":{\"outlinewidth\":0,\"ticks\":\"\"}},\"colorscale\":{\"diverging\":[[0,\"#8e0152\"],[0.1,\"#c51b7d\"],[0.2,\"#de77ae\"],[0.3,\"#f1b6da\"],[0.4,\"#fde0ef\"],[0.5,\"#f7f7f7\"],[0.6,\"#e6f5d0\"],[0.7,\"#b8e186\"],[0.8,\"#7fbc41\"],[0.9,\"#4d9221\"],[1,\"#276419\"]],\"sequential\":[[0.0,\"#0d0887\"],[0.1111111111111111,\"#46039f\"],[0.2222222222222222,\"#7201a8\"],[0.3333333333333333,\"#9c179e\"],[0.4444444444444444,\"#bd3786\"],[0.5555555555555556,\"#d8576b\"],[0.6666666666666666,\"#ed7953\"],[0.7777777777777778,\"#fb9f3a\"],[0.8888888888888888,\"#fdca26\"],[1.0,\"#f0f921\"]],\"sequentialminus\":[[0.0,\"#0d0887\"],[0.1111111111111111,\"#46039f\"],[0.2222222222222222,\"#7201a8\"],[0.3333333333333333,\"#9c179e\"],[0.4444444444444444,\"#bd3786\"],[0.5555555555555556,\"#d8576b\"],[0.6666666666666666,\"#ed7953\"],[0.7777777777777778,\"#fb9f3a\"],[0.8888888888888888,\"#fdca26\"],[1.0,\"#f0f921\"]]},\"colorway\":[\"#636efa\",\"#EF553B\",\"#00cc96\",\"#ab63fa\",\"#FFA15A\",\"#19d3f3\",\"#FF6692\",\"#B6E880\",\"#FF97FF\",\"#FECB52\"],\"font\":{\"color\":\"#2a3f5f\"},\"geo\":{\"bgcolor\":\"white\",\"lakecolor\":\"white\",\"landcolor\":\"#E5ECF6\",\"showlakes\":true,\"showland\":true,\"subunitcolor\":\"white\"},\"hoverlabel\":{\"align\":\"left\"},\"hovermode\":\"closest\",\"mapbox\":{\"style\":\"light\"},\"paper_bgcolor\":\"white\",\"plot_bgcolor\":\"#E5ECF6\",\"polar\":{\"angularaxis\":{\"gridcolor\":\"white\",\"linecolor\":\"white\",\"ticks\":\"\"},\"bgcolor\":\"#E5ECF6\",\"radialaxis\":{\"gridcolor\":\"white\",\"linecolor\":\"white\",\"ticks\":\"\"}},\"scene\":{\"xaxis\":{\"backgroundcolor\":\"#E5ECF6\",\"gridcolor\":\"white\",\"gridwidth\":2,\"linecolor\":\"white\",\"showbackground\":true,\"ticks\":\"\",\"zerolinecolor\":\"white\"},\"yaxis\":{\"backgroundcolor\":\"#E5ECF6\",\"gridcolor\":\"white\",\"gridwidth\":2,\"linecolor\":\"white\",\"showbackground\":true,\"ticks\":\"\",\"zerolinecolor\":\"white\"},\"zaxis\":{\"backgroundcolor\":\"#E5ECF6\",\"gridcolor\":\"white\",\"gridwidth\":2,\"linecolor\":\"white\",\"showbackground\":true,\"ticks\":\"\",\"zerolinecolor\":\"white\"}},\"shapedefaults\":{\"line\":{\"color\":\"#2a3f5f\"}},\"ternary\":{\"aaxis\":{\"gridcolor\":\"white\",\"linecolor\":\"white\",\"ticks\":\"\"},\"baxis\":{\"gridcolor\":\"white\",\"linecolor\":\"white\",\"ticks\":\"\"},\"bgcolor\":\"#E5ECF6\",\"caxis\":{\"gridcolor\":\"white\",\"linecolor\":\"white\",\"ticks\":\"\"}},\"title\":{\"x\":0.05},\"xaxis\":{\"automargin\":true,\"gridcolor\":\"white\",\"linecolor\":\"white\",\"ticks\":\"\",\"title\":{\"standoff\":15},\"zerolinecolor\":\"white\",\"zerolinewidth\":2},\"yaxis\":{\"automargin\":true,\"gridcolor\":\"white\",\"linecolor\":\"white\",\"ticks\":\"\",\"title\":{\"standoff\":15},\"zerolinecolor\":\"white\",\"zerolinewidth\":2}}},\"xaxis\":{\"anchor\":\"y\",\"domain\":[0.0,0.45]},\"yaxis\":{\"anchor\":\"x\",\"domain\":[0.0,1.0]},\"xaxis2\":{\"anchor\":\"y2\",\"domain\":[0.55,1.0]},\"yaxis2\":{\"anchor\":\"x2\",\"domain\":[0.0,1.0]},\"width\":800,\"height\":500},                        {\"responsive\": true}                    ).then(function(){\n",
       "                            \n",
       "var gd = document.getElementById('003e7b1d-7b84-43f5-b666-e5c2a73947a3');\n",
       "var x = new MutationObserver(function (mutations, observer) {{\n",
       "        var display = window.getComputedStyle(gd).display;\n",
       "        if (!display || display === 'none') {{\n",
       "            console.log([gd, 'removed!']);\n",
       "            Plotly.purge(gd);\n",
       "            observer.disconnect();\n",
       "        }}\n",
       "}});\n",
       "\n",
       "// Listen for the removal of the full notebook cells\n",
       "var notebookContainer = gd.closest('#notebook-container');\n",
       "if (notebookContainer) {{\n",
       "    x.observe(notebookContainer, {childList: true});\n",
       "}}\n",
       "\n",
       "// Listen for the clearing of the current output cell\n",
       "var outputEl = gd.closest('.output');\n",
       "if (outputEl) {{\n",
       "    x.observe(outputEl, {childList: true});\n",
       "}}\n",
       "\n",
       "                        })                };                });            </script>        </div>"
      ]
     },
     "metadata": {},
     "output_type": "display_data"
    }
   ],
   "source": [
    "from plotly.subplots import make_subplots\n",
    "import plotly.graph_objects as go\n",
    "\n",
    "fig = make_subplots(rows=1, cols=2)\n",
    "\n",
    "fig.add_trace(\n",
    "    go.Scatter(\n",
    "        x=df_explained_variance['PC'],\n",
    "        y=df_explained_variance['Cumulative Variance'],\n",
    "        marker=dict(size=15, color=\"LightSeaGreen\")\n",
    "    ), row=1, col=1\n",
    "    )\n",
    "\n",
    "fig.add_trace(\n",
    "    go.Bar(\n",
    "        x=df_explained_variance['PC'],\n",
    "        y=df_explained_variance['Explained Variance'],\n",
    "        marker=dict(color=\"RoyalBlue\"),\n",
    "    ), row=1, col=2\n",
    "    )\n",
    "fig.update_layout(\n",
    "    width=800,\n",
    "    height=500,\n",
    ")\n",
    "fig.show()"
   ]
  },
  {
   "cell_type": "markdown",
   "metadata": {
    "colab_type": "text",
    "id": "OB_LvOxNW5Wx"
   },
   "source": [
    "### **4. Scores Plot**\n",
    "\n",
    "Source: https://plotly.com/python/3d-scatter-plots/"
   ]
  },
  {
   "cell_type": "markdown",
   "metadata": {
    "colab_type": "text",
    "id": "1RSpqvmUXhoT"
   },
   "source": [
    "### 4.1. Load library\n",
    "[API Documentation](https://plotly.com/python-api-reference/plotly.express.html) for *plotly.express* package"
   ]
  },
  {
   "cell_type": "code",
   "execution_count": 101,
   "metadata": {
    "colab": {},
    "colab_type": "code",
    "id": "SnyRnEjYXkQN"
   },
   "outputs": [],
   "source": [
    "import plotly.express as px"
   ]
  },
  {
   "cell_type": "markdown",
   "metadata": {
    "colab_type": "text",
    "id": "ZtXU3cBsYJH9"
   },
   "source": [
    "### 4.2. Basic 3D Scatter Plot"
   ]
  },
  {
   "cell_type": "code",
   "execution_count": 102,
   "metadata": {
    "colab": {
     "base_uri": "https://localhost:8080/",
     "height": 542
    },
    "colab_type": "code",
    "id": "IPdv7qpmUcLS",
    "outputId": "25d242ef-5223-4018-dc70-7df02a611ece"
   },
   "outputs": [
    {
     "data": {
      "application/vnd.plotly.v1+json": {
       "config": {
        "plotlyServerURL": "https://plot.ly"
       },
       "data": [
        {
         "hovertemplate": "Species=Setosa<br>PC1=%{x}<br>PC2=%{y}<br>PC3=%{z}<extra></extra>",
         "legendgroup": "Setosa",
         "marker": {
          "color": "#636efa",
          "symbol": "circle"
         },
         "mode": "markers",
         "name": "Setosa",
         "scene": "scene",
         "showlegend": true,
         "type": "scatter3d",
         "x": [
          -2.264702808807587,
          -2.080961151965766,
          -2.3642290538902992,
          -2.2993842170427063,
          -2.3898421663138425,
          -2.07563094817651,
          -2.4440288351341506,
          -2.232847158872013,
          -2.3346404779076195,
          -2.1843281749339405,
          -2.1663101007013204,
          -2.3261308664426967,
          -2.2184508988224074,
          -2.633100695765226,
          -2.198740603266688,
          -2.2622145316010194,
          -2.20758769582459,
          -2.1903495091922967,
          -1.8985719958028402,
          -2.3433690530749907,
          -1.914322996082566,
          -2.2070128431947964,
          -2.77434470292733,
          -1.8186695286958476,
          -2.227163305706637,
          -1.9518463309003744,
          -2.0511513727294135,
          -2.1685771746542146,
          -2.1395634513013295,
          -2.265261493154239,
          -2.1401221356479825,
          -1.831594770676027,
          -2.6149479358589325,
          -2.4461773916965126,
          -2.1099748753186507,
          -2.207808899078264,
          -2.0451462067541994,
          -2.5273319131704843,
          -2.429632575084544,
          -2.1697107116306618,
          -2.286475143345668,
          -1.85812245637357,
          -2.553638395614354,
          -1.9644476837637388,
          -2.1370590058116212,
          -2.0697442995918283,
          -2.3847331657782607,
          -2.394376314219631,
          -2.229446547942673,
          -2.2038334355191282
         ],
         "y": [
          0.48002659652098917,
          -0.6741335566053525,
          -0.34190802388467595,
          -0.5973945076746751,
          0.6468353829020268,
          1.4891775233211662,
          0.047644197630014484,
          0.22314807268959186,
          -1.1153276754616657,
          -0.46901356140237543,
          1.0436906530538592,
          0.13307833523923185,
          -0.7286761653165703,
          -0.9615067291701623,
          1.86005711329393,
          2.686284485110591,
          1.483609363155572,
          0.48883831648632753,
          1.4050187944665484,
          1.1278493819084754,
          0.40885570775590613,
          0.9241214267468981,
          0.45834366775291535,
          0.08555852628736615,
          0.1372544553634275,
          -0.6256185877766762,
          0.24216355266166717,
          0.5271495253082672,
          0.31321781013995187,
          -0.3377319037604803,
          -0.5045406901415179,
          0.4236950676037857,
          1.793575856104428,
          2.150727877392923,
          -0.4602018414370371,
          -0.20610739768843678,
          0.6615581114631078,
          0.5922927741908093,
          -0.9041800403761474,
          0.26887896143547085,
          0.44171538769905,
          -2.3374151575533473,
          -0.47910069012231365,
          0.47232666771926074,
          1.1422292620394083,
          -0.7110527253858936,
          1.1204297019845357,
          -0.38624687258915685,
          0.9979597643079798,
          0.009216357521276308
         ],
         "z": [
          -0.1277060223001521,
          -0.23460885398456743,
          0.0442014848387442,
          0.09129010632068257,
          0.015738195676259115,
          0.026968294439782187,
          0.3354704011431143,
          -0.08869549794772602,
          0.14507686363700034,
          -0.2537655673000062,
          -0.2686811022161343,
          0.09375924438111205,
          -0.23091123720660245,
          0.1807960844031795,
          -0.4729009978730765,
          0.030526609265511116,
          -0.0053440940782637225,
          -0.044215316478453504,
          -0.3743432745576544,
          0.13263046678130258,
          -0.42129259408735625,
          0.1598652772262532,
          0.3321790975568665,
          0.03448859579998159,
          0.11799353576964644,
          -0.30564098232520753,
          0.08636401082518264,
          -0.20681624777030433,
          -0.27115024027656404,
          0.0684357762272787,
          -0.07500844174913268,
          -0.27046737670298204,
          0.04722841866848648,
          -0.08266804506156751,
          -0.17027486147830773,
          -0.2254415800897568,
          -0.4845374098283169,
          0.019435812454223544,
          0.19325466188423712,
          -0.17588382054738888,
          0.03489490899169778,
          -0.20423422253096524,
          0.3057664526377337,
          0.309601317845328,
          0.24843356112104717,
          -0.06392982556320537,
          0.057217858089115614,
          0.13946790456791947,
          -0.18149277961647065,
          -0.15302949045398584
         ]
        },
        {
         "hovertemplate": "Species=Versicolor<br>PC1=%{x}<br>PC2=%{y}<br>PC3=%{z}<extra></extra>",
         "legendgroup": "Versicolor",
         "marker": {
          "color": "#EF553B",
          "symbol": "circle"
         },
         "mode": "markers",
         "name": "Versicolor",
         "scene": "scene",
         "showlegend": true,
         "type": "scatter3d",
         "x": [
          1.1017811830529476,
          0.7313374253960874,
          1.240979319515831,
          0.407483058817385,
          1.075474700609078,
          0.388687336535665,
          0.7465297413291607,
          -0.48732274212563925,
          0.9279016383549451,
          0.01142618873698048,
          -0.11019628000062887,
          0.4406934489830784,
          0.5621083064431787,
          0.7195618886754963,
          -0.033354703178771955,
          0.8754071908577374,
          0.3502516679950828,
          0.1588100475479714,
          1.2250936335624312,
          0.16491789938632734,
          0.7376826487712582,
          0.47628719094097133,
          1.2341780976571486,
          0.6328581997098216,
          0.7026611831361822,
          0.8742736538812901,
          1.2565091165418831,
          1.3584051214406316,
          0.6648003672253946,
          -0.04025861090059524,
          0.13079517549786063,
          0.02345268897055086,
          0.241538272954511,
          1.0610946088426136,
          0.22397877351237988,
          0.4291391155161609,
          1.0487280512090873,
          1.0445313843962787,
          0.06958832111642317,
          0.28347723828757543,
          0.27907777605546097,
          0.6245697914985714,
          0.3365303701314358,
          -0.3621833846193829,
          0.2885862388231574,
          0.09136065565450562,
          0.22771686553470022,
          0.5763882886534786,
          -0.4476670190286113,
          0.25673058888758477
         ],
         "y": [
          0.8629724182621583,
          0.5946147256694243,
          0.6162976544374981,
          -1.7544039893234096,
          -0.2084210460509654,
          -0.5932836359900747,
          0.7730193120985963,
          -1.8524290868575732,
          0.03222607789115367,
          -1.03401827512944,
          -2.654072818536563,
          -0.06329518843800136,
          -1.7647243806169446,
          -0.18622460583150566,
          -0.43900320998162445,
          0.5090639567734083,
          -0.1963117345514438,
          -0.792095742432721,
          -1.6222438030915012,
          -1.3026092302957721,
          0.3965715619602389,
          -0.41732028121355075,
          -0.933325728799278,
          -0.41638772088909914,
          -0.06341181972480014,
          0.25079339290061187,
          -0.07725601969586904,
          0.33131168179089787,
          -0.22592785469484344,
          -1.0587185465539084,
          -1.5622718342099668,
          -1.5724755942167037,
          -0.7772563825848413,
          -0.6338432447349465,
          -0.28777351204320195,
          0.8455822409050785,
          0.5220517968629423,
          -1.3829887191907813,
          -0.21950333464771477,
          -1.3293246390695757,
          -1.1200285237424032,
          0.02492302925401267,
          -0.9884040176703597,
          -2.019237873238611,
          -0.8557303199870658,
          -0.1811921258257751,
          -0.3849200809873536,
          -0.15487359721655877,
          -1.5437920343977554,
          -0.598851796155669
         ],
         "z": [
          -0.6845861626897373,
          -0.09412171552908238,
          -0.5540068353861012,
          -0.02310176781380191,
          -0.39825552250622714,
          0.12419154951817021,
          0.14896940252805108,
          0.24926526578924946,
          -0.5961693613725388,
          0.538899390184368,
          -0.046790444058383396,
          0.20507381532720287,
          -0.765771393653962,
          -0.06865894542301264,
          0.19493289332897895,
          -0.5035113816560304,
          0.4908730745147276,
          -0.3020371744413825,
          -0.4823040240972383,
          -0.17283780843287672,
          0.6165263063228641,
          -0.2649522265280397,
          -0.36841227204861066,
          -0.291896252443158,
          -0.44602700756174735,
          -0.47257895443311493,
          -0.7271550018678924,
          -0.2608265767906141,
          0.08586388873932603,
          -0.3195733299955368,
          -0.14998347833947362,
          -0.24155228129068373,
          -0.1512119570570083,
          0.10531138658459716,
          0.6652497197140536,
          0.4506340714447661,
          -0.39578638444579733,
          -0.6882959600930618,
          0.2915792743532846,
          0.08941002293969477,
          0.09448760101279036,
          -0.020481147175775816,
          -0.1993897553042452,
          0.10582104781283808,
          0.1308896853525515,
          0.12897834306143374,
          0.15621315350638407,
          -0.2716503623624206,
          0.19040093039983624,
          0.09187916100012428
         ]
        },
        {
         "hovertemplate": "Species=Virginica<br>PC1=%{x}<br>PC2=%{y}<br>PC3=%{z}<extra></extra>",
         "legendgroup": "Virginica",
         "marker": {
          "color": "#00cc96",
          "symbol": "circle"
         },
         "mode": "markers",
         "name": "Virginica",
         "scene": "scene",
         "showlegend": true,
         "type": "scatter3d",
         "x": [
          1.8445688677230287,
          1.1578816132057794,
          2.2052667910753776,
          1.4401506638275392,
          1.8678122203305372,
          2.751873335666276,
          0.36701768786072453,
          2.3024394446251963,
          2.006686467676605,
          2.2597773490125,
          1.3641754921860074,
          1.6026786704779301,
          1.8839007017032423,
          1.2601150991975074,
          1.4676452010173235,
          1.5900773176145653,
          1.4714314611333177,
          2.4263289873157,
          3.310695583933886,
          1.2637666736398276,
          2.037716301469404,
          0.9779807342494213,
          2.8976514907341677,
          1.3332321759732082,
          1.700733897491217,
          1.9543267058530704,
          1.1751036315549324,
          1.0209505506957908,
          1.788349920179665,
          1.8636475533282604,
          2.4359537279227026,
          2.3049277218317643,
          1.8627032197949551,
          1.1141477406864744,
          1.2024733016783904,
          2.7987704475781072,
          1.576255910194754,
          1.3462921036270616,
          0.9248249165424192,
          1.8520450517676696,
          2.014810429954875,
          1.9017840902621888,
          1.1578816132057794,
          2.040558228052092,
          1.9981470959523757,
          1.87050329295641,
          1.5645804830303276,
          1.5211704996278375,
          1.3727877895140728,
          0.9606560300371276
         ],
         "y": [
          0.870421312324823,
          -0.6988698623306899,
          0.5620104770083553,
          -0.046987588105806444,
          0.2950448244570196,
          0.8004092010275415,
          -1.5615028914765048,
          0.42006557964277613,
          -0.7114386535471586,
          1.9210103764598856,
          0.6927564544903866,
          -0.42170044977261706,
          0.41924965060512326,
          -1.162260421406463,
          -0.44227158737708205,
          0.6762448057233199,
          0.2556218244714704,
          2.556661250795491,
          0.017780949320626682,
          -1.7067453803762669,
          0.9104674096183104,
          -0.5717643248129913,
          0.4136410595956474,
          -0.48181121864942916,
          1.013921867322791,
          1.0077775961534519,
          -0.3163944723097908,
          0.06434602923956188,
          -0.18736121459082855,
          0.5622907258861443,
          0.2592844331442799,
          2.626323468232377,
          -0.17854949462549013,
          -0.29292262333573116,
          -0.8113152708396684,
          0.8568033294971048,
          1.0685811073208074,
          0.4224306108525082,
          0.017223100452284243,
          0.6761281744365212,
          0.6138856369235748,
          0.6895754942430022,
          -0.6988698623306899,
          0.867520600955228,
          1.0491687471841447,
          0.3869660816657253,
          -0.896686808896526,
          0.26906914427795153,
          1.0112544185267927,
          -0.024331668169399183
         ],
         "z": [
          1.0054010176069874,
          0.5301601492490194,
          -0.20291416973686893,
          0.1636301068300584,
          0.39562837455329747,
          -0.5823091028286049,
          0.9868932674720257,
          -0.6517064392599938,
          -0.39399057081656497,
          0.39755189746977415,
          0.2846120737568164,
          0.02318640791006238,
          0.026338409544074737,
          0.5802492897873728,
          1.0038695737342604,
          0.6384287080805978,
          0.03743125987796858,
          -0.12788145946307217,
          -0.70330530390333,
          -0.26753689325035435,
          0.23479948360032743,
          0.8281272013877699,
          -0.8574218248739521,
          -0.005428363830018212,
          0.2984506125330053,
          -0.41998472191862035,
          0.1299377570168813,
          0.33771596749955307,
          0.2706580063187422,
          -0.715634118574537,
          -0.7278161456737302,
          -0.4934738076943308,
          0.3541487121404408,
          -0.18348839165934305,
          -0.16472375738765405,
          -0.542906499432429,
          0.945853818643991,
          0.1808754778543798,
          0.4168261929697045,
          -0.012672114808352175,
          0.42833284211509315,
          0.1300750054465103,
          0.5301601492490194,
          0.33814400045901416,
          0.6324134358197996,
          0.2562738523986001,
          -0.026371351632304918,
          0.18017838013283133,
          0.9333952411629326,
          0.5282488069579019
         ]
        }
       ],
       "layout": {
        "legend": {
         "title": {
          "text": "Species"
         },
         "tracegroupgap": 0
        },
        "margin": {
         "t": 60
        },
        "scene": {
         "domain": {
          "x": [
           0,
           1
          ],
          "y": [
           0,
           1
          ]
         },
         "xaxis": {
          "title": {
           "text": "PC1"
          }
         },
         "yaxis": {
          "title": {
           "text": "PC2"
          }
         },
         "zaxis": {
          "title": {
           "text": "PC3"
          }
         }
        },
        "template": {
         "data": {
          "bar": [
           {
            "error_x": {
             "color": "#2a3f5f"
            },
            "error_y": {
             "color": "#2a3f5f"
            },
            "marker": {
             "line": {
              "color": "#E5ECF6",
              "width": 0.5
             },
             "pattern": {
              "fillmode": "overlay",
              "size": 10,
              "solidity": 0.2
             }
            },
            "type": "bar"
           }
          ],
          "barpolar": [
           {
            "marker": {
             "line": {
              "color": "#E5ECF6",
              "width": 0.5
             },
             "pattern": {
              "fillmode": "overlay",
              "size": 10,
              "solidity": 0.2
             }
            },
            "type": "barpolar"
           }
          ],
          "carpet": [
           {
            "aaxis": {
             "endlinecolor": "#2a3f5f",
             "gridcolor": "white",
             "linecolor": "white",
             "minorgridcolor": "white",
             "startlinecolor": "#2a3f5f"
            },
            "baxis": {
             "endlinecolor": "#2a3f5f",
             "gridcolor": "white",
             "linecolor": "white",
             "minorgridcolor": "white",
             "startlinecolor": "#2a3f5f"
            },
            "type": "carpet"
           }
          ],
          "choropleth": [
           {
            "colorbar": {
             "outlinewidth": 0,
             "ticks": ""
            },
            "type": "choropleth"
           }
          ],
          "contour": [
           {
            "colorbar": {
             "outlinewidth": 0,
             "ticks": ""
            },
            "colorscale": [
             [
              0,
              "#0d0887"
             ],
             [
              0.1111111111111111,
              "#46039f"
             ],
             [
              0.2222222222222222,
              "#7201a8"
             ],
             [
              0.3333333333333333,
              "#9c179e"
             ],
             [
              0.4444444444444444,
              "#bd3786"
             ],
             [
              0.5555555555555556,
              "#d8576b"
             ],
             [
              0.6666666666666666,
              "#ed7953"
             ],
             [
              0.7777777777777778,
              "#fb9f3a"
             ],
             [
              0.8888888888888888,
              "#fdca26"
             ],
             [
              1,
              "#f0f921"
             ]
            ],
            "type": "contour"
           }
          ],
          "contourcarpet": [
           {
            "colorbar": {
             "outlinewidth": 0,
             "ticks": ""
            },
            "type": "contourcarpet"
           }
          ],
          "heatmap": [
           {
            "colorbar": {
             "outlinewidth": 0,
             "ticks": ""
            },
            "colorscale": [
             [
              0,
              "#0d0887"
             ],
             [
              0.1111111111111111,
              "#46039f"
             ],
             [
              0.2222222222222222,
              "#7201a8"
             ],
             [
              0.3333333333333333,
              "#9c179e"
             ],
             [
              0.4444444444444444,
              "#bd3786"
             ],
             [
              0.5555555555555556,
              "#d8576b"
             ],
             [
              0.6666666666666666,
              "#ed7953"
             ],
             [
              0.7777777777777778,
              "#fb9f3a"
             ],
             [
              0.8888888888888888,
              "#fdca26"
             ],
             [
              1,
              "#f0f921"
             ]
            ],
            "type": "heatmap"
           }
          ],
          "heatmapgl": [
           {
            "colorbar": {
             "outlinewidth": 0,
             "ticks": ""
            },
            "colorscale": [
             [
              0,
              "#0d0887"
             ],
             [
              0.1111111111111111,
              "#46039f"
             ],
             [
              0.2222222222222222,
              "#7201a8"
             ],
             [
              0.3333333333333333,
              "#9c179e"
             ],
             [
              0.4444444444444444,
              "#bd3786"
             ],
             [
              0.5555555555555556,
              "#d8576b"
             ],
             [
              0.6666666666666666,
              "#ed7953"
             ],
             [
              0.7777777777777778,
              "#fb9f3a"
             ],
             [
              0.8888888888888888,
              "#fdca26"
             ],
             [
              1,
              "#f0f921"
             ]
            ],
            "type": "heatmapgl"
           }
          ],
          "histogram": [
           {
            "marker": {
             "pattern": {
              "fillmode": "overlay",
              "size": 10,
              "solidity": 0.2
             }
            },
            "type": "histogram"
           }
          ],
          "histogram2d": [
           {
            "colorbar": {
             "outlinewidth": 0,
             "ticks": ""
            },
            "colorscale": [
             [
              0,
              "#0d0887"
             ],
             [
              0.1111111111111111,
              "#46039f"
             ],
             [
              0.2222222222222222,
              "#7201a8"
             ],
             [
              0.3333333333333333,
              "#9c179e"
             ],
             [
              0.4444444444444444,
              "#bd3786"
             ],
             [
              0.5555555555555556,
              "#d8576b"
             ],
             [
              0.6666666666666666,
              "#ed7953"
             ],
             [
              0.7777777777777778,
              "#fb9f3a"
             ],
             [
              0.8888888888888888,
              "#fdca26"
             ],
             [
              1,
              "#f0f921"
             ]
            ],
            "type": "histogram2d"
           }
          ],
          "histogram2dcontour": [
           {
            "colorbar": {
             "outlinewidth": 0,
             "ticks": ""
            },
            "colorscale": [
             [
              0,
              "#0d0887"
             ],
             [
              0.1111111111111111,
              "#46039f"
             ],
             [
              0.2222222222222222,
              "#7201a8"
             ],
             [
              0.3333333333333333,
              "#9c179e"
             ],
             [
              0.4444444444444444,
              "#bd3786"
             ],
             [
              0.5555555555555556,
              "#d8576b"
             ],
             [
              0.6666666666666666,
              "#ed7953"
             ],
             [
              0.7777777777777778,
              "#fb9f3a"
             ],
             [
              0.8888888888888888,
              "#fdca26"
             ],
             [
              1,
              "#f0f921"
             ]
            ],
            "type": "histogram2dcontour"
           }
          ],
          "mesh3d": [
           {
            "colorbar": {
             "outlinewidth": 0,
             "ticks": ""
            },
            "type": "mesh3d"
           }
          ],
          "parcoords": [
           {
            "line": {
             "colorbar": {
              "outlinewidth": 0,
              "ticks": ""
             }
            },
            "type": "parcoords"
           }
          ],
          "pie": [
           {
            "automargin": true,
            "type": "pie"
           }
          ],
          "scatter": [
           {
            "marker": {
             "colorbar": {
              "outlinewidth": 0,
              "ticks": ""
             }
            },
            "type": "scatter"
           }
          ],
          "scatter3d": [
           {
            "line": {
             "colorbar": {
              "outlinewidth": 0,
              "ticks": ""
             }
            },
            "marker": {
             "colorbar": {
              "outlinewidth": 0,
              "ticks": ""
             }
            },
            "type": "scatter3d"
           }
          ],
          "scattercarpet": [
           {
            "marker": {
             "colorbar": {
              "outlinewidth": 0,
              "ticks": ""
             }
            },
            "type": "scattercarpet"
           }
          ],
          "scattergeo": [
           {
            "marker": {
             "colorbar": {
              "outlinewidth": 0,
              "ticks": ""
             }
            },
            "type": "scattergeo"
           }
          ],
          "scattergl": [
           {
            "marker": {
             "colorbar": {
              "outlinewidth": 0,
              "ticks": ""
             }
            },
            "type": "scattergl"
           }
          ],
          "scattermapbox": [
           {
            "marker": {
             "colorbar": {
              "outlinewidth": 0,
              "ticks": ""
             }
            },
            "type": "scattermapbox"
           }
          ],
          "scatterpolar": [
           {
            "marker": {
             "colorbar": {
              "outlinewidth": 0,
              "ticks": ""
             }
            },
            "type": "scatterpolar"
           }
          ],
          "scatterpolargl": [
           {
            "marker": {
             "colorbar": {
              "outlinewidth": 0,
              "ticks": ""
             }
            },
            "type": "scatterpolargl"
           }
          ],
          "scatterternary": [
           {
            "marker": {
             "colorbar": {
              "outlinewidth": 0,
              "ticks": ""
             }
            },
            "type": "scatterternary"
           }
          ],
          "surface": [
           {
            "colorbar": {
             "outlinewidth": 0,
             "ticks": ""
            },
            "colorscale": [
             [
              0,
              "#0d0887"
             ],
             [
              0.1111111111111111,
              "#46039f"
             ],
             [
              0.2222222222222222,
              "#7201a8"
             ],
             [
              0.3333333333333333,
              "#9c179e"
             ],
             [
              0.4444444444444444,
              "#bd3786"
             ],
             [
              0.5555555555555556,
              "#d8576b"
             ],
             [
              0.6666666666666666,
              "#ed7953"
             ],
             [
              0.7777777777777778,
              "#fb9f3a"
             ],
             [
              0.8888888888888888,
              "#fdca26"
             ],
             [
              1,
              "#f0f921"
             ]
            ],
            "type": "surface"
           }
          ],
          "table": [
           {
            "cells": {
             "fill": {
              "color": "#EBF0F8"
             },
             "line": {
              "color": "white"
             }
            },
            "header": {
             "fill": {
              "color": "#C8D4E3"
             },
             "line": {
              "color": "white"
             }
            },
            "type": "table"
           }
          ]
         },
         "layout": {
          "annotationdefaults": {
           "arrowcolor": "#2a3f5f",
           "arrowhead": 0,
           "arrowwidth": 1
          },
          "autotypenumbers": "strict",
          "coloraxis": {
           "colorbar": {
            "outlinewidth": 0,
            "ticks": ""
           }
          },
          "colorscale": {
           "diverging": [
            [
             0,
             "#8e0152"
            ],
            [
             0.1,
             "#c51b7d"
            ],
            [
             0.2,
             "#de77ae"
            ],
            [
             0.3,
             "#f1b6da"
            ],
            [
             0.4,
             "#fde0ef"
            ],
            [
             0.5,
             "#f7f7f7"
            ],
            [
             0.6,
             "#e6f5d0"
            ],
            [
             0.7,
             "#b8e186"
            ],
            [
             0.8,
             "#7fbc41"
            ],
            [
             0.9,
             "#4d9221"
            ],
            [
             1,
             "#276419"
            ]
           ],
           "sequential": [
            [
             0,
             "#0d0887"
            ],
            [
             0.1111111111111111,
             "#46039f"
            ],
            [
             0.2222222222222222,
             "#7201a8"
            ],
            [
             0.3333333333333333,
             "#9c179e"
            ],
            [
             0.4444444444444444,
             "#bd3786"
            ],
            [
             0.5555555555555556,
             "#d8576b"
            ],
            [
             0.6666666666666666,
             "#ed7953"
            ],
            [
             0.7777777777777778,
             "#fb9f3a"
            ],
            [
             0.8888888888888888,
             "#fdca26"
            ],
            [
             1,
             "#f0f921"
            ]
           ],
           "sequentialminus": [
            [
             0,
             "#0d0887"
            ],
            [
             0.1111111111111111,
             "#46039f"
            ],
            [
             0.2222222222222222,
             "#7201a8"
            ],
            [
             0.3333333333333333,
             "#9c179e"
            ],
            [
             0.4444444444444444,
             "#bd3786"
            ],
            [
             0.5555555555555556,
             "#d8576b"
            ],
            [
             0.6666666666666666,
             "#ed7953"
            ],
            [
             0.7777777777777778,
             "#fb9f3a"
            ],
            [
             0.8888888888888888,
             "#fdca26"
            ],
            [
             1,
             "#f0f921"
            ]
           ]
          },
          "colorway": [
           "#636efa",
           "#EF553B",
           "#00cc96",
           "#ab63fa",
           "#FFA15A",
           "#19d3f3",
           "#FF6692",
           "#B6E880",
           "#FF97FF",
           "#FECB52"
          ],
          "font": {
           "color": "#2a3f5f"
          },
          "geo": {
           "bgcolor": "white",
           "lakecolor": "white",
           "landcolor": "#E5ECF6",
           "showlakes": true,
           "showland": true,
           "subunitcolor": "white"
          },
          "hoverlabel": {
           "align": "left"
          },
          "hovermode": "closest",
          "mapbox": {
           "style": "light"
          },
          "paper_bgcolor": "white",
          "plot_bgcolor": "#E5ECF6",
          "polar": {
           "angularaxis": {
            "gridcolor": "white",
            "linecolor": "white",
            "ticks": ""
           },
           "bgcolor": "#E5ECF6",
           "radialaxis": {
            "gridcolor": "white",
            "linecolor": "white",
            "ticks": ""
           }
          },
          "scene": {
           "xaxis": {
            "backgroundcolor": "#E5ECF6",
            "gridcolor": "white",
            "gridwidth": 2,
            "linecolor": "white",
            "showbackground": true,
            "ticks": "",
            "zerolinecolor": "white"
           },
           "yaxis": {
            "backgroundcolor": "#E5ECF6",
            "gridcolor": "white",
            "gridwidth": 2,
            "linecolor": "white",
            "showbackground": true,
            "ticks": "",
            "zerolinecolor": "white"
           },
           "zaxis": {
            "backgroundcolor": "#E5ECF6",
            "gridcolor": "white",
            "gridwidth": 2,
            "linecolor": "white",
            "showbackground": true,
            "ticks": "",
            "zerolinecolor": "white"
           }
          },
          "shapedefaults": {
           "line": {
            "color": "#2a3f5f"
           }
          },
          "ternary": {
           "aaxis": {
            "gridcolor": "white",
            "linecolor": "white",
            "ticks": ""
           },
           "baxis": {
            "gridcolor": "white",
            "linecolor": "white",
            "ticks": ""
           },
           "bgcolor": "#E5ECF6",
           "caxis": {
            "gridcolor": "white",
            "linecolor": "white",
            "ticks": ""
           }
          },
          "title": {
           "x": 0.05
          },
          "xaxis": {
           "automargin": true,
           "gridcolor": "white",
           "linecolor": "white",
           "ticks": "",
           "title": {
            "standoff": 15
           },
           "zerolinecolor": "white",
           "zerolinewidth": 2
          },
          "yaxis": {
           "automargin": true,
           "gridcolor": "white",
           "linecolor": "white",
           "ticks": "",
           "title": {
            "standoff": 15
           },
           "zerolinecolor": "white",
           "zerolinewidth": 2
          }
         }
        }
       }
      },
      "text/html": [
       "<div>                            <div id=\"10ee05f9-59b4-4aa3-a1b2-6c2e0fa5c6bb\" class=\"plotly-graph-div\" style=\"height:525px; width:100%;\"></div>            <script type=\"text/javascript\">                require([\"plotly\"], function(Plotly) {                    window.PLOTLYENV=window.PLOTLYENV || {};                                    if (document.getElementById(\"10ee05f9-59b4-4aa3-a1b2-6c2e0fa5c6bb\")) {                    Plotly.newPlot(                        \"10ee05f9-59b4-4aa3-a1b2-6c2e0fa5c6bb\",                        [{\"hovertemplate\":\"Species=Setosa<br>PC1=%{x}<br>PC2=%{y}<br>PC3=%{z}<extra></extra>\",\"legendgroup\":\"Setosa\",\"marker\":{\"color\":\"#636efa\",\"symbol\":\"circle\"},\"mode\":\"markers\",\"name\":\"Setosa\",\"scene\":\"scene\",\"showlegend\":true,\"x\":[-2.264702808807587,-2.080961151965766,-2.3642290538902992,-2.2993842170427063,-2.3898421663138425,-2.07563094817651,-2.4440288351341506,-2.232847158872013,-2.3346404779076195,-2.1843281749339405,-2.1663101007013204,-2.3261308664426967,-2.2184508988224074,-2.633100695765226,-2.198740603266688,-2.2622145316010194,-2.20758769582459,-2.1903495091922967,-1.8985719958028402,-2.3433690530749907,-1.914322996082566,-2.2070128431947964,-2.77434470292733,-1.8186695286958476,-2.227163305706637,-1.9518463309003744,-2.0511513727294135,-2.1685771746542146,-2.1395634513013295,-2.265261493154239,-2.1401221356479825,-1.831594770676027,-2.6149479358589325,-2.4461773916965126,-2.1099748753186507,-2.207808899078264,-2.0451462067541994,-2.5273319131704843,-2.429632575084544,-2.1697107116306618,-2.286475143345668,-1.85812245637357,-2.553638395614354,-1.9644476837637388,-2.1370590058116212,-2.0697442995918283,-2.3847331657782607,-2.394376314219631,-2.229446547942673,-2.2038334355191282],\"y\":[0.48002659652098917,-0.6741335566053525,-0.34190802388467595,-0.5973945076746751,0.6468353829020268,1.4891775233211662,0.047644197630014484,0.22314807268959186,-1.1153276754616657,-0.46901356140237543,1.0436906530538592,0.13307833523923185,-0.7286761653165703,-0.9615067291701623,1.86005711329393,2.686284485110591,1.483609363155572,0.48883831648632753,1.4050187944665484,1.1278493819084754,0.40885570775590613,0.9241214267468981,0.45834366775291535,0.08555852628736615,0.1372544553634275,-0.6256185877766762,0.24216355266166717,0.5271495253082672,0.31321781013995187,-0.3377319037604803,-0.5045406901415179,0.4236950676037857,1.793575856104428,2.150727877392923,-0.4602018414370371,-0.20610739768843678,0.6615581114631078,0.5922927741908093,-0.9041800403761474,0.26887896143547085,0.44171538769905,-2.3374151575533473,-0.47910069012231365,0.47232666771926074,1.1422292620394083,-0.7110527253858936,1.1204297019845357,-0.38624687258915685,0.9979597643079798,0.009216357521276308],\"z\":[-0.1277060223001521,-0.23460885398456743,0.0442014848387442,0.09129010632068257,0.015738195676259115,0.026968294439782187,0.3354704011431143,-0.08869549794772602,0.14507686363700034,-0.2537655673000062,-0.2686811022161343,0.09375924438111205,-0.23091123720660245,0.1807960844031795,-0.4729009978730765,0.030526609265511116,-0.0053440940782637225,-0.044215316478453504,-0.3743432745576544,0.13263046678130258,-0.42129259408735625,0.1598652772262532,0.3321790975568665,0.03448859579998159,0.11799353576964644,-0.30564098232520753,0.08636401082518264,-0.20681624777030433,-0.27115024027656404,0.0684357762272787,-0.07500844174913268,-0.27046737670298204,0.04722841866848648,-0.08266804506156751,-0.17027486147830773,-0.2254415800897568,-0.4845374098283169,0.019435812454223544,0.19325466188423712,-0.17588382054738888,0.03489490899169778,-0.20423422253096524,0.3057664526377337,0.309601317845328,0.24843356112104717,-0.06392982556320537,0.057217858089115614,0.13946790456791947,-0.18149277961647065,-0.15302949045398584],\"type\":\"scatter3d\"},{\"hovertemplate\":\"Species=Versicolor<br>PC1=%{x}<br>PC2=%{y}<br>PC3=%{z}<extra></extra>\",\"legendgroup\":\"Versicolor\",\"marker\":{\"color\":\"#EF553B\",\"symbol\":\"circle\"},\"mode\":\"markers\",\"name\":\"Versicolor\",\"scene\":\"scene\",\"showlegend\":true,\"x\":[1.1017811830529476,0.7313374253960874,1.240979319515831,0.407483058817385,1.075474700609078,0.388687336535665,0.7465297413291607,-0.48732274212563925,0.9279016383549451,0.01142618873698048,-0.11019628000062887,0.4406934489830784,0.5621083064431787,0.7195618886754963,-0.033354703178771955,0.8754071908577374,0.3502516679950828,0.1588100475479714,1.2250936335624312,0.16491789938632734,0.7376826487712582,0.47628719094097133,1.2341780976571486,0.6328581997098216,0.7026611831361822,0.8742736538812901,1.2565091165418831,1.3584051214406316,0.6648003672253946,-0.04025861090059524,0.13079517549786063,0.02345268897055086,0.241538272954511,1.0610946088426136,0.22397877351237988,0.4291391155161609,1.0487280512090873,1.0445313843962787,0.06958832111642317,0.28347723828757543,0.27907777605546097,0.6245697914985714,0.3365303701314358,-0.3621833846193829,0.2885862388231574,0.09136065565450562,0.22771686553470022,0.5763882886534786,-0.4476670190286113,0.25673058888758477],\"y\":[0.8629724182621583,0.5946147256694243,0.6162976544374981,-1.7544039893234096,-0.2084210460509654,-0.5932836359900747,0.7730193120985963,-1.8524290868575732,0.03222607789115367,-1.03401827512944,-2.654072818536563,-0.06329518843800136,-1.7647243806169446,-0.18622460583150566,-0.43900320998162445,0.5090639567734083,-0.1963117345514438,-0.792095742432721,-1.6222438030915012,-1.3026092302957721,0.3965715619602389,-0.41732028121355075,-0.933325728799278,-0.41638772088909914,-0.06341181972480014,0.25079339290061187,-0.07725601969586904,0.33131168179089787,-0.22592785469484344,-1.0587185465539084,-1.5622718342099668,-1.5724755942167037,-0.7772563825848413,-0.6338432447349465,-0.28777351204320195,0.8455822409050785,0.5220517968629423,-1.3829887191907813,-0.21950333464771477,-1.3293246390695757,-1.1200285237424032,0.02492302925401267,-0.9884040176703597,-2.019237873238611,-0.8557303199870658,-0.1811921258257751,-0.3849200809873536,-0.15487359721655877,-1.5437920343977554,-0.598851796155669],\"z\":[-0.6845861626897373,-0.09412171552908238,-0.5540068353861012,-0.02310176781380191,-0.39825552250622714,0.12419154951817021,0.14896940252805108,0.24926526578924946,-0.5961693613725388,0.538899390184368,-0.046790444058383396,0.20507381532720287,-0.765771393653962,-0.06865894542301264,0.19493289332897895,-0.5035113816560304,0.4908730745147276,-0.3020371744413825,-0.4823040240972383,-0.17283780843287672,0.6165263063228641,-0.2649522265280397,-0.36841227204861066,-0.291896252443158,-0.44602700756174735,-0.47257895443311493,-0.7271550018678924,-0.2608265767906141,0.08586388873932603,-0.3195733299955368,-0.14998347833947362,-0.24155228129068373,-0.1512119570570083,0.10531138658459716,0.6652497197140536,0.4506340714447661,-0.39578638444579733,-0.6882959600930618,0.2915792743532846,0.08941002293969477,0.09448760101279036,-0.020481147175775816,-0.1993897553042452,0.10582104781283808,0.1308896853525515,0.12897834306143374,0.15621315350638407,-0.2716503623624206,0.19040093039983624,0.09187916100012428],\"type\":\"scatter3d\"},{\"hovertemplate\":\"Species=Virginica<br>PC1=%{x}<br>PC2=%{y}<br>PC3=%{z}<extra></extra>\",\"legendgroup\":\"Virginica\",\"marker\":{\"color\":\"#00cc96\",\"symbol\":\"circle\"},\"mode\":\"markers\",\"name\":\"Virginica\",\"scene\":\"scene\",\"showlegend\":true,\"x\":[1.8445688677230287,1.1578816132057794,2.2052667910753776,1.4401506638275392,1.8678122203305372,2.751873335666276,0.36701768786072453,2.3024394446251963,2.006686467676605,2.2597773490125,1.3641754921860074,1.6026786704779301,1.8839007017032423,1.2601150991975074,1.4676452010173235,1.5900773176145653,1.4714314611333177,2.4263289873157,3.310695583933886,1.2637666736398276,2.037716301469404,0.9779807342494213,2.8976514907341677,1.3332321759732082,1.700733897491217,1.9543267058530704,1.1751036315549324,1.0209505506957908,1.788349920179665,1.8636475533282604,2.4359537279227026,2.3049277218317643,1.8627032197949551,1.1141477406864744,1.2024733016783904,2.7987704475781072,1.576255910194754,1.3462921036270616,0.9248249165424192,1.8520450517676696,2.014810429954875,1.9017840902621888,1.1578816132057794,2.040558228052092,1.9981470959523757,1.87050329295641,1.5645804830303276,1.5211704996278375,1.3727877895140728,0.9606560300371276],\"y\":[0.870421312324823,-0.6988698623306899,0.5620104770083553,-0.046987588105806444,0.2950448244570196,0.8004092010275415,-1.5615028914765048,0.42006557964277613,-0.7114386535471586,1.9210103764598856,0.6927564544903866,-0.42170044977261706,0.41924965060512326,-1.162260421406463,-0.44227158737708205,0.6762448057233199,0.2556218244714704,2.556661250795491,0.017780949320626682,-1.7067453803762669,0.9104674096183104,-0.5717643248129913,0.4136410595956474,-0.48181121864942916,1.013921867322791,1.0077775961534519,-0.3163944723097908,0.06434602923956188,-0.18736121459082855,0.5622907258861443,0.2592844331442799,2.626323468232377,-0.17854949462549013,-0.29292262333573116,-0.8113152708396684,0.8568033294971048,1.0685811073208074,0.4224306108525082,0.017223100452284243,0.6761281744365212,0.6138856369235748,0.6895754942430022,-0.6988698623306899,0.867520600955228,1.0491687471841447,0.3869660816657253,-0.896686808896526,0.26906914427795153,1.0112544185267927,-0.024331668169399183],\"z\":[1.0054010176069874,0.5301601492490194,-0.20291416973686893,0.1636301068300584,0.39562837455329747,-0.5823091028286049,0.9868932674720257,-0.6517064392599938,-0.39399057081656497,0.39755189746977415,0.2846120737568164,0.02318640791006238,0.026338409544074737,0.5802492897873728,1.0038695737342604,0.6384287080805978,0.03743125987796858,-0.12788145946307217,-0.70330530390333,-0.26753689325035435,0.23479948360032743,0.8281272013877699,-0.8574218248739521,-0.005428363830018212,0.2984506125330053,-0.41998472191862035,0.1299377570168813,0.33771596749955307,0.2706580063187422,-0.715634118574537,-0.7278161456737302,-0.4934738076943308,0.3541487121404408,-0.18348839165934305,-0.16472375738765405,-0.542906499432429,0.945853818643991,0.1808754778543798,0.4168261929697045,-0.012672114808352175,0.42833284211509315,0.1300750054465103,0.5301601492490194,0.33814400045901416,0.6324134358197996,0.2562738523986001,-0.026371351632304918,0.18017838013283133,0.9333952411629326,0.5282488069579019],\"type\":\"scatter3d\"}],                        {\"template\":{\"data\":{\"bar\":[{\"error_x\":{\"color\":\"#2a3f5f\"},\"error_y\":{\"color\":\"#2a3f5f\"},\"marker\":{\"line\":{\"color\":\"#E5ECF6\",\"width\":0.5},\"pattern\":{\"fillmode\":\"overlay\",\"size\":10,\"solidity\":0.2}},\"type\":\"bar\"}],\"barpolar\":[{\"marker\":{\"line\":{\"color\":\"#E5ECF6\",\"width\":0.5},\"pattern\":{\"fillmode\":\"overlay\",\"size\":10,\"solidity\":0.2}},\"type\":\"barpolar\"}],\"carpet\":[{\"aaxis\":{\"endlinecolor\":\"#2a3f5f\",\"gridcolor\":\"white\",\"linecolor\":\"white\",\"minorgridcolor\":\"white\",\"startlinecolor\":\"#2a3f5f\"},\"baxis\":{\"endlinecolor\":\"#2a3f5f\",\"gridcolor\":\"white\",\"linecolor\":\"white\",\"minorgridcolor\":\"white\",\"startlinecolor\":\"#2a3f5f\"},\"type\":\"carpet\"}],\"choropleth\":[{\"colorbar\":{\"outlinewidth\":0,\"ticks\":\"\"},\"type\":\"choropleth\"}],\"contour\":[{\"colorbar\":{\"outlinewidth\":0,\"ticks\":\"\"},\"colorscale\":[[0.0,\"#0d0887\"],[0.1111111111111111,\"#46039f\"],[0.2222222222222222,\"#7201a8\"],[0.3333333333333333,\"#9c179e\"],[0.4444444444444444,\"#bd3786\"],[0.5555555555555556,\"#d8576b\"],[0.6666666666666666,\"#ed7953\"],[0.7777777777777778,\"#fb9f3a\"],[0.8888888888888888,\"#fdca26\"],[1.0,\"#f0f921\"]],\"type\":\"contour\"}],\"contourcarpet\":[{\"colorbar\":{\"outlinewidth\":0,\"ticks\":\"\"},\"type\":\"contourcarpet\"}],\"heatmap\":[{\"colorbar\":{\"outlinewidth\":0,\"ticks\":\"\"},\"colorscale\":[[0.0,\"#0d0887\"],[0.1111111111111111,\"#46039f\"],[0.2222222222222222,\"#7201a8\"],[0.3333333333333333,\"#9c179e\"],[0.4444444444444444,\"#bd3786\"],[0.5555555555555556,\"#d8576b\"],[0.6666666666666666,\"#ed7953\"],[0.7777777777777778,\"#fb9f3a\"],[0.8888888888888888,\"#fdca26\"],[1.0,\"#f0f921\"]],\"type\":\"heatmap\"}],\"heatmapgl\":[{\"colorbar\":{\"outlinewidth\":0,\"ticks\":\"\"},\"colorscale\":[[0.0,\"#0d0887\"],[0.1111111111111111,\"#46039f\"],[0.2222222222222222,\"#7201a8\"],[0.3333333333333333,\"#9c179e\"],[0.4444444444444444,\"#bd3786\"],[0.5555555555555556,\"#d8576b\"],[0.6666666666666666,\"#ed7953\"],[0.7777777777777778,\"#fb9f3a\"],[0.8888888888888888,\"#fdca26\"],[1.0,\"#f0f921\"]],\"type\":\"heatmapgl\"}],\"histogram\":[{\"marker\":{\"pattern\":{\"fillmode\":\"overlay\",\"size\":10,\"solidity\":0.2}},\"type\":\"histogram\"}],\"histogram2d\":[{\"colorbar\":{\"outlinewidth\":0,\"ticks\":\"\"},\"colorscale\":[[0.0,\"#0d0887\"],[0.1111111111111111,\"#46039f\"],[0.2222222222222222,\"#7201a8\"],[0.3333333333333333,\"#9c179e\"],[0.4444444444444444,\"#bd3786\"],[0.5555555555555556,\"#d8576b\"],[0.6666666666666666,\"#ed7953\"],[0.7777777777777778,\"#fb9f3a\"],[0.8888888888888888,\"#fdca26\"],[1.0,\"#f0f921\"]],\"type\":\"histogram2d\"}],\"histogram2dcontour\":[{\"colorbar\":{\"outlinewidth\":0,\"ticks\":\"\"},\"colorscale\":[[0.0,\"#0d0887\"],[0.1111111111111111,\"#46039f\"],[0.2222222222222222,\"#7201a8\"],[0.3333333333333333,\"#9c179e\"],[0.4444444444444444,\"#bd3786\"],[0.5555555555555556,\"#d8576b\"],[0.6666666666666666,\"#ed7953\"],[0.7777777777777778,\"#fb9f3a\"],[0.8888888888888888,\"#fdca26\"],[1.0,\"#f0f921\"]],\"type\":\"histogram2dcontour\"}],\"mesh3d\":[{\"colorbar\":{\"outlinewidth\":0,\"ticks\":\"\"},\"type\":\"mesh3d\"}],\"parcoords\":[{\"line\":{\"colorbar\":{\"outlinewidth\":0,\"ticks\":\"\"}},\"type\":\"parcoords\"}],\"pie\":[{\"automargin\":true,\"type\":\"pie\"}],\"scatter\":[{\"marker\":{\"colorbar\":{\"outlinewidth\":0,\"ticks\":\"\"}},\"type\":\"scatter\"}],\"scatter3d\":[{\"line\":{\"colorbar\":{\"outlinewidth\":0,\"ticks\":\"\"}},\"marker\":{\"colorbar\":{\"outlinewidth\":0,\"ticks\":\"\"}},\"type\":\"scatter3d\"}],\"scattercarpet\":[{\"marker\":{\"colorbar\":{\"outlinewidth\":0,\"ticks\":\"\"}},\"type\":\"scattercarpet\"}],\"scattergeo\":[{\"marker\":{\"colorbar\":{\"outlinewidth\":0,\"ticks\":\"\"}},\"type\":\"scattergeo\"}],\"scattergl\":[{\"marker\":{\"colorbar\":{\"outlinewidth\":0,\"ticks\":\"\"}},\"type\":\"scattergl\"}],\"scattermapbox\":[{\"marker\":{\"colorbar\":{\"outlinewidth\":0,\"ticks\":\"\"}},\"type\":\"scattermapbox\"}],\"scatterpolar\":[{\"marker\":{\"colorbar\":{\"outlinewidth\":0,\"ticks\":\"\"}},\"type\":\"scatterpolar\"}],\"scatterpolargl\":[{\"marker\":{\"colorbar\":{\"outlinewidth\":0,\"ticks\":\"\"}},\"type\":\"scatterpolargl\"}],\"scatterternary\":[{\"marker\":{\"colorbar\":{\"outlinewidth\":0,\"ticks\":\"\"}},\"type\":\"scatterternary\"}],\"surface\":[{\"colorbar\":{\"outlinewidth\":0,\"ticks\":\"\"},\"colorscale\":[[0.0,\"#0d0887\"],[0.1111111111111111,\"#46039f\"],[0.2222222222222222,\"#7201a8\"],[0.3333333333333333,\"#9c179e\"],[0.4444444444444444,\"#bd3786\"],[0.5555555555555556,\"#d8576b\"],[0.6666666666666666,\"#ed7953\"],[0.7777777777777778,\"#fb9f3a\"],[0.8888888888888888,\"#fdca26\"],[1.0,\"#f0f921\"]],\"type\":\"surface\"}],\"table\":[{\"cells\":{\"fill\":{\"color\":\"#EBF0F8\"},\"line\":{\"color\":\"white\"}},\"header\":{\"fill\":{\"color\":\"#C8D4E3\"},\"line\":{\"color\":\"white\"}},\"type\":\"table\"}]},\"layout\":{\"annotationdefaults\":{\"arrowcolor\":\"#2a3f5f\",\"arrowhead\":0,\"arrowwidth\":1},\"autotypenumbers\":\"strict\",\"coloraxis\":{\"colorbar\":{\"outlinewidth\":0,\"ticks\":\"\"}},\"colorscale\":{\"diverging\":[[0,\"#8e0152\"],[0.1,\"#c51b7d\"],[0.2,\"#de77ae\"],[0.3,\"#f1b6da\"],[0.4,\"#fde0ef\"],[0.5,\"#f7f7f7\"],[0.6,\"#e6f5d0\"],[0.7,\"#b8e186\"],[0.8,\"#7fbc41\"],[0.9,\"#4d9221\"],[1,\"#276419\"]],\"sequential\":[[0.0,\"#0d0887\"],[0.1111111111111111,\"#46039f\"],[0.2222222222222222,\"#7201a8\"],[0.3333333333333333,\"#9c179e\"],[0.4444444444444444,\"#bd3786\"],[0.5555555555555556,\"#d8576b\"],[0.6666666666666666,\"#ed7953\"],[0.7777777777777778,\"#fb9f3a\"],[0.8888888888888888,\"#fdca26\"],[1.0,\"#f0f921\"]],\"sequentialminus\":[[0.0,\"#0d0887\"],[0.1111111111111111,\"#46039f\"],[0.2222222222222222,\"#7201a8\"],[0.3333333333333333,\"#9c179e\"],[0.4444444444444444,\"#bd3786\"],[0.5555555555555556,\"#d8576b\"],[0.6666666666666666,\"#ed7953\"],[0.7777777777777778,\"#fb9f3a\"],[0.8888888888888888,\"#fdca26\"],[1.0,\"#f0f921\"]]},\"colorway\":[\"#636efa\",\"#EF553B\",\"#00cc96\",\"#ab63fa\",\"#FFA15A\",\"#19d3f3\",\"#FF6692\",\"#B6E880\",\"#FF97FF\",\"#FECB52\"],\"font\":{\"color\":\"#2a3f5f\"},\"geo\":{\"bgcolor\":\"white\",\"lakecolor\":\"white\",\"landcolor\":\"#E5ECF6\",\"showlakes\":true,\"showland\":true,\"subunitcolor\":\"white\"},\"hoverlabel\":{\"align\":\"left\"},\"hovermode\":\"closest\",\"mapbox\":{\"style\":\"light\"},\"paper_bgcolor\":\"white\",\"plot_bgcolor\":\"#E5ECF6\",\"polar\":{\"angularaxis\":{\"gridcolor\":\"white\",\"linecolor\":\"white\",\"ticks\":\"\"},\"bgcolor\":\"#E5ECF6\",\"radialaxis\":{\"gridcolor\":\"white\",\"linecolor\":\"white\",\"ticks\":\"\"}},\"scene\":{\"xaxis\":{\"backgroundcolor\":\"#E5ECF6\",\"gridcolor\":\"white\",\"gridwidth\":2,\"linecolor\":\"white\",\"showbackground\":true,\"ticks\":\"\",\"zerolinecolor\":\"white\"},\"yaxis\":{\"backgroundcolor\":\"#E5ECF6\",\"gridcolor\":\"white\",\"gridwidth\":2,\"linecolor\":\"white\",\"showbackground\":true,\"ticks\":\"\",\"zerolinecolor\":\"white\"},\"zaxis\":{\"backgroundcolor\":\"#E5ECF6\",\"gridcolor\":\"white\",\"gridwidth\":2,\"linecolor\":\"white\",\"showbackground\":true,\"ticks\":\"\",\"zerolinecolor\":\"white\"}},\"shapedefaults\":{\"line\":{\"color\":\"#2a3f5f\"}},\"ternary\":{\"aaxis\":{\"gridcolor\":\"white\",\"linecolor\":\"white\",\"ticks\":\"\"},\"baxis\":{\"gridcolor\":\"white\",\"linecolor\":\"white\",\"ticks\":\"\"},\"bgcolor\":\"#E5ECF6\",\"caxis\":{\"gridcolor\":\"white\",\"linecolor\":\"white\",\"ticks\":\"\"}},\"title\":{\"x\":0.05},\"xaxis\":{\"automargin\":true,\"gridcolor\":\"white\",\"linecolor\":\"white\",\"ticks\":\"\",\"title\":{\"standoff\":15},\"zerolinecolor\":\"white\",\"zerolinewidth\":2},\"yaxis\":{\"automargin\":true,\"gridcolor\":\"white\",\"linecolor\":\"white\",\"ticks\":\"\",\"title\":{\"standoff\":15},\"zerolinecolor\":\"white\",\"zerolinewidth\":2}}},\"scene\":{\"domain\":{\"x\":[0.0,1.0],\"y\":[0.0,1.0]},\"xaxis\":{\"title\":{\"text\":\"PC1\"}},\"yaxis\":{\"title\":{\"text\":\"PC2\"}},\"zaxis\":{\"title\":{\"text\":\"PC3\"}}},\"legend\":{\"title\":{\"text\":\"Species\"},\"tracegroupgap\":0},\"margin\":{\"t\":60}},                        {\"responsive\": true}                    ).then(function(){\n",
       "                            \n",
       "var gd = document.getElementById('10ee05f9-59b4-4aa3-a1b2-6c2e0fa5c6bb');\n",
       "var x = new MutationObserver(function (mutations, observer) {{\n",
       "        var display = window.getComputedStyle(gd).display;\n",
       "        if (!display || display === 'none') {{\n",
       "            console.log([gd, 'removed!']);\n",
       "            Plotly.purge(gd);\n",
       "            observer.disconnect();\n",
       "        }}\n",
       "}});\n",
       "\n",
       "// Listen for the removal of the full notebook cells\n",
       "var notebookContainer = gd.closest('#notebook-container');\n",
       "if (notebookContainer) {{\n",
       "    x.observe(notebookContainer, {childList: true});\n",
       "}}\n",
       "\n",
       "// Listen for the clearing of the current output cell\n",
       "var outputEl = gd.closest('.output');\n",
       "if (outputEl) {{\n",
       "    x.observe(outputEl, {childList: true});\n",
       "}}\n",
       "\n",
       "                        })                };                });            </script>        </div>"
      ]
     },
     "metadata": {},
     "output_type": "display_data"
    }
   ],
   "source": [
    "fig = px.scatter_3d(df_scores, x='PC1', y='PC2', z='PC3',\n",
    "              color='Species')\n",
    "\n",
    "fig.show()"
   ]
  },
  {
   "cell_type": "markdown",
   "metadata": {
    "colab_type": "text",
    "id": "3U22Q0PYXKp3"
   },
   "source": [
    "### 4.3. Customized 3D Scatter Plot"
   ]
  },
  {
   "cell_type": "code",
   "execution_count": 105,
   "metadata": {
    "colab": {
     "base_uri": "https://localhost:8080/",
     "height": 542
    },
    "colab_type": "code",
    "id": "LL_cAqrIUcOv",
    "outputId": "66fe6f44-81e6-4444-d75f-651c61bc214f"
   },
   "outputs": [
    {
     "data": {
      "application/vnd.plotly.v1+json": {
       "config": {
        "plotlyServerURL": "https://plot.ly"
       },
       "data": [
        {
         "hovertemplate": "Species=Setosa<br>PC1=%{x}<br>PC2=%{y}<br>PC3=%{z}<extra></extra>",
         "legendgroup": "Setosa",
         "marker": {
          "color": "#636efa",
          "opacity": 0.5,
          "symbol": "circle"
         },
         "mode": "markers",
         "name": "Setosa",
         "scene": "scene",
         "showlegend": true,
         "type": "scatter3d",
         "x": [
          -2.264702808807587,
          -2.080961151965766,
          -2.3642290538902992,
          -2.2993842170427063,
          -2.3898421663138425,
          -2.07563094817651,
          -2.4440288351341506,
          -2.232847158872013,
          -2.3346404779076195,
          -2.1843281749339405,
          -2.1663101007013204,
          -2.3261308664426967,
          -2.2184508988224074,
          -2.633100695765226,
          -2.198740603266688,
          -2.2622145316010194,
          -2.20758769582459,
          -2.1903495091922967,
          -1.8985719958028402,
          -2.3433690530749907,
          -1.914322996082566,
          -2.2070128431947964,
          -2.77434470292733,
          -1.8186695286958476,
          -2.227163305706637,
          -1.9518463309003744,
          -2.0511513727294135,
          -2.1685771746542146,
          -2.1395634513013295,
          -2.265261493154239,
          -2.1401221356479825,
          -1.831594770676027,
          -2.6149479358589325,
          -2.4461773916965126,
          -2.1099748753186507,
          -2.207808899078264,
          -2.0451462067541994,
          -2.5273319131704843,
          -2.429632575084544,
          -2.1697107116306618,
          -2.286475143345668,
          -1.85812245637357,
          -2.553638395614354,
          -1.9644476837637388,
          -2.1370590058116212,
          -2.0697442995918283,
          -2.3847331657782607,
          -2.394376314219631,
          -2.229446547942673,
          -2.2038334355191282
         ],
         "y": [
          0.48002659652098917,
          -0.6741335566053525,
          -0.34190802388467595,
          -0.5973945076746751,
          0.6468353829020268,
          1.4891775233211662,
          0.047644197630014484,
          0.22314807268959186,
          -1.1153276754616657,
          -0.46901356140237543,
          1.0436906530538592,
          0.13307833523923185,
          -0.7286761653165703,
          -0.9615067291701623,
          1.86005711329393,
          2.686284485110591,
          1.483609363155572,
          0.48883831648632753,
          1.4050187944665484,
          1.1278493819084754,
          0.40885570775590613,
          0.9241214267468981,
          0.45834366775291535,
          0.08555852628736615,
          0.1372544553634275,
          -0.6256185877766762,
          0.24216355266166717,
          0.5271495253082672,
          0.31321781013995187,
          -0.3377319037604803,
          -0.5045406901415179,
          0.4236950676037857,
          1.793575856104428,
          2.150727877392923,
          -0.4602018414370371,
          -0.20610739768843678,
          0.6615581114631078,
          0.5922927741908093,
          -0.9041800403761474,
          0.26887896143547085,
          0.44171538769905,
          -2.3374151575533473,
          -0.47910069012231365,
          0.47232666771926074,
          1.1422292620394083,
          -0.7110527253858936,
          1.1204297019845357,
          -0.38624687258915685,
          0.9979597643079798,
          0.009216357521276308
         ],
         "z": [
          -0.1277060223001521,
          -0.23460885398456743,
          0.0442014848387442,
          0.09129010632068257,
          0.015738195676259115,
          0.026968294439782187,
          0.3354704011431143,
          -0.08869549794772602,
          0.14507686363700034,
          -0.2537655673000062,
          -0.2686811022161343,
          0.09375924438111205,
          -0.23091123720660245,
          0.1807960844031795,
          -0.4729009978730765,
          0.030526609265511116,
          -0.0053440940782637225,
          -0.044215316478453504,
          -0.3743432745576544,
          0.13263046678130258,
          -0.42129259408735625,
          0.1598652772262532,
          0.3321790975568665,
          0.03448859579998159,
          0.11799353576964644,
          -0.30564098232520753,
          0.08636401082518264,
          -0.20681624777030433,
          -0.27115024027656404,
          0.0684357762272787,
          -0.07500844174913268,
          -0.27046737670298204,
          0.04722841866848648,
          -0.08266804506156751,
          -0.17027486147830773,
          -0.2254415800897568,
          -0.4845374098283169,
          0.019435812454223544,
          0.19325466188423712,
          -0.17588382054738888,
          0.03489490899169778,
          -0.20423422253096524,
          0.3057664526377337,
          0.309601317845328,
          0.24843356112104717,
          -0.06392982556320537,
          0.057217858089115614,
          0.13946790456791947,
          -0.18149277961647065,
          -0.15302949045398584
         ]
        },
        {
         "hovertemplate": "Species=Versicolor<br>PC1=%{x}<br>PC2=%{y}<br>PC3=%{z}<extra></extra>",
         "legendgroup": "Versicolor",
         "marker": {
          "color": "#EF553B",
          "opacity": 0.5,
          "symbol": "diamond"
         },
         "mode": "markers",
         "name": "Versicolor",
         "scene": "scene",
         "showlegend": true,
         "type": "scatter3d",
         "x": [
          1.1017811830529476,
          0.7313374253960874,
          1.240979319515831,
          0.407483058817385,
          1.075474700609078,
          0.388687336535665,
          0.7465297413291607,
          -0.48732274212563925,
          0.9279016383549451,
          0.01142618873698048,
          -0.11019628000062887,
          0.4406934489830784,
          0.5621083064431787,
          0.7195618886754963,
          -0.033354703178771955,
          0.8754071908577374,
          0.3502516679950828,
          0.1588100475479714,
          1.2250936335624312,
          0.16491789938632734,
          0.7376826487712582,
          0.47628719094097133,
          1.2341780976571486,
          0.6328581997098216,
          0.7026611831361822,
          0.8742736538812901,
          1.2565091165418831,
          1.3584051214406316,
          0.6648003672253946,
          -0.04025861090059524,
          0.13079517549786063,
          0.02345268897055086,
          0.241538272954511,
          1.0610946088426136,
          0.22397877351237988,
          0.4291391155161609,
          1.0487280512090873,
          1.0445313843962787,
          0.06958832111642317,
          0.28347723828757543,
          0.27907777605546097,
          0.6245697914985714,
          0.3365303701314358,
          -0.3621833846193829,
          0.2885862388231574,
          0.09136065565450562,
          0.22771686553470022,
          0.5763882886534786,
          -0.4476670190286113,
          0.25673058888758477
         ],
         "y": [
          0.8629724182621583,
          0.5946147256694243,
          0.6162976544374981,
          -1.7544039893234096,
          -0.2084210460509654,
          -0.5932836359900747,
          0.7730193120985963,
          -1.8524290868575732,
          0.03222607789115367,
          -1.03401827512944,
          -2.654072818536563,
          -0.06329518843800136,
          -1.7647243806169446,
          -0.18622460583150566,
          -0.43900320998162445,
          0.5090639567734083,
          -0.1963117345514438,
          -0.792095742432721,
          -1.6222438030915012,
          -1.3026092302957721,
          0.3965715619602389,
          -0.41732028121355075,
          -0.933325728799278,
          -0.41638772088909914,
          -0.06341181972480014,
          0.25079339290061187,
          -0.07725601969586904,
          0.33131168179089787,
          -0.22592785469484344,
          -1.0587185465539084,
          -1.5622718342099668,
          -1.5724755942167037,
          -0.7772563825848413,
          -0.6338432447349465,
          -0.28777351204320195,
          0.8455822409050785,
          0.5220517968629423,
          -1.3829887191907813,
          -0.21950333464771477,
          -1.3293246390695757,
          -1.1200285237424032,
          0.02492302925401267,
          -0.9884040176703597,
          -2.019237873238611,
          -0.8557303199870658,
          -0.1811921258257751,
          -0.3849200809873536,
          -0.15487359721655877,
          -1.5437920343977554,
          -0.598851796155669
         ],
         "z": [
          -0.6845861626897373,
          -0.09412171552908238,
          -0.5540068353861012,
          -0.02310176781380191,
          -0.39825552250622714,
          0.12419154951817021,
          0.14896940252805108,
          0.24926526578924946,
          -0.5961693613725388,
          0.538899390184368,
          -0.046790444058383396,
          0.20507381532720287,
          -0.765771393653962,
          -0.06865894542301264,
          0.19493289332897895,
          -0.5035113816560304,
          0.4908730745147276,
          -0.3020371744413825,
          -0.4823040240972383,
          -0.17283780843287672,
          0.6165263063228641,
          -0.2649522265280397,
          -0.36841227204861066,
          -0.291896252443158,
          -0.44602700756174735,
          -0.47257895443311493,
          -0.7271550018678924,
          -0.2608265767906141,
          0.08586388873932603,
          -0.3195733299955368,
          -0.14998347833947362,
          -0.24155228129068373,
          -0.1512119570570083,
          0.10531138658459716,
          0.6652497197140536,
          0.4506340714447661,
          -0.39578638444579733,
          -0.6882959600930618,
          0.2915792743532846,
          0.08941002293969477,
          0.09448760101279036,
          -0.020481147175775816,
          -0.1993897553042452,
          0.10582104781283808,
          0.1308896853525515,
          0.12897834306143374,
          0.15621315350638407,
          -0.2716503623624206,
          0.19040093039983624,
          0.09187916100012428
         ]
        },
        {
         "hovertemplate": "Species=Virginica<br>PC1=%{x}<br>PC2=%{y}<br>PC3=%{z}<extra></extra>",
         "legendgroup": "Virginica",
         "marker": {
          "color": "#00cc96",
          "opacity": 0.5,
          "symbol": "square"
         },
         "mode": "markers",
         "name": "Virginica",
         "scene": "scene",
         "showlegend": true,
         "type": "scatter3d",
         "x": [
          1.8445688677230287,
          1.1578816132057794,
          2.2052667910753776,
          1.4401506638275392,
          1.8678122203305372,
          2.751873335666276,
          0.36701768786072453,
          2.3024394446251963,
          2.006686467676605,
          2.2597773490125,
          1.3641754921860074,
          1.6026786704779301,
          1.8839007017032423,
          1.2601150991975074,
          1.4676452010173235,
          1.5900773176145653,
          1.4714314611333177,
          2.4263289873157,
          3.310695583933886,
          1.2637666736398276,
          2.037716301469404,
          0.9779807342494213,
          2.8976514907341677,
          1.3332321759732082,
          1.700733897491217,
          1.9543267058530704,
          1.1751036315549324,
          1.0209505506957908,
          1.788349920179665,
          1.8636475533282604,
          2.4359537279227026,
          2.3049277218317643,
          1.8627032197949551,
          1.1141477406864744,
          1.2024733016783904,
          2.7987704475781072,
          1.576255910194754,
          1.3462921036270616,
          0.9248249165424192,
          1.8520450517676696,
          2.014810429954875,
          1.9017840902621888,
          1.1578816132057794,
          2.040558228052092,
          1.9981470959523757,
          1.87050329295641,
          1.5645804830303276,
          1.5211704996278375,
          1.3727877895140728,
          0.9606560300371276
         ],
         "y": [
          0.870421312324823,
          -0.6988698623306899,
          0.5620104770083553,
          -0.046987588105806444,
          0.2950448244570196,
          0.8004092010275415,
          -1.5615028914765048,
          0.42006557964277613,
          -0.7114386535471586,
          1.9210103764598856,
          0.6927564544903866,
          -0.42170044977261706,
          0.41924965060512326,
          -1.162260421406463,
          -0.44227158737708205,
          0.6762448057233199,
          0.2556218244714704,
          2.556661250795491,
          0.017780949320626682,
          -1.7067453803762669,
          0.9104674096183104,
          -0.5717643248129913,
          0.4136410595956474,
          -0.48181121864942916,
          1.013921867322791,
          1.0077775961534519,
          -0.3163944723097908,
          0.06434602923956188,
          -0.18736121459082855,
          0.5622907258861443,
          0.2592844331442799,
          2.626323468232377,
          -0.17854949462549013,
          -0.29292262333573116,
          -0.8113152708396684,
          0.8568033294971048,
          1.0685811073208074,
          0.4224306108525082,
          0.017223100452284243,
          0.6761281744365212,
          0.6138856369235748,
          0.6895754942430022,
          -0.6988698623306899,
          0.867520600955228,
          1.0491687471841447,
          0.3869660816657253,
          -0.896686808896526,
          0.26906914427795153,
          1.0112544185267927,
          -0.024331668169399183
         ],
         "z": [
          1.0054010176069874,
          0.5301601492490194,
          -0.20291416973686893,
          0.1636301068300584,
          0.39562837455329747,
          -0.5823091028286049,
          0.9868932674720257,
          -0.6517064392599938,
          -0.39399057081656497,
          0.39755189746977415,
          0.2846120737568164,
          0.02318640791006238,
          0.026338409544074737,
          0.5802492897873728,
          1.0038695737342604,
          0.6384287080805978,
          0.03743125987796858,
          -0.12788145946307217,
          -0.70330530390333,
          -0.26753689325035435,
          0.23479948360032743,
          0.8281272013877699,
          -0.8574218248739521,
          -0.005428363830018212,
          0.2984506125330053,
          -0.41998472191862035,
          0.1299377570168813,
          0.33771596749955307,
          0.2706580063187422,
          -0.715634118574537,
          -0.7278161456737302,
          -0.4934738076943308,
          0.3541487121404408,
          -0.18348839165934305,
          -0.16472375738765405,
          -0.542906499432429,
          0.945853818643991,
          0.1808754778543798,
          0.4168261929697045,
          -0.012672114808352175,
          0.42833284211509315,
          0.1300750054465103,
          0.5301601492490194,
          0.33814400045901416,
          0.6324134358197996,
          0.2562738523986001,
          -0.026371351632304918,
          0.18017838013283133,
          0.9333952411629326,
          0.5282488069579019
         ]
        }
       ],
       "layout": {
        "legend": {
         "title": {
          "text": "Species"
         },
         "tracegroupgap": 0
        },
        "margin": {
         "b": 0,
         "l": 0,
         "r": 0,
         "t": 0
        },
        "scene": {
         "domain": {
          "x": [
           0,
           1
          ],
          "y": [
           0,
           1
          ]
         },
         "xaxis": {
          "title": {
           "text": "PC1"
          }
         },
         "yaxis": {
          "title": {
           "text": "PC2"
          }
         },
         "zaxis": {
          "title": {
           "text": "PC3"
          }
         }
        },
        "template": {
         "data": {
          "bar": [
           {
            "error_x": {
             "color": "#2a3f5f"
            },
            "error_y": {
             "color": "#2a3f5f"
            },
            "marker": {
             "line": {
              "color": "#E5ECF6",
              "width": 0.5
             },
             "pattern": {
              "fillmode": "overlay",
              "size": 10,
              "solidity": 0.2
             }
            },
            "type": "bar"
           }
          ],
          "barpolar": [
           {
            "marker": {
             "line": {
              "color": "#E5ECF6",
              "width": 0.5
             },
             "pattern": {
              "fillmode": "overlay",
              "size": 10,
              "solidity": 0.2
             }
            },
            "type": "barpolar"
           }
          ],
          "carpet": [
           {
            "aaxis": {
             "endlinecolor": "#2a3f5f",
             "gridcolor": "white",
             "linecolor": "white",
             "minorgridcolor": "white",
             "startlinecolor": "#2a3f5f"
            },
            "baxis": {
             "endlinecolor": "#2a3f5f",
             "gridcolor": "white",
             "linecolor": "white",
             "minorgridcolor": "white",
             "startlinecolor": "#2a3f5f"
            },
            "type": "carpet"
           }
          ],
          "choropleth": [
           {
            "colorbar": {
             "outlinewidth": 0,
             "ticks": ""
            },
            "type": "choropleth"
           }
          ],
          "contour": [
           {
            "colorbar": {
             "outlinewidth": 0,
             "ticks": ""
            },
            "colorscale": [
             [
              0,
              "#0d0887"
             ],
             [
              0.1111111111111111,
              "#46039f"
             ],
             [
              0.2222222222222222,
              "#7201a8"
             ],
             [
              0.3333333333333333,
              "#9c179e"
             ],
             [
              0.4444444444444444,
              "#bd3786"
             ],
             [
              0.5555555555555556,
              "#d8576b"
             ],
             [
              0.6666666666666666,
              "#ed7953"
             ],
             [
              0.7777777777777778,
              "#fb9f3a"
             ],
             [
              0.8888888888888888,
              "#fdca26"
             ],
             [
              1,
              "#f0f921"
             ]
            ],
            "type": "contour"
           }
          ],
          "contourcarpet": [
           {
            "colorbar": {
             "outlinewidth": 0,
             "ticks": ""
            },
            "type": "contourcarpet"
           }
          ],
          "heatmap": [
           {
            "colorbar": {
             "outlinewidth": 0,
             "ticks": ""
            },
            "colorscale": [
             [
              0,
              "#0d0887"
             ],
             [
              0.1111111111111111,
              "#46039f"
             ],
             [
              0.2222222222222222,
              "#7201a8"
             ],
             [
              0.3333333333333333,
              "#9c179e"
             ],
             [
              0.4444444444444444,
              "#bd3786"
             ],
             [
              0.5555555555555556,
              "#d8576b"
             ],
             [
              0.6666666666666666,
              "#ed7953"
             ],
             [
              0.7777777777777778,
              "#fb9f3a"
             ],
             [
              0.8888888888888888,
              "#fdca26"
             ],
             [
              1,
              "#f0f921"
             ]
            ],
            "type": "heatmap"
           }
          ],
          "heatmapgl": [
           {
            "colorbar": {
             "outlinewidth": 0,
             "ticks": ""
            },
            "colorscale": [
             [
              0,
              "#0d0887"
             ],
             [
              0.1111111111111111,
              "#46039f"
             ],
             [
              0.2222222222222222,
              "#7201a8"
             ],
             [
              0.3333333333333333,
              "#9c179e"
             ],
             [
              0.4444444444444444,
              "#bd3786"
             ],
             [
              0.5555555555555556,
              "#d8576b"
             ],
             [
              0.6666666666666666,
              "#ed7953"
             ],
             [
              0.7777777777777778,
              "#fb9f3a"
             ],
             [
              0.8888888888888888,
              "#fdca26"
             ],
             [
              1,
              "#f0f921"
             ]
            ],
            "type": "heatmapgl"
           }
          ],
          "histogram": [
           {
            "marker": {
             "pattern": {
              "fillmode": "overlay",
              "size": 10,
              "solidity": 0.2
             }
            },
            "type": "histogram"
           }
          ],
          "histogram2d": [
           {
            "colorbar": {
             "outlinewidth": 0,
             "ticks": ""
            },
            "colorscale": [
             [
              0,
              "#0d0887"
             ],
             [
              0.1111111111111111,
              "#46039f"
             ],
             [
              0.2222222222222222,
              "#7201a8"
             ],
             [
              0.3333333333333333,
              "#9c179e"
             ],
             [
              0.4444444444444444,
              "#bd3786"
             ],
             [
              0.5555555555555556,
              "#d8576b"
             ],
             [
              0.6666666666666666,
              "#ed7953"
             ],
             [
              0.7777777777777778,
              "#fb9f3a"
             ],
             [
              0.8888888888888888,
              "#fdca26"
             ],
             [
              1,
              "#f0f921"
             ]
            ],
            "type": "histogram2d"
           }
          ],
          "histogram2dcontour": [
           {
            "colorbar": {
             "outlinewidth": 0,
             "ticks": ""
            },
            "colorscale": [
             [
              0,
              "#0d0887"
             ],
             [
              0.1111111111111111,
              "#46039f"
             ],
             [
              0.2222222222222222,
              "#7201a8"
             ],
             [
              0.3333333333333333,
              "#9c179e"
             ],
             [
              0.4444444444444444,
              "#bd3786"
             ],
             [
              0.5555555555555556,
              "#d8576b"
             ],
             [
              0.6666666666666666,
              "#ed7953"
             ],
             [
              0.7777777777777778,
              "#fb9f3a"
             ],
             [
              0.8888888888888888,
              "#fdca26"
             ],
             [
              1,
              "#f0f921"
             ]
            ],
            "type": "histogram2dcontour"
           }
          ],
          "mesh3d": [
           {
            "colorbar": {
             "outlinewidth": 0,
             "ticks": ""
            },
            "type": "mesh3d"
           }
          ],
          "parcoords": [
           {
            "line": {
             "colorbar": {
              "outlinewidth": 0,
              "ticks": ""
             }
            },
            "type": "parcoords"
           }
          ],
          "pie": [
           {
            "automargin": true,
            "type": "pie"
           }
          ],
          "scatter": [
           {
            "marker": {
             "colorbar": {
              "outlinewidth": 0,
              "ticks": ""
             }
            },
            "type": "scatter"
           }
          ],
          "scatter3d": [
           {
            "line": {
             "colorbar": {
              "outlinewidth": 0,
              "ticks": ""
             }
            },
            "marker": {
             "colorbar": {
              "outlinewidth": 0,
              "ticks": ""
             }
            },
            "type": "scatter3d"
           }
          ],
          "scattercarpet": [
           {
            "marker": {
             "colorbar": {
              "outlinewidth": 0,
              "ticks": ""
             }
            },
            "type": "scattercarpet"
           }
          ],
          "scattergeo": [
           {
            "marker": {
             "colorbar": {
              "outlinewidth": 0,
              "ticks": ""
             }
            },
            "type": "scattergeo"
           }
          ],
          "scattergl": [
           {
            "marker": {
             "colorbar": {
              "outlinewidth": 0,
              "ticks": ""
             }
            },
            "type": "scattergl"
           }
          ],
          "scattermapbox": [
           {
            "marker": {
             "colorbar": {
              "outlinewidth": 0,
              "ticks": ""
             }
            },
            "type": "scattermapbox"
           }
          ],
          "scatterpolar": [
           {
            "marker": {
             "colorbar": {
              "outlinewidth": 0,
              "ticks": ""
             }
            },
            "type": "scatterpolar"
           }
          ],
          "scatterpolargl": [
           {
            "marker": {
             "colorbar": {
              "outlinewidth": 0,
              "ticks": ""
             }
            },
            "type": "scatterpolargl"
           }
          ],
          "scatterternary": [
           {
            "marker": {
             "colorbar": {
              "outlinewidth": 0,
              "ticks": ""
             }
            },
            "type": "scatterternary"
           }
          ],
          "surface": [
           {
            "colorbar": {
             "outlinewidth": 0,
             "ticks": ""
            },
            "colorscale": [
             [
              0,
              "#0d0887"
             ],
             [
              0.1111111111111111,
              "#46039f"
             ],
             [
              0.2222222222222222,
              "#7201a8"
             ],
             [
              0.3333333333333333,
              "#9c179e"
             ],
             [
              0.4444444444444444,
              "#bd3786"
             ],
             [
              0.5555555555555556,
              "#d8576b"
             ],
             [
              0.6666666666666666,
              "#ed7953"
             ],
             [
              0.7777777777777778,
              "#fb9f3a"
             ],
             [
              0.8888888888888888,
              "#fdca26"
             ],
             [
              1,
              "#f0f921"
             ]
            ],
            "type": "surface"
           }
          ],
          "table": [
           {
            "cells": {
             "fill": {
              "color": "#EBF0F8"
             },
             "line": {
              "color": "white"
             }
            },
            "header": {
             "fill": {
              "color": "#C8D4E3"
             },
             "line": {
              "color": "white"
             }
            },
            "type": "table"
           }
          ]
         },
         "layout": {
          "annotationdefaults": {
           "arrowcolor": "#2a3f5f",
           "arrowhead": 0,
           "arrowwidth": 1
          },
          "autotypenumbers": "strict",
          "coloraxis": {
           "colorbar": {
            "outlinewidth": 0,
            "ticks": ""
           }
          },
          "colorscale": {
           "diverging": [
            [
             0,
             "#8e0152"
            ],
            [
             0.1,
             "#c51b7d"
            ],
            [
             0.2,
             "#de77ae"
            ],
            [
             0.3,
             "#f1b6da"
            ],
            [
             0.4,
             "#fde0ef"
            ],
            [
             0.5,
             "#f7f7f7"
            ],
            [
             0.6,
             "#e6f5d0"
            ],
            [
             0.7,
             "#b8e186"
            ],
            [
             0.8,
             "#7fbc41"
            ],
            [
             0.9,
             "#4d9221"
            ],
            [
             1,
             "#276419"
            ]
           ],
           "sequential": [
            [
             0,
             "#0d0887"
            ],
            [
             0.1111111111111111,
             "#46039f"
            ],
            [
             0.2222222222222222,
             "#7201a8"
            ],
            [
             0.3333333333333333,
             "#9c179e"
            ],
            [
             0.4444444444444444,
             "#bd3786"
            ],
            [
             0.5555555555555556,
             "#d8576b"
            ],
            [
             0.6666666666666666,
             "#ed7953"
            ],
            [
             0.7777777777777778,
             "#fb9f3a"
            ],
            [
             0.8888888888888888,
             "#fdca26"
            ],
            [
             1,
             "#f0f921"
            ]
           ],
           "sequentialminus": [
            [
             0,
             "#0d0887"
            ],
            [
             0.1111111111111111,
             "#46039f"
            ],
            [
             0.2222222222222222,
             "#7201a8"
            ],
            [
             0.3333333333333333,
             "#9c179e"
            ],
            [
             0.4444444444444444,
             "#bd3786"
            ],
            [
             0.5555555555555556,
             "#d8576b"
            ],
            [
             0.6666666666666666,
             "#ed7953"
            ],
            [
             0.7777777777777778,
             "#fb9f3a"
            ],
            [
             0.8888888888888888,
             "#fdca26"
            ],
            [
             1,
             "#f0f921"
            ]
           ]
          },
          "colorway": [
           "#636efa",
           "#EF553B",
           "#00cc96",
           "#ab63fa",
           "#FFA15A",
           "#19d3f3",
           "#FF6692",
           "#B6E880",
           "#FF97FF",
           "#FECB52"
          ],
          "font": {
           "color": "#2a3f5f"
          },
          "geo": {
           "bgcolor": "white",
           "lakecolor": "white",
           "landcolor": "#E5ECF6",
           "showlakes": true,
           "showland": true,
           "subunitcolor": "white"
          },
          "hoverlabel": {
           "align": "left"
          },
          "hovermode": "closest",
          "mapbox": {
           "style": "light"
          },
          "paper_bgcolor": "white",
          "plot_bgcolor": "#E5ECF6",
          "polar": {
           "angularaxis": {
            "gridcolor": "white",
            "linecolor": "white",
            "ticks": ""
           },
           "bgcolor": "#E5ECF6",
           "radialaxis": {
            "gridcolor": "white",
            "linecolor": "white",
            "ticks": ""
           }
          },
          "scene": {
           "xaxis": {
            "backgroundcolor": "#E5ECF6",
            "gridcolor": "white",
            "gridwidth": 2,
            "linecolor": "white",
            "showbackground": true,
            "ticks": "",
            "zerolinecolor": "white"
           },
           "yaxis": {
            "backgroundcolor": "#E5ECF6",
            "gridcolor": "white",
            "gridwidth": 2,
            "linecolor": "white",
            "showbackground": true,
            "ticks": "",
            "zerolinecolor": "white"
           },
           "zaxis": {
            "backgroundcolor": "#E5ECF6",
            "gridcolor": "white",
            "gridwidth": 2,
            "linecolor": "white",
            "showbackground": true,
            "ticks": "",
            "zerolinecolor": "white"
           }
          },
          "shapedefaults": {
           "line": {
            "color": "#2a3f5f"
           }
          },
          "ternary": {
           "aaxis": {
            "gridcolor": "white",
            "linecolor": "white",
            "ticks": ""
           },
           "baxis": {
            "gridcolor": "white",
            "linecolor": "white",
            "ticks": ""
           },
           "bgcolor": "#E5ECF6",
           "caxis": {
            "gridcolor": "white",
            "linecolor": "white",
            "ticks": ""
           }
          },
          "title": {
           "x": 0.05
          },
          "xaxis": {
           "automargin": true,
           "gridcolor": "white",
           "linecolor": "white",
           "ticks": "",
           "title": {
            "standoff": 15
           },
           "zerolinecolor": "white",
           "zerolinewidth": 2
          },
          "yaxis": {
           "automargin": true,
           "gridcolor": "white",
           "linecolor": "white",
           "ticks": "",
           "title": {
            "standoff": 15
           },
           "zerolinecolor": "white",
           "zerolinewidth": 2
          }
         }
        }
       }
      },
      "text/html": [
       "<div>                            <div id=\"b30057b4-2076-4bf8-88b1-2e0bc8ce49ae\" class=\"plotly-graph-div\" style=\"height:525px; width:100%;\"></div>            <script type=\"text/javascript\">                require([\"plotly\"], function(Plotly) {                    window.PLOTLYENV=window.PLOTLYENV || {};                                    if (document.getElementById(\"b30057b4-2076-4bf8-88b1-2e0bc8ce49ae\")) {                    Plotly.newPlot(                        \"b30057b4-2076-4bf8-88b1-2e0bc8ce49ae\",                        [{\"hovertemplate\":\"Species=Setosa<br>PC1=%{x}<br>PC2=%{y}<br>PC3=%{z}<extra></extra>\",\"legendgroup\":\"Setosa\",\"marker\":{\"color\":\"#636efa\",\"opacity\":0.5,\"symbol\":\"circle\"},\"mode\":\"markers\",\"name\":\"Setosa\",\"scene\":\"scene\",\"showlegend\":true,\"x\":[-2.264702808807587,-2.080961151965766,-2.3642290538902992,-2.2993842170427063,-2.3898421663138425,-2.07563094817651,-2.4440288351341506,-2.232847158872013,-2.3346404779076195,-2.1843281749339405,-2.1663101007013204,-2.3261308664426967,-2.2184508988224074,-2.633100695765226,-2.198740603266688,-2.2622145316010194,-2.20758769582459,-2.1903495091922967,-1.8985719958028402,-2.3433690530749907,-1.914322996082566,-2.2070128431947964,-2.77434470292733,-1.8186695286958476,-2.227163305706637,-1.9518463309003744,-2.0511513727294135,-2.1685771746542146,-2.1395634513013295,-2.265261493154239,-2.1401221356479825,-1.831594770676027,-2.6149479358589325,-2.4461773916965126,-2.1099748753186507,-2.207808899078264,-2.0451462067541994,-2.5273319131704843,-2.429632575084544,-2.1697107116306618,-2.286475143345668,-1.85812245637357,-2.553638395614354,-1.9644476837637388,-2.1370590058116212,-2.0697442995918283,-2.3847331657782607,-2.394376314219631,-2.229446547942673,-2.2038334355191282],\"y\":[0.48002659652098917,-0.6741335566053525,-0.34190802388467595,-0.5973945076746751,0.6468353829020268,1.4891775233211662,0.047644197630014484,0.22314807268959186,-1.1153276754616657,-0.46901356140237543,1.0436906530538592,0.13307833523923185,-0.7286761653165703,-0.9615067291701623,1.86005711329393,2.686284485110591,1.483609363155572,0.48883831648632753,1.4050187944665484,1.1278493819084754,0.40885570775590613,0.9241214267468981,0.45834366775291535,0.08555852628736615,0.1372544553634275,-0.6256185877766762,0.24216355266166717,0.5271495253082672,0.31321781013995187,-0.3377319037604803,-0.5045406901415179,0.4236950676037857,1.793575856104428,2.150727877392923,-0.4602018414370371,-0.20610739768843678,0.6615581114631078,0.5922927741908093,-0.9041800403761474,0.26887896143547085,0.44171538769905,-2.3374151575533473,-0.47910069012231365,0.47232666771926074,1.1422292620394083,-0.7110527253858936,1.1204297019845357,-0.38624687258915685,0.9979597643079798,0.009216357521276308],\"z\":[-0.1277060223001521,-0.23460885398456743,0.0442014848387442,0.09129010632068257,0.015738195676259115,0.026968294439782187,0.3354704011431143,-0.08869549794772602,0.14507686363700034,-0.2537655673000062,-0.2686811022161343,0.09375924438111205,-0.23091123720660245,0.1807960844031795,-0.4729009978730765,0.030526609265511116,-0.0053440940782637225,-0.044215316478453504,-0.3743432745576544,0.13263046678130258,-0.42129259408735625,0.1598652772262532,0.3321790975568665,0.03448859579998159,0.11799353576964644,-0.30564098232520753,0.08636401082518264,-0.20681624777030433,-0.27115024027656404,0.0684357762272787,-0.07500844174913268,-0.27046737670298204,0.04722841866848648,-0.08266804506156751,-0.17027486147830773,-0.2254415800897568,-0.4845374098283169,0.019435812454223544,0.19325466188423712,-0.17588382054738888,0.03489490899169778,-0.20423422253096524,0.3057664526377337,0.309601317845328,0.24843356112104717,-0.06392982556320537,0.057217858089115614,0.13946790456791947,-0.18149277961647065,-0.15302949045398584],\"type\":\"scatter3d\"},{\"hovertemplate\":\"Species=Versicolor<br>PC1=%{x}<br>PC2=%{y}<br>PC3=%{z}<extra></extra>\",\"legendgroup\":\"Versicolor\",\"marker\":{\"color\":\"#EF553B\",\"opacity\":0.5,\"symbol\":\"diamond\"},\"mode\":\"markers\",\"name\":\"Versicolor\",\"scene\":\"scene\",\"showlegend\":true,\"x\":[1.1017811830529476,0.7313374253960874,1.240979319515831,0.407483058817385,1.075474700609078,0.388687336535665,0.7465297413291607,-0.48732274212563925,0.9279016383549451,0.01142618873698048,-0.11019628000062887,0.4406934489830784,0.5621083064431787,0.7195618886754963,-0.033354703178771955,0.8754071908577374,0.3502516679950828,0.1588100475479714,1.2250936335624312,0.16491789938632734,0.7376826487712582,0.47628719094097133,1.2341780976571486,0.6328581997098216,0.7026611831361822,0.8742736538812901,1.2565091165418831,1.3584051214406316,0.6648003672253946,-0.04025861090059524,0.13079517549786063,0.02345268897055086,0.241538272954511,1.0610946088426136,0.22397877351237988,0.4291391155161609,1.0487280512090873,1.0445313843962787,0.06958832111642317,0.28347723828757543,0.27907777605546097,0.6245697914985714,0.3365303701314358,-0.3621833846193829,0.2885862388231574,0.09136065565450562,0.22771686553470022,0.5763882886534786,-0.4476670190286113,0.25673058888758477],\"y\":[0.8629724182621583,0.5946147256694243,0.6162976544374981,-1.7544039893234096,-0.2084210460509654,-0.5932836359900747,0.7730193120985963,-1.8524290868575732,0.03222607789115367,-1.03401827512944,-2.654072818536563,-0.06329518843800136,-1.7647243806169446,-0.18622460583150566,-0.43900320998162445,0.5090639567734083,-0.1963117345514438,-0.792095742432721,-1.6222438030915012,-1.3026092302957721,0.3965715619602389,-0.41732028121355075,-0.933325728799278,-0.41638772088909914,-0.06341181972480014,0.25079339290061187,-0.07725601969586904,0.33131168179089787,-0.22592785469484344,-1.0587185465539084,-1.5622718342099668,-1.5724755942167037,-0.7772563825848413,-0.6338432447349465,-0.28777351204320195,0.8455822409050785,0.5220517968629423,-1.3829887191907813,-0.21950333464771477,-1.3293246390695757,-1.1200285237424032,0.02492302925401267,-0.9884040176703597,-2.019237873238611,-0.8557303199870658,-0.1811921258257751,-0.3849200809873536,-0.15487359721655877,-1.5437920343977554,-0.598851796155669],\"z\":[-0.6845861626897373,-0.09412171552908238,-0.5540068353861012,-0.02310176781380191,-0.39825552250622714,0.12419154951817021,0.14896940252805108,0.24926526578924946,-0.5961693613725388,0.538899390184368,-0.046790444058383396,0.20507381532720287,-0.765771393653962,-0.06865894542301264,0.19493289332897895,-0.5035113816560304,0.4908730745147276,-0.3020371744413825,-0.4823040240972383,-0.17283780843287672,0.6165263063228641,-0.2649522265280397,-0.36841227204861066,-0.291896252443158,-0.44602700756174735,-0.47257895443311493,-0.7271550018678924,-0.2608265767906141,0.08586388873932603,-0.3195733299955368,-0.14998347833947362,-0.24155228129068373,-0.1512119570570083,0.10531138658459716,0.6652497197140536,0.4506340714447661,-0.39578638444579733,-0.6882959600930618,0.2915792743532846,0.08941002293969477,0.09448760101279036,-0.020481147175775816,-0.1993897553042452,0.10582104781283808,0.1308896853525515,0.12897834306143374,0.15621315350638407,-0.2716503623624206,0.19040093039983624,0.09187916100012428],\"type\":\"scatter3d\"},{\"hovertemplate\":\"Species=Virginica<br>PC1=%{x}<br>PC2=%{y}<br>PC3=%{z}<extra></extra>\",\"legendgroup\":\"Virginica\",\"marker\":{\"color\":\"#00cc96\",\"opacity\":0.5,\"symbol\":\"square\"},\"mode\":\"markers\",\"name\":\"Virginica\",\"scene\":\"scene\",\"showlegend\":true,\"x\":[1.8445688677230287,1.1578816132057794,2.2052667910753776,1.4401506638275392,1.8678122203305372,2.751873335666276,0.36701768786072453,2.3024394446251963,2.006686467676605,2.2597773490125,1.3641754921860074,1.6026786704779301,1.8839007017032423,1.2601150991975074,1.4676452010173235,1.5900773176145653,1.4714314611333177,2.4263289873157,3.310695583933886,1.2637666736398276,2.037716301469404,0.9779807342494213,2.8976514907341677,1.3332321759732082,1.700733897491217,1.9543267058530704,1.1751036315549324,1.0209505506957908,1.788349920179665,1.8636475533282604,2.4359537279227026,2.3049277218317643,1.8627032197949551,1.1141477406864744,1.2024733016783904,2.7987704475781072,1.576255910194754,1.3462921036270616,0.9248249165424192,1.8520450517676696,2.014810429954875,1.9017840902621888,1.1578816132057794,2.040558228052092,1.9981470959523757,1.87050329295641,1.5645804830303276,1.5211704996278375,1.3727877895140728,0.9606560300371276],\"y\":[0.870421312324823,-0.6988698623306899,0.5620104770083553,-0.046987588105806444,0.2950448244570196,0.8004092010275415,-1.5615028914765048,0.42006557964277613,-0.7114386535471586,1.9210103764598856,0.6927564544903866,-0.42170044977261706,0.41924965060512326,-1.162260421406463,-0.44227158737708205,0.6762448057233199,0.2556218244714704,2.556661250795491,0.017780949320626682,-1.7067453803762669,0.9104674096183104,-0.5717643248129913,0.4136410595956474,-0.48181121864942916,1.013921867322791,1.0077775961534519,-0.3163944723097908,0.06434602923956188,-0.18736121459082855,0.5622907258861443,0.2592844331442799,2.626323468232377,-0.17854949462549013,-0.29292262333573116,-0.8113152708396684,0.8568033294971048,1.0685811073208074,0.4224306108525082,0.017223100452284243,0.6761281744365212,0.6138856369235748,0.6895754942430022,-0.6988698623306899,0.867520600955228,1.0491687471841447,0.3869660816657253,-0.896686808896526,0.26906914427795153,1.0112544185267927,-0.024331668169399183],\"z\":[1.0054010176069874,0.5301601492490194,-0.20291416973686893,0.1636301068300584,0.39562837455329747,-0.5823091028286049,0.9868932674720257,-0.6517064392599938,-0.39399057081656497,0.39755189746977415,0.2846120737568164,0.02318640791006238,0.026338409544074737,0.5802492897873728,1.0038695737342604,0.6384287080805978,0.03743125987796858,-0.12788145946307217,-0.70330530390333,-0.26753689325035435,0.23479948360032743,0.8281272013877699,-0.8574218248739521,-0.005428363830018212,0.2984506125330053,-0.41998472191862035,0.1299377570168813,0.33771596749955307,0.2706580063187422,-0.715634118574537,-0.7278161456737302,-0.4934738076943308,0.3541487121404408,-0.18348839165934305,-0.16472375738765405,-0.542906499432429,0.945853818643991,0.1808754778543798,0.4168261929697045,-0.012672114808352175,0.42833284211509315,0.1300750054465103,0.5301601492490194,0.33814400045901416,0.6324134358197996,0.2562738523986001,-0.026371351632304918,0.18017838013283133,0.9333952411629326,0.5282488069579019],\"type\":\"scatter3d\"}],                        {\"template\":{\"data\":{\"bar\":[{\"error_x\":{\"color\":\"#2a3f5f\"},\"error_y\":{\"color\":\"#2a3f5f\"},\"marker\":{\"line\":{\"color\":\"#E5ECF6\",\"width\":0.5},\"pattern\":{\"fillmode\":\"overlay\",\"size\":10,\"solidity\":0.2}},\"type\":\"bar\"}],\"barpolar\":[{\"marker\":{\"line\":{\"color\":\"#E5ECF6\",\"width\":0.5},\"pattern\":{\"fillmode\":\"overlay\",\"size\":10,\"solidity\":0.2}},\"type\":\"barpolar\"}],\"carpet\":[{\"aaxis\":{\"endlinecolor\":\"#2a3f5f\",\"gridcolor\":\"white\",\"linecolor\":\"white\",\"minorgridcolor\":\"white\",\"startlinecolor\":\"#2a3f5f\"},\"baxis\":{\"endlinecolor\":\"#2a3f5f\",\"gridcolor\":\"white\",\"linecolor\":\"white\",\"minorgridcolor\":\"white\",\"startlinecolor\":\"#2a3f5f\"},\"type\":\"carpet\"}],\"choropleth\":[{\"colorbar\":{\"outlinewidth\":0,\"ticks\":\"\"},\"type\":\"choropleth\"}],\"contour\":[{\"colorbar\":{\"outlinewidth\":0,\"ticks\":\"\"},\"colorscale\":[[0.0,\"#0d0887\"],[0.1111111111111111,\"#46039f\"],[0.2222222222222222,\"#7201a8\"],[0.3333333333333333,\"#9c179e\"],[0.4444444444444444,\"#bd3786\"],[0.5555555555555556,\"#d8576b\"],[0.6666666666666666,\"#ed7953\"],[0.7777777777777778,\"#fb9f3a\"],[0.8888888888888888,\"#fdca26\"],[1.0,\"#f0f921\"]],\"type\":\"contour\"}],\"contourcarpet\":[{\"colorbar\":{\"outlinewidth\":0,\"ticks\":\"\"},\"type\":\"contourcarpet\"}],\"heatmap\":[{\"colorbar\":{\"outlinewidth\":0,\"ticks\":\"\"},\"colorscale\":[[0.0,\"#0d0887\"],[0.1111111111111111,\"#46039f\"],[0.2222222222222222,\"#7201a8\"],[0.3333333333333333,\"#9c179e\"],[0.4444444444444444,\"#bd3786\"],[0.5555555555555556,\"#d8576b\"],[0.6666666666666666,\"#ed7953\"],[0.7777777777777778,\"#fb9f3a\"],[0.8888888888888888,\"#fdca26\"],[1.0,\"#f0f921\"]],\"type\":\"heatmap\"}],\"heatmapgl\":[{\"colorbar\":{\"outlinewidth\":0,\"ticks\":\"\"},\"colorscale\":[[0.0,\"#0d0887\"],[0.1111111111111111,\"#46039f\"],[0.2222222222222222,\"#7201a8\"],[0.3333333333333333,\"#9c179e\"],[0.4444444444444444,\"#bd3786\"],[0.5555555555555556,\"#d8576b\"],[0.6666666666666666,\"#ed7953\"],[0.7777777777777778,\"#fb9f3a\"],[0.8888888888888888,\"#fdca26\"],[1.0,\"#f0f921\"]],\"type\":\"heatmapgl\"}],\"histogram\":[{\"marker\":{\"pattern\":{\"fillmode\":\"overlay\",\"size\":10,\"solidity\":0.2}},\"type\":\"histogram\"}],\"histogram2d\":[{\"colorbar\":{\"outlinewidth\":0,\"ticks\":\"\"},\"colorscale\":[[0.0,\"#0d0887\"],[0.1111111111111111,\"#46039f\"],[0.2222222222222222,\"#7201a8\"],[0.3333333333333333,\"#9c179e\"],[0.4444444444444444,\"#bd3786\"],[0.5555555555555556,\"#d8576b\"],[0.6666666666666666,\"#ed7953\"],[0.7777777777777778,\"#fb9f3a\"],[0.8888888888888888,\"#fdca26\"],[1.0,\"#f0f921\"]],\"type\":\"histogram2d\"}],\"histogram2dcontour\":[{\"colorbar\":{\"outlinewidth\":0,\"ticks\":\"\"},\"colorscale\":[[0.0,\"#0d0887\"],[0.1111111111111111,\"#46039f\"],[0.2222222222222222,\"#7201a8\"],[0.3333333333333333,\"#9c179e\"],[0.4444444444444444,\"#bd3786\"],[0.5555555555555556,\"#d8576b\"],[0.6666666666666666,\"#ed7953\"],[0.7777777777777778,\"#fb9f3a\"],[0.8888888888888888,\"#fdca26\"],[1.0,\"#f0f921\"]],\"type\":\"histogram2dcontour\"}],\"mesh3d\":[{\"colorbar\":{\"outlinewidth\":0,\"ticks\":\"\"},\"type\":\"mesh3d\"}],\"parcoords\":[{\"line\":{\"colorbar\":{\"outlinewidth\":0,\"ticks\":\"\"}},\"type\":\"parcoords\"}],\"pie\":[{\"automargin\":true,\"type\":\"pie\"}],\"scatter\":[{\"marker\":{\"colorbar\":{\"outlinewidth\":0,\"ticks\":\"\"}},\"type\":\"scatter\"}],\"scatter3d\":[{\"line\":{\"colorbar\":{\"outlinewidth\":0,\"ticks\":\"\"}},\"marker\":{\"colorbar\":{\"outlinewidth\":0,\"ticks\":\"\"}},\"type\":\"scatter3d\"}],\"scattercarpet\":[{\"marker\":{\"colorbar\":{\"outlinewidth\":0,\"ticks\":\"\"}},\"type\":\"scattercarpet\"}],\"scattergeo\":[{\"marker\":{\"colorbar\":{\"outlinewidth\":0,\"ticks\":\"\"}},\"type\":\"scattergeo\"}],\"scattergl\":[{\"marker\":{\"colorbar\":{\"outlinewidth\":0,\"ticks\":\"\"}},\"type\":\"scattergl\"}],\"scattermapbox\":[{\"marker\":{\"colorbar\":{\"outlinewidth\":0,\"ticks\":\"\"}},\"type\":\"scattermapbox\"}],\"scatterpolar\":[{\"marker\":{\"colorbar\":{\"outlinewidth\":0,\"ticks\":\"\"}},\"type\":\"scatterpolar\"}],\"scatterpolargl\":[{\"marker\":{\"colorbar\":{\"outlinewidth\":0,\"ticks\":\"\"}},\"type\":\"scatterpolargl\"}],\"scatterternary\":[{\"marker\":{\"colorbar\":{\"outlinewidth\":0,\"ticks\":\"\"}},\"type\":\"scatterternary\"}],\"surface\":[{\"colorbar\":{\"outlinewidth\":0,\"ticks\":\"\"},\"colorscale\":[[0.0,\"#0d0887\"],[0.1111111111111111,\"#46039f\"],[0.2222222222222222,\"#7201a8\"],[0.3333333333333333,\"#9c179e\"],[0.4444444444444444,\"#bd3786\"],[0.5555555555555556,\"#d8576b\"],[0.6666666666666666,\"#ed7953\"],[0.7777777777777778,\"#fb9f3a\"],[0.8888888888888888,\"#fdca26\"],[1.0,\"#f0f921\"]],\"type\":\"surface\"}],\"table\":[{\"cells\":{\"fill\":{\"color\":\"#EBF0F8\"},\"line\":{\"color\":\"white\"}},\"header\":{\"fill\":{\"color\":\"#C8D4E3\"},\"line\":{\"color\":\"white\"}},\"type\":\"table\"}]},\"layout\":{\"annotationdefaults\":{\"arrowcolor\":\"#2a3f5f\",\"arrowhead\":0,\"arrowwidth\":1},\"autotypenumbers\":\"strict\",\"coloraxis\":{\"colorbar\":{\"outlinewidth\":0,\"ticks\":\"\"}},\"colorscale\":{\"diverging\":[[0,\"#8e0152\"],[0.1,\"#c51b7d\"],[0.2,\"#de77ae\"],[0.3,\"#f1b6da\"],[0.4,\"#fde0ef\"],[0.5,\"#f7f7f7\"],[0.6,\"#e6f5d0\"],[0.7,\"#b8e186\"],[0.8,\"#7fbc41\"],[0.9,\"#4d9221\"],[1,\"#276419\"]],\"sequential\":[[0.0,\"#0d0887\"],[0.1111111111111111,\"#46039f\"],[0.2222222222222222,\"#7201a8\"],[0.3333333333333333,\"#9c179e\"],[0.4444444444444444,\"#bd3786\"],[0.5555555555555556,\"#d8576b\"],[0.6666666666666666,\"#ed7953\"],[0.7777777777777778,\"#fb9f3a\"],[0.8888888888888888,\"#fdca26\"],[1.0,\"#f0f921\"]],\"sequentialminus\":[[0.0,\"#0d0887\"],[0.1111111111111111,\"#46039f\"],[0.2222222222222222,\"#7201a8\"],[0.3333333333333333,\"#9c179e\"],[0.4444444444444444,\"#bd3786\"],[0.5555555555555556,\"#d8576b\"],[0.6666666666666666,\"#ed7953\"],[0.7777777777777778,\"#fb9f3a\"],[0.8888888888888888,\"#fdca26\"],[1.0,\"#f0f921\"]]},\"colorway\":[\"#636efa\",\"#EF553B\",\"#00cc96\",\"#ab63fa\",\"#FFA15A\",\"#19d3f3\",\"#FF6692\",\"#B6E880\",\"#FF97FF\",\"#FECB52\"],\"font\":{\"color\":\"#2a3f5f\"},\"geo\":{\"bgcolor\":\"white\",\"lakecolor\":\"white\",\"landcolor\":\"#E5ECF6\",\"showlakes\":true,\"showland\":true,\"subunitcolor\":\"white\"},\"hoverlabel\":{\"align\":\"left\"},\"hovermode\":\"closest\",\"mapbox\":{\"style\":\"light\"},\"paper_bgcolor\":\"white\",\"plot_bgcolor\":\"#E5ECF6\",\"polar\":{\"angularaxis\":{\"gridcolor\":\"white\",\"linecolor\":\"white\",\"ticks\":\"\"},\"bgcolor\":\"#E5ECF6\",\"radialaxis\":{\"gridcolor\":\"white\",\"linecolor\":\"white\",\"ticks\":\"\"}},\"scene\":{\"xaxis\":{\"backgroundcolor\":\"#E5ECF6\",\"gridcolor\":\"white\",\"gridwidth\":2,\"linecolor\":\"white\",\"showbackground\":true,\"ticks\":\"\",\"zerolinecolor\":\"white\"},\"yaxis\":{\"backgroundcolor\":\"#E5ECF6\",\"gridcolor\":\"white\",\"gridwidth\":2,\"linecolor\":\"white\",\"showbackground\":true,\"ticks\":\"\",\"zerolinecolor\":\"white\"},\"zaxis\":{\"backgroundcolor\":\"#E5ECF6\",\"gridcolor\":\"white\",\"gridwidth\":2,\"linecolor\":\"white\",\"showbackground\":true,\"ticks\":\"\",\"zerolinecolor\":\"white\"}},\"shapedefaults\":{\"line\":{\"color\":\"#2a3f5f\"}},\"ternary\":{\"aaxis\":{\"gridcolor\":\"white\",\"linecolor\":\"white\",\"ticks\":\"\"},\"baxis\":{\"gridcolor\":\"white\",\"linecolor\":\"white\",\"ticks\":\"\"},\"bgcolor\":\"#E5ECF6\",\"caxis\":{\"gridcolor\":\"white\",\"linecolor\":\"white\",\"ticks\":\"\"}},\"title\":{\"x\":0.05},\"xaxis\":{\"automargin\":true,\"gridcolor\":\"white\",\"linecolor\":\"white\",\"ticks\":\"\",\"title\":{\"standoff\":15},\"zerolinecolor\":\"white\",\"zerolinewidth\":2},\"yaxis\":{\"automargin\":true,\"gridcolor\":\"white\",\"linecolor\":\"white\",\"ticks\":\"\",\"title\":{\"standoff\":15},\"zerolinecolor\":\"white\",\"zerolinewidth\":2}}},\"scene\":{\"domain\":{\"x\":[0.0,1.0],\"y\":[0.0,1.0]},\"xaxis\":{\"title\":{\"text\":\"PC1\"}},\"yaxis\":{\"title\":{\"text\":\"PC2\"}},\"zaxis\":{\"title\":{\"text\":\"PC3\"}}},\"legend\":{\"title\":{\"text\":\"Species\"},\"tracegroupgap\":0},\"margin\":{\"t\":0,\"l\":0,\"r\":0,\"b\":0}},                        {\"responsive\": true}                    ).then(function(){\n",
       "                            \n",
       "var gd = document.getElementById('b30057b4-2076-4bf8-88b1-2e0bc8ce49ae');\n",
       "var x = new MutationObserver(function (mutations, observer) {{\n",
       "        var display = window.getComputedStyle(gd).display;\n",
       "        if (!display || display === 'none') {{\n",
       "            console.log([gd, 'removed!']);\n",
       "            Plotly.purge(gd);\n",
       "            observer.disconnect();\n",
       "        }}\n",
       "}});\n",
       "\n",
       "// Listen for the removal of the full notebook cells\n",
       "var notebookContainer = gd.closest('#notebook-container');\n",
       "if (notebookContainer) {{\n",
       "    x.observe(notebookContainer, {childList: true});\n",
       "}}\n",
       "\n",
       "// Listen for the clearing of the current output cell\n",
       "var outputEl = gd.closest('.output');\n",
       "if (outputEl) {{\n",
       "    x.observe(outputEl, {childList: true});\n",
       "}}\n",
       "\n",
       "                        })                };                });            </script>        </div>"
      ]
     },
     "metadata": {},
     "output_type": "display_data"
    }
   ],
   "source": [
    "fig = px.scatter_3d(df_scores, x='PC1', y='PC2', z='PC3',\n",
    "              color='Species',\n",
    "              symbol='Species',\n",
    "              opacity=0.5)\n",
    "\n",
    "# tight layout\n",
    "fig.update_layout(margin=dict(l=0, r=0, b=0, t=0))\n",
    "\n",
    "# https://plotly.com/python/templates/\n",
    "#fig.update_layout(template='plotly_white') # \"plotly\", \"plotly_white\", \"plotly_dark\", \"ggplot2\", \"seaborn\", \"simple_white\", \"none\""
   ]
  },
  {
   "cell_type": "markdown",
   "metadata": {
    "colab_type": "text",
    "id": "ZtIDXw_AfOwW"
   },
   "source": [
    "## **5. Loadings Plot**"
   ]
  },
  {
   "cell_type": "code",
   "execution_count": 107,
   "metadata": {
    "colab": {
     "base_uri": "https://localhost:8080/",
     "height": 542
    },
    "colab_type": "code",
    "id": "zLT3HjU0fRj3",
    "outputId": "bd99a07c-8fb8-43d4-b185-93b9a8f8c3a4"
   },
   "outputs": [
    {
     "data": {
      "application/vnd.plotly.v1+json": {
       "config": {
        "plotlyServerURL": "https://plot.ly"
       },
       "data": [
        {
         "hovertemplate": "PC1=%{x}<br>PC2=%{y}<br>PC3=%{z}<br>index=%{text}<extra></extra>",
         "legendgroup": "",
         "marker": {
          "color": "#636efa",
          "symbol": "circle"
         },
         "mode": "markers+text",
         "name": "",
         "scene": "scene",
         "showlegend": false,
         "text": [
          "sepal length (cm)",
          "sepal width (cm)",
          "petal length (cm)",
          "petal width (cm)"
         ],
         "type": "scatter3d",
         "x": [
          0.5210659146701195,
          -0.2693474425059428,
          0.5804130957962943,
          0.564856535779361
         ],
         "y": [
          0.3774176155645671,
          0.9232956595407146,
          0.024491609085586438,
          0.06694198696805843
         ],
         "z": [
          -0.7195663527008167,
          0.24438177951439935,
          0.14212636933390294,
          0.6342727371109231
         ]
        }
       ],
       "layout": {
        "legend": {
         "tracegroupgap": 0
        },
        "margin": {
         "t": 60
        },
        "scene": {
         "domain": {
          "x": [
           0,
           1
          ],
          "y": [
           0,
           1
          ]
         },
         "xaxis": {
          "title": {
           "text": "PC1"
          }
         },
         "yaxis": {
          "title": {
           "text": "PC2"
          }
         },
         "zaxis": {
          "title": {
           "text": "PC3"
          }
         }
        },
        "template": {
         "data": {
          "bar": [
           {
            "error_x": {
             "color": "#2a3f5f"
            },
            "error_y": {
             "color": "#2a3f5f"
            },
            "marker": {
             "line": {
              "color": "#E5ECF6",
              "width": 0.5
             },
             "pattern": {
              "fillmode": "overlay",
              "size": 10,
              "solidity": 0.2
             }
            },
            "type": "bar"
           }
          ],
          "barpolar": [
           {
            "marker": {
             "line": {
              "color": "#E5ECF6",
              "width": 0.5
             },
             "pattern": {
              "fillmode": "overlay",
              "size": 10,
              "solidity": 0.2
             }
            },
            "type": "barpolar"
           }
          ],
          "carpet": [
           {
            "aaxis": {
             "endlinecolor": "#2a3f5f",
             "gridcolor": "white",
             "linecolor": "white",
             "minorgridcolor": "white",
             "startlinecolor": "#2a3f5f"
            },
            "baxis": {
             "endlinecolor": "#2a3f5f",
             "gridcolor": "white",
             "linecolor": "white",
             "minorgridcolor": "white",
             "startlinecolor": "#2a3f5f"
            },
            "type": "carpet"
           }
          ],
          "choropleth": [
           {
            "colorbar": {
             "outlinewidth": 0,
             "ticks": ""
            },
            "type": "choropleth"
           }
          ],
          "contour": [
           {
            "colorbar": {
             "outlinewidth": 0,
             "ticks": ""
            },
            "colorscale": [
             [
              0,
              "#0d0887"
             ],
             [
              0.1111111111111111,
              "#46039f"
             ],
             [
              0.2222222222222222,
              "#7201a8"
             ],
             [
              0.3333333333333333,
              "#9c179e"
             ],
             [
              0.4444444444444444,
              "#bd3786"
             ],
             [
              0.5555555555555556,
              "#d8576b"
             ],
             [
              0.6666666666666666,
              "#ed7953"
             ],
             [
              0.7777777777777778,
              "#fb9f3a"
             ],
             [
              0.8888888888888888,
              "#fdca26"
             ],
             [
              1,
              "#f0f921"
             ]
            ],
            "type": "contour"
           }
          ],
          "contourcarpet": [
           {
            "colorbar": {
             "outlinewidth": 0,
             "ticks": ""
            },
            "type": "contourcarpet"
           }
          ],
          "heatmap": [
           {
            "colorbar": {
             "outlinewidth": 0,
             "ticks": ""
            },
            "colorscale": [
             [
              0,
              "#0d0887"
             ],
             [
              0.1111111111111111,
              "#46039f"
             ],
             [
              0.2222222222222222,
              "#7201a8"
             ],
             [
              0.3333333333333333,
              "#9c179e"
             ],
             [
              0.4444444444444444,
              "#bd3786"
             ],
             [
              0.5555555555555556,
              "#d8576b"
             ],
             [
              0.6666666666666666,
              "#ed7953"
             ],
             [
              0.7777777777777778,
              "#fb9f3a"
             ],
             [
              0.8888888888888888,
              "#fdca26"
             ],
             [
              1,
              "#f0f921"
             ]
            ],
            "type": "heatmap"
           }
          ],
          "heatmapgl": [
           {
            "colorbar": {
             "outlinewidth": 0,
             "ticks": ""
            },
            "colorscale": [
             [
              0,
              "#0d0887"
             ],
             [
              0.1111111111111111,
              "#46039f"
             ],
             [
              0.2222222222222222,
              "#7201a8"
             ],
             [
              0.3333333333333333,
              "#9c179e"
             ],
             [
              0.4444444444444444,
              "#bd3786"
             ],
             [
              0.5555555555555556,
              "#d8576b"
             ],
             [
              0.6666666666666666,
              "#ed7953"
             ],
             [
              0.7777777777777778,
              "#fb9f3a"
             ],
             [
              0.8888888888888888,
              "#fdca26"
             ],
             [
              1,
              "#f0f921"
             ]
            ],
            "type": "heatmapgl"
           }
          ],
          "histogram": [
           {
            "marker": {
             "pattern": {
              "fillmode": "overlay",
              "size": 10,
              "solidity": 0.2
             }
            },
            "type": "histogram"
           }
          ],
          "histogram2d": [
           {
            "colorbar": {
             "outlinewidth": 0,
             "ticks": ""
            },
            "colorscale": [
             [
              0,
              "#0d0887"
             ],
             [
              0.1111111111111111,
              "#46039f"
             ],
             [
              0.2222222222222222,
              "#7201a8"
             ],
             [
              0.3333333333333333,
              "#9c179e"
             ],
             [
              0.4444444444444444,
              "#bd3786"
             ],
             [
              0.5555555555555556,
              "#d8576b"
             ],
             [
              0.6666666666666666,
              "#ed7953"
             ],
             [
              0.7777777777777778,
              "#fb9f3a"
             ],
             [
              0.8888888888888888,
              "#fdca26"
             ],
             [
              1,
              "#f0f921"
             ]
            ],
            "type": "histogram2d"
           }
          ],
          "histogram2dcontour": [
           {
            "colorbar": {
             "outlinewidth": 0,
             "ticks": ""
            },
            "colorscale": [
             [
              0,
              "#0d0887"
             ],
             [
              0.1111111111111111,
              "#46039f"
             ],
             [
              0.2222222222222222,
              "#7201a8"
             ],
             [
              0.3333333333333333,
              "#9c179e"
             ],
             [
              0.4444444444444444,
              "#bd3786"
             ],
             [
              0.5555555555555556,
              "#d8576b"
             ],
             [
              0.6666666666666666,
              "#ed7953"
             ],
             [
              0.7777777777777778,
              "#fb9f3a"
             ],
             [
              0.8888888888888888,
              "#fdca26"
             ],
             [
              1,
              "#f0f921"
             ]
            ],
            "type": "histogram2dcontour"
           }
          ],
          "mesh3d": [
           {
            "colorbar": {
             "outlinewidth": 0,
             "ticks": ""
            },
            "type": "mesh3d"
           }
          ],
          "parcoords": [
           {
            "line": {
             "colorbar": {
              "outlinewidth": 0,
              "ticks": ""
             }
            },
            "type": "parcoords"
           }
          ],
          "pie": [
           {
            "automargin": true,
            "type": "pie"
           }
          ],
          "scatter": [
           {
            "marker": {
             "colorbar": {
              "outlinewidth": 0,
              "ticks": ""
             }
            },
            "type": "scatter"
           }
          ],
          "scatter3d": [
           {
            "line": {
             "colorbar": {
              "outlinewidth": 0,
              "ticks": ""
             }
            },
            "marker": {
             "colorbar": {
              "outlinewidth": 0,
              "ticks": ""
             }
            },
            "type": "scatter3d"
           }
          ],
          "scattercarpet": [
           {
            "marker": {
             "colorbar": {
              "outlinewidth": 0,
              "ticks": ""
             }
            },
            "type": "scattercarpet"
           }
          ],
          "scattergeo": [
           {
            "marker": {
             "colorbar": {
              "outlinewidth": 0,
              "ticks": ""
             }
            },
            "type": "scattergeo"
           }
          ],
          "scattergl": [
           {
            "marker": {
             "colorbar": {
              "outlinewidth": 0,
              "ticks": ""
             }
            },
            "type": "scattergl"
           }
          ],
          "scattermapbox": [
           {
            "marker": {
             "colorbar": {
              "outlinewidth": 0,
              "ticks": ""
             }
            },
            "type": "scattermapbox"
           }
          ],
          "scatterpolar": [
           {
            "marker": {
             "colorbar": {
              "outlinewidth": 0,
              "ticks": ""
             }
            },
            "type": "scatterpolar"
           }
          ],
          "scatterpolargl": [
           {
            "marker": {
             "colorbar": {
              "outlinewidth": 0,
              "ticks": ""
             }
            },
            "type": "scatterpolargl"
           }
          ],
          "scatterternary": [
           {
            "marker": {
             "colorbar": {
              "outlinewidth": 0,
              "ticks": ""
             }
            },
            "type": "scatterternary"
           }
          ],
          "surface": [
           {
            "colorbar": {
             "outlinewidth": 0,
             "ticks": ""
            },
            "colorscale": [
             [
              0,
              "#0d0887"
             ],
             [
              0.1111111111111111,
              "#46039f"
             ],
             [
              0.2222222222222222,
              "#7201a8"
             ],
             [
              0.3333333333333333,
              "#9c179e"
             ],
             [
              0.4444444444444444,
              "#bd3786"
             ],
             [
              0.5555555555555556,
              "#d8576b"
             ],
             [
              0.6666666666666666,
              "#ed7953"
             ],
             [
              0.7777777777777778,
              "#fb9f3a"
             ],
             [
              0.8888888888888888,
              "#fdca26"
             ],
             [
              1,
              "#f0f921"
             ]
            ],
            "type": "surface"
           }
          ],
          "table": [
           {
            "cells": {
             "fill": {
              "color": "#EBF0F8"
             },
             "line": {
              "color": "white"
             }
            },
            "header": {
             "fill": {
              "color": "#C8D4E3"
             },
             "line": {
              "color": "white"
             }
            },
            "type": "table"
           }
          ]
         },
         "layout": {
          "annotationdefaults": {
           "arrowcolor": "#2a3f5f",
           "arrowhead": 0,
           "arrowwidth": 1
          },
          "autotypenumbers": "strict",
          "coloraxis": {
           "colorbar": {
            "outlinewidth": 0,
            "ticks": ""
           }
          },
          "colorscale": {
           "diverging": [
            [
             0,
             "#8e0152"
            ],
            [
             0.1,
             "#c51b7d"
            ],
            [
             0.2,
             "#de77ae"
            ],
            [
             0.3,
             "#f1b6da"
            ],
            [
             0.4,
             "#fde0ef"
            ],
            [
             0.5,
             "#f7f7f7"
            ],
            [
             0.6,
             "#e6f5d0"
            ],
            [
             0.7,
             "#b8e186"
            ],
            [
             0.8,
             "#7fbc41"
            ],
            [
             0.9,
             "#4d9221"
            ],
            [
             1,
             "#276419"
            ]
           ],
           "sequential": [
            [
             0,
             "#0d0887"
            ],
            [
             0.1111111111111111,
             "#46039f"
            ],
            [
             0.2222222222222222,
             "#7201a8"
            ],
            [
             0.3333333333333333,
             "#9c179e"
            ],
            [
             0.4444444444444444,
             "#bd3786"
            ],
            [
             0.5555555555555556,
             "#d8576b"
            ],
            [
             0.6666666666666666,
             "#ed7953"
            ],
            [
             0.7777777777777778,
             "#fb9f3a"
            ],
            [
             0.8888888888888888,
             "#fdca26"
            ],
            [
             1,
             "#f0f921"
            ]
           ],
           "sequentialminus": [
            [
             0,
             "#0d0887"
            ],
            [
             0.1111111111111111,
             "#46039f"
            ],
            [
             0.2222222222222222,
             "#7201a8"
            ],
            [
             0.3333333333333333,
             "#9c179e"
            ],
            [
             0.4444444444444444,
             "#bd3786"
            ],
            [
             0.5555555555555556,
             "#d8576b"
            ],
            [
             0.6666666666666666,
             "#ed7953"
            ],
            [
             0.7777777777777778,
             "#fb9f3a"
            ],
            [
             0.8888888888888888,
             "#fdca26"
            ],
            [
             1,
             "#f0f921"
            ]
           ]
          },
          "colorway": [
           "#636efa",
           "#EF553B",
           "#00cc96",
           "#ab63fa",
           "#FFA15A",
           "#19d3f3",
           "#FF6692",
           "#B6E880",
           "#FF97FF",
           "#FECB52"
          ],
          "font": {
           "color": "#2a3f5f"
          },
          "geo": {
           "bgcolor": "white",
           "lakecolor": "white",
           "landcolor": "#E5ECF6",
           "showlakes": true,
           "showland": true,
           "subunitcolor": "white"
          },
          "hoverlabel": {
           "align": "left"
          },
          "hovermode": "closest",
          "mapbox": {
           "style": "light"
          },
          "paper_bgcolor": "white",
          "plot_bgcolor": "#E5ECF6",
          "polar": {
           "angularaxis": {
            "gridcolor": "white",
            "linecolor": "white",
            "ticks": ""
           },
           "bgcolor": "#E5ECF6",
           "radialaxis": {
            "gridcolor": "white",
            "linecolor": "white",
            "ticks": ""
           }
          },
          "scene": {
           "xaxis": {
            "backgroundcolor": "#E5ECF6",
            "gridcolor": "white",
            "gridwidth": 2,
            "linecolor": "white",
            "showbackground": true,
            "ticks": "",
            "zerolinecolor": "white"
           },
           "yaxis": {
            "backgroundcolor": "#E5ECF6",
            "gridcolor": "white",
            "gridwidth": 2,
            "linecolor": "white",
            "showbackground": true,
            "ticks": "",
            "zerolinecolor": "white"
           },
           "zaxis": {
            "backgroundcolor": "#E5ECF6",
            "gridcolor": "white",
            "gridwidth": 2,
            "linecolor": "white",
            "showbackground": true,
            "ticks": "",
            "zerolinecolor": "white"
           }
          },
          "shapedefaults": {
           "line": {
            "color": "#2a3f5f"
           }
          },
          "ternary": {
           "aaxis": {
            "gridcolor": "white",
            "linecolor": "white",
            "ticks": ""
           },
           "baxis": {
            "gridcolor": "white",
            "linecolor": "white",
            "ticks": ""
           },
           "bgcolor": "#E5ECF6",
           "caxis": {
            "gridcolor": "white",
            "linecolor": "white",
            "ticks": ""
           }
          },
          "title": {
           "x": 0.05
          },
          "xaxis": {
           "automargin": true,
           "gridcolor": "white",
           "linecolor": "white",
           "ticks": "",
           "title": {
            "standoff": 15
           },
           "zerolinecolor": "white",
           "zerolinewidth": 2
          },
          "yaxis": {
           "automargin": true,
           "gridcolor": "white",
           "linecolor": "white",
           "ticks": "",
           "title": {
            "standoff": 15
           },
           "zerolinecolor": "white",
           "zerolinewidth": 2
          }
         }
        }
       }
      },
      "text/html": [
       "<div>                            <div id=\"eab2b714-a8ba-43ce-811f-965630eb3d2e\" class=\"plotly-graph-div\" style=\"height:525px; width:100%;\"></div>            <script type=\"text/javascript\">                require([\"plotly\"], function(Plotly) {                    window.PLOTLYENV=window.PLOTLYENV || {};                                    if (document.getElementById(\"eab2b714-a8ba-43ce-811f-965630eb3d2e\")) {                    Plotly.newPlot(                        \"eab2b714-a8ba-43ce-811f-965630eb3d2e\",                        [{\"hovertemplate\":\"PC1=%{x}<br>PC2=%{y}<br>PC3=%{z}<br>index=%{text}<extra></extra>\",\"legendgroup\":\"\",\"marker\":{\"color\":\"#636efa\",\"symbol\":\"circle\"},\"mode\":\"markers+text\",\"name\":\"\",\"scene\":\"scene\",\"showlegend\":false,\"text\":[\"sepal length (cm)\",\"sepal width (cm)\",\"petal length (cm)\",\"petal width (cm)\"],\"x\":[0.5210659146701195,-0.2693474425059428,0.5804130957962943,0.564856535779361],\"y\":[0.3774176155645671,0.9232956595407146,0.024491609085586438,0.06694198696805843],\"z\":[-0.7195663527008167,0.24438177951439935,0.14212636933390294,0.6342727371109231],\"type\":\"scatter3d\"}],                        {\"template\":{\"data\":{\"bar\":[{\"error_x\":{\"color\":\"#2a3f5f\"},\"error_y\":{\"color\":\"#2a3f5f\"},\"marker\":{\"line\":{\"color\":\"#E5ECF6\",\"width\":0.5},\"pattern\":{\"fillmode\":\"overlay\",\"size\":10,\"solidity\":0.2}},\"type\":\"bar\"}],\"barpolar\":[{\"marker\":{\"line\":{\"color\":\"#E5ECF6\",\"width\":0.5},\"pattern\":{\"fillmode\":\"overlay\",\"size\":10,\"solidity\":0.2}},\"type\":\"barpolar\"}],\"carpet\":[{\"aaxis\":{\"endlinecolor\":\"#2a3f5f\",\"gridcolor\":\"white\",\"linecolor\":\"white\",\"minorgridcolor\":\"white\",\"startlinecolor\":\"#2a3f5f\"},\"baxis\":{\"endlinecolor\":\"#2a3f5f\",\"gridcolor\":\"white\",\"linecolor\":\"white\",\"minorgridcolor\":\"white\",\"startlinecolor\":\"#2a3f5f\"},\"type\":\"carpet\"}],\"choropleth\":[{\"colorbar\":{\"outlinewidth\":0,\"ticks\":\"\"},\"type\":\"choropleth\"}],\"contour\":[{\"colorbar\":{\"outlinewidth\":0,\"ticks\":\"\"},\"colorscale\":[[0.0,\"#0d0887\"],[0.1111111111111111,\"#46039f\"],[0.2222222222222222,\"#7201a8\"],[0.3333333333333333,\"#9c179e\"],[0.4444444444444444,\"#bd3786\"],[0.5555555555555556,\"#d8576b\"],[0.6666666666666666,\"#ed7953\"],[0.7777777777777778,\"#fb9f3a\"],[0.8888888888888888,\"#fdca26\"],[1.0,\"#f0f921\"]],\"type\":\"contour\"}],\"contourcarpet\":[{\"colorbar\":{\"outlinewidth\":0,\"ticks\":\"\"},\"type\":\"contourcarpet\"}],\"heatmap\":[{\"colorbar\":{\"outlinewidth\":0,\"ticks\":\"\"},\"colorscale\":[[0.0,\"#0d0887\"],[0.1111111111111111,\"#46039f\"],[0.2222222222222222,\"#7201a8\"],[0.3333333333333333,\"#9c179e\"],[0.4444444444444444,\"#bd3786\"],[0.5555555555555556,\"#d8576b\"],[0.6666666666666666,\"#ed7953\"],[0.7777777777777778,\"#fb9f3a\"],[0.8888888888888888,\"#fdca26\"],[1.0,\"#f0f921\"]],\"type\":\"heatmap\"}],\"heatmapgl\":[{\"colorbar\":{\"outlinewidth\":0,\"ticks\":\"\"},\"colorscale\":[[0.0,\"#0d0887\"],[0.1111111111111111,\"#46039f\"],[0.2222222222222222,\"#7201a8\"],[0.3333333333333333,\"#9c179e\"],[0.4444444444444444,\"#bd3786\"],[0.5555555555555556,\"#d8576b\"],[0.6666666666666666,\"#ed7953\"],[0.7777777777777778,\"#fb9f3a\"],[0.8888888888888888,\"#fdca26\"],[1.0,\"#f0f921\"]],\"type\":\"heatmapgl\"}],\"histogram\":[{\"marker\":{\"pattern\":{\"fillmode\":\"overlay\",\"size\":10,\"solidity\":0.2}},\"type\":\"histogram\"}],\"histogram2d\":[{\"colorbar\":{\"outlinewidth\":0,\"ticks\":\"\"},\"colorscale\":[[0.0,\"#0d0887\"],[0.1111111111111111,\"#46039f\"],[0.2222222222222222,\"#7201a8\"],[0.3333333333333333,\"#9c179e\"],[0.4444444444444444,\"#bd3786\"],[0.5555555555555556,\"#d8576b\"],[0.6666666666666666,\"#ed7953\"],[0.7777777777777778,\"#fb9f3a\"],[0.8888888888888888,\"#fdca26\"],[1.0,\"#f0f921\"]],\"type\":\"histogram2d\"}],\"histogram2dcontour\":[{\"colorbar\":{\"outlinewidth\":0,\"ticks\":\"\"},\"colorscale\":[[0.0,\"#0d0887\"],[0.1111111111111111,\"#46039f\"],[0.2222222222222222,\"#7201a8\"],[0.3333333333333333,\"#9c179e\"],[0.4444444444444444,\"#bd3786\"],[0.5555555555555556,\"#d8576b\"],[0.6666666666666666,\"#ed7953\"],[0.7777777777777778,\"#fb9f3a\"],[0.8888888888888888,\"#fdca26\"],[1.0,\"#f0f921\"]],\"type\":\"histogram2dcontour\"}],\"mesh3d\":[{\"colorbar\":{\"outlinewidth\":0,\"ticks\":\"\"},\"type\":\"mesh3d\"}],\"parcoords\":[{\"line\":{\"colorbar\":{\"outlinewidth\":0,\"ticks\":\"\"}},\"type\":\"parcoords\"}],\"pie\":[{\"automargin\":true,\"type\":\"pie\"}],\"scatter\":[{\"marker\":{\"colorbar\":{\"outlinewidth\":0,\"ticks\":\"\"}},\"type\":\"scatter\"}],\"scatter3d\":[{\"line\":{\"colorbar\":{\"outlinewidth\":0,\"ticks\":\"\"}},\"marker\":{\"colorbar\":{\"outlinewidth\":0,\"ticks\":\"\"}},\"type\":\"scatter3d\"}],\"scattercarpet\":[{\"marker\":{\"colorbar\":{\"outlinewidth\":0,\"ticks\":\"\"}},\"type\":\"scattercarpet\"}],\"scattergeo\":[{\"marker\":{\"colorbar\":{\"outlinewidth\":0,\"ticks\":\"\"}},\"type\":\"scattergeo\"}],\"scattergl\":[{\"marker\":{\"colorbar\":{\"outlinewidth\":0,\"ticks\":\"\"}},\"type\":\"scattergl\"}],\"scattermapbox\":[{\"marker\":{\"colorbar\":{\"outlinewidth\":0,\"ticks\":\"\"}},\"type\":\"scattermapbox\"}],\"scatterpolar\":[{\"marker\":{\"colorbar\":{\"outlinewidth\":0,\"ticks\":\"\"}},\"type\":\"scatterpolar\"}],\"scatterpolargl\":[{\"marker\":{\"colorbar\":{\"outlinewidth\":0,\"ticks\":\"\"}},\"type\":\"scatterpolargl\"}],\"scatterternary\":[{\"marker\":{\"colorbar\":{\"outlinewidth\":0,\"ticks\":\"\"}},\"type\":\"scatterternary\"}],\"surface\":[{\"colorbar\":{\"outlinewidth\":0,\"ticks\":\"\"},\"colorscale\":[[0.0,\"#0d0887\"],[0.1111111111111111,\"#46039f\"],[0.2222222222222222,\"#7201a8\"],[0.3333333333333333,\"#9c179e\"],[0.4444444444444444,\"#bd3786\"],[0.5555555555555556,\"#d8576b\"],[0.6666666666666666,\"#ed7953\"],[0.7777777777777778,\"#fb9f3a\"],[0.8888888888888888,\"#fdca26\"],[1.0,\"#f0f921\"]],\"type\":\"surface\"}],\"table\":[{\"cells\":{\"fill\":{\"color\":\"#EBF0F8\"},\"line\":{\"color\":\"white\"}},\"header\":{\"fill\":{\"color\":\"#C8D4E3\"},\"line\":{\"color\":\"white\"}},\"type\":\"table\"}]},\"layout\":{\"annotationdefaults\":{\"arrowcolor\":\"#2a3f5f\",\"arrowhead\":0,\"arrowwidth\":1},\"autotypenumbers\":\"strict\",\"coloraxis\":{\"colorbar\":{\"outlinewidth\":0,\"ticks\":\"\"}},\"colorscale\":{\"diverging\":[[0,\"#8e0152\"],[0.1,\"#c51b7d\"],[0.2,\"#de77ae\"],[0.3,\"#f1b6da\"],[0.4,\"#fde0ef\"],[0.5,\"#f7f7f7\"],[0.6,\"#e6f5d0\"],[0.7,\"#b8e186\"],[0.8,\"#7fbc41\"],[0.9,\"#4d9221\"],[1,\"#276419\"]],\"sequential\":[[0.0,\"#0d0887\"],[0.1111111111111111,\"#46039f\"],[0.2222222222222222,\"#7201a8\"],[0.3333333333333333,\"#9c179e\"],[0.4444444444444444,\"#bd3786\"],[0.5555555555555556,\"#d8576b\"],[0.6666666666666666,\"#ed7953\"],[0.7777777777777778,\"#fb9f3a\"],[0.8888888888888888,\"#fdca26\"],[1.0,\"#f0f921\"]],\"sequentialminus\":[[0.0,\"#0d0887\"],[0.1111111111111111,\"#46039f\"],[0.2222222222222222,\"#7201a8\"],[0.3333333333333333,\"#9c179e\"],[0.4444444444444444,\"#bd3786\"],[0.5555555555555556,\"#d8576b\"],[0.6666666666666666,\"#ed7953\"],[0.7777777777777778,\"#fb9f3a\"],[0.8888888888888888,\"#fdca26\"],[1.0,\"#f0f921\"]]},\"colorway\":[\"#636efa\",\"#EF553B\",\"#00cc96\",\"#ab63fa\",\"#FFA15A\",\"#19d3f3\",\"#FF6692\",\"#B6E880\",\"#FF97FF\",\"#FECB52\"],\"font\":{\"color\":\"#2a3f5f\"},\"geo\":{\"bgcolor\":\"white\",\"lakecolor\":\"white\",\"landcolor\":\"#E5ECF6\",\"showlakes\":true,\"showland\":true,\"subunitcolor\":\"white\"},\"hoverlabel\":{\"align\":\"left\"},\"hovermode\":\"closest\",\"mapbox\":{\"style\":\"light\"},\"paper_bgcolor\":\"white\",\"plot_bgcolor\":\"#E5ECF6\",\"polar\":{\"angularaxis\":{\"gridcolor\":\"white\",\"linecolor\":\"white\",\"ticks\":\"\"},\"bgcolor\":\"#E5ECF6\",\"radialaxis\":{\"gridcolor\":\"white\",\"linecolor\":\"white\",\"ticks\":\"\"}},\"scene\":{\"xaxis\":{\"backgroundcolor\":\"#E5ECF6\",\"gridcolor\":\"white\",\"gridwidth\":2,\"linecolor\":\"white\",\"showbackground\":true,\"ticks\":\"\",\"zerolinecolor\":\"white\"},\"yaxis\":{\"backgroundcolor\":\"#E5ECF6\",\"gridcolor\":\"white\",\"gridwidth\":2,\"linecolor\":\"white\",\"showbackground\":true,\"ticks\":\"\",\"zerolinecolor\":\"white\"},\"zaxis\":{\"backgroundcolor\":\"#E5ECF6\",\"gridcolor\":\"white\",\"gridwidth\":2,\"linecolor\":\"white\",\"showbackground\":true,\"ticks\":\"\",\"zerolinecolor\":\"white\"}},\"shapedefaults\":{\"line\":{\"color\":\"#2a3f5f\"}},\"ternary\":{\"aaxis\":{\"gridcolor\":\"white\",\"linecolor\":\"white\",\"ticks\":\"\"},\"baxis\":{\"gridcolor\":\"white\",\"linecolor\":\"white\",\"ticks\":\"\"},\"bgcolor\":\"#E5ECF6\",\"caxis\":{\"gridcolor\":\"white\",\"linecolor\":\"white\",\"ticks\":\"\"}},\"title\":{\"x\":0.05},\"xaxis\":{\"automargin\":true,\"gridcolor\":\"white\",\"linecolor\":\"white\",\"ticks\":\"\",\"title\":{\"standoff\":15},\"zerolinecolor\":\"white\",\"zerolinewidth\":2},\"yaxis\":{\"automargin\":true,\"gridcolor\":\"white\",\"linecolor\":\"white\",\"ticks\":\"\",\"title\":{\"standoff\":15},\"zerolinecolor\":\"white\",\"zerolinewidth\":2}}},\"scene\":{\"domain\":{\"x\":[0.0,1.0],\"y\":[0.0,1.0]},\"xaxis\":{\"title\":{\"text\":\"PC1\"}},\"yaxis\":{\"title\":{\"text\":\"PC2\"}},\"zaxis\":{\"title\":{\"text\":\"PC3\"}}},\"legend\":{\"tracegroupgap\":0},\"margin\":{\"t\":60}},                        {\"responsive\": true}                    ).then(function(){\n",
       "                            \n",
       "var gd = document.getElementById('eab2b714-a8ba-43ce-811f-965630eb3d2e');\n",
       "var x = new MutationObserver(function (mutations, observer) {{\n",
       "        var display = window.getComputedStyle(gd).display;\n",
       "        if (!display || display === 'none') {{\n",
       "            console.log([gd, 'removed!']);\n",
       "            Plotly.purge(gd);\n",
       "            observer.disconnect();\n",
       "        }}\n",
       "}});\n",
       "\n",
       "// Listen for the removal of the full notebook cells\n",
       "var notebookContainer = gd.closest('#notebook-container');\n",
       "if (notebookContainer) {{\n",
       "    x.observe(notebookContainer, {childList: true});\n",
       "}}\n",
       "\n",
       "// Listen for the clearing of the current output cell\n",
       "var outputEl = gd.closest('.output');\n",
       "if (outputEl) {{\n",
       "    x.observe(outputEl, {childList: true});\n",
       "}}\n",
       "\n",
       "                        })                };                });            </script>        </div>"
      ]
     },
     "metadata": {},
     "output_type": "display_data"
    }
   ],
   "source": [
    "loadings_label = df_loadings.index\n",
    "# loadings_label = df_loadings.index.str.strip(' (cm)')\n",
    "\n",
    "fig = px.scatter_3d(df_loadings, x='PC1', y='PC2', z='PC3',\n",
    "                    text = loadings_label)\n",
    "\n",
    "fig.show()"
   ]
  },
  {
   "cell_type": "markdown",
   "metadata": {
    "colab_type": "text",
    "id": "zKCQCAE7pADa"
   },
   "source": [
    "---"
   ]
  },
  {
   "cell_type": "code",
   "execution_count": 111,
   "metadata": {},
   "outputs": [
    {
     "data": {
      "application/vnd.plotly.v1+json": {
       "config": {
        "plotlyServerURL": "https://plot.ly"
       },
       "data": [
        {
         "hovertemplate": "Species=Setosa<br>PC1=%{x}<br>PC2=%{y}<br>PC3=%{z}<extra></extra>",
         "legendgroup": "Setosa",
         "marker": {
          "color": "#636efa",
          "opacity": 0.5,
          "symbol": "circle"
         },
         "mode": "markers",
         "name": "Setosa",
         "scene": "scene",
         "showlegend": true,
         "type": "scatter3d",
         "x": [
          -2.264702808807587,
          -2.080961151965766,
          -2.3642290538902992,
          -2.2993842170427063,
          -2.3898421663138425,
          -2.07563094817651,
          -2.4440288351341506,
          -2.232847158872013,
          -2.3346404779076195,
          -2.1843281749339405,
          -2.1663101007013204,
          -2.3261308664426967,
          -2.2184508988224074,
          -2.633100695765226,
          -2.198740603266688,
          -2.2622145316010194,
          -2.20758769582459,
          -2.1903495091922967,
          -1.8985719958028402,
          -2.3433690530749907,
          -1.914322996082566,
          -2.2070128431947964,
          -2.77434470292733,
          -1.8186695286958476,
          -2.227163305706637,
          -1.9518463309003744,
          -2.0511513727294135,
          -2.1685771746542146,
          -2.1395634513013295,
          -2.265261493154239,
          -2.1401221356479825,
          -1.831594770676027,
          -2.6149479358589325,
          -2.4461773916965126,
          -2.1099748753186507,
          -2.207808899078264,
          -2.0451462067541994,
          -2.5273319131704843,
          -2.429632575084544,
          -2.1697107116306618,
          -2.286475143345668,
          -1.85812245637357,
          -2.553638395614354,
          -1.9644476837637388,
          -2.1370590058116212,
          -2.0697442995918283,
          -2.3847331657782607,
          -2.394376314219631,
          -2.229446547942673,
          -2.2038334355191282
         ],
         "y": [
          0.48002659652098917,
          -0.6741335566053525,
          -0.34190802388467595,
          -0.5973945076746751,
          0.6468353829020268,
          1.4891775233211662,
          0.047644197630014484,
          0.22314807268959186,
          -1.1153276754616657,
          -0.46901356140237543,
          1.0436906530538592,
          0.13307833523923185,
          -0.7286761653165703,
          -0.9615067291701623,
          1.86005711329393,
          2.686284485110591,
          1.483609363155572,
          0.48883831648632753,
          1.4050187944665484,
          1.1278493819084754,
          0.40885570775590613,
          0.9241214267468981,
          0.45834366775291535,
          0.08555852628736615,
          0.1372544553634275,
          -0.6256185877766762,
          0.24216355266166717,
          0.5271495253082672,
          0.31321781013995187,
          -0.3377319037604803,
          -0.5045406901415179,
          0.4236950676037857,
          1.793575856104428,
          2.150727877392923,
          -0.4602018414370371,
          -0.20610739768843678,
          0.6615581114631078,
          0.5922927741908093,
          -0.9041800403761474,
          0.26887896143547085,
          0.44171538769905,
          -2.3374151575533473,
          -0.47910069012231365,
          0.47232666771926074,
          1.1422292620394083,
          -0.7110527253858936,
          1.1204297019845357,
          -0.38624687258915685,
          0.9979597643079798,
          0.009216357521276308
         ],
         "z": [
          -0.1277060223001521,
          -0.23460885398456743,
          0.0442014848387442,
          0.09129010632068257,
          0.015738195676259115,
          0.026968294439782187,
          0.3354704011431143,
          -0.08869549794772602,
          0.14507686363700034,
          -0.2537655673000062,
          -0.2686811022161343,
          0.09375924438111205,
          -0.23091123720660245,
          0.1807960844031795,
          -0.4729009978730765,
          0.030526609265511116,
          -0.0053440940782637225,
          -0.044215316478453504,
          -0.3743432745576544,
          0.13263046678130258,
          -0.42129259408735625,
          0.1598652772262532,
          0.3321790975568665,
          0.03448859579998159,
          0.11799353576964644,
          -0.30564098232520753,
          0.08636401082518264,
          -0.20681624777030433,
          -0.27115024027656404,
          0.0684357762272787,
          -0.07500844174913268,
          -0.27046737670298204,
          0.04722841866848648,
          -0.08266804506156751,
          -0.17027486147830773,
          -0.2254415800897568,
          -0.4845374098283169,
          0.019435812454223544,
          0.19325466188423712,
          -0.17588382054738888,
          0.03489490899169778,
          -0.20423422253096524,
          0.3057664526377337,
          0.309601317845328,
          0.24843356112104717,
          -0.06392982556320537,
          0.057217858089115614,
          0.13946790456791947,
          -0.18149277961647065,
          -0.15302949045398584
         ]
        },
        {
         "hovertemplate": "Species=Versicolor<br>PC1=%{x}<br>PC2=%{y}<br>PC3=%{z}<extra></extra>",
         "legendgroup": "Versicolor",
         "marker": {
          "color": "#EF553B",
          "opacity": 0.5,
          "symbol": "diamond"
         },
         "mode": "markers",
         "name": "Versicolor",
         "scene": "scene",
         "showlegend": true,
         "type": "scatter3d",
         "x": [
          1.1017811830529476,
          0.7313374253960874,
          1.240979319515831,
          0.407483058817385,
          1.075474700609078,
          0.388687336535665,
          0.7465297413291607,
          -0.48732274212563925,
          0.9279016383549451,
          0.01142618873698048,
          -0.11019628000062887,
          0.4406934489830784,
          0.5621083064431787,
          0.7195618886754963,
          -0.033354703178771955,
          0.8754071908577374,
          0.3502516679950828,
          0.1588100475479714,
          1.2250936335624312,
          0.16491789938632734,
          0.7376826487712582,
          0.47628719094097133,
          1.2341780976571486,
          0.6328581997098216,
          0.7026611831361822,
          0.8742736538812901,
          1.2565091165418831,
          1.3584051214406316,
          0.6648003672253946,
          -0.04025861090059524,
          0.13079517549786063,
          0.02345268897055086,
          0.241538272954511,
          1.0610946088426136,
          0.22397877351237988,
          0.4291391155161609,
          1.0487280512090873,
          1.0445313843962787,
          0.06958832111642317,
          0.28347723828757543,
          0.27907777605546097,
          0.6245697914985714,
          0.3365303701314358,
          -0.3621833846193829,
          0.2885862388231574,
          0.09136065565450562,
          0.22771686553470022,
          0.5763882886534786,
          -0.4476670190286113,
          0.25673058888758477
         ],
         "y": [
          0.8629724182621583,
          0.5946147256694243,
          0.6162976544374981,
          -1.7544039893234096,
          -0.2084210460509654,
          -0.5932836359900747,
          0.7730193120985963,
          -1.8524290868575732,
          0.03222607789115367,
          -1.03401827512944,
          -2.654072818536563,
          -0.06329518843800136,
          -1.7647243806169446,
          -0.18622460583150566,
          -0.43900320998162445,
          0.5090639567734083,
          -0.1963117345514438,
          -0.792095742432721,
          -1.6222438030915012,
          -1.3026092302957721,
          0.3965715619602389,
          -0.41732028121355075,
          -0.933325728799278,
          -0.41638772088909914,
          -0.06341181972480014,
          0.25079339290061187,
          -0.07725601969586904,
          0.33131168179089787,
          -0.22592785469484344,
          -1.0587185465539084,
          -1.5622718342099668,
          -1.5724755942167037,
          -0.7772563825848413,
          -0.6338432447349465,
          -0.28777351204320195,
          0.8455822409050785,
          0.5220517968629423,
          -1.3829887191907813,
          -0.21950333464771477,
          -1.3293246390695757,
          -1.1200285237424032,
          0.02492302925401267,
          -0.9884040176703597,
          -2.019237873238611,
          -0.8557303199870658,
          -0.1811921258257751,
          -0.3849200809873536,
          -0.15487359721655877,
          -1.5437920343977554,
          -0.598851796155669
         ],
         "z": [
          -0.6845861626897373,
          -0.09412171552908238,
          -0.5540068353861012,
          -0.02310176781380191,
          -0.39825552250622714,
          0.12419154951817021,
          0.14896940252805108,
          0.24926526578924946,
          -0.5961693613725388,
          0.538899390184368,
          -0.046790444058383396,
          0.20507381532720287,
          -0.765771393653962,
          -0.06865894542301264,
          0.19493289332897895,
          -0.5035113816560304,
          0.4908730745147276,
          -0.3020371744413825,
          -0.4823040240972383,
          -0.17283780843287672,
          0.6165263063228641,
          -0.2649522265280397,
          -0.36841227204861066,
          -0.291896252443158,
          -0.44602700756174735,
          -0.47257895443311493,
          -0.7271550018678924,
          -0.2608265767906141,
          0.08586388873932603,
          -0.3195733299955368,
          -0.14998347833947362,
          -0.24155228129068373,
          -0.1512119570570083,
          0.10531138658459716,
          0.6652497197140536,
          0.4506340714447661,
          -0.39578638444579733,
          -0.6882959600930618,
          0.2915792743532846,
          0.08941002293969477,
          0.09448760101279036,
          -0.020481147175775816,
          -0.1993897553042452,
          0.10582104781283808,
          0.1308896853525515,
          0.12897834306143374,
          0.15621315350638407,
          -0.2716503623624206,
          0.19040093039983624,
          0.09187916100012428
         ]
        },
        {
         "hovertemplate": "Species=Virginica<br>PC1=%{x}<br>PC2=%{y}<br>PC3=%{z}<extra></extra>",
         "legendgroup": "Virginica",
         "marker": {
          "color": "#00cc96",
          "opacity": 0.5,
          "symbol": "square"
         },
         "mode": "markers",
         "name": "Virginica",
         "scene": "scene",
         "showlegend": true,
         "type": "scatter3d",
         "x": [
          1.8445688677230287,
          1.1578816132057794,
          2.2052667910753776,
          1.4401506638275392,
          1.8678122203305372,
          2.751873335666276,
          0.36701768786072453,
          2.3024394446251963,
          2.006686467676605,
          2.2597773490125,
          1.3641754921860074,
          1.6026786704779301,
          1.8839007017032423,
          1.2601150991975074,
          1.4676452010173235,
          1.5900773176145653,
          1.4714314611333177,
          2.4263289873157,
          3.310695583933886,
          1.2637666736398276,
          2.037716301469404,
          0.9779807342494213,
          2.8976514907341677,
          1.3332321759732082,
          1.700733897491217,
          1.9543267058530704,
          1.1751036315549324,
          1.0209505506957908,
          1.788349920179665,
          1.8636475533282604,
          2.4359537279227026,
          2.3049277218317643,
          1.8627032197949551,
          1.1141477406864744,
          1.2024733016783904,
          2.7987704475781072,
          1.576255910194754,
          1.3462921036270616,
          0.9248249165424192,
          1.8520450517676696,
          2.014810429954875,
          1.9017840902621888,
          1.1578816132057794,
          2.040558228052092,
          1.9981470959523757,
          1.87050329295641,
          1.5645804830303276,
          1.5211704996278375,
          1.3727877895140728,
          0.9606560300371276
         ],
         "y": [
          0.870421312324823,
          -0.6988698623306899,
          0.5620104770083553,
          -0.046987588105806444,
          0.2950448244570196,
          0.8004092010275415,
          -1.5615028914765048,
          0.42006557964277613,
          -0.7114386535471586,
          1.9210103764598856,
          0.6927564544903866,
          -0.42170044977261706,
          0.41924965060512326,
          -1.162260421406463,
          -0.44227158737708205,
          0.6762448057233199,
          0.2556218244714704,
          2.556661250795491,
          0.017780949320626682,
          -1.7067453803762669,
          0.9104674096183104,
          -0.5717643248129913,
          0.4136410595956474,
          -0.48181121864942916,
          1.013921867322791,
          1.0077775961534519,
          -0.3163944723097908,
          0.06434602923956188,
          -0.18736121459082855,
          0.5622907258861443,
          0.2592844331442799,
          2.626323468232377,
          -0.17854949462549013,
          -0.29292262333573116,
          -0.8113152708396684,
          0.8568033294971048,
          1.0685811073208074,
          0.4224306108525082,
          0.017223100452284243,
          0.6761281744365212,
          0.6138856369235748,
          0.6895754942430022,
          -0.6988698623306899,
          0.867520600955228,
          1.0491687471841447,
          0.3869660816657253,
          -0.896686808896526,
          0.26906914427795153,
          1.0112544185267927,
          -0.024331668169399183
         ],
         "z": [
          1.0054010176069874,
          0.5301601492490194,
          -0.20291416973686893,
          0.1636301068300584,
          0.39562837455329747,
          -0.5823091028286049,
          0.9868932674720257,
          -0.6517064392599938,
          -0.39399057081656497,
          0.39755189746977415,
          0.2846120737568164,
          0.02318640791006238,
          0.026338409544074737,
          0.5802492897873728,
          1.0038695737342604,
          0.6384287080805978,
          0.03743125987796858,
          -0.12788145946307217,
          -0.70330530390333,
          -0.26753689325035435,
          0.23479948360032743,
          0.8281272013877699,
          -0.8574218248739521,
          -0.005428363830018212,
          0.2984506125330053,
          -0.41998472191862035,
          0.1299377570168813,
          0.33771596749955307,
          0.2706580063187422,
          -0.715634118574537,
          -0.7278161456737302,
          -0.4934738076943308,
          0.3541487121404408,
          -0.18348839165934305,
          -0.16472375738765405,
          -0.542906499432429,
          0.945853818643991,
          0.1808754778543798,
          0.4168261929697045,
          -0.012672114808352175,
          0.42833284211509315,
          0.1300750054465103,
          0.5301601492490194,
          0.33814400045901416,
          0.6324134358197996,
          0.2562738523986001,
          -0.026371351632304918,
          0.18017838013283133,
          0.9333952411629326,
          0.5282488069579019
         ]
        },
        {
         "hovertemplate": "PC1=%{x}<br>PC2=%{y}<br>PC3=%{z}<br>index=%{text}<extra></extra>",
         "legendgroup": "",
         "marker": {
          "color": "#636efa",
          "symbol": "circle"
         },
         "mode": "markers+text",
         "name": "",
         "scene": "scene",
         "showlegend": false,
         "text": [
          "sepal length (cm)",
          "sepal width (cm)",
          "petal length (cm)",
          "petal width (cm)"
         ],
         "type": "scatter3d",
         "x": [
          0.5210659146701195,
          -0.2693474425059428,
          0.5804130957962943,
          0.564856535779361
         ],
         "y": [
          0.3774176155645671,
          0.9232956595407146,
          0.024491609085586438,
          0.06694198696805843
         ],
         "z": [
          -0.7195663527008167,
          0.24438177951439935,
          0.14212636933390294,
          0.6342727371109231
         ]
        }
       ],
       "layout": {
        "legend": {
         "title": {
          "text": "Species"
         },
         "tracegroupgap": 0
        },
        "margin": {
         "b": 0,
         "l": 0,
         "r": 0,
         "t": 0
        },
        "scene": {
         "domain": {
          "x": [
           0,
           1
          ],
          "y": [
           0,
           1
          ]
         },
         "xaxis": {
          "title": {
           "text": "PC1"
          }
         },
         "yaxis": {
          "title": {
           "text": "PC2"
          }
         },
         "zaxis": {
          "title": {
           "text": "PC3"
          }
         }
        },
        "template": {
         "data": {
          "bar": [
           {
            "error_x": {
             "color": "#2a3f5f"
            },
            "error_y": {
             "color": "#2a3f5f"
            },
            "marker": {
             "line": {
              "color": "#E5ECF6",
              "width": 0.5
             },
             "pattern": {
              "fillmode": "overlay",
              "size": 10,
              "solidity": 0.2
             }
            },
            "type": "bar"
           }
          ],
          "barpolar": [
           {
            "marker": {
             "line": {
              "color": "#E5ECF6",
              "width": 0.5
             },
             "pattern": {
              "fillmode": "overlay",
              "size": 10,
              "solidity": 0.2
             }
            },
            "type": "barpolar"
           }
          ],
          "carpet": [
           {
            "aaxis": {
             "endlinecolor": "#2a3f5f",
             "gridcolor": "white",
             "linecolor": "white",
             "minorgridcolor": "white",
             "startlinecolor": "#2a3f5f"
            },
            "baxis": {
             "endlinecolor": "#2a3f5f",
             "gridcolor": "white",
             "linecolor": "white",
             "minorgridcolor": "white",
             "startlinecolor": "#2a3f5f"
            },
            "type": "carpet"
           }
          ],
          "choropleth": [
           {
            "colorbar": {
             "outlinewidth": 0,
             "ticks": ""
            },
            "type": "choropleth"
           }
          ],
          "contour": [
           {
            "colorbar": {
             "outlinewidth": 0,
             "ticks": ""
            },
            "colorscale": [
             [
              0,
              "#0d0887"
             ],
             [
              0.1111111111111111,
              "#46039f"
             ],
             [
              0.2222222222222222,
              "#7201a8"
             ],
             [
              0.3333333333333333,
              "#9c179e"
             ],
             [
              0.4444444444444444,
              "#bd3786"
             ],
             [
              0.5555555555555556,
              "#d8576b"
             ],
             [
              0.6666666666666666,
              "#ed7953"
             ],
             [
              0.7777777777777778,
              "#fb9f3a"
             ],
             [
              0.8888888888888888,
              "#fdca26"
             ],
             [
              1,
              "#f0f921"
             ]
            ],
            "type": "contour"
           }
          ],
          "contourcarpet": [
           {
            "colorbar": {
             "outlinewidth": 0,
             "ticks": ""
            },
            "type": "contourcarpet"
           }
          ],
          "heatmap": [
           {
            "colorbar": {
             "outlinewidth": 0,
             "ticks": ""
            },
            "colorscale": [
             [
              0,
              "#0d0887"
             ],
             [
              0.1111111111111111,
              "#46039f"
             ],
             [
              0.2222222222222222,
              "#7201a8"
             ],
             [
              0.3333333333333333,
              "#9c179e"
             ],
             [
              0.4444444444444444,
              "#bd3786"
             ],
             [
              0.5555555555555556,
              "#d8576b"
             ],
             [
              0.6666666666666666,
              "#ed7953"
             ],
             [
              0.7777777777777778,
              "#fb9f3a"
             ],
             [
              0.8888888888888888,
              "#fdca26"
             ],
             [
              1,
              "#f0f921"
             ]
            ],
            "type": "heatmap"
           }
          ],
          "heatmapgl": [
           {
            "colorbar": {
             "outlinewidth": 0,
             "ticks": ""
            },
            "colorscale": [
             [
              0,
              "#0d0887"
             ],
             [
              0.1111111111111111,
              "#46039f"
             ],
             [
              0.2222222222222222,
              "#7201a8"
             ],
             [
              0.3333333333333333,
              "#9c179e"
             ],
             [
              0.4444444444444444,
              "#bd3786"
             ],
             [
              0.5555555555555556,
              "#d8576b"
             ],
             [
              0.6666666666666666,
              "#ed7953"
             ],
             [
              0.7777777777777778,
              "#fb9f3a"
             ],
             [
              0.8888888888888888,
              "#fdca26"
             ],
             [
              1,
              "#f0f921"
             ]
            ],
            "type": "heatmapgl"
           }
          ],
          "histogram": [
           {
            "marker": {
             "pattern": {
              "fillmode": "overlay",
              "size": 10,
              "solidity": 0.2
             }
            },
            "type": "histogram"
           }
          ],
          "histogram2d": [
           {
            "colorbar": {
             "outlinewidth": 0,
             "ticks": ""
            },
            "colorscale": [
             [
              0,
              "#0d0887"
             ],
             [
              0.1111111111111111,
              "#46039f"
             ],
             [
              0.2222222222222222,
              "#7201a8"
             ],
             [
              0.3333333333333333,
              "#9c179e"
             ],
             [
              0.4444444444444444,
              "#bd3786"
             ],
             [
              0.5555555555555556,
              "#d8576b"
             ],
             [
              0.6666666666666666,
              "#ed7953"
             ],
             [
              0.7777777777777778,
              "#fb9f3a"
             ],
             [
              0.8888888888888888,
              "#fdca26"
             ],
             [
              1,
              "#f0f921"
             ]
            ],
            "type": "histogram2d"
           }
          ],
          "histogram2dcontour": [
           {
            "colorbar": {
             "outlinewidth": 0,
             "ticks": ""
            },
            "colorscale": [
             [
              0,
              "#0d0887"
             ],
             [
              0.1111111111111111,
              "#46039f"
             ],
             [
              0.2222222222222222,
              "#7201a8"
             ],
             [
              0.3333333333333333,
              "#9c179e"
             ],
             [
              0.4444444444444444,
              "#bd3786"
             ],
             [
              0.5555555555555556,
              "#d8576b"
             ],
             [
              0.6666666666666666,
              "#ed7953"
             ],
             [
              0.7777777777777778,
              "#fb9f3a"
             ],
             [
              0.8888888888888888,
              "#fdca26"
             ],
             [
              1,
              "#f0f921"
             ]
            ],
            "type": "histogram2dcontour"
           }
          ],
          "mesh3d": [
           {
            "colorbar": {
             "outlinewidth": 0,
             "ticks": ""
            },
            "type": "mesh3d"
           }
          ],
          "parcoords": [
           {
            "line": {
             "colorbar": {
              "outlinewidth": 0,
              "ticks": ""
             }
            },
            "type": "parcoords"
           }
          ],
          "pie": [
           {
            "automargin": true,
            "type": "pie"
           }
          ],
          "scatter": [
           {
            "marker": {
             "colorbar": {
              "outlinewidth": 0,
              "ticks": ""
             }
            },
            "type": "scatter"
           }
          ],
          "scatter3d": [
           {
            "line": {
             "colorbar": {
              "outlinewidth": 0,
              "ticks": ""
             }
            },
            "marker": {
             "colorbar": {
              "outlinewidth": 0,
              "ticks": ""
             }
            },
            "type": "scatter3d"
           }
          ],
          "scattercarpet": [
           {
            "marker": {
             "colorbar": {
              "outlinewidth": 0,
              "ticks": ""
             }
            },
            "type": "scattercarpet"
           }
          ],
          "scattergeo": [
           {
            "marker": {
             "colorbar": {
              "outlinewidth": 0,
              "ticks": ""
             }
            },
            "type": "scattergeo"
           }
          ],
          "scattergl": [
           {
            "marker": {
             "colorbar": {
              "outlinewidth": 0,
              "ticks": ""
             }
            },
            "type": "scattergl"
           }
          ],
          "scattermapbox": [
           {
            "marker": {
             "colorbar": {
              "outlinewidth": 0,
              "ticks": ""
             }
            },
            "type": "scattermapbox"
           }
          ],
          "scatterpolar": [
           {
            "marker": {
             "colorbar": {
              "outlinewidth": 0,
              "ticks": ""
             }
            },
            "type": "scatterpolar"
           }
          ],
          "scatterpolargl": [
           {
            "marker": {
             "colorbar": {
              "outlinewidth": 0,
              "ticks": ""
             }
            },
            "type": "scatterpolargl"
           }
          ],
          "scatterternary": [
           {
            "marker": {
             "colorbar": {
              "outlinewidth": 0,
              "ticks": ""
             }
            },
            "type": "scatterternary"
           }
          ],
          "surface": [
           {
            "colorbar": {
             "outlinewidth": 0,
             "ticks": ""
            },
            "colorscale": [
             [
              0,
              "#0d0887"
             ],
             [
              0.1111111111111111,
              "#46039f"
             ],
             [
              0.2222222222222222,
              "#7201a8"
             ],
             [
              0.3333333333333333,
              "#9c179e"
             ],
             [
              0.4444444444444444,
              "#bd3786"
             ],
             [
              0.5555555555555556,
              "#d8576b"
             ],
             [
              0.6666666666666666,
              "#ed7953"
             ],
             [
              0.7777777777777778,
              "#fb9f3a"
             ],
             [
              0.8888888888888888,
              "#fdca26"
             ],
             [
              1,
              "#f0f921"
             ]
            ],
            "type": "surface"
           }
          ],
          "table": [
           {
            "cells": {
             "fill": {
              "color": "#EBF0F8"
             },
             "line": {
              "color": "white"
             }
            },
            "header": {
             "fill": {
              "color": "#C8D4E3"
             },
             "line": {
              "color": "white"
             }
            },
            "type": "table"
           }
          ]
         },
         "layout": {
          "annotationdefaults": {
           "arrowcolor": "#2a3f5f",
           "arrowhead": 0,
           "arrowwidth": 1
          },
          "autotypenumbers": "strict",
          "coloraxis": {
           "colorbar": {
            "outlinewidth": 0,
            "ticks": ""
           }
          },
          "colorscale": {
           "diverging": [
            [
             0,
             "#8e0152"
            ],
            [
             0.1,
             "#c51b7d"
            ],
            [
             0.2,
             "#de77ae"
            ],
            [
             0.3,
             "#f1b6da"
            ],
            [
             0.4,
             "#fde0ef"
            ],
            [
             0.5,
             "#f7f7f7"
            ],
            [
             0.6,
             "#e6f5d0"
            ],
            [
             0.7,
             "#b8e186"
            ],
            [
             0.8,
             "#7fbc41"
            ],
            [
             0.9,
             "#4d9221"
            ],
            [
             1,
             "#276419"
            ]
           ],
           "sequential": [
            [
             0,
             "#0d0887"
            ],
            [
             0.1111111111111111,
             "#46039f"
            ],
            [
             0.2222222222222222,
             "#7201a8"
            ],
            [
             0.3333333333333333,
             "#9c179e"
            ],
            [
             0.4444444444444444,
             "#bd3786"
            ],
            [
             0.5555555555555556,
             "#d8576b"
            ],
            [
             0.6666666666666666,
             "#ed7953"
            ],
            [
             0.7777777777777778,
             "#fb9f3a"
            ],
            [
             0.8888888888888888,
             "#fdca26"
            ],
            [
             1,
             "#f0f921"
            ]
           ],
           "sequentialminus": [
            [
             0,
             "#0d0887"
            ],
            [
             0.1111111111111111,
             "#46039f"
            ],
            [
             0.2222222222222222,
             "#7201a8"
            ],
            [
             0.3333333333333333,
             "#9c179e"
            ],
            [
             0.4444444444444444,
             "#bd3786"
            ],
            [
             0.5555555555555556,
             "#d8576b"
            ],
            [
             0.6666666666666666,
             "#ed7953"
            ],
            [
             0.7777777777777778,
             "#fb9f3a"
            ],
            [
             0.8888888888888888,
             "#fdca26"
            ],
            [
             1,
             "#f0f921"
            ]
           ]
          },
          "colorway": [
           "#636efa",
           "#EF553B",
           "#00cc96",
           "#ab63fa",
           "#FFA15A",
           "#19d3f3",
           "#FF6692",
           "#B6E880",
           "#FF97FF",
           "#FECB52"
          ],
          "font": {
           "color": "#2a3f5f"
          },
          "geo": {
           "bgcolor": "white",
           "lakecolor": "white",
           "landcolor": "#E5ECF6",
           "showlakes": true,
           "showland": true,
           "subunitcolor": "white"
          },
          "hoverlabel": {
           "align": "left"
          },
          "hovermode": "closest",
          "mapbox": {
           "style": "light"
          },
          "paper_bgcolor": "white",
          "plot_bgcolor": "#E5ECF6",
          "polar": {
           "angularaxis": {
            "gridcolor": "white",
            "linecolor": "white",
            "ticks": ""
           },
           "bgcolor": "#E5ECF6",
           "radialaxis": {
            "gridcolor": "white",
            "linecolor": "white",
            "ticks": ""
           }
          },
          "scene": {
           "xaxis": {
            "backgroundcolor": "#E5ECF6",
            "gridcolor": "white",
            "gridwidth": 2,
            "linecolor": "white",
            "showbackground": true,
            "ticks": "",
            "zerolinecolor": "white"
           },
           "yaxis": {
            "backgroundcolor": "#E5ECF6",
            "gridcolor": "white",
            "gridwidth": 2,
            "linecolor": "white",
            "showbackground": true,
            "ticks": "",
            "zerolinecolor": "white"
           },
           "zaxis": {
            "backgroundcolor": "#E5ECF6",
            "gridcolor": "white",
            "gridwidth": 2,
            "linecolor": "white",
            "showbackground": true,
            "ticks": "",
            "zerolinecolor": "white"
           }
          },
          "shapedefaults": {
           "line": {
            "color": "#2a3f5f"
           }
          },
          "ternary": {
           "aaxis": {
            "gridcolor": "white",
            "linecolor": "white",
            "ticks": ""
           },
           "baxis": {
            "gridcolor": "white",
            "linecolor": "white",
            "ticks": ""
           },
           "bgcolor": "#E5ECF6",
           "caxis": {
            "gridcolor": "white",
            "linecolor": "white",
            "ticks": ""
           }
          },
          "title": {
           "x": 0.05
          },
          "xaxis": {
           "automargin": true,
           "gridcolor": "white",
           "linecolor": "white",
           "ticks": "",
           "title": {
            "standoff": 15
           },
           "zerolinecolor": "white",
           "zerolinewidth": 2
          },
          "yaxis": {
           "automargin": true,
           "gridcolor": "white",
           "linecolor": "white",
           "ticks": "",
           "title": {
            "standoff": 15
           },
           "zerolinecolor": "white",
           "zerolinewidth": 2
          }
         }
        }
       }
      },
      "text/html": [
       "<div>                            <div id=\"f4b31b98-75c2-4b11-aa31-f95917a5cc78\" class=\"plotly-graph-div\" style=\"height:525px; width:100%;\"></div>            <script type=\"text/javascript\">                require([\"plotly\"], function(Plotly) {                    window.PLOTLYENV=window.PLOTLYENV || {};                                    if (document.getElementById(\"f4b31b98-75c2-4b11-aa31-f95917a5cc78\")) {                    Plotly.newPlot(                        \"f4b31b98-75c2-4b11-aa31-f95917a5cc78\",                        [{\"hovertemplate\":\"Species=Setosa<br>PC1=%{x}<br>PC2=%{y}<br>PC3=%{z}<extra></extra>\",\"legendgroup\":\"Setosa\",\"marker\":{\"color\":\"#636efa\",\"opacity\":0.5,\"symbol\":\"circle\"},\"mode\":\"markers\",\"name\":\"Setosa\",\"scene\":\"scene\",\"showlegend\":true,\"x\":[-2.264702808807587,-2.080961151965766,-2.3642290538902992,-2.2993842170427063,-2.3898421663138425,-2.07563094817651,-2.4440288351341506,-2.232847158872013,-2.3346404779076195,-2.1843281749339405,-2.1663101007013204,-2.3261308664426967,-2.2184508988224074,-2.633100695765226,-2.198740603266688,-2.2622145316010194,-2.20758769582459,-2.1903495091922967,-1.8985719958028402,-2.3433690530749907,-1.914322996082566,-2.2070128431947964,-2.77434470292733,-1.8186695286958476,-2.227163305706637,-1.9518463309003744,-2.0511513727294135,-2.1685771746542146,-2.1395634513013295,-2.265261493154239,-2.1401221356479825,-1.831594770676027,-2.6149479358589325,-2.4461773916965126,-2.1099748753186507,-2.207808899078264,-2.0451462067541994,-2.5273319131704843,-2.429632575084544,-2.1697107116306618,-2.286475143345668,-1.85812245637357,-2.553638395614354,-1.9644476837637388,-2.1370590058116212,-2.0697442995918283,-2.3847331657782607,-2.394376314219631,-2.229446547942673,-2.2038334355191282],\"y\":[0.48002659652098917,-0.6741335566053525,-0.34190802388467595,-0.5973945076746751,0.6468353829020268,1.4891775233211662,0.047644197630014484,0.22314807268959186,-1.1153276754616657,-0.46901356140237543,1.0436906530538592,0.13307833523923185,-0.7286761653165703,-0.9615067291701623,1.86005711329393,2.686284485110591,1.483609363155572,0.48883831648632753,1.4050187944665484,1.1278493819084754,0.40885570775590613,0.9241214267468981,0.45834366775291535,0.08555852628736615,0.1372544553634275,-0.6256185877766762,0.24216355266166717,0.5271495253082672,0.31321781013995187,-0.3377319037604803,-0.5045406901415179,0.4236950676037857,1.793575856104428,2.150727877392923,-0.4602018414370371,-0.20610739768843678,0.6615581114631078,0.5922927741908093,-0.9041800403761474,0.26887896143547085,0.44171538769905,-2.3374151575533473,-0.47910069012231365,0.47232666771926074,1.1422292620394083,-0.7110527253858936,1.1204297019845357,-0.38624687258915685,0.9979597643079798,0.009216357521276308],\"z\":[-0.1277060223001521,-0.23460885398456743,0.0442014848387442,0.09129010632068257,0.015738195676259115,0.026968294439782187,0.3354704011431143,-0.08869549794772602,0.14507686363700034,-0.2537655673000062,-0.2686811022161343,0.09375924438111205,-0.23091123720660245,0.1807960844031795,-0.4729009978730765,0.030526609265511116,-0.0053440940782637225,-0.044215316478453504,-0.3743432745576544,0.13263046678130258,-0.42129259408735625,0.1598652772262532,0.3321790975568665,0.03448859579998159,0.11799353576964644,-0.30564098232520753,0.08636401082518264,-0.20681624777030433,-0.27115024027656404,0.0684357762272787,-0.07500844174913268,-0.27046737670298204,0.04722841866848648,-0.08266804506156751,-0.17027486147830773,-0.2254415800897568,-0.4845374098283169,0.019435812454223544,0.19325466188423712,-0.17588382054738888,0.03489490899169778,-0.20423422253096524,0.3057664526377337,0.309601317845328,0.24843356112104717,-0.06392982556320537,0.057217858089115614,0.13946790456791947,-0.18149277961647065,-0.15302949045398584],\"type\":\"scatter3d\"},{\"hovertemplate\":\"Species=Versicolor<br>PC1=%{x}<br>PC2=%{y}<br>PC3=%{z}<extra></extra>\",\"legendgroup\":\"Versicolor\",\"marker\":{\"color\":\"#EF553B\",\"opacity\":0.5,\"symbol\":\"diamond\"},\"mode\":\"markers\",\"name\":\"Versicolor\",\"scene\":\"scene\",\"showlegend\":true,\"x\":[1.1017811830529476,0.7313374253960874,1.240979319515831,0.407483058817385,1.075474700609078,0.388687336535665,0.7465297413291607,-0.48732274212563925,0.9279016383549451,0.01142618873698048,-0.11019628000062887,0.4406934489830784,0.5621083064431787,0.7195618886754963,-0.033354703178771955,0.8754071908577374,0.3502516679950828,0.1588100475479714,1.2250936335624312,0.16491789938632734,0.7376826487712582,0.47628719094097133,1.2341780976571486,0.6328581997098216,0.7026611831361822,0.8742736538812901,1.2565091165418831,1.3584051214406316,0.6648003672253946,-0.04025861090059524,0.13079517549786063,0.02345268897055086,0.241538272954511,1.0610946088426136,0.22397877351237988,0.4291391155161609,1.0487280512090873,1.0445313843962787,0.06958832111642317,0.28347723828757543,0.27907777605546097,0.6245697914985714,0.3365303701314358,-0.3621833846193829,0.2885862388231574,0.09136065565450562,0.22771686553470022,0.5763882886534786,-0.4476670190286113,0.25673058888758477],\"y\":[0.8629724182621583,0.5946147256694243,0.6162976544374981,-1.7544039893234096,-0.2084210460509654,-0.5932836359900747,0.7730193120985963,-1.8524290868575732,0.03222607789115367,-1.03401827512944,-2.654072818536563,-0.06329518843800136,-1.7647243806169446,-0.18622460583150566,-0.43900320998162445,0.5090639567734083,-0.1963117345514438,-0.792095742432721,-1.6222438030915012,-1.3026092302957721,0.3965715619602389,-0.41732028121355075,-0.933325728799278,-0.41638772088909914,-0.06341181972480014,0.25079339290061187,-0.07725601969586904,0.33131168179089787,-0.22592785469484344,-1.0587185465539084,-1.5622718342099668,-1.5724755942167037,-0.7772563825848413,-0.6338432447349465,-0.28777351204320195,0.8455822409050785,0.5220517968629423,-1.3829887191907813,-0.21950333464771477,-1.3293246390695757,-1.1200285237424032,0.02492302925401267,-0.9884040176703597,-2.019237873238611,-0.8557303199870658,-0.1811921258257751,-0.3849200809873536,-0.15487359721655877,-1.5437920343977554,-0.598851796155669],\"z\":[-0.6845861626897373,-0.09412171552908238,-0.5540068353861012,-0.02310176781380191,-0.39825552250622714,0.12419154951817021,0.14896940252805108,0.24926526578924946,-0.5961693613725388,0.538899390184368,-0.046790444058383396,0.20507381532720287,-0.765771393653962,-0.06865894542301264,0.19493289332897895,-0.5035113816560304,0.4908730745147276,-0.3020371744413825,-0.4823040240972383,-0.17283780843287672,0.6165263063228641,-0.2649522265280397,-0.36841227204861066,-0.291896252443158,-0.44602700756174735,-0.47257895443311493,-0.7271550018678924,-0.2608265767906141,0.08586388873932603,-0.3195733299955368,-0.14998347833947362,-0.24155228129068373,-0.1512119570570083,0.10531138658459716,0.6652497197140536,0.4506340714447661,-0.39578638444579733,-0.6882959600930618,0.2915792743532846,0.08941002293969477,0.09448760101279036,-0.020481147175775816,-0.1993897553042452,0.10582104781283808,0.1308896853525515,0.12897834306143374,0.15621315350638407,-0.2716503623624206,0.19040093039983624,0.09187916100012428],\"type\":\"scatter3d\"},{\"hovertemplate\":\"Species=Virginica<br>PC1=%{x}<br>PC2=%{y}<br>PC3=%{z}<extra></extra>\",\"legendgroup\":\"Virginica\",\"marker\":{\"color\":\"#00cc96\",\"opacity\":0.5,\"symbol\":\"square\"},\"mode\":\"markers\",\"name\":\"Virginica\",\"scene\":\"scene\",\"showlegend\":true,\"x\":[1.8445688677230287,1.1578816132057794,2.2052667910753776,1.4401506638275392,1.8678122203305372,2.751873335666276,0.36701768786072453,2.3024394446251963,2.006686467676605,2.2597773490125,1.3641754921860074,1.6026786704779301,1.8839007017032423,1.2601150991975074,1.4676452010173235,1.5900773176145653,1.4714314611333177,2.4263289873157,3.310695583933886,1.2637666736398276,2.037716301469404,0.9779807342494213,2.8976514907341677,1.3332321759732082,1.700733897491217,1.9543267058530704,1.1751036315549324,1.0209505506957908,1.788349920179665,1.8636475533282604,2.4359537279227026,2.3049277218317643,1.8627032197949551,1.1141477406864744,1.2024733016783904,2.7987704475781072,1.576255910194754,1.3462921036270616,0.9248249165424192,1.8520450517676696,2.014810429954875,1.9017840902621888,1.1578816132057794,2.040558228052092,1.9981470959523757,1.87050329295641,1.5645804830303276,1.5211704996278375,1.3727877895140728,0.9606560300371276],\"y\":[0.870421312324823,-0.6988698623306899,0.5620104770083553,-0.046987588105806444,0.2950448244570196,0.8004092010275415,-1.5615028914765048,0.42006557964277613,-0.7114386535471586,1.9210103764598856,0.6927564544903866,-0.42170044977261706,0.41924965060512326,-1.162260421406463,-0.44227158737708205,0.6762448057233199,0.2556218244714704,2.556661250795491,0.017780949320626682,-1.7067453803762669,0.9104674096183104,-0.5717643248129913,0.4136410595956474,-0.48181121864942916,1.013921867322791,1.0077775961534519,-0.3163944723097908,0.06434602923956188,-0.18736121459082855,0.5622907258861443,0.2592844331442799,2.626323468232377,-0.17854949462549013,-0.29292262333573116,-0.8113152708396684,0.8568033294971048,1.0685811073208074,0.4224306108525082,0.017223100452284243,0.6761281744365212,0.6138856369235748,0.6895754942430022,-0.6988698623306899,0.867520600955228,1.0491687471841447,0.3869660816657253,-0.896686808896526,0.26906914427795153,1.0112544185267927,-0.024331668169399183],\"z\":[1.0054010176069874,0.5301601492490194,-0.20291416973686893,0.1636301068300584,0.39562837455329747,-0.5823091028286049,0.9868932674720257,-0.6517064392599938,-0.39399057081656497,0.39755189746977415,0.2846120737568164,0.02318640791006238,0.026338409544074737,0.5802492897873728,1.0038695737342604,0.6384287080805978,0.03743125987796858,-0.12788145946307217,-0.70330530390333,-0.26753689325035435,0.23479948360032743,0.8281272013877699,-0.8574218248739521,-0.005428363830018212,0.2984506125330053,-0.41998472191862035,0.1299377570168813,0.33771596749955307,0.2706580063187422,-0.715634118574537,-0.7278161456737302,-0.4934738076943308,0.3541487121404408,-0.18348839165934305,-0.16472375738765405,-0.542906499432429,0.945853818643991,0.1808754778543798,0.4168261929697045,-0.012672114808352175,0.42833284211509315,0.1300750054465103,0.5301601492490194,0.33814400045901416,0.6324134358197996,0.2562738523986001,-0.026371351632304918,0.18017838013283133,0.9333952411629326,0.5282488069579019],\"type\":\"scatter3d\"},{\"hovertemplate\":\"PC1=%{x}<br>PC2=%{y}<br>PC3=%{z}<br>index=%{text}<extra></extra>\",\"legendgroup\":\"\",\"marker\":{\"color\":\"#636efa\",\"symbol\":\"circle\"},\"mode\":\"markers+text\",\"name\":\"\",\"scene\":\"scene\",\"showlegend\":false,\"text\":[\"sepal length (cm)\",\"sepal width (cm)\",\"petal length (cm)\",\"petal width (cm)\"],\"x\":[0.5210659146701195,-0.2693474425059428,0.5804130957962943,0.564856535779361],\"y\":[0.3774176155645671,0.9232956595407146,0.024491609085586438,0.06694198696805843],\"z\":[-0.7195663527008167,0.24438177951439935,0.14212636933390294,0.6342727371109231],\"type\":\"scatter3d\"}],                        {\"template\":{\"data\":{\"bar\":[{\"error_x\":{\"color\":\"#2a3f5f\"},\"error_y\":{\"color\":\"#2a3f5f\"},\"marker\":{\"line\":{\"color\":\"#E5ECF6\",\"width\":0.5},\"pattern\":{\"fillmode\":\"overlay\",\"size\":10,\"solidity\":0.2}},\"type\":\"bar\"}],\"barpolar\":[{\"marker\":{\"line\":{\"color\":\"#E5ECF6\",\"width\":0.5},\"pattern\":{\"fillmode\":\"overlay\",\"size\":10,\"solidity\":0.2}},\"type\":\"barpolar\"}],\"carpet\":[{\"aaxis\":{\"endlinecolor\":\"#2a3f5f\",\"gridcolor\":\"white\",\"linecolor\":\"white\",\"minorgridcolor\":\"white\",\"startlinecolor\":\"#2a3f5f\"},\"baxis\":{\"endlinecolor\":\"#2a3f5f\",\"gridcolor\":\"white\",\"linecolor\":\"white\",\"minorgridcolor\":\"white\",\"startlinecolor\":\"#2a3f5f\"},\"type\":\"carpet\"}],\"choropleth\":[{\"colorbar\":{\"outlinewidth\":0,\"ticks\":\"\"},\"type\":\"choropleth\"}],\"contour\":[{\"colorbar\":{\"outlinewidth\":0,\"ticks\":\"\"},\"colorscale\":[[0.0,\"#0d0887\"],[0.1111111111111111,\"#46039f\"],[0.2222222222222222,\"#7201a8\"],[0.3333333333333333,\"#9c179e\"],[0.4444444444444444,\"#bd3786\"],[0.5555555555555556,\"#d8576b\"],[0.6666666666666666,\"#ed7953\"],[0.7777777777777778,\"#fb9f3a\"],[0.8888888888888888,\"#fdca26\"],[1.0,\"#f0f921\"]],\"type\":\"contour\"}],\"contourcarpet\":[{\"colorbar\":{\"outlinewidth\":0,\"ticks\":\"\"},\"type\":\"contourcarpet\"}],\"heatmap\":[{\"colorbar\":{\"outlinewidth\":0,\"ticks\":\"\"},\"colorscale\":[[0.0,\"#0d0887\"],[0.1111111111111111,\"#46039f\"],[0.2222222222222222,\"#7201a8\"],[0.3333333333333333,\"#9c179e\"],[0.4444444444444444,\"#bd3786\"],[0.5555555555555556,\"#d8576b\"],[0.6666666666666666,\"#ed7953\"],[0.7777777777777778,\"#fb9f3a\"],[0.8888888888888888,\"#fdca26\"],[1.0,\"#f0f921\"]],\"type\":\"heatmap\"}],\"heatmapgl\":[{\"colorbar\":{\"outlinewidth\":0,\"ticks\":\"\"},\"colorscale\":[[0.0,\"#0d0887\"],[0.1111111111111111,\"#46039f\"],[0.2222222222222222,\"#7201a8\"],[0.3333333333333333,\"#9c179e\"],[0.4444444444444444,\"#bd3786\"],[0.5555555555555556,\"#d8576b\"],[0.6666666666666666,\"#ed7953\"],[0.7777777777777778,\"#fb9f3a\"],[0.8888888888888888,\"#fdca26\"],[1.0,\"#f0f921\"]],\"type\":\"heatmapgl\"}],\"histogram\":[{\"marker\":{\"pattern\":{\"fillmode\":\"overlay\",\"size\":10,\"solidity\":0.2}},\"type\":\"histogram\"}],\"histogram2d\":[{\"colorbar\":{\"outlinewidth\":0,\"ticks\":\"\"},\"colorscale\":[[0.0,\"#0d0887\"],[0.1111111111111111,\"#46039f\"],[0.2222222222222222,\"#7201a8\"],[0.3333333333333333,\"#9c179e\"],[0.4444444444444444,\"#bd3786\"],[0.5555555555555556,\"#d8576b\"],[0.6666666666666666,\"#ed7953\"],[0.7777777777777778,\"#fb9f3a\"],[0.8888888888888888,\"#fdca26\"],[1.0,\"#f0f921\"]],\"type\":\"histogram2d\"}],\"histogram2dcontour\":[{\"colorbar\":{\"outlinewidth\":0,\"ticks\":\"\"},\"colorscale\":[[0.0,\"#0d0887\"],[0.1111111111111111,\"#46039f\"],[0.2222222222222222,\"#7201a8\"],[0.3333333333333333,\"#9c179e\"],[0.4444444444444444,\"#bd3786\"],[0.5555555555555556,\"#d8576b\"],[0.6666666666666666,\"#ed7953\"],[0.7777777777777778,\"#fb9f3a\"],[0.8888888888888888,\"#fdca26\"],[1.0,\"#f0f921\"]],\"type\":\"histogram2dcontour\"}],\"mesh3d\":[{\"colorbar\":{\"outlinewidth\":0,\"ticks\":\"\"},\"type\":\"mesh3d\"}],\"parcoords\":[{\"line\":{\"colorbar\":{\"outlinewidth\":0,\"ticks\":\"\"}},\"type\":\"parcoords\"}],\"pie\":[{\"automargin\":true,\"type\":\"pie\"}],\"scatter\":[{\"marker\":{\"colorbar\":{\"outlinewidth\":0,\"ticks\":\"\"}},\"type\":\"scatter\"}],\"scatter3d\":[{\"line\":{\"colorbar\":{\"outlinewidth\":0,\"ticks\":\"\"}},\"marker\":{\"colorbar\":{\"outlinewidth\":0,\"ticks\":\"\"}},\"type\":\"scatter3d\"}],\"scattercarpet\":[{\"marker\":{\"colorbar\":{\"outlinewidth\":0,\"ticks\":\"\"}},\"type\":\"scattercarpet\"}],\"scattergeo\":[{\"marker\":{\"colorbar\":{\"outlinewidth\":0,\"ticks\":\"\"}},\"type\":\"scattergeo\"}],\"scattergl\":[{\"marker\":{\"colorbar\":{\"outlinewidth\":0,\"ticks\":\"\"}},\"type\":\"scattergl\"}],\"scattermapbox\":[{\"marker\":{\"colorbar\":{\"outlinewidth\":0,\"ticks\":\"\"}},\"type\":\"scattermapbox\"}],\"scatterpolar\":[{\"marker\":{\"colorbar\":{\"outlinewidth\":0,\"ticks\":\"\"}},\"type\":\"scatterpolar\"}],\"scatterpolargl\":[{\"marker\":{\"colorbar\":{\"outlinewidth\":0,\"ticks\":\"\"}},\"type\":\"scatterpolargl\"}],\"scatterternary\":[{\"marker\":{\"colorbar\":{\"outlinewidth\":0,\"ticks\":\"\"}},\"type\":\"scatterternary\"}],\"surface\":[{\"colorbar\":{\"outlinewidth\":0,\"ticks\":\"\"},\"colorscale\":[[0.0,\"#0d0887\"],[0.1111111111111111,\"#46039f\"],[0.2222222222222222,\"#7201a8\"],[0.3333333333333333,\"#9c179e\"],[0.4444444444444444,\"#bd3786\"],[0.5555555555555556,\"#d8576b\"],[0.6666666666666666,\"#ed7953\"],[0.7777777777777778,\"#fb9f3a\"],[0.8888888888888888,\"#fdca26\"],[1.0,\"#f0f921\"]],\"type\":\"surface\"}],\"table\":[{\"cells\":{\"fill\":{\"color\":\"#EBF0F8\"},\"line\":{\"color\":\"white\"}},\"header\":{\"fill\":{\"color\":\"#C8D4E3\"},\"line\":{\"color\":\"white\"}},\"type\":\"table\"}]},\"layout\":{\"annotationdefaults\":{\"arrowcolor\":\"#2a3f5f\",\"arrowhead\":0,\"arrowwidth\":1},\"autotypenumbers\":\"strict\",\"coloraxis\":{\"colorbar\":{\"outlinewidth\":0,\"ticks\":\"\"}},\"colorscale\":{\"diverging\":[[0,\"#8e0152\"],[0.1,\"#c51b7d\"],[0.2,\"#de77ae\"],[0.3,\"#f1b6da\"],[0.4,\"#fde0ef\"],[0.5,\"#f7f7f7\"],[0.6,\"#e6f5d0\"],[0.7,\"#b8e186\"],[0.8,\"#7fbc41\"],[0.9,\"#4d9221\"],[1,\"#276419\"]],\"sequential\":[[0.0,\"#0d0887\"],[0.1111111111111111,\"#46039f\"],[0.2222222222222222,\"#7201a8\"],[0.3333333333333333,\"#9c179e\"],[0.4444444444444444,\"#bd3786\"],[0.5555555555555556,\"#d8576b\"],[0.6666666666666666,\"#ed7953\"],[0.7777777777777778,\"#fb9f3a\"],[0.8888888888888888,\"#fdca26\"],[1.0,\"#f0f921\"]],\"sequentialminus\":[[0.0,\"#0d0887\"],[0.1111111111111111,\"#46039f\"],[0.2222222222222222,\"#7201a8\"],[0.3333333333333333,\"#9c179e\"],[0.4444444444444444,\"#bd3786\"],[0.5555555555555556,\"#d8576b\"],[0.6666666666666666,\"#ed7953\"],[0.7777777777777778,\"#fb9f3a\"],[0.8888888888888888,\"#fdca26\"],[1.0,\"#f0f921\"]]},\"colorway\":[\"#636efa\",\"#EF553B\",\"#00cc96\",\"#ab63fa\",\"#FFA15A\",\"#19d3f3\",\"#FF6692\",\"#B6E880\",\"#FF97FF\",\"#FECB52\"],\"font\":{\"color\":\"#2a3f5f\"},\"geo\":{\"bgcolor\":\"white\",\"lakecolor\":\"white\",\"landcolor\":\"#E5ECF6\",\"showlakes\":true,\"showland\":true,\"subunitcolor\":\"white\"},\"hoverlabel\":{\"align\":\"left\"},\"hovermode\":\"closest\",\"mapbox\":{\"style\":\"light\"},\"paper_bgcolor\":\"white\",\"plot_bgcolor\":\"#E5ECF6\",\"polar\":{\"angularaxis\":{\"gridcolor\":\"white\",\"linecolor\":\"white\",\"ticks\":\"\"},\"bgcolor\":\"#E5ECF6\",\"radialaxis\":{\"gridcolor\":\"white\",\"linecolor\":\"white\",\"ticks\":\"\"}},\"scene\":{\"xaxis\":{\"backgroundcolor\":\"#E5ECF6\",\"gridcolor\":\"white\",\"gridwidth\":2,\"linecolor\":\"white\",\"showbackground\":true,\"ticks\":\"\",\"zerolinecolor\":\"white\"},\"yaxis\":{\"backgroundcolor\":\"#E5ECF6\",\"gridcolor\":\"white\",\"gridwidth\":2,\"linecolor\":\"white\",\"showbackground\":true,\"ticks\":\"\",\"zerolinecolor\":\"white\"},\"zaxis\":{\"backgroundcolor\":\"#E5ECF6\",\"gridcolor\":\"white\",\"gridwidth\":2,\"linecolor\":\"white\",\"showbackground\":true,\"ticks\":\"\",\"zerolinecolor\":\"white\"}},\"shapedefaults\":{\"line\":{\"color\":\"#2a3f5f\"}},\"ternary\":{\"aaxis\":{\"gridcolor\":\"white\",\"linecolor\":\"white\",\"ticks\":\"\"},\"baxis\":{\"gridcolor\":\"white\",\"linecolor\":\"white\",\"ticks\":\"\"},\"bgcolor\":\"#E5ECF6\",\"caxis\":{\"gridcolor\":\"white\",\"linecolor\":\"white\",\"ticks\":\"\"}},\"title\":{\"x\":0.05},\"xaxis\":{\"automargin\":true,\"gridcolor\":\"white\",\"linecolor\":\"white\",\"ticks\":\"\",\"title\":{\"standoff\":15},\"zerolinecolor\":\"white\",\"zerolinewidth\":2},\"yaxis\":{\"automargin\":true,\"gridcolor\":\"white\",\"linecolor\":\"white\",\"ticks\":\"\",\"title\":{\"standoff\":15},\"zerolinecolor\":\"white\",\"zerolinewidth\":2}}},\"scene\":{\"domain\":{\"x\":[0.0,1.0],\"y\":[0.0,1.0]},\"xaxis\":{\"title\":{\"text\":\"PC1\"}},\"yaxis\":{\"title\":{\"text\":\"PC2\"}},\"zaxis\":{\"title\":{\"text\":\"PC3\"}}},\"legend\":{\"title\":{\"text\":\"Species\"},\"tracegroupgap\":0},\"margin\":{\"t\":0,\"l\":0,\"r\":0,\"b\":0}},                        {\"responsive\": true}                    ).then(function(){\n",
       "                            \n",
       "var gd = document.getElementById('f4b31b98-75c2-4b11-aa31-f95917a5cc78');\n",
       "var x = new MutationObserver(function (mutations, observer) {{\n",
       "        var display = window.getComputedStyle(gd).display;\n",
       "        if (!display || display === 'none') {{\n",
       "            console.log([gd, 'removed!']);\n",
       "            Plotly.purge(gd);\n",
       "            observer.disconnect();\n",
       "        }}\n",
       "}});\n",
       "\n",
       "// Listen for the removal of the full notebook cells\n",
       "var notebookContainer = gd.closest('#notebook-container');\n",
       "if (notebookContainer) {{\n",
       "    x.observe(notebookContainer, {childList: true});\n",
       "}}\n",
       "\n",
       "// Listen for the clearing of the current output cell\n",
       "var outputEl = gd.closest('.output');\n",
       "if (outputEl) {{\n",
       "    x.observe(outputEl, {childList: true});\n",
       "}}\n",
       "\n",
       "                        })                };                });            </script>        </div>"
      ]
     },
     "metadata": {},
     "output_type": "display_data"
    }
   ],
   "source": [
    "\n",
    "fig = px.scatter_3d(df_scores, x='PC1', y='PC2', z='PC3',\n",
    "              color='Species',\n",
    "              symbol='Species',\n",
    "              opacity=0.5)\n",
    "\n",
    "# tight layout\n",
    "fig.update_layout(margin=dict(l=0, r=0, b=0, t=0))\n",
    "\n",
    "fig.add_trace(px.scatter_3d(df_loadings, x='PC1', y='PC2', z='PC3',\n",
    "                    text = loadings_label).data[0])\n",
    "\n",
    "fig.show()"
   ]
  }
 ],
 "metadata": {
  "colab": {
   "collapsed_sections": [
    "993wzT_Qu6ld",
    "zIEVV6ilwmd-",
    "epeccObO2_mi",
    "OB_LvOxNW5Wx",
    "ZtIDXw_AfOwW"
   ],
   "name": "PCA-analysis.ipynb",
   "provenance": []
  },
  "kernelspec": {
   "display_name": "Python 3 (ipykernel)",
   "language": "python",
   "name": "python3"
  },
  "language_info": {
   "codemirror_mode": {
    "name": "ipython",
    "version": 3
   },
   "file_extension": ".py",
   "mimetype": "text/x-python",
   "name": "python",
   "nbconvert_exporter": "python",
   "pygments_lexer": "ipython3",
   "version": "3.9.7"
  },
  "widgets": {
   "application/vnd.jupyter.widget-state+json": {
    "state": {},
    "version_major": 2,
    "version_minor": 0
   }
  }
 },
 "nbformat": 4,
 "nbformat_minor": 1
}
