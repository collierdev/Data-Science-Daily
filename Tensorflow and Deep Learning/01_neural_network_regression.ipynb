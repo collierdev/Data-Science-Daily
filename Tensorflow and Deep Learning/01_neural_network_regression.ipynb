{
 "cells": [
  {
   "cell_type": "markdown",
   "id": "d7d33300",
   "metadata": {},
   "source": [
    "# Introduction to Regression with Neural Networks in TensorFlow\n",
    "\n",
    "A regression problem can be used for predicting a numerical variable based on some other combination of variables... predicitng a number."
   ]
  },
  {
   "cell_type": "code",
   "execution_count": 2,
   "id": "a298628b",
   "metadata": {},
   "outputs": [
    {
     "name": "stdout",
     "output_type": "stream",
     "text": [
      "2.8.0\n"
     ]
    }
   ],
   "source": [
    "# Import TensorFlow\n",
    "import tensorflow as tf\n",
    "print(tf.__version__)"
   ]
  },
  {
   "cell_type": "markdown",
   "id": "80a28ea4",
   "metadata": {},
   "source": [
    "## Create data to view and fit"
   ]
  },
  {
   "cell_type": "code",
   "execution_count": 3,
   "id": "7091afc1",
   "metadata": {},
   "outputs": [
    {
     "data": {
      "text/plain": [
       "<matplotlib.collections.PathCollection at 0x1c5091f0b20>"
      ]
     },
     "execution_count": 3,
     "metadata": {},
     "output_type": "execute_result"
    },
    {
     "data": {
      "image/png": "[encoded data removed]",
      "text/plain": [
       "<Figure size 432x288 with 1 Axes>"
      ]
     },
     "metadata": {
      "needs_background": "light"
     },
     "output_type": "display_data"
    }
   ],
   "source": [
    "import numpy as np\n",
    "import matplotlib.pyplot as plt\n",
    "\n",
    "# Create features\n",
    "X = np.array([-7.0, -4.0, -1.0, 2.0, 5.0, 8.0, 11.0, 14.0])\n",
    "\n",
    "# Create labels\n",
    "y = np.array([3.0, 6.0, 9.0, 12.0, 15.0, 18.0, 21.0, 24.0])\n",
    "\n",
    "# Visualize it\n",
    "plt.scatter(X,y)"
   ]
  },
  {
   "cell_type": "code",
   "execution_count": 74,
   "id": "e87533dc",
   "metadata": {},
   "outputs": [
    {
     "data": {
      "text/plain": [
       "array([ True,  True,  True,  True,  True,  True,  True,  True])"
      ]
     },
     "execution_count": 74,
     "metadata": {},
     "output_type": "execute_result"
    }
   ],
   "source": [
    "# Relationship to make the neural network learn\n",
    "y == X + 10"
   ]
  },
  {
   "cell_type": "markdown",
   "id": "161ec2a2",
   "metadata": {},
   "source": [
    "## Input and output shapes"
   ]
  },
  {
   "cell_type": "code",
   "execution_count": 75,
   "id": "a0e0e419",
   "metadata": {},
   "outputs": [
    {
     "data": {
      "text/plain": [
       "(<tf.Tensor: shape=(3,), dtype=string, numpy=array([b'bedroon', b'bathroom', b'garage'], dtype=object)>,\n",
       " <tf.Tensor: shape=(1,), dtype=int32, numpy=array([939700])>)"
      ]
     },
     "execution_count": 75,
     "metadata": {},
     "output_type": "execute_result"
    }
   ],
   "source": [
    "# Create a demo tensor for our housing price prediction\n",
    "house_info = tf.constant([\"bedroon\", \"bathroom\", \"garage\"])\n",
    "house_price = tf.constant([939700])\n",
    "house_info, house_price"
   ]
  },
  {
   "cell_type": "code",
   "execution_count": 76,
   "id": "1d8fc5d5",
   "metadata": {},
   "outputs": [
    {
     "data": {
      "text/plain": [
       "((), ())"
      ]
     },
     "execution_count": 76,
     "metadata": {},
     "output_type": "execute_result"
    }
   ],
   "source": [
    "input_shape = X[0].shape\n",
    "output_shape = y[0].shape\n",
    "input_shape, output_shape"
   ]
  },
  {
   "cell_type": "code",
   "execution_count": 77,
   "id": "0abcfb67",
   "metadata": {},
   "outputs": [
    {
     "data": {
      "text/plain": [
       "(0, 0)"
      ]
     },
     "execution_count": 77,
     "metadata": {},
     "output_type": "execute_result"
    }
   ],
   "source": [
    "X[0].ndim, y[0].ndim"
   ]
  },
  {
   "cell_type": "code",
   "execution_count": 78,
   "id": "a98ac966",
   "metadata": {},
   "outputs": [
    {
     "data": {
      "text/plain": [
       "(-7.0, 3.0)"
      ]
     },
     "execution_count": 78,
     "metadata": {},
     "output_type": "execute_result"
    }
   ],
   "source": [
    "X[0], y[0]"
   ]
  },
  {
   "cell_type": "markdown",
   "id": "00d30c47",
   "metadata": {},
   "source": [
    "They are scalars thus they have dimension of 0"
   ]
  },
  {
   "cell_type": "code",
   "execution_count": 79,
   "id": "9d932684",
   "metadata": {},
   "outputs": [
    {
     "data": {
      "text/plain": [
       "(<tf.Tensor: shape=(8,), dtype=float64, numpy=array([-7., -4., -1.,  2.,  5.,  8., 11., 14.])>,\n",
       " <tf.Tensor: shape=(8,), dtype=float64, numpy=array([ 3.,  6.,  9., 12., 15., 18., 21., 24.])>)"
      ]
     },
     "execution_count": 79,
     "metadata": {},
     "output_type": "execute_result"
    }
   ],
   "source": [
    "# Turn NumPy arrats into tensors\n",
    "X = tf.constant(X)\n",
    "y = tf.constant(y)\n",
    "X,y"
   ]
  },
  {
   "cell_type": "code",
   "execution_count": 80,
   "id": "f66fa8df",
   "metadata": {},
   "outputs": [
    {
     "name": "stdout",
     "output_type": "stream",
     "text": [
      "Input Shape: ()\n",
      "Ouput Shape: ()\n",
      "X dimensions: 0\n",
      "y dimensions: 0\n"
     ]
    }
   ],
   "source": [
    "# Check shape and dimensions \n",
    "print(\"Input Shape:\", X[0].shape)\n",
    "print(\"Ouput Shape:\", y[0].shape)\n",
    "print(\"X dimensions:\", X[0].ndim)\n",
    "print(\"y dimensions:\", y[0].ndim)"
   ]
  },
  {
   "cell_type": "code",
   "execution_count": 81,
   "id": "395ed588",
   "metadata": {},
   "outputs": [
    {
     "data": {
      "text/plain": [
       "<matplotlib.collections.PathCollection at 0x20b1bb3ce80>"
      ]
     },
     "execution_count": 81,
     "metadata": {},
     "output_type": "execute_result"
    },
    {
     "data": {
      "image/png": "[encoded data removed]",
      "text/plain": [
       "<Figure size 432x288 with 1 Axes>"
      ]
     },
     "metadata": {
      "needs_background": "light"
     },
     "output_type": "display_data"
    }
   ],
   "source": [
    "plt.scatter(X,y)"
   ]
  },
  {
   "cell_type": "markdown",
   "id": "1221afb1",
   "metadata": {},
   "source": [
    "## Steps in modelling with TensorFlow\n",
    "\n",
    "1. **Creating a model** - define the input and output layers as well as the hidden layers of a deep learning model.\n",
    "2. **Compiling a model** - define the loss function (in other words, the function which tells our model how wrong it is) and the optimizer (tells our model how to improve the patterns its learning) and evaluation metrics (what we can use to interpret the preformance of our model)\n",
    "3. **Fitting a model** - letting the model try to find patterns between X & y (feature and labels)"
   ]
  },
  {
   "cell_type": "code",
   "execution_count": 101,
   "id": "bd851035",
   "metadata": {},
   "outputs": [
    {
     "name": "stdout",
     "output_type": "stream",
     "text": [
      "tf.Tensor([-7. -4. -1.  2.  5.  8. 11. 14.], shape=(8,), dtype=float64)\n",
      "tf.Tensor([ 3.  6.  9. 12. 15. 18. 21. 24.], shape=(8,), dtype=float64)\n",
      "Epoch 1/5\n",
      "1/1 [==============================] - 0s 204ms/step - loss: 11.5048 - mae: 11.5048\n",
      "Epoch 2/5\n",
      "1/1 [==============================] - 0s 2ms/step - loss: 11.3723 - mae: 11.3723\n",
      "Epoch 3/5\n",
      "1/1 [==============================] - 0s 2ms/step - loss: 11.2398 - mae: 11.2398\n",
      "Epoch 4/5\n",
      "1/1 [==============================] - 0s 2ms/step - loss: 11.1073 - mae: 11.1073\n",
      "Epoch 5/5\n",
      "1/1 [==============================] - 0s 2ms/step - loss: 10.9748 - mae: 10.9748\n"
     ]
    },
    {
     "data": {
      "text/plain": [
       "<keras.callbacks.History at 0x20b1e070d60>"
      ]
     },
     "execution_count": 101,
     "metadata": {},
     "output_type": "execute_result"
    }
   ],
   "source": [
    "# Set a randdom seed\n",
    "tf. random.set_seed(42)\n",
    "\n",
    "#1. Create a model using the Sequential API\n",
    "model = tf.keras.Sequential([\n",
    "    tf.keras.layers.Dense(1)\n",
    "])\n",
    "\n",
    "#2. Compile the model\n",
    "model.compile(loss=tf.keras.losses.mae, # Mean absolute error\n",
    "             optimizer=tf.keras.optimizers.SGD(), # Stochastic Gradient Descent\n",
    "             metrics=[\"mae\"])\n",
    "\n",
    "#3. Fit the model\n",
    "X_expand = np.expand_dims(X, axis=1)\n",
    "y_expand = np.expand_dims(y, axis=1)\n",
    "print(X)\n",
    "print(y)\n",
    "model.fit(X_expand, y_expand, epochs=5)"
   ]
  },
  {
   "cell_type": "code",
   "execution_count": 71,
   "id": "92cf3500",
   "metadata": {},
   "outputs": [
    {
     "name": "stdout",
     "output_type": "stream",
     "text": [
      "NumPy Array\n",
      "[-7. -4. -1.  2.  5.  8. 11. 14.]\n",
      "[ 3.  6.  9. 12. 15. 18. 21. 24.]\n",
      "NumPy Array to Tensor\n",
      "[-7. -4. -1.  2.  5.  8. 11. 14.]\n",
      "[ 3.  6.  9. 12. 15. 18. 21. 24.]\n",
      "[[-7.]\n",
      " [-4.]\n",
      " [-1.]\n",
      " [ 2.]\n",
      " [ 5.]\n",
      " [ 8.]\n",
      " [11.]\n",
      " [14.]]\n",
      "[[ 3.]\n",
      " [ 6.]\n",
      " [ 9.]\n",
      " [12.]\n",
      " [15.]\n",
      " [18.]\n",
      " [21.]\n",
      " [24.]]\n",
      "[[-7. -4. -1.  2.  5.  8. 11. 14.]]\n",
      "[[ 3.  6.  9. 12. 15. 18. 21. 24.]]\n"
     ]
    }
   ],
   "source": [
    "# Create features\n",
    "X = np.array([-7.0, -4.0, -1.0, 2.0, 5.0, 8.0, 11.0, 14.0])\n",
    "# Create labels\n",
    "y = np.array([3.0, 6.0, 9.0, 12.0, 15.0, 18.0, 21.0, 24.0])\n",
    "print(\"NumPy Array\")\n",
    "print(X)\n",
    "print(y)\n",
    "\n",
    "# Turn NumPy arrays into tensors\n",
    "X_tf = tf.constant(X)\n",
    "y_tf = tf.constant(y)\n",
    "print(\"NumPy Array to Tensor\")\n",
    "print(X)\n",
    "print(y)\n",
    "\n",
    "# Expand Array in 1st dimension\n",
    "X_expand_1 = np.expand_dims(X, axis=1)\n",
    "y_expand_1 = np.expand_dims(y, axis=1)\n",
    "print(X_expand_1)\n",
    "print(y_expand_1)\n",
    "\n",
    "# Expand Array in 2nd dimension\n",
    "X_expand_0 = np.expand_dims(X, axis=0)\n",
    "y_expand_0 = np.expand_dims(y, axis=0)\n",
    "print(X_expand_0)\n",
    "print(y_expand_0)"
   ]
  },
  {
   "cell_type": "code",
   "execution_count": 102,
   "id": "9f27b5eb",
   "metadata": {},
   "outputs": [
    {
     "data": {
      "text/plain": [
       "array([[12.716021]], dtype=float32)"
      ]
     },
     "execution_count": 102,
     "metadata": {},
     "output_type": "execute_result"
    }
   ],
   "source": [
    "# Make a prediction using the model\n",
    "x = 17.0\n",
    "y_pred = model.predict([x])\n",
    "y_pred"
   ]
  },
  {
   "cell_type": "markdown",
   "id": "adbbb6fc",
   "metadata": {},
   "source": [
    "## Improving the model\n",
    "\n",
    "1. **Creating a model** - add more layers, increase the number of hidden units within each of the layers, change the activation function of each layer.\n",
    "2. **Compiling a model** - change the optimization function or the learning rate of the optimization function.\n",
    "3. **Fitting a model** - Fit with more epochs to train longer or more data (give the model more examples to learn from)"
   ]
  },
  {
   "cell_type": "code",
   "execution_count": 106,
   "id": "f6cfff6d",
   "metadata": {},
   "outputs": [
    {
     "name": "stdout",
     "output_type": "stream",
     "text": [
      "Epoch 1/100\n",
      "1/1 [==============================] - 0s 206ms/step - loss: 11.2219 - mae: 11.2219\n",
      "Epoch 2/100\n",
      "1/1 [==============================] - 0s 3ms/step - loss: 11.0894 - mae: 11.0894\n",
      "Epoch 3/100\n",
      "1/1 [==============================] - 0s 3ms/step - loss: 10.9569 - mae: 10.9569\n",
      "Epoch 4/100\n",
      "1/1 [==============================] - 0s 2ms/step - loss: 10.8244 - mae: 10.8244\n",
      "Epoch 5/100\n",
      "1/1 [==============================] - 0s 2ms/step - loss: 10.6919 - mae: 10.6919\n",
      "Epoch 6/100\n",
      "1/1 [==============================] - 0s 3ms/step - loss: 10.5594 - mae: 10.5594\n",
      "Epoch 7/100\n",
      "1/1 [==============================] - 0s 3ms/step - loss: 10.4269 - mae: 10.4269\n",
      "Epoch 8/100\n",
      "1/1 [==============================] - 0s 2ms/step - loss: 10.2944 - mae: 10.2944\n",
      "Epoch 9/100\n",
      "1/1 [==============================] - 0s 3ms/step - loss: 10.1619 - mae: 10.1619\n",
      "Epoch 10/100\n",
      "1/1 [==============================] - 0s 2ms/step - loss: 10.0294 - mae: 10.0294\n",
      "Epoch 11/100\n",
      "1/1 [==============================] - 0s 2ms/step - loss: 9.8969 - mae: 9.8969\n",
      "Epoch 12/100\n",
      "1/1 [==============================] - 0s 2ms/step - loss: 9.7644 - mae: 9.7644\n",
      "Epoch 13/100\n",
      "1/1 [==============================] - 0s 3ms/step - loss: 9.6319 - mae: 9.6319\n",
      "Epoch 14/100\n",
      "1/1 [==============================] - 0s 2ms/step - loss: 9.4994 - mae: 9.4994\n",
      "Epoch 15/100\n",
      "1/1 [==============================] - 0s 2ms/step - loss: 9.3669 - mae: 9.3669\n",
      "Epoch 16/100\n",
      "1/1 [==============================] - 0s 2ms/step - loss: 9.2344 - mae: 9.2344\n",
      "Epoch 17/100\n",
      "1/1 [==============================] - 0s 3ms/step - loss: 9.1019 - mae: 9.1019\n",
      "Epoch 18/100\n",
      "1/1 [==============================] - 0s 2ms/step - loss: 8.9694 - mae: 8.9694\n",
      "Epoch 19/100\n",
      "1/1 [==============================] - 0s 3ms/step - loss: 8.8369 - mae: 8.8369\n",
      "Epoch 20/100\n",
      "1/1 [==============================] - 0s 2ms/step - loss: 8.7044 - mae: 8.7044\n",
      "Epoch 21/100\n",
      "1/1 [==============================] - 0s 3ms/step - loss: 8.5719 - mae: 8.5719\n",
      "Epoch 22/100\n",
      "1/1 [==============================] - 0s 3ms/step - loss: 8.4394 - mae: 8.4394\n",
      "Epoch 23/100\n",
      "1/1 [==============================] - 0s 2ms/step - loss: 8.3069 - mae: 8.3069\n",
      "Epoch 24/100\n",
      "1/1 [==============================] - 0s 2ms/step - loss: 8.1744 - mae: 8.1744\n",
      "Epoch 25/100\n",
      "1/1 [==============================] - 0s 3ms/step - loss: 8.0419 - mae: 8.0419\n",
      "Epoch 26/100\n",
      "1/1 [==============================] - 0s 3ms/step - loss: 7.9094 - mae: 7.9094\n",
      "Epoch 27/100\n",
      "1/1 [==============================] - 0s 3ms/step - loss: 7.7769 - mae: 7.7769\n",
      "Epoch 28/100\n",
      "1/1 [==============================] - 0s 3ms/step - loss: 7.6444 - mae: 7.6444\n",
      "Epoch 29/100\n",
      "1/1 [==============================] - 0s 3ms/step - loss: 7.5119 - mae: 7.5119\n",
      "Epoch 30/100\n",
      "1/1 [==============================] - 0s 2ms/step - loss: 7.3794 - mae: 7.3794\n",
      "Epoch 31/100\n",
      "1/1 [==============================] - 0s 3ms/step - loss: 7.2750 - mae: 7.2750\n",
      "Epoch 32/100\n",
      "1/1 [==============================] - 0s 2ms/step - loss: 7.2694 - mae: 7.2694\n",
      "Epoch 33/100\n",
      "1/1 [==============================] - 0s 3ms/step - loss: 7.2638 - mae: 7.2638\n",
      "Epoch 34/100\n",
      "1/1 [==============================] - 0s 2ms/step - loss: 7.2581 - mae: 7.2581\n",
      "Epoch 35/100\n",
      "1/1 [==============================] - 0s 3ms/step - loss: 7.2525 - mae: 7.2525\n",
      "Epoch 36/100\n",
      "1/1 [==============================] - 0s 2ms/step - loss: 7.2469 - mae: 7.2469\n",
      "Epoch 37/100\n",
      "1/1 [==============================] - 0s 4ms/step - loss: 7.2412 - mae: 7.2412\n",
      "Epoch 38/100\n",
      "1/1 [==============================] - 0s 3ms/step - loss: 7.2356 - mae: 7.2356\n",
      "Epoch 39/100\n",
      "1/1 [==============================] - 0s 3ms/step - loss: 7.2300 - mae: 7.2300\n",
      "Epoch 40/100\n",
      "1/1 [==============================] - 0s 3ms/step - loss: 7.2244 - mae: 7.2244\n",
      "Epoch 41/100\n",
      "1/1 [==============================] - 0s 3ms/step - loss: 7.2188 - mae: 7.2188\n",
      "Epoch 42/100\n",
      "1/1 [==============================] - 0s 3ms/step - loss: 7.2131 - mae: 7.2131\n",
      "Epoch 43/100\n",
      "1/1 [==============================] - 0s 3ms/step - loss: 7.2075 - mae: 7.2075\n",
      "Epoch 44/100\n",
      "1/1 [==============================] - 0s 3ms/step - loss: 7.2019 - mae: 7.2019\n",
      "Epoch 45/100\n",
      "1/1 [==============================] - 0s 3ms/step - loss: 7.1962 - mae: 7.1962\n",
      "Epoch 46/100\n",
      "1/1 [==============================] - 0s 3ms/step - loss: 7.1906 - mae: 7.1906\n",
      "Epoch 47/100\n",
      "1/1 [==============================] - 0s 2ms/step - loss: 7.1850 - mae: 7.1850\n",
      "Epoch 48/100\n",
      "1/1 [==============================] - 0s 3ms/step - loss: 7.1794 - mae: 7.1794\n",
      "Epoch 49/100\n",
      "1/1 [==============================] - 0s 3ms/step - loss: 7.1737 - mae: 7.1737\n",
      "Epoch 50/100\n",
      "1/1 [==============================] - 0s 3ms/step - loss: 7.1681 - mae: 7.1681\n",
      "Epoch 51/100\n",
      "1/1 [==============================] - 0s 2ms/step - loss: 7.1625 - mae: 7.1625\n",
      "Epoch 52/100\n",
      "1/1 [==============================] - 0s 2ms/step - loss: 7.1569 - mae: 7.1569\n",
      "Epoch 53/100\n",
      "1/1 [==============================] - 0s 2ms/step - loss: 7.1512 - mae: 7.1512\n",
      "Epoch 54/100\n",
      "1/1 [==============================] - 0s 2ms/step - loss: 7.1456 - mae: 7.1456\n",
      "Epoch 55/100\n",
      "1/1 [==============================] - 0s 2ms/step - loss: 7.1400 - mae: 7.1400\n",
      "Epoch 56/100\n",
      "1/1 [==============================] - 0s 2ms/step - loss: 7.1344 - mae: 7.1344\n",
      "Epoch 57/100\n",
      "1/1 [==============================] - 0s 2ms/step - loss: 7.1287 - mae: 7.1287\n",
      "Epoch 58/100\n",
      "1/1 [==============================] - 0s 3ms/step - loss: 7.1231 - mae: 7.1231\n",
      "Epoch 59/100\n",
      "1/1 [==============================] - 0s 2ms/step - loss: 7.1175 - mae: 7.1175\n",
      "Epoch 60/100\n",
      "1/1 [==============================] - 0s 2ms/step - loss: 7.1119 - mae: 7.1119\n",
      "Epoch 61/100\n",
      "1/1 [==============================] - 0s 3ms/step - loss: 7.1062 - mae: 7.1062\n",
      "Epoch 62/100\n",
      "1/1 [==============================] - 0s 3ms/step - loss: 7.1006 - mae: 7.1006\n",
      "Epoch 63/100\n",
      "1/1 [==============================] - 0s 2ms/step - loss: 7.0950 - mae: 7.0950\n",
      "Epoch 64/100\n",
      "1/1 [==============================] - 0s 3ms/step - loss: 7.0894 - mae: 7.0894\n",
      "Epoch 65/100\n",
      "1/1 [==============================] - 0s 3ms/step - loss: 7.0838 - mae: 7.0838\n",
      "Epoch 66/100\n",
      "1/1 [==============================] - 0s 2ms/step - loss: 7.0781 - mae: 7.0781\n",
      "Epoch 67/100\n",
      "1/1 [==============================] - 0s 2ms/step - loss: 7.0725 - mae: 7.0725\n",
      "Epoch 68/100\n",
      "1/1 [==============================] - 0s 3ms/step - loss: 7.0669 - mae: 7.0669\n",
      "Epoch 69/100\n",
      "1/1 [==============================] - 0s 3ms/step - loss: 7.0613 - mae: 7.0613\n",
      "Epoch 70/100\n",
      "1/1 [==============================] - 0s 3ms/step - loss: 7.0556 - mae: 7.0556\n",
      "Epoch 71/100\n",
      "1/1 [==============================] - 0s 2ms/step - loss: 7.0500 - mae: 7.0500\n",
      "Epoch 72/100\n",
      "1/1 [==============================] - 0s 2ms/step - loss: 7.0444 - mae: 7.0444\n",
      "Epoch 73/100\n",
      "1/1 [==============================] - 0s 2ms/step - loss: 7.0388 - mae: 7.0388\n",
      "Epoch 74/100\n",
      "1/1 [==============================] - 0s 2ms/step - loss: 7.0331 - mae: 7.0331\n",
      "Epoch 75/100\n",
      "1/1 [==============================] - 0s 3ms/step - loss: 7.0275 - mae: 7.0275\n",
      "Epoch 76/100\n",
      "1/1 [==============================] - 0s 2ms/step - loss: 7.0219 - mae: 7.0219\n",
      "Epoch 77/100\n",
      "1/1 [==============================] - 0s 2ms/step - loss: 7.0163 - mae: 7.0163\n",
      "Epoch 78/100\n",
      "1/1 [==============================] - 0s 3ms/step - loss: 7.0106 - mae: 7.0106\n",
      "Epoch 79/100\n",
      "1/1 [==============================] - 0s 2ms/step - loss: 7.0050 - mae: 7.0050\n",
      "Epoch 80/100\n",
      "1/1 [==============================] - 0s 2ms/step - loss: 6.9994 - mae: 6.9994\n",
      "Epoch 81/100\n",
      "1/1 [==============================] - 0s 3ms/step - loss: 6.9938 - mae: 6.9938\n",
      "Epoch 82/100\n",
      "1/1 [==============================] - 0s 2ms/step - loss: 6.9881 - mae: 6.9881\n",
      "Epoch 83/100\n",
      "1/1 [==============================] - 0s 2ms/step - loss: 6.9825 - mae: 6.9825\n",
      "Epoch 84/100\n",
      "1/1 [==============================] - 0s 2ms/step - loss: 6.9769 - mae: 6.9769\n",
      "Epoch 85/100\n",
      "1/1 [==============================] - 0s 2ms/step - loss: 6.9713 - mae: 6.9713\n",
      "Epoch 86/100\n",
      "1/1 [==============================] - 0s 3ms/step - loss: 6.9656 - mae: 6.9656\n",
      "Epoch 87/100\n",
      "1/1 [==============================] - 0s 2ms/step - loss: 6.9600 - mae: 6.9600\n",
      "Epoch 88/100\n",
      "1/1 [==============================] - 0s 2ms/step - loss: 6.9544 - mae: 6.9544\n"
     ]
    },
    {
     "name": "stdout",
     "output_type": "stream",
     "text": [
      "Epoch 89/100\n",
      "1/1 [==============================] - 0s 2ms/step - loss: 6.9488 - mae: 6.9488\n",
      "Epoch 90/100\n",
      "1/1 [==============================] - 0s 2ms/step - loss: 6.9431 - mae: 6.9431\n",
      "Epoch 91/100\n",
      "1/1 [==============================] - 0s 2ms/step - loss: 6.9375 - mae: 6.9375\n",
      "Epoch 92/100\n",
      "1/1 [==============================] - 0s 2ms/step - loss: 6.9319 - mae: 6.9319\n",
      "Epoch 93/100\n",
      "1/1 [==============================] - 0s 2ms/step - loss: 6.9263 - mae: 6.9263\n",
      "Epoch 94/100\n",
      "1/1 [==============================] - 0s 3ms/step - loss: 6.9206 - mae: 6.9206\n",
      "Epoch 95/100\n",
      "1/1 [==============================] - 0s 3ms/step - loss: 6.9150 - mae: 6.9150\n",
      "Epoch 96/100\n",
      "1/1 [==============================] - 0s 3ms/step - loss: 6.9094 - mae: 6.9094\n",
      "Epoch 97/100\n",
      "1/1 [==============================] - 0s 2ms/step - loss: 6.9038 - mae: 6.9038\n",
      "Epoch 98/100\n",
      "1/1 [==============================] - 0s 2ms/step - loss: 6.8981 - mae: 6.8981\n",
      "Epoch 99/100\n",
      "1/1 [==============================] - 0s 2ms/step - loss: 6.8925 - mae: 6.8925\n",
      "Epoch 100/100\n",
      "1/1 [==============================] - 0s 2ms/step - loss: 6.8869 - mae: 6.8869\n"
     ]
    },
    {
     "data": {
      "text/plain": [
       "<keras.callbacks.History at 0x20b1e127af0>"
      ]
     },
     "execution_count": 106,
     "metadata": {},
     "output_type": "execute_result"
    }
   ],
   "source": [
    "# Rebuilding the model \n",
    "# 1. Create the model \n",
    "model = tf.keras.Sequential([\n",
    "    tf.keras.layers.Dense(1)\n",
    "])\n",
    "# 2. Compile the model\n",
    "model.compile(loss=tf.keras.losses.mae,\n",
    "             optimizer=tf.keras.optimizers.SGD(),\n",
    "             metrics=[\"mae\"])\n",
    "# 3. Fit the model\n",
    "model.fit(X_expand,y_expand,epochs=100)"
   ]
  },
  {
   "cell_type": "code",
   "execution_count": 107,
   "id": "518aadab",
   "metadata": {},
   "outputs": [
    {
     "data": {
      "text/plain": [
       "(<tf.Tensor: shape=(8,), dtype=float64, numpy=array([-7., -4., -1.,  2.,  5.,  8., 11., 14.])>,\n",
       " <tf.Tensor: shape=(8,), dtype=float64, numpy=array([ 3.,  6.,  9., 12., 15., 18., 21., 24.])>)"
      ]
     },
     "execution_count": 107,
     "metadata": {},
     "output_type": "execute_result"
    }
   ],
   "source": [
    "# Check data\n",
    "X,y"
   ]
  },
  {
   "cell_type": "code",
   "execution_count": 108,
   "id": "859a2835",
   "metadata": {},
   "outputs": [
    {
     "data": {
      "text/plain": [
       "array([[29.739855]], dtype=float32)"
      ]
     },
     "execution_count": 108,
     "metadata": {},
     "output_type": "execute_result"
    }
   ],
   "source": [
    "# Check whether prediction has imrpoved\n",
    "model.predict([17.0])"
   ]
  },
  {
   "cell_type": "markdown",
   "id": "30088747",
   "metadata": {},
   "source": [
    "### Common ways to improve a deep learning model\n",
    "* Adding layers\n",
    "* Increase the number of hidden units\n",
    "* Change the activation functions\n",
    "* Change the optimization function \n",
    "* Change the learning rate \n",
    "* Fitting on more data\n",
    "* Fitting for longer"
   ]
  },
  {
   "cell_type": "code",
   "execution_count": 219,
   "id": "b5608611",
   "metadata": {},
   "outputs": [
    {
     "name": "stdout",
     "output_type": "stream",
     "text": [
      "Epoch 1/100\n",
      "1/1 [==============================] - 0s 265ms/step - loss: 9.9581 - mae: 9.9581\n",
      "Epoch 2/100\n",
      "1/1 [==============================] - 0s 2ms/step - loss: 8.8476 - mae: 8.8476\n",
      "Epoch 3/100\n",
      "1/1 [==============================] - 0s 3ms/step - loss: 7.6461 - mae: 7.6461\n",
      "Epoch 4/100\n",
      "1/1 [==============================] - 0s 4ms/step - loss: 6.8298 - mae: 6.8298\n",
      "Epoch 5/100\n",
      "1/1 [==============================] - 0s 3ms/step - loss: 7.2296 - mae: 7.2296\n",
      "Epoch 6/100\n",
      "1/1 [==============================] - 0s 3ms/step - loss: 7.5506 - mae: 7.5506\n",
      "Epoch 7/100\n",
      "1/1 [==============================] - 0s 3ms/step - loss: 7.3327 - mae: 7.3327\n",
      "Epoch 8/100\n",
      "1/1 [==============================] - 0s 3ms/step - loss: 6.7671 - mae: 6.7671\n",
      "Epoch 9/100\n",
      "1/1 [==============================] - 0s 2ms/step - loss: 6.2346 - mae: 6.2346\n",
      "Epoch 10/100\n",
      "1/1 [==============================] - 0s 2ms/step - loss: 5.7010 - mae: 5.7010\n",
      "Epoch 11/100\n",
      "1/1 [==============================] - 0s 3ms/step - loss: 5.5355 - mae: 5.5355\n",
      "Epoch 12/100\n",
      "1/1 [==============================] - 0s 3ms/step - loss: 5.7926 - mae: 5.7926\n",
      "Epoch 13/100\n",
      "1/1 [==============================] - 0s 2ms/step - loss: 5.8376 - mae: 5.8376\n",
      "Epoch 14/100\n",
      "1/1 [==============================] - 0s 2ms/step - loss: 5.6954 - mae: 5.6954\n",
      "Epoch 15/100\n",
      "1/1 [==============================] - 0s 3ms/step - loss: 5.3969 - mae: 5.3969\n",
      "Epoch 16/100\n",
      "1/1 [==============================] - 0s 3ms/step - loss: 4.9603 - mae: 4.9603\n",
      "Epoch 17/100\n",
      "1/1 [==============================] - 0s 2ms/step - loss: 4.3963 - mae: 4.3963\n",
      "Epoch 18/100\n",
      "1/1 [==============================] - 0s 3ms/step - loss: 4.0658 - mae: 4.0658\n",
      "Epoch 19/100\n",
      "1/1 [==============================] - 0s 3ms/step - loss: 4.1180 - mae: 4.1180\n",
      "Epoch 20/100\n",
      "1/1 [==============================] - 0s 2ms/step - loss: 4.2057 - mae: 4.2057\n",
      "Epoch 21/100\n",
      "1/1 [==============================] - 0s 2ms/step - loss: 4.1703 - mae: 4.1703\n",
      "Epoch 22/100\n",
      "1/1 [==============================] - 0s 2ms/step - loss: 3.9401 - mae: 3.9401\n",
      "Epoch 23/100\n",
      "1/1 [==============================] - 0s 3ms/step - loss: 3.5497 - mae: 3.5497\n",
      "Epoch 24/100\n",
      "1/1 [==============================] - 0s 3ms/step - loss: 3.0572 - mae: 3.0572\n",
      "Epoch 25/100\n",
      "1/1 [==============================] - 0s 2ms/step - loss: 2.6656 - mae: 2.6656\n",
      "Epoch 26/100\n",
      "1/1 [==============================] - 0s 3ms/step - loss: 2.4789 - mae: 2.4789\n",
      "Epoch 27/100\n",
      "1/1 [==============================] - 0s 3ms/step - loss: 2.4727 - mae: 2.4727\n",
      "Epoch 28/100\n",
      "1/1 [==============================] - 0s 3ms/step - loss: 2.2895 - mae: 2.2895\n",
      "Epoch 29/100\n",
      "1/1 [==============================] - 0s 3ms/step - loss: 1.9482 - mae: 1.9482\n",
      "Epoch 30/100\n",
      "1/1 [==============================] - 0s 4ms/step - loss: 1.4962 - mae: 1.4962\n",
      "Epoch 31/100\n",
      "1/1 [==============================] - 0s 3ms/step - loss: 1.2959 - mae: 1.2959\n",
      "Epoch 32/100\n",
      "1/1 [==============================] - 0s 2ms/step - loss: 1.2036 - mae: 1.2036\n",
      "Epoch 33/100\n",
      "1/1 [==============================] - 0s 3ms/step - loss: 0.9799 - mae: 0.9799\n",
      "Epoch 34/100\n",
      "1/1 [==============================] - 0s 3ms/step - loss: 0.6107 - mae: 0.6107\n",
      "Epoch 35/100\n",
      "1/1 [==============================] - 0s 2ms/step - loss: 0.1771 - mae: 0.1771\n",
      "Epoch 36/100\n",
      "1/1 [==============================] - 0s 3ms/step - loss: 0.2245 - mae: 0.2245\n",
      "Epoch 37/100\n",
      "1/1 [==============================] - 0s 3ms/step - loss: 0.3671 - mae: 0.3671\n",
      "Epoch 38/100\n",
      "1/1 [==============================] - 0s 3ms/step - loss: 0.5996 - mae: 0.5996\n",
      "Epoch 39/100\n",
      "1/1 [==============================] - 0s 3ms/step - loss: 0.6553 - mae: 0.6553\n",
      "Epoch 40/100\n",
      "1/1 [==============================] - 0s 3ms/step - loss: 0.7706 - mae: 0.7706\n",
      "Epoch 41/100\n",
      "1/1 [==============================] - 0s 3ms/step - loss: 0.8301 - mae: 0.8301\n",
      "Epoch 42/100\n",
      "1/1 [==============================] - 0s 2ms/step - loss: 0.7556 - mae: 0.7556\n",
      "Epoch 43/100\n",
      "1/1 [==============================] - 0s 2ms/step - loss: 0.6930 - mae: 0.6930\n",
      "Epoch 44/100\n",
      "1/1 [==============================] - 0s 3ms/step - loss: 0.5979 - mae: 0.5979\n",
      "Epoch 45/100\n",
      "1/1 [==============================] - 0s 3ms/step - loss: 0.4818 - mae: 0.4818\n",
      "Epoch 46/100\n",
      "1/1 [==============================] - 0s 3ms/step - loss: 0.3435 - mae: 0.3435\n",
      "Epoch 47/100\n",
      "1/1 [==============================] - 0s 3ms/step - loss: 0.1938 - mae: 0.1938\n",
      "Epoch 48/100\n",
      "1/1 [==============================] - 0s 3ms/step - loss: 0.1133 - mae: 0.1133\n",
      "Epoch 49/100\n",
      "1/1 [==============================] - 0s 2ms/step - loss: 0.1688 - mae: 0.1688\n",
      "Epoch 50/100\n",
      "1/1 [==============================] - 0s 3ms/step - loss: 0.2623 - mae: 0.2623\n",
      "Epoch 51/100\n",
      "1/1 [==============================] - 0s 4ms/step - loss: 0.3285 - mae: 0.3285\n",
      "Epoch 52/100\n",
      "1/1 [==============================] - 0s 3ms/step - loss: 0.3648 - mae: 0.3648\n",
      "Epoch 53/100\n",
      "1/1 [==============================] - 0s 3ms/step - loss: 0.3725 - mae: 0.3725\n",
      "Epoch 54/100\n",
      "1/1 [==============================] - 0s 4ms/step - loss: 0.3240 - mae: 0.3240\n",
      "Epoch 55/100\n",
      "1/1 [==============================] - 0s 2ms/step - loss: 0.2666 - mae: 0.2666\n",
      "Epoch 56/100\n",
      "1/1 [==============================] - 0s 2ms/step - loss: 0.1774 - mae: 0.1774\n",
      "Epoch 57/100\n",
      "1/1 [==============================] - 0s 3ms/step - loss: 0.0585 - mae: 0.0585\n",
      "Epoch 58/100\n",
      "1/1 [==============================] - 0s 3ms/step - loss: 0.1714 - mae: 0.1714\n",
      "Epoch 59/100\n",
      "1/1 [==============================] - 0s 3ms/step - loss: 0.1812 - mae: 0.1812\n",
      "Epoch 60/100\n",
      "1/1 [==============================] - 0s 3ms/step - loss: 0.3854 - mae: 0.3854\n",
      "Epoch 61/100\n",
      "1/1 [==============================] - 0s 3ms/step - loss: 0.4148 - mae: 0.4148\n",
      "Epoch 62/100\n",
      "1/1 [==============================] - 0s 2ms/step - loss: 0.2385 - mae: 0.2385\n",
      "Epoch 63/100\n",
      "1/1 [==============================] - 0s 2ms/step - loss: 0.4062 - mae: 0.4062\n",
      "Epoch 64/100\n",
      "1/1 [==============================] - 0s 3ms/step - loss: 0.4592 - mae: 0.4592\n",
      "Epoch 65/100\n",
      "1/1 [==============================] - 0s 3ms/step - loss: 0.2828 - mae: 0.2828\n",
      "Epoch 66/100\n",
      "1/1 [==============================] - 0s 3ms/step - loss: 0.1512 - mae: 0.1512\n",
      "Epoch 67/100\n",
      "1/1 [==============================] - 0s 2ms/step - loss: 0.2703 - mae: 0.2703\n",
      "Epoch 68/100\n",
      "1/1 [==============================] - 0s 3ms/step - loss: 0.1858 - mae: 0.1858\n",
      "Epoch 69/100\n",
      "1/1 [==============================] - 0s 2ms/step - loss: 0.3040 - mae: 0.3040\n",
      "Epoch 70/100\n",
      "1/1 [==============================] - 0s 2ms/step - loss: 0.3724 - mae: 0.3724\n",
      "Epoch 71/100\n",
      "1/1 [==============================] - 0s 3ms/step - loss: 0.1704 - mae: 0.1704\n",
      "Epoch 72/100\n",
      "1/1 [==============================] - 0s 3ms/step - loss: 0.2742 - mae: 0.2742\n",
      "Epoch 73/100\n",
      "1/1 [==============================] - 0s 3ms/step - loss: 0.3721 - mae: 0.3721\n",
      "Epoch 74/100\n",
      "1/1 [==============================] - 0s 2ms/step - loss: 0.2034 - mae: 0.2034\n",
      "Epoch 75/100\n",
      "1/1 [==============================] - 0s 3ms/step - loss: 0.2296 - mae: 0.2296\n",
      "Epoch 76/100\n",
      "1/1 [==============================] - 0s 3ms/step - loss: 0.3496 - mae: 0.3496\n",
      "Epoch 77/100\n",
      "1/1 [==============================] - 0s 3ms/step - loss: 0.2045 - mae: 0.2045\n",
      "Epoch 78/100\n",
      "1/1 [==============================] - 0s 2ms/step - loss: 0.2040 - mae: 0.2040\n",
      "Epoch 79/100\n",
      "1/1 [==============================] - 0s 2ms/step - loss: 0.2837 - mae: 0.2837\n",
      "Epoch 80/100\n",
      "1/1 [==============================] - 0s 4ms/step - loss: 0.1172 - mae: 0.1172\n",
      "Epoch 81/100\n",
      "1/1 [==============================] - 0s 3ms/step - loss: 0.2921 - mae: 0.2921\n",
      "Epoch 82/100\n",
      "1/1 [==============================] - 0s 3ms/step - loss: 0.4063 - mae: 0.4063\n",
      "Epoch 83/100\n",
      "1/1 [==============================] - 0s 3ms/step - loss: 0.2597 - mae: 0.2597\n",
      "Epoch 84/100\n",
      "1/1 [==============================] - 0s 3ms/step - loss: 0.1433 - mae: 0.1433\n",
      "Epoch 85/100\n",
      "1/1 [==============================] - 0s 3ms/step - loss: 0.2423 - mae: 0.2423\n",
      "Epoch 86/100\n",
      "1/1 [==============================] - 0s 3ms/step - loss: 0.0945 - mae: 0.0945\n",
      "Epoch 87/100\n",
      "1/1 [==============================] - 0s 4ms/step - loss: 0.2876 - mae: 0.2876\n",
      "Epoch 88/100\n",
      "1/1 [==============================] - 0s 3ms/step - loss: 0.3800 - mae: 0.3800\n",
      "Epoch 89/100\n",
      "1/1 [==============================] - 0s 3ms/step - loss: 0.2157 - mae: 0.2157\n",
      "Epoch 90/100\n",
      "1/1 [==============================] - 0s 3ms/step - loss: 0.1807 - mae: 0.1807\n",
      "Epoch 91/100\n",
      "1/1 [==============================] - 0s 3ms/step - loss: 0.2773 - mae: 0.2773\n",
      "Epoch 92/100\n",
      "1/1 [==============================] - 0s 3ms/step - loss: 0.1390 - mae: 0.1390\n",
      "Epoch 93/100\n",
      "1/1 [==============================] - 0s 2ms/step - loss: 0.2242 - mae: 0.2242\n",
      "Epoch 94/100\n",
      "1/1 [==============================] - 0s 3ms/step - loss: 0.3092 - mae: 0.3092\n",
      "Epoch 95/100\n",
      "1/1 [==============================] - 0s 2ms/step - loss: 0.1557 - mae: 0.1557\n",
      "Epoch 96/100\n",
      "1/1 [==============================] - 0s 2ms/step - loss: 0.2277 - mae: 0.2277\n",
      "Epoch 97/100\n",
      "1/1 [==============================] - 0s 3ms/step - loss: 0.3274 - mae: 0.3274\n",
      "Epoch 98/100\n",
      "1/1 [==============================] - 0s 3ms/step - loss: 0.1861 - mae: 0.1861\n",
      "Epoch 99/100\n",
      "1/1 [==============================] - 0s 3ms/step - loss: 0.1769 - mae: 0.1769\n",
      "Epoch 100/100\n",
      "1/1 [==============================] - 0s 3ms/step - loss: 0.2728 - mae: 0.2728\n"
     ]
    },
    {
     "data": {
      "text/plain": [
       "<keras.callbacks.History at 0x20b31162e80>"
      ]
     },
     "execution_count": 219,
     "metadata": {},
     "output_type": "execute_result"
    }
   ],
   "source": [
    "# Rebuilding the model \n",
    "# 1. Create the model (added dense layer)\n",
    "model = tf.keras.Sequential([\n",
    "    tf.keras.layers.Dense(1),\n",
    "    tf.keras.layers.Dense(1)\n",
    "])\n",
    "# 2. Compile the model\n",
    "model.compile(loss=tf.keras.losses.mae,\n",
    "             optimizer=tf.keras.optimizers.Adam(learning_rate=0.1),\n",
    "             metrics=[\"mae\"])\n",
    "# 3. Fit the model\n",
    "model.fit(X_expand,y_expand,epochs=100)"
   ]
  },
  {
   "cell_type": "code",
   "execution_count": 220,
   "id": "155cbef3",
   "metadata": {},
   "outputs": [
    {
     "data": {
      "text/plain": [
       "array([[27.316338]], dtype=float32)"
      ]
     },
     "execution_count": 220,
     "metadata": {},
     "output_type": "execute_result"
    }
   ],
   "source": [
    "model.predict([17.0])"
   ]
  },
  {
   "cell_type": "markdown",
   "id": "178699ee",
   "metadata": {},
   "source": [
    "## Evaluating a model\n",
    "\n",
    "Build a model -> fit it -> evaluate it -> tweak the model -> fit it -> evaluate -> -> ->\n",
    "\n",
    "**Visualize**\n",
    "* The data - what data are we working with? What does it look like?\n",
    "* The model itself - what does our model look like?\n",
    "* The training of a model - how does a model perform while it learns?\n",
    "* The predictions of the model - how do the predictions of a model line up against the ground truth (the original labels)?"
   ]
  },
  {
   "cell_type": "code",
   "execution_count": 4,
   "id": "397a6667",
   "metadata": {},
   "outputs": [
    {
     "name": "stdout",
     "output_type": "stream",
     "text": [
      "tf.Tensor(\n",
      "[-100  -96  -92  -88  -84  -80  -76  -72  -68  -64  -60  -56  -52  -48\n",
      "  -44  -40  -36  -32  -28  -24  -20  -16  -12   -8   -4    0    4    8\n",
      "   12   16   20   24   28   32   36   40   44   48   52   56   60   64\n",
      "   68   72   76   80   84   88   92   96], shape=(50,), dtype=int32) tf.Tensor(\n",
      "[-90 -86 -82 -78 -74 -70 -66 -62 -58 -54 -50 -46 -42 -38 -34 -30 -26 -22\n",
      " -18 -14 -10  -6  -2   2   6  10  14  18  22  26  30  34  38  42  46  50\n",
      "  54  58  62  66  70  74  78  82  86  90  94  98 102 106], shape=(50,), dtype=int32)\n"
     ]
    }
   ],
   "source": [
    "# Make a bigger dataset\n",
    "X = tf.range(-100,100, 4)\n",
    "\n",
    "# Make labels for the dataset\n",
    "y = X+10\n",
    "\n",
    "print(X,y)"
   ]
  },
  {
   "cell_type": "code",
   "execution_count": 5,
   "id": "45d8b178",
   "metadata": {},
   "outputs": [
    {
     "data": {
      "text/plain": [
       "<matplotlib.collections.PathCollection at 0x1c5091cee20>"
      ]
     },
     "execution_count": 5,
     "metadata": {},
     "output_type": "execute_result"
    },
    {
     "data": {
      "image/png": "[encoded data removed]",
      "text/plain": [
       "<Figure size 432x288 with 1 Axes>"
      ]
     },
     "metadata": {
      "needs_background": "light"
     },
     "output_type": "display_data"
    }
   ],
   "source": [
    "plt.scatter(X,y)"
   ]
  },
  {
   "cell_type": "markdown",
   "id": "b12f7e9f",
   "metadata": {},
   "source": [
    "### The 3 sets"
   ]
  },
  {
   "cell_type": "code",
   "execution_count": 6,
   "id": "eaec601c",
   "metadata": {},
   "outputs": [
    {
     "data": {
      "text/plain": [
       "50"
      ]
     },
     "execution_count": 6,
     "metadata": {},
     "output_type": "execute_result"
    }
   ],
   "source": [
    "# Check length of how many samples there are\n",
    "len(X)"
   ]
  },
  {
   "cell_type": "code",
   "execution_count": 7,
   "id": "e761eb65",
   "metadata": {},
   "outputs": [
    {
     "data": {
      "text/plain": [
       "(40, 10, 40, 10)"
      ]
     },
     "execution_count": 7,
     "metadata": {},
     "output_type": "execute_result"
    }
   ],
   "source": [
    "# Split the data into testing and training sets \n",
    "X_train = X[:40] # The First 40 are training samples (80% of the data) \n",
    "X_test = X[40:] # The last 10 are testing samples (20% of the data)\n",
    "y_train = y[:40]\n",
    "y_test = y[40:]\n",
    "len(X_train),len(X_test),len(y_train),len(y_test)"
   ]
  },
  {
   "cell_type": "markdown",
   "id": "979a016e",
   "metadata": {},
   "source": [
    "### Visualizing the data again"
   ]
  },
  {
   "cell_type": "code",
   "execution_count": 79,
   "id": "b040060d",
   "metadata": {},
   "outputs": [
    {
     "data": {
      "text/plain": [
       "<matplotlib.collections.PathCollection at 0x29f47ffbf10>"
      ]
     },
     "execution_count": 79,
     "metadata": {},
     "output_type": "execute_result"
    },
    {
     "data": {
      "image/png": "[encoded data removed]",
      "text/plain": [
       "<Figure size 720x504 with 1 Axes>"
      ]
     },
     "metadata": {
      "needs_background": "light"
     },
     "output_type": "display_data"
    }
   ],
   "source": [
    "plt.figure(figsize=(10,7))\n",
    "# Plot training data in blue\n",
    "plt.scatter(X_train,y_train, c=\"b\", label=\"Training Data\")\n",
    "# Plot the testing data in green\n",
    "plt.scatter(X_test,y_test, c=\"g\", label=\"Testing Data\")"
   ]
  },
  {
   "cell_type": "code",
   "execution_count": 83,
   "id": "2420be62",
   "metadata": {},
   "outputs": [],
   "source": [
    "# Building a meural net for out data\n",
    "\n",
    "# 1. Create a model\n",
    "model = tf.keras.Sequential([\n",
    "    tf.keras.layers.Dense(1)\n",
    "    ])\n",
    "\n",
    "# 2. Compile the model\n",
    "model.compile(loss=tf.keras.losses.mae,\n",
    "              optimizer=tf.keras.optimizers.SGD(),\n",
    "              metrics=[\"mae\"]\n",
    "             )\n",
    "# 3. Fit the model\n",
    "#model.fit(X_train,y_train, epochs=100)"
   ]
  },
  {
   "cell_type": "markdown",
   "id": "dd320a2a",
   "metadata": {},
   "source": [
    "## Visualizing the model"
   ]
  },
  {
   "cell_type": "code",
   "execution_count": 84,
   "id": "a70f8141",
   "metadata": {},
   "outputs": [
    {
     "ename": "ValueError",
     "evalue": "This model has not yet been built. Build the model first by calling `build()` or by calling the model on a batch of data.",
     "output_type": "error",
     "traceback": [
      "\u001b[1;31m---------------------------------------------------------------------------\u001b[0m",
      "\u001b[1;31mValueError\u001b[0m                                Traceback (most recent call last)",
      "\u001b[1;32m~\\AppData\\Local\\Temp/ipykernel_29428/3470139634.py\u001b[0m in \u001b[0;36m<module>\u001b[1;34m\u001b[0m\n\u001b[1;32m----> 1\u001b[1;33m \u001b[0mmodel\u001b[0m\u001b[1;33m.\u001b[0m\u001b[0msummary\u001b[0m\u001b[1;33m(\u001b[0m\u001b[1;33m)\u001b[0m\u001b[1;33m\u001b[0m\u001b[1;33m\u001b[0m\u001b[0m\n\u001b[0m",
      "\u001b[1;32m~\\anaconda3\\lib\\site-packages\\keras\\engine\\training.py\u001b[0m in \u001b[0;36msummary\u001b[1;34m(self, line_length, positions, print_fn, expand_nested, show_trainable)\u001b[0m\n\u001b[0;32m   2773\u001b[0m     \"\"\"\n\u001b[0;32m   2774\u001b[0m     \u001b[1;32mif\u001b[0m \u001b[1;32mnot\u001b[0m \u001b[0mself\u001b[0m\u001b[1;33m.\u001b[0m\u001b[0mbuilt\u001b[0m\u001b[1;33m:\u001b[0m\u001b[1;33m\u001b[0m\u001b[1;33m\u001b[0m\u001b[0m\n\u001b[1;32m-> 2775\u001b[1;33m       raise ValueError(\n\u001b[0m\u001b[0;32m   2776\u001b[0m           \u001b[1;34m'This model has not yet been built. '\u001b[0m\u001b[1;33m\u001b[0m\u001b[1;33m\u001b[0m\u001b[0m\n\u001b[0;32m   2777\u001b[0m           \u001b[1;34m'Build the model first by calling `build()` or by calling '\u001b[0m\u001b[1;33m\u001b[0m\u001b[1;33m\u001b[0m\u001b[0m\n",
      "\u001b[1;31mValueError\u001b[0m: This model has not yet been built. Build the model first by calling `build()` or by calling the model on a batch of data."
     ]
    }
   ],
   "source": [
    "model.summary()"
   ]
  },
  {
   "cell_type": "code",
   "execution_count": 8,
   "id": "7ba6cc8f",
   "metadata": {},
   "outputs": [],
   "source": [
    "# Create a model which builds automatically by definind the input_shape\n",
    "tf.random.set_seed(42)\n",
    "\n",
    "# 1, Create a model (same as above)\n",
    "model = tf.keras.Sequential([\n",
    "    tf.keras.layers.Dense(1, input_shape=[1], name=\"input_layer\"),\n",
    "    tf.keras.layers.Dense(1, name=\"output_layer\")\n",
    "], name=\"Test_model\")\n",
    "\n",
    "#2. Compile the model\n",
    "model.compile(loss=tf.keras.losses.mae,\n",
    "             optimizer=tf.keras.optimizers.SGD(),\n",
    "             metrics=[\"mae\"])"
   ]
  },
  {
   "cell_type": "code",
   "execution_count": 9,
   "id": "bca63e1f",
   "metadata": {},
   "outputs": [
    {
     "name": "stdout",
     "output_type": "stream",
     "text": [
      "Model: \"Test_model\"\n",
      "_________________________________________________________________\n",
      " Layer (type)                Output Shape              Param #   \n",
      "=================================================================\n",
      " input_layer (Dense)         (None, 1)                 2         \n",
      "                                                                 \n",
      " output_layer (Dense)        (None, 1)                 2         \n",
      "                                                                 \n",
      "=================================================================\n",
      "Total params: 4\n",
      "Trainable params: 4\n",
      "Non-trainable params: 0\n",
      "_________________________________________________________________\n"
     ]
    }
   ],
   "source": [
    "model.summary()"
   ]
  },
  {
   "cell_type": "markdown",
   "id": "d6010646",
   "metadata": {},
   "source": [
    "* Total parameters - total number of parameters in the model. The number of patters it will try and learn\n",
    "* Trainable parameters - the parameters (patterns) the model can update as it trains \n",
    "* Non-trainable parameters - these parameters aren't updated furing training (this is typical when you bring in already learned patters or paremeters from other models during **transfer learning**)"
   ]
  },
  {
   "cell_type": "code",
   "execution_count": 10,
   "id": "fec3008a",
   "metadata": {},
   "outputs": [
    {
     "name": "stdout",
     "output_type": "stream",
     "text": [
      "Epoch 1/100\n",
      "2/2 [==============================] - 0s 2ms/step - loss: 22.6625 - mae: 22.6625\n",
      "Epoch 2/100\n",
      "2/2 [==============================] - 0s 1ms/step - loss: 16.9439 - mae: 16.9439\n",
      "Epoch 3/100\n",
      "2/2 [==============================] - 0s 2ms/step - loss: 13.8059 - mae: 13.8059\n",
      "Epoch 4/100\n",
      "2/2 [==============================] - 0s 2ms/step - loss: 17.4504 - mae: 17.4504\n",
      "Epoch 5/100\n",
      "2/2 [==============================] - 0s 2ms/step - loss: 12.0637 - mae: 12.0637\n",
      "Epoch 6/100\n",
      "2/2 [==============================] - 0s 2ms/step - loss: 9.8335 - mae: 9.8335\n",
      "Epoch 7/100\n",
      "2/2 [==============================] - 0s 999us/step - loss: 10.7023 - mae: 10.7023\n",
      "Epoch 8/100\n",
      "2/2 [==============================] - 0s 998us/step - loss: 10.8713 - mae: 10.8713\n",
      "Epoch 9/100\n",
      "2/2 [==============================] - 0s 2ms/step - loss: 38.0435 - mae: 38.0435\n",
      "Epoch 10/100\n",
      "2/2 [==============================] - 0s 3ms/step - loss: 25.6226 - mae: 25.6226\n",
      "Epoch 11/100\n",
      "2/2 [==============================] - 0s 2ms/step - loss: 10.2375 - mae: 10.2375\n",
      "Epoch 12/100\n",
      "2/2 [==============================] - 0s 3ms/step - loss: 25.1960 - mae: 25.1960\n",
      "Epoch 13/100\n",
      "2/2 [==============================] - 0s 2ms/step - loss: 17.0177 - mae: 17.0177\n",
      "Epoch 14/100\n",
      "2/2 [==============================] - 0s 2ms/step - loss: 25.9747 - mae: 25.9747\n",
      "Epoch 15/100\n",
      "2/2 [==============================] - 0s 2ms/step - loss: 18.0366 - mae: 18.0366\n",
      "Epoch 16/100\n",
      "2/2 [==============================] - 0s 2ms/step - loss: 7.3513 - mae: 7.3513\n",
      "Epoch 17/100\n",
      "2/2 [==============================] - 0s 2ms/step - loss: 10.8516 - mae: 10.8516\n",
      "Epoch 18/100\n",
      "2/2 [==============================] - 0s 2ms/step - loss: 19.5119 - mae: 19.5119\n",
      "Epoch 19/100\n",
      "2/2 [==============================] - 0s 2ms/step - loss: 10.3378 - mae: 10.3378\n",
      "Epoch 20/100\n",
      "2/2 [==============================] - 0s 2ms/step - loss: 17.6840 - mae: 17.6840\n",
      "Epoch 21/100\n",
      "2/2 [==============================] - 0s 2ms/step - loss: 15.8826 - mae: 15.8826\n",
      "Epoch 22/100\n",
      "2/2 [==============================] - 0s 2ms/step - loss: 14.1778 - mae: 14.1778\n",
      "Epoch 23/100\n",
      "2/2 [==============================] - 0s 2ms/step - loss: 8.7814 - mae: 8.7814\n",
      "Epoch 24/100\n",
      "2/2 [==============================] - 0s 2ms/step - loss: 11.0673 - mae: 11.0673\n",
      "Epoch 25/100\n",
      "2/2 [==============================] - 0s 2ms/step - loss: 12.6998 - mae: 12.6998\n",
      "Epoch 26/100\n",
      "2/2 [==============================] - 0s 2ms/step - loss: 26.2396 - mae: 26.2396\n",
      "Epoch 27/100\n",
      "2/2 [==============================] - 0s 2ms/step - loss: 11.7524 - mae: 11.7524\n",
      "Epoch 28/100\n",
      "2/2 [==============================] - 0s 2ms/step - loss: 22.9252 - mae: 22.9252\n",
      "Epoch 29/100\n",
      "2/2 [==============================] - 0s 2ms/step - loss: 9.2439 - mae: 9.2439\n",
      "Epoch 30/100\n",
      "2/2 [==============================] - 0s 3ms/step - loss: 29.3121 - mae: 29.3121\n",
      "Epoch 31/100\n",
      "2/2 [==============================] - 0s 2ms/step - loss: 53.1141 - mae: 53.1141\n",
      "Epoch 32/100\n",
      "2/2 [==============================] - 0s 2ms/step - loss: 12.3708 - mae: 12.3708\n",
      "Epoch 33/100\n",
      "2/2 [==============================] - 0s 2ms/step - loss: 12.1831 - mae: 12.1831\n",
      "Epoch 34/100\n",
      "2/2 [==============================] - 0s 2ms/step - loss: 23.9483 - mae: 23.9483\n",
      "Epoch 35/100\n",
      "2/2 [==============================] - 0s 2ms/step - loss: 12.6223 - mae: 12.6223\n",
      "Epoch 36/100\n",
      "2/2 [==============================] - 0s 3ms/step - loss: 21.5243 - mae: 21.5243\n",
      "Epoch 37/100\n",
      "2/2 [==============================] - 0s 2ms/step - loss: 11.3913 - mae: 11.3913\n",
      "Epoch 38/100\n",
      "2/2 [==============================] - 0s 2ms/step - loss: 13.4744 - mae: 13.4744\n",
      "Epoch 39/100\n",
      "2/2 [==============================] - 0s 2ms/step - loss: 10.7992 - mae: 10.7992\n",
      "Epoch 40/100\n",
      "2/2 [==============================] - 0s 2ms/step - loss: 16.6026 - mae: 16.6026\n",
      "Epoch 41/100\n",
      "2/2 [==============================] - 0s 2ms/step - loss: 10.9797 - mae: 10.9797\n",
      "Epoch 42/100\n",
      "2/2 [==============================] - 0s 2ms/step - loss: 9.3049 - mae: 9.3049\n",
      "Epoch 43/100\n",
      "2/2 [==============================] - 0s 3ms/step - loss: 9.5985 - mae: 9.5985\n",
      "Epoch 44/100\n",
      "2/2 [==============================] - 0s 2ms/step - loss: 27.9750 - mae: 27.9750\n",
      "Epoch 45/100\n",
      "2/2 [==============================] - 0s 2ms/step - loss: 11.2865 - mae: 11.2865\n",
      "Epoch 46/100\n",
      "2/2 [==============================] - 0s 3ms/step - loss: 14.0574 - mae: 14.0574\n",
      "Epoch 47/100\n",
      "2/2 [==============================] - 0s 2ms/step - loss: 13.5113 - mae: 13.5113\n",
      "Epoch 48/100\n",
      "2/2 [==============================] - 0s 998us/step - loss: 17.3531 - mae: 17.3531\n",
      "Epoch 49/100\n",
      "2/2 [==============================] - 0s 3ms/step - loss: 9.5141 - mae: 9.5141\n",
      "Epoch 50/100\n",
      "2/2 [==============================] - 0s 3ms/step - loss: 13.6965 - mae: 13.6965\n",
      "Epoch 51/100\n",
      "2/2 [==============================] - 0s 2ms/step - loss: 11.5602 - mae: 11.5602\n",
      "Epoch 52/100\n",
      "2/2 [==============================] - 0s 2ms/step - loss: 30.1688 - mae: 30.1688\n",
      "Epoch 53/100\n",
      "2/2 [==============================] - 0s 2ms/step - loss: 13.7142 - mae: 13.7142\n",
      "Epoch 54/100\n",
      "2/2 [==============================] - 0s 1ms/step - loss: 26.3987 - mae: 26.3987\n",
      "Epoch 55/100\n",
      "2/2 [==============================] - 0s 3ms/step - loss: 25.9838 - mae: 25.9838\n",
      "Epoch 56/100\n",
      "2/2 [==============================] - 0s 3ms/step - loss: 11.2307 - mae: 11.2307\n",
      "Epoch 57/100\n",
      "2/2 [==============================] - 0s 2ms/step - loss: 13.2025 - mae: 13.2025\n",
      "Epoch 58/100\n",
      "2/2 [==============================] - 0s 2ms/step - loss: 9.8624 - mae: 9.8624\n",
      "Epoch 59/100\n",
      "2/2 [==============================] - 0s 2ms/step - loss: 13.3870 - mae: 13.3870\n",
      "Epoch 60/100\n",
      "2/2 [==============================] - 0s 2ms/step - loss: 10.9240 - mae: 10.9240\n",
      "Epoch 61/100\n",
      "2/2 [==============================] - 0s 3ms/step - loss: 13.5375 - mae: 13.5375\n",
      "Epoch 62/100\n",
      "2/2 [==============================] - 0s 3ms/step - loss: 17.6004 - mae: 17.6004\n",
      "Epoch 63/100\n",
      "2/2 [==============================] - 0s 2ms/step - loss: 9.1937 - mae: 9.1937\n",
      "Epoch 64/100\n",
      "2/2 [==============================] - 0s 3ms/step - loss: 18.4644 - mae: 18.4644\n",
      "Epoch 65/100\n",
      "2/2 [==============================] - 0s 4ms/step - loss: 10.1481 - mae: 10.1481\n",
      "Epoch 66/100\n",
      "2/2 [==============================] - 0s 2ms/step - loss: 24.3358 - mae: 24.3358\n",
      "Epoch 67/100\n",
      "2/2 [==============================] - 0s 3ms/step - loss: 10.9262 - mae: 10.9262\n",
      "Epoch 68/100\n",
      "2/2 [==============================] - 0s 3ms/step - loss: 10.8005 - mae: 10.8005\n",
      "Epoch 69/100\n",
      "2/2 [==============================] - 0s 2ms/step - loss: 23.3092 - mae: 23.3092\n",
      "Epoch 70/100\n",
      "2/2 [==============================] - 0s 2ms/step - loss: 8.8134 - mae: 8.8134\n",
      "Epoch 71/100\n",
      "2/2 [==============================] - 0s 2ms/step - loss: 15.9715 - mae: 15.9715\n",
      "Epoch 72/100\n",
      "2/2 [==============================] - 0s 2ms/step - loss: 8.1469 - mae: 8.1469\n",
      "Epoch 73/100\n",
      "2/2 [==============================] - 0s 3ms/step - loss: 9.4683 - mae: 9.4683\n",
      "Epoch 74/100\n",
      "2/2 [==============================] - 0s 2ms/step - loss: 28.1492 - mae: 28.1492\n",
      "Epoch 75/100\n",
      "2/2 [==============================] - 0s 2ms/step - loss: 10.2183 - mae: 10.2183\n",
      "Epoch 76/100\n",
      "2/2 [==============================] - 0s 2ms/step - loss: 13.1686 - mae: 13.1686\n",
      "Epoch 77/100\n",
      "2/2 [==============================] - 0s 2ms/step - loss: 18.4013 - mae: 18.4013\n",
      "Epoch 78/100\n",
      "2/2 [==============================] - 0s 998us/step - loss: 9.0304 - mae: 9.0304\n",
      "Epoch 79/100\n",
      "2/2 [==============================] - 0s 2ms/step - loss: 23.4406 - mae: 23.4406\n",
      "Epoch 80/100\n",
      "2/2 [==============================] - 0s 2ms/step - loss: 26.1121 - mae: 26.1121\n",
      "Epoch 81/100\n",
      "2/2 [==============================] - 0s 2ms/step - loss: 11.4009 - mae: 11.4009\n",
      "Epoch 82/100\n",
      "2/2 [==============================] - 0s 1ms/step - loss: 12.5022 - mae: 12.5022\n",
      "Epoch 83/100\n",
      "2/2 [==============================] - 0s 2ms/step - loss: 17.1949 - mae: 17.1949\n",
      "Epoch 84/100\n",
      "2/2 [==============================] - 0s 2ms/step - loss: 6.6097 - mae: 6.6097\n",
      "Epoch 85/100\n",
      "2/2 [==============================] - 0s 2ms/step - loss: 20.2734 - mae: 20.2734\n",
      "Epoch 86/100\n",
      "2/2 [==============================] - 0s 2ms/step - loss: 10.1761 - mae: 10.1761\n",
      "Epoch 87/100\n"
     ]
    },
    {
     "name": "stdout",
     "output_type": "stream",
     "text": [
      "2/2 [==============================] - 0s 2ms/step - loss: 24.3047 - mae: 24.3047\n",
      "Epoch 88/100\n",
      "2/2 [==============================] - 0s 2ms/step - loss: 18.9693 - mae: 18.9693\n",
      "Epoch 89/100\n",
      "2/2 [==============================] - 0s 2ms/step - loss: 7.1749 - mae: 7.1749\n",
      "Epoch 90/100\n",
      "2/2 [==============================] - 0s 2ms/step - loss: 18.2784 - mae: 18.2784\n",
      "Epoch 91/100\n",
      "2/2 [==============================] - 0s 2ms/step - loss: 13.3343 - mae: 13.3343\n",
      "Epoch 92/100\n",
      "2/2 [==============================] - 0s 2ms/step - loss: 8.7404 - mae: 8.7404\n",
      "Epoch 93/100\n",
      "2/2 [==============================] - 0s 2ms/step - loss: 14.1947 - mae: 14.1947\n",
      "Epoch 94/100\n",
      "2/2 [==============================] - 0s 1ms/step - loss: 17.1955 - mae: 17.1955\n",
      "Epoch 95/100\n",
      "2/2 [==============================] - 0s 2ms/step - loss: 16.7777 - mae: 16.7777\n",
      "Epoch 96/100\n",
      "2/2 [==============================] - 0s 2ms/step - loss: 11.1365 - mae: 11.1365\n",
      "Epoch 97/100\n",
      "2/2 [==============================] - 0s 2ms/step - loss: 21.1983 - mae: 21.1983\n",
      "Epoch 98/100\n",
      "2/2 [==============================] - 0s 1ms/step - loss: 10.4874 - mae: 10.4874\n",
      "Epoch 99/100\n",
      "2/2 [==============================] - 0s 2ms/step - loss: 14.5632 - mae: 14.5632\n",
      "Epoch 100/100\n",
      "2/2 [==============================] - 0s 1ms/step - loss: 17.7188 - mae: 17.7188\n"
     ]
    },
    {
     "data": {
      "text/plain": [
       "<keras.callbacks.History at 0x1c50fcf3fa0>"
      ]
     },
     "execution_count": 10,
     "metadata": {},
     "output_type": "execute_result"
    }
   ],
   "source": [
    " # Fit the model to the training data\n",
    "model.fit(X_train, y_train, epochs=100,)"
   ]
  },
  {
   "cell_type": "code",
   "execution_count": 38,
   "id": "69fac99b",
   "metadata": {},
   "outputs": [
    {
     "data": {
      "image/png": "[encoded data removed]",
      "text/plain": [
       "<IPython.core.display.Image object>"
      ]
     },
     "execution_count": 38,
     "metadata": {},
     "output_type": "execute_result"
    }
   ],
   "source": [
    "from tensorflow.keras.utils import plot_model\n",
    "plot_model(model=model, show_shapes=True)"
   ]
  },
  {
   "cell_type": "markdown",
   "id": "42993059",
   "metadata": {},
   "source": [
    "## Visualizing our model's predictions\n",
    "\n",
    "To visualize predictions, it's a good idea to plot them against the ground truth labels.\n",
    "Often you'll see this in the form of y_test or y_true versues y_pred (ground turth versus your model)"
   ]
  },
  {
   "cell_type": "code",
   "execution_count": 15,
   "id": "f9b44028",
   "metadata": {},
   "outputs": [
    {
     "data": {
      "text/plain": [
       "array([[ 69.467125],\n",
       "       [ 73.9856  ],\n",
       "       [ 78.50408 ],\n",
       "       [ 83.02256 ],\n",
       "       [ 87.54104 ],\n",
       "       [ 92.05952 ],\n",
       "       [ 96.577995],\n",
       "       [101.09647 ],\n",
       "       [105.61495 ],\n",
       "       [110.13344 ]], dtype=float32)"
      ]
     },
     "execution_count": 15,
     "metadata": {},
     "output_type": "execute_result"
    }
   ],
   "source": [
    "# Make some predictions \n",
    "y_pred = model.predict(X_test)\n",
    "y_pred"
   ]
  },
  {
   "cell_type": "code",
   "execution_count": 40,
   "id": "f105efb6",
   "metadata": {},
   "outputs": [
    {
     "data": {
      "text/plain": [
       "<tf.Tensor: shape=(10,), dtype=int32, numpy=array([ 70,  74,  78,  82,  86,  90,  94,  98, 102, 106])>"
      ]
     },
     "execution_count": 40,
     "metadata": {},
     "output_type": "execute_result"
    }
   ],
   "source": [
    "y_test"
   ]
  },
  {
   "cell_type": "code",
   "execution_count": 34,
   "id": "201982e9",
   "metadata": {},
   "outputs": [],
   "source": [
    "def plot_predictions(train_data=X_train,\n",
    "                     train_labels=y_train,\n",
    "                     test_data=X_test,\n",
    "                     test_labels=y_test,\n",
    "                     predictions=y_pred):\n",
    "    \"\"\"\n",
    "    Plots training data/test data and compares predictions to ground truth labels\n",
    "    \"\"\"\n",
    "    plt.figure(figsize=(10,7))\n",
    "    # Plot training data in blue \n",
    "    plt.scatter(train_data, train_labels, c=\"b\", label=\"Training data\")\n",
    "    # Plot test data in green\n",
    "    plt.scatter(test_data, test_labels, c=\"g\", label=\"Testing data\")\n",
    "    #Plot model predictions in red\n",
    "    plt.scatter(test_data, predictions, c=\"r\", label=\"Predictions\")\n",
    "    plt.legend();"
   ]
  },
  {
   "cell_type": "code",
   "execution_count": 17,
   "id": "89509c45",
   "metadata": {},
   "outputs": [
    {
     "data": {
      "image/png": "[encoded data removed]",
      "text/plain": [
       "<Figure size 720x504 with 1 Axes>"
      ]
     },
     "metadata": {
      "needs_background": "light"
     },
     "output_type": "display_data"
    }
   ],
   "source": [
    "plot_predictions(train_data=X_train,\n",
    "                     train_labels=y_train,\n",
    "                     test_data=X_test,\n",
    "                     test_labels=y_test,\n",
    "                     predictions=y_pred)"
   ]
  },
  {
   "cell_type": "markdown",
   "id": "830e3e12",
   "metadata": {},
   "source": [
    "### Evaluating our model's predictions with regression evaluation metrics\n",
    "\n",
    "Depending on the problem different evaluation metrics will be needed to evaluate a model's performance\n",
    "\n",
    "With regression:\n",
    "* MAE - mean absolute error, \"On average, how wrong is each of my models predictions\"\n",
    "* MSE - mean square error, the square of the average errors"
   ]
  },
  {
   "cell_type": "code",
   "execution_count": 43,
   "id": "e8a4eebc",
   "metadata": {},
   "outputs": [
    {
     "name": "stdout",
     "output_type": "stream",
     "text": [
      "1/1 [==============================] - 0s 120ms/step - loss: 1.9097 - mae: 1.9097\n"
     ]
    },
    {
     "data": {
      "text/plain": [
       "[1.9097328186035156, 1.9097328186035156]"
      ]
     },
     "execution_count": 43,
     "metadata": {},
     "output_type": "execute_result"
    }
   ],
   "source": [
    "# Evaluate the model on the test dataset\n",
    "model.evaluate(X_test, y_test)"
   ]
  },
  {
   "cell_type": "code",
   "execution_count": 48,
   "id": "441e9128",
   "metadata": {},
   "outputs": [
    {
     "data": {
      "text/plain": [
       "<tf.Tensor: shape=(10,), dtype=float32, numpy=\n",
       "array([18.532875, 14.811518, 12.198367, 10.595488, 10.      , 10.411903,\n",
       "       11.831198, 14.257884, 17.691961, 22.133438], dtype=float32)>"
      ]
     },
     "execution_count": 48,
     "metadata": {},
     "output_type": "execute_result"
    }
   ],
   "source": [
    "# Calculate the mean absolute error\n",
    "mae = tf.metrics.mean_absolute_error(y_true=y_test,\n",
    "                                     y_pred=y_pred)\n",
    "mae"
   ]
  },
  {
   "cell_type": "code",
   "execution_count": 49,
   "id": "cb588e8b",
   "metadata": {},
   "outputs": [
    {
     "data": {
      "text/plain": [
       "(<tf.Tensor: shape=(10,), dtype=int32, numpy=array([ 70,  74,  78,  82,  86,  90,  94,  98, 102, 106])>,\n",
       " array([[ 69.467125],\n",
       "        [ 73.9856  ],\n",
       "        [ 78.50408 ],\n",
       "        [ 83.02256 ],\n",
       "        [ 87.54104 ],\n",
       "        [ 92.05952 ],\n",
       "        [ 96.577995],\n",
       "        [101.09647 ],\n",
       "        [105.61495 ],\n",
       "        [110.13344 ]], dtype=float32))"
      ]
     },
     "execution_count": 49,
     "metadata": {},
     "output_type": "execute_result"
    }
   ],
   "source": [
    "y_test,y_pred"
   ]
  },
  {
   "cell_type": "markdown",
   "id": "2cdec7d2",
   "metadata": {},
   "source": [
    "**notice they are of differing dimensionality**"
   ]
  },
  {
   "cell_type": "code",
   "execution_count": 51,
   "id": "eb4eda04",
   "metadata": {},
   "outputs": [
    {
     "data": {
      "text/plain": [
       "<tf.Tensor: shape=(10,), dtype=float32, numpy=\n",
       "array([ 69.467125,  73.9856  ,  78.50408 ,  83.02256 ,  87.54104 ,\n",
       "        92.05952 ,  96.577995, 101.09647 , 105.61495 , 110.13344 ],\n",
       "      dtype=float32)>"
      ]
     },
     "execution_count": 51,
     "metadata": {},
     "output_type": "execute_result"
    }
   ],
   "source": [
    "tf.squeeze(y_pred)"
   ]
  },
  {
   "cell_type": "code",
   "execution_count": 52,
   "id": "5d182682",
   "metadata": {},
   "outputs": [
    {
     "data": {
      "text/plain": [
       "<tf.Tensor: shape=(), dtype=float32, numpy=1.9097328>"
      ]
     },
     "execution_count": 52,
     "metadata": {},
     "output_type": "execute_result"
    }
   ],
   "source": [
    "# Calculate the mean absolute error \n",
    "mae = tf.metrics.mean_absolute_error(y_true=y_test,\n",
    "                                    y_pred=tf.squeeze(y_pred))\n",
    "mae"
   ]
  },
  {
   "cell_type": "code",
   "execution_count": 53,
   "id": "775f5fd6",
   "metadata": {},
   "outputs": [
    {
     "data": {
      "text/plain": [
       "<tf.Tensor: shape=(), dtype=float32, numpy=5.45877>"
      ]
     },
     "execution_count": 53,
     "metadata": {},
     "output_type": "execute_result"
    }
   ],
   "source": [
    "# Calculate the mean square error\n",
    "mse = tf.metrics.mean_squared_error(y_true=y_test,\n",
    "                                    y_pred=tf.squeeze(y_pred))\n",
    "mse"
   ]
  },
  {
   "cell_type": "code",
   "execution_count": 24,
   "id": "16e17eb7",
   "metadata": {},
   "outputs": [],
   "source": [
    "# Make functions to reuse MAE and MSE\n",
    "\n",
    "def mae(y_true,y_pred):\n",
    "    return tf.metrics.mean_absolute_error(y_true=y_true,\n",
    "                                         y_pred=tf.squeeze(y_pred))\n",
    "def mse(y_true,y_pred):\n",
    "    return tf.metrics.mean_squared_error(y_true=y_true,\n",
    "                                        y_pred=tf.squeeze(y_pred))"
   ]
  },
  {
   "cell_type": "markdown",
   "id": "c054f21a",
   "metadata": {},
   "source": [
    "### Running experiments to improve our model\n",
    "\n",
    "1. Get more data - get more examples for the model to train on (more opportunities to learn patterns or relationships between features and labels)\n",
    "2. Make the model larger (using a complex model) - this might come in the form of more layers or more hidden units in each layer. \n",
    "3. Train for longer - give your model more of a chance to find patterns in the data.\n",
    "\n",
    "Let's do 3 modelling experiments:\n",
    "1. `model_1` - same as the original model 1 layer trained or 100 epochs.\n",
    "2. `model_2` - 2 layers, trained for 100 epochs \n",
    "3. `model_3` - 2 layers, trained for 500 epochs"
   ]
  },
  {
   "cell_type": "markdown",
   "id": "201bf0bf",
   "metadata": {},
   "source": [
    "## Build model 1"
   ]
  },
  {
   "cell_type": "code",
   "execution_count": 12,
   "id": "64f347d6",
   "metadata": {},
   "outputs": [
    {
     "name": "stdout",
     "output_type": "stream",
     "text": [
      "Epoch 1/100\n",
      "2/2 [==============================] - 0s 2ms/step - loss: 15.9024 - mae: 15.9024\n",
      "Epoch 2/100\n",
      "2/2 [==============================] - 0s 2ms/step - loss: 11.2837 - mae: 11.2837\n",
      "Epoch 3/100\n",
      "2/2 [==============================] - 0s 3ms/step - loss: 11.1075 - mae: 11.1075\n",
      "Epoch 4/100\n",
      "2/2 [==============================] - 0s 2ms/step - loss: 9.2990 - mae: 9.2990\n",
      "Epoch 5/100\n",
      "2/2 [==============================] - 0s 2ms/step - loss: 10.1677 - mae: 10.1677\n",
      "Epoch 6/100\n",
      "2/2 [==============================] - 0s 3ms/step - loss: 9.4303 - mae: 9.4303\n",
      "Epoch 7/100\n",
      "2/2 [==============================] - 0s 2ms/step - loss: 8.5704 - mae: 8.5704\n",
      "Epoch 8/100\n",
      "2/2 [==============================] - 0s 2ms/step - loss: 9.0442 - mae: 9.0442\n",
      "Epoch 9/100\n",
      "2/2 [==============================] - 0s 2ms/step - loss: 18.7517 - mae: 18.7517\n",
      "Epoch 10/100\n",
      "2/2 [==============================] - 0s 2ms/step - loss: 10.1142 - mae: 10.1142\n",
      "Epoch 11/100\n",
      "2/2 [==============================] - 0s 2ms/step - loss: 8.3980 - mae: 8.3980\n",
      "Epoch 12/100\n",
      "2/2 [==============================] - 0s 2ms/step - loss: 10.6639 - mae: 10.6639\n",
      "Epoch 13/100\n",
      "2/2 [==============================] - 0s 2ms/step - loss: 9.7977 - mae: 9.7977\n",
      "Epoch 14/100\n",
      "2/2 [==============================] - 0s 2ms/step - loss: 16.0103 - mae: 16.0103\n",
      "Epoch 15/100\n",
      "2/2 [==============================] - 0s 3ms/step - loss: 11.4068 - mae: 11.4068\n",
      "Epoch 16/100\n",
      "2/2 [==============================] - 0s 2ms/step - loss: 8.5393 - mae: 8.5393\n",
      "Epoch 17/100\n",
      "2/2 [==============================] - 0s 2ms/step - loss: 13.6348 - mae: 13.6348\n",
      "Epoch 18/100\n",
      "2/2 [==============================] - 0s 3ms/step - loss: 11.4629 - mae: 11.4629\n",
      "Epoch 19/100\n",
      "2/2 [==============================] - 0s 2ms/step - loss: 17.9148 - mae: 17.9148\n",
      "Epoch 20/100\n",
      "2/2 [==============================] - 0s 2ms/step - loss: 15.0494 - mae: 15.0494\n",
      "Epoch 21/100\n",
      "2/2 [==============================] - 0s 3ms/step - loss: 11.0216 - mae: 11.0216\n",
      "Epoch 22/100\n",
      "2/2 [==============================] - 0s 2ms/step - loss: 8.1558 - mae: 8.1558\n",
      "Epoch 23/100\n",
      "2/2 [==============================] - 0s 2ms/step - loss: 9.5138 - mae: 9.5138\n",
      "Epoch 24/100\n",
      "2/2 [==============================] - 0s 2ms/step - loss: 7.6617 - mae: 7.6617\n",
      "Epoch 25/100\n",
      "2/2 [==============================] - 0s 2ms/step - loss: 13.1859 - mae: 13.1859\n",
      "Epoch 26/100\n",
      "2/2 [==============================] - 0s 2ms/step - loss: 16.4211 - mae: 16.4211\n",
      "Epoch 27/100\n",
      "2/2 [==============================] - 0s 2ms/step - loss: 13.1660 - mae: 13.1660\n",
      "Epoch 28/100\n",
      "2/2 [==============================] - 0s 1ms/step - loss: 14.2559 - mae: 14.2559\n",
      "Epoch 29/100\n",
      "2/2 [==============================] - 0s 997us/step - loss: 10.0670 - mae: 10.0670\n",
      "Epoch 30/100\n",
      "2/2 [==============================] - 0s 2ms/step - loss: 16.3409 - mae: 16.3409\n",
      "Epoch 31/100\n",
      "2/2 [==============================] - 0s 2ms/step - loss: 23.6444 - mae: 23.6444\n",
      "Epoch 32/100\n",
      "2/2 [==============================] - 0s 2ms/step - loss: 7.6215 - mae: 7.6215\n",
      "Epoch 33/100\n",
      "2/2 [==============================] - 0s 2ms/step - loss: 9.3221 - mae: 9.3221\n",
      "Epoch 34/100\n",
      "2/2 [==============================] - 0s 2ms/step - loss: 13.7313 - mae: 13.7313\n",
      "Epoch 35/100\n",
      "2/2 [==============================] - 0s 2ms/step - loss: 11.1276 - mae: 11.1276\n",
      "Epoch 36/100\n",
      "2/2 [==============================] - 0s 1ms/step - loss: 13.3222 - mae: 13.3222\n",
      "Epoch 37/100\n",
      "2/2 [==============================] - 0s 1ms/step - loss: 9.4763 - mae: 9.4763\n",
      "Epoch 38/100\n",
      "2/2 [==============================] - 0s 2ms/step - loss: 10.1381 - mae: 10.1381\n",
      "Epoch 39/100\n",
      "2/2 [==============================] - 0s 2ms/step - loss: 10.1793 - mae: 10.1793\n",
      "Epoch 40/100\n",
      "2/2 [==============================] - 0s 2ms/step - loss: 10.9137 - mae: 10.9137\n",
      "Epoch 41/100\n",
      "2/2 [==============================] - 0s 2ms/step - loss: 7.9063 - mae: 7.9063\n",
      "Epoch 42/100\n",
      "2/2 [==============================] - 0s 3ms/step - loss: 10.0914 - mae: 10.0914\n",
      "Epoch 43/100\n",
      "2/2 [==============================] - 0s 2ms/step - loss: 8.7006 - mae: 8.7006\n",
      "Epoch 44/100\n",
      "2/2 [==============================] - 0s 2ms/step - loss: 12.2046 - mae: 12.2046\n",
      "Epoch 45/100\n",
      "2/2 [==============================] - 0s 2ms/step - loss: 13.7970 - mae: 13.7970\n",
      "Epoch 46/100\n",
      "2/2 [==============================] - 0s 2ms/step - loss: 8.4687 - mae: 8.4687\n",
      "Epoch 47/100\n",
      "2/2 [==============================] - 0s 2ms/step - loss: 9.1330 - mae: 9.1330\n",
      "Epoch 48/100\n",
      "2/2 [==============================] - 0s 2ms/step - loss: 10.6190 - mae: 10.6190\n",
      "Epoch 49/100\n",
      "2/2 [==============================] - 0s 2ms/step - loss: 7.7503 - mae: 7.7503\n",
      "Epoch 50/100\n",
      "2/2 [==============================] - 0s 2ms/step - loss: 9.5407 - mae: 9.5407\n",
      "Epoch 51/100\n",
      "2/2 [==============================] - 0s 1ms/step - loss: 9.1584 - mae: 9.1584\n",
      "Epoch 52/100\n",
      "2/2 [==============================] - 0s 2ms/step - loss: 16.3630 - mae: 16.3630\n",
      "Epoch 53/100\n",
      "2/2 [==============================] - 0s 2ms/step - loss: 14.1299 - mae: 14.1299\n",
      "Epoch 54/100\n",
      "2/2 [==============================] - 0s 2ms/step - loss: 21.1247 - mae: 21.1247\n",
      "Epoch 55/100\n",
      "2/2 [==============================] - 0s 3ms/step - loss: 16.3961 - mae: 16.3961\n",
      "Epoch 56/100\n",
      "2/2 [==============================] - 0s 2ms/step - loss: 9.9806 - mae: 9.9806\n",
      "Epoch 57/100\n",
      "2/2 [==============================] - 0s 2ms/step - loss: 9.9606 - mae: 9.9606\n",
      "Epoch 58/100\n",
      "2/2 [==============================] - 0s 2ms/step - loss: 9.2209 - mae: 9.2209\n",
      "Epoch 59/100\n",
      "2/2 [==============================] - 0s 2ms/step - loss: 8.4239 - mae: 8.4239\n",
      "Epoch 60/100\n",
      "2/2 [==============================] - 0s 3ms/step - loss: 9.4869 - mae: 9.4869\n",
      "Epoch 61/100\n",
      "2/2 [==============================] - 0s 2ms/step - loss: 11.4354 - mae: 11.4354\n",
      "Epoch 62/100\n",
      "2/2 [==============================] - 0s 2ms/step - loss: 11.6887 - mae: 11.6887\n",
      "Epoch 63/100\n",
      "2/2 [==============================] - 0s 2ms/step - loss: 7.0838 - mae: 7.0838\n",
      "Epoch 64/100\n",
      "2/2 [==============================] - 0s 2ms/step - loss: 16.9675 - mae: 16.9675\n",
      "Epoch 65/100\n",
      "2/2 [==============================] - 0s 1000us/step - loss: 12.4599 - mae: 12.4599\n",
      "Epoch 66/100\n",
      "2/2 [==============================] - 0s 2ms/step - loss: 13.0184 - mae: 13.0184\n",
      "Epoch 67/100\n",
      "2/2 [==============================] - 0s 2ms/step - loss: 8.0600 - mae: 8.0600\n",
      "Epoch 68/100\n",
      "2/2 [==============================] - 0s 2ms/step - loss: 10.1888 - mae: 10.1888\n",
      "Epoch 69/100\n",
      "2/2 [==============================] - 0s 3ms/step - loss: 12.3633 - mae: 12.3633\n",
      "Epoch 70/100\n",
      "2/2 [==============================] - 0s 2ms/step - loss: 9.0516 - mae: 9.0516\n",
      "Epoch 71/100\n",
      "2/2 [==============================] - 0s 2ms/step - loss: 10.0378 - mae: 10.0378\n",
      "Epoch 72/100\n",
      "2/2 [==============================] - 0s 2ms/step - loss: 10.0516 - mae: 10.0516\n",
      "Epoch 73/100\n",
      "2/2 [==============================] - 0s 2ms/step - loss: 12.6151 - mae: 12.6151\n",
      "Epoch 74/100\n",
      "2/2 [==============================] - 0s 3ms/step - loss: 10.3819 - mae: 10.3819\n",
      "Epoch 75/100\n",
      "2/2 [==============================] - 0s 2ms/step - loss: 9.7229 - mae: 9.7229\n",
      "Epoch 76/100\n",
      "2/2 [==============================] - 0s 2ms/step - loss: 11.2252 - mae: 11.2252\n",
      "Epoch 77/100\n",
      "2/2 [==============================] - 0s 2ms/step - loss: 8.3642 - mae: 8.3642\n",
      "Epoch 78/100\n",
      "2/2 [==============================] - 0s 1000us/step - loss: 9.1274 - mae: 9.1274\n",
      "Epoch 79/100\n",
      "2/2 [==============================] - 0s 2ms/step - loss: 19.5039 - mae: 19.5039\n",
      "Epoch 80/100\n",
      "2/2 [==============================] - 0s 2ms/step - loss: 14.8945 - mae: 14.8945\n",
      "Epoch 81/100\n",
      "2/2 [==============================] - 0s 2ms/step - loss: 9.0034 - mae: 9.0034\n",
      "Epoch 82/100\n",
      "2/2 [==============================] - 0s 2ms/step - loss: 13.0206 - mae: 13.0206\n",
      "Epoch 83/100\n",
      "2/2 [==============================] - 0s 2ms/step - loss: 7.9299 - mae: 7.9299\n",
      "Epoch 84/100\n",
      "2/2 [==============================] - 0s 2ms/step - loss: 7.6872 - mae: 7.6872\n",
      "Epoch 85/100\n",
      "2/2 [==============================] - 0s 1000us/step - loss: 10.0328 - mae: 10.0328\n",
      "Epoch 86/100\n",
      "2/2 [==============================] - 0s 2ms/step - loss: 9.2433 - mae: 9.2433\n",
      "Epoch 87/100\n",
      "2/2 [==============================] - 0s 1ms/step - loss: 12.0209 - mae: 12.0209\n"
     ]
    },
    {
     "name": "stdout",
     "output_type": "stream",
     "text": [
      "Epoch 88/100\n",
      "2/2 [==============================] - 0s 996us/step - loss: 10.6389 - mae: 10.6389\n",
      "Epoch 89/100\n",
      "2/2 [==============================] - 0s 2ms/step - loss: 7.2667 - mae: 7.2667\n",
      "Epoch 90/100\n",
      "2/2 [==============================] - 0s 2ms/step - loss: 12.7786 - mae: 12.7786\n",
      "Epoch 91/100\n",
      "2/2 [==============================] - 0s 2ms/step - loss: 7.3481 - mae: 7.3481\n",
      "Epoch 92/100\n",
      "2/2 [==============================] - 0s 2ms/step - loss: 7.7175 - mae: 7.7175\n",
      "Epoch 93/100\n",
      "2/2 [==============================] - 0s 2ms/step - loss: 7.1263 - mae: 7.1263\n",
      "Epoch 94/100\n",
      "2/2 [==============================] - 0s 2ms/step - loss: 12.6190 - mae: 12.6190\n",
      "Epoch 95/100\n",
      "2/2 [==============================] - 0s 2ms/step - loss: 10.0912 - mae: 10.0912\n",
      "Epoch 96/100\n",
      "2/2 [==============================] - 0s 2ms/step - loss: 9.3558 - mae: 9.3558\n",
      "Epoch 97/100\n",
      "2/2 [==============================] - 0s 1ms/step - loss: 12.6834 - mae: 12.6834\n",
      "Epoch 98/100\n",
      "2/2 [==============================] - 0s 2ms/step - loss: 8.6762 - mae: 8.6762\n",
      "Epoch 99/100\n",
      "2/2 [==============================] - 0s 2ms/step - loss: 9.4693 - mae: 9.4693\n",
      "Epoch 100/100\n",
      "2/2 [==============================] - 0s 2ms/step - loss: 8.7067 - mae: 8.7067\n"
     ]
    },
    {
     "data": {
      "text/plain": [
       "<keras.callbacks.History at 0x1c5110c0100>"
      ]
     },
     "execution_count": 12,
     "metadata": {},
     "output_type": "execute_result"
    }
   ],
   "source": [
    "# Set random seed\n",
    "tf.random.set_seed(42)\n",
    "\n",
    "# 1. Create the model\n",
    "model_1 = tf.keras.Sequential([\n",
    "    tf.keras.layers.Dense(1, input_shape=[1], name=\"input_layer\"),\n",
    "], name=\"model_1\")\n",
    "\n",
    "# 2. Compile the model\n",
    "model_1.compile(loss=tf.keras.losses.mae,\n",
    "                  optimizer=tf.keras.optimizers.SGD(),\n",
    "                  metrics=[\"mae\"])\n",
    "\n",
    "# 3. Fit the model\n",
    "model_1.fit(X_train, y_train, epochs=100,)"
   ]
  },
  {
   "cell_type": "code",
   "execution_count": 19,
   "id": "824b6add",
   "metadata": {},
   "outputs": [
    {
     "data": {
      "image/png": "[encoded data removed]",
      "text/plain": [
       "<Figure size 720x504 with 1 Axes>"
      ]
     },
     "metadata": {
      "needs_background": "light"
     },
     "output_type": "display_data"
    }
   ],
   "source": [
    "# Make and plot predictions for model_1\n",
    "y_preds_1 = model_1.predict(X_test)\n",
    "plot_predictions(predictions=y_preds_1)"
   ]
  },
  {
   "cell_type": "code",
   "execution_count": 25,
   "id": "12267d7b",
   "metadata": {},
   "outputs": [
    {
     "data": {
      "text/plain": [
       "(<tf.Tensor: shape=(), dtype=float32, numpy=18.745327>,\n",
       " <tf.Tensor: shape=(), dtype=float32, numpy=353.57336>)"
      ]
     },
     "execution_count": 25,
     "metadata": {},
     "output_type": "execute_result"
    }
   ],
   "source": [
    "# Calculate model_1 evaluation metrics \n",
    "mae_1 = mae(y_test,y_preds_1)\n",
    "mse_1 = mse(y_test,y_preds_1)\n",
    "mae_1,mse_1"
   ]
  },
  {
   "cell_type": "markdown",
   "id": "954a070f",
   "metadata": {},
   "source": [
    "## Build model 2\n",
    "\n",
    "* 2 Dense layers, trained for 100 epochs"
   ]
  },
  {
   "cell_type": "code",
   "execution_count": 40,
   "id": "32907842",
   "metadata": {},
   "outputs": [
    {
     "name": "stdout",
     "output_type": "stream",
     "text": [
      "Epoch 1/100\n",
      "2/2 [==============================] - 0s 2ms/step - loss: 22.6625 - mae: 22.6625\n",
      "Epoch 2/100\n",
      "2/2 [==============================] - 0s 4ms/step - loss: 16.9439 - mae: 16.9439\n",
      "Epoch 3/100\n",
      "2/2 [==============================] - 0s 3ms/step - loss: 13.8059 - mae: 13.8059\n",
      "Epoch 4/100\n",
      "2/2 [==============================] - 0s 3ms/step - loss: 17.4504 - mae: 17.4504\n",
      "Epoch 5/100\n",
      "2/2 [==============================] - 0s 2ms/step - loss: 12.0637 - mae: 12.0637\n",
      "Epoch 6/100\n",
      "2/2 [==============================] - 0s 2ms/step - loss: 9.8335 - mae: 9.8335\n",
      "Epoch 7/100\n",
      "2/2 [==============================] - 0s 3ms/step - loss: 10.7023 - mae: 10.7023\n",
      "Epoch 8/100\n",
      "2/2 [==============================] - 0s 2ms/step - loss: 10.8713 - mae: 10.8713\n",
      "Epoch 9/100\n",
      "2/2 [==============================] - 0s 2ms/step - loss: 38.0435 - mae: 38.0435\n",
      "Epoch 10/100\n",
      "2/2 [==============================] - 0s 2ms/step - loss: 25.6226 - mae: 25.6226\n",
      "Epoch 11/100\n",
      "2/2 [==============================] - 0s 2ms/step - loss: 10.2375 - mae: 10.2375\n",
      "Epoch 12/100\n",
      "2/2 [==============================] - 0s 1ms/step - loss: 25.1960 - mae: 25.1960\n",
      "Epoch 13/100\n",
      "2/2 [==============================] - 0s 2ms/step - loss: 17.0177 - mae: 17.0177\n",
      "Epoch 14/100\n",
      "2/2 [==============================] - 0s 2ms/step - loss: 25.9747 - mae: 25.9747\n",
      "Epoch 15/100\n",
      "2/2 [==============================] - 0s 1ms/step - loss: 18.0366 - mae: 18.0366\n",
      "Epoch 16/100\n",
      "2/2 [==============================] - 0s 3ms/step - loss: 7.3513 - mae: 7.3513\n",
      "Epoch 17/100\n",
      "2/2 [==============================] - 0s 2ms/step - loss: 10.8516 - mae: 10.8516\n",
      "Epoch 18/100\n",
      "2/2 [==============================] - 0s 2ms/step - loss: 19.5119 - mae: 19.5119\n",
      "Epoch 19/100\n",
      "2/2 [==============================] - 0s 998us/step - loss: 10.3378 - mae: 10.3378\n",
      "Epoch 20/100\n",
      "2/2 [==============================] - 0s 2ms/step - loss: 17.6840 - mae: 17.6840\n",
      "Epoch 21/100\n",
      "2/2 [==============================] - 0s 2ms/step - loss: 15.8826 - mae: 15.8826\n",
      "Epoch 22/100\n",
      "2/2 [==============================] - 0s 2ms/step - loss: 14.1778 - mae: 14.1778\n",
      "Epoch 23/100\n",
      "2/2 [==============================] - 0s 2ms/step - loss: 8.7814 - mae: 8.7814\n",
      "Epoch 24/100\n",
      "2/2 [==============================] - 0s 2ms/step - loss: 11.0673 - mae: 11.0673\n",
      "Epoch 25/100\n",
      "2/2 [==============================] - 0s 999us/step - loss: 12.6998 - mae: 12.6998\n",
      "Epoch 26/100\n",
      "2/2 [==============================] - 0s 2ms/step - loss: 26.2396 - mae: 26.2396\n",
      "Epoch 27/100\n",
      "2/2 [==============================] - 0s 2ms/step - loss: 11.7524 - mae: 11.7524\n",
      "Epoch 28/100\n",
      "2/2 [==============================] - 0s 2ms/step - loss: 22.9252 - mae: 22.9252\n",
      "Epoch 29/100\n",
      "2/2 [==============================] - 0s 2ms/step - loss: 9.2439 - mae: 9.2439\n",
      "Epoch 30/100\n",
      "2/2 [==============================] - 0s 2ms/step - loss: 29.3121 - mae: 29.3121\n",
      "Epoch 31/100\n",
      "2/2 [==============================] - 0s 1ms/step - loss: 53.1141 - mae: 53.1141\n",
      "Epoch 32/100\n",
      "2/2 [==============================] - 0s 3ms/step - loss: 12.3708 - mae: 12.3708\n",
      "Epoch 33/100\n",
      "2/2 [==============================] - 0s 3ms/step - loss: 12.1831 - mae: 12.1831\n",
      "Epoch 34/100\n",
      "2/2 [==============================] - 0s 2ms/step - loss: 23.9483 - mae: 23.9483\n",
      "Epoch 35/100\n",
      "2/2 [==============================] - 0s 2ms/step - loss: 12.6223 - mae: 12.6223\n",
      "Epoch 36/100\n",
      "2/2 [==============================] - 0s 3ms/step - loss: 21.5243 - mae: 21.5243\n",
      "Epoch 37/100\n",
      "2/2 [==============================] - 0s 2ms/step - loss: 11.3913 - mae: 11.3913\n",
      "Epoch 38/100\n",
      "2/2 [==============================] - 0s 2ms/step - loss: 13.4744 - mae: 13.4744\n",
      "Epoch 39/100\n",
      "2/2 [==============================] - 0s 2ms/step - loss: 10.7992 - mae: 10.7992\n",
      "Epoch 40/100\n",
      "2/2 [==============================] - 0s 2ms/step - loss: 16.6026 - mae: 16.6026\n",
      "Epoch 41/100\n",
      "2/2 [==============================] - 0s 2ms/step - loss: 10.9797 - mae: 10.9797\n",
      "Epoch 42/100\n",
      "2/2 [==============================] - 0s 2ms/step - loss: 9.3049 - mae: 9.3049\n",
      "Epoch 43/100\n",
      "2/2 [==============================] - 0s 2ms/step - loss: 9.5985 - mae: 9.5985\n",
      "Epoch 44/100\n",
      "2/2 [==============================] - 0s 3ms/step - loss: 27.9750 - mae: 27.9750\n",
      "Epoch 45/100\n",
      "2/2 [==============================] - 0s 2ms/step - loss: 11.2865 - mae: 11.2865\n",
      "Epoch 46/100\n",
      "2/2 [==============================] - 0s 2ms/step - loss: 14.0574 - mae: 14.0574\n",
      "Epoch 47/100\n",
      "2/2 [==============================] - 0s 2ms/step - loss: 13.5113 - mae: 13.5113\n",
      "Epoch 48/100\n",
      "2/2 [==============================] - 0s 3ms/step - loss: 17.3531 - mae: 17.3531\n",
      "Epoch 49/100\n",
      "2/2 [==============================] - 0s 998us/step - loss: 9.5141 - mae: 9.5141\n",
      "Epoch 50/100\n",
      "2/2 [==============================] - 0s 2ms/step - loss: 13.6965 - mae: 13.6965\n",
      "Epoch 51/100\n",
      "2/2 [==============================] - 0s 3ms/step - loss: 11.5602 - mae: 11.5602\n",
      "Epoch 52/100\n",
      "2/2 [==============================] - 0s 2ms/step - loss: 30.1688 - mae: 30.1688\n",
      "Epoch 53/100\n",
      "2/2 [==============================] - 0s 3ms/step - loss: 13.7142 - mae: 13.7142\n",
      "Epoch 54/100\n",
      "2/2 [==============================] - 0s 3ms/step - loss: 26.3987 - mae: 26.3987\n",
      "Epoch 55/100\n",
      "2/2 [==============================] - 0s 2ms/step - loss: 25.9838 - mae: 25.9838\n",
      "Epoch 56/100\n",
      "2/2 [==============================] - 0s 2ms/step - loss: 11.2307 - mae: 11.2307\n",
      "Epoch 57/100\n",
      "2/2 [==============================] - 0s 2ms/step - loss: 13.2025 - mae: 13.2025\n",
      "Epoch 58/100\n",
      "2/2 [==============================] - 0s 2ms/step - loss: 9.8624 - mae: 9.8624\n",
      "Epoch 59/100\n",
      "2/2 [==============================] - 0s 2ms/step - loss: 13.3870 - mae: 13.3870\n",
      "Epoch 60/100\n",
      "2/2 [==============================] - 0s 2ms/step - loss: 10.9240 - mae: 10.9240\n",
      "Epoch 61/100\n",
      "2/2 [==============================] - 0s 1ms/step - loss: 13.5375 - mae: 13.5375\n",
      "Epoch 62/100\n",
      "2/2 [==============================] - 0s 2ms/step - loss: 17.6004 - mae: 17.6004\n",
      "Epoch 63/100\n",
      "2/2 [==============================] - 0s 998us/step - loss: 9.1937 - mae: 9.1937\n",
      "Epoch 64/100\n",
      "2/2 [==============================] - 0s 1ms/step - loss: 18.4644 - mae: 18.4644\n",
      "Epoch 65/100\n",
      "2/2 [==============================] - 0s 2ms/step - loss: 10.1481 - mae: 10.1481\n",
      "Epoch 66/100\n",
      "2/2 [==============================] - 0s 2ms/step - loss: 24.3358 - mae: 24.3358\n",
      "Epoch 67/100\n",
      "2/2 [==============================] - 0s 2ms/step - loss: 10.9262 - mae: 10.9262\n",
      "Epoch 68/100\n",
      "2/2 [==============================] - 0s 2ms/step - loss: 10.8005 - mae: 10.8005\n",
      "Epoch 69/100\n",
      "2/2 [==============================] - 0s 2ms/step - loss: 23.3092 - mae: 23.3092\n",
      "Epoch 70/100\n",
      "2/2 [==============================] - 0s 2ms/step - loss: 8.8134 - mae: 8.8134\n",
      "Epoch 71/100\n",
      "2/2 [==============================] - 0s 2ms/step - loss: 15.9715 - mae: 15.9715\n",
      "Epoch 72/100\n",
      "2/2 [==============================] - 0s 2ms/step - loss: 8.1469 - mae: 8.1469\n",
      "Epoch 73/100\n",
      "2/2 [==============================] - 0s 999us/step - loss: 9.4683 - mae: 9.4683\n",
      "Epoch 74/100\n",
      "2/2 [==============================] - 0s 2ms/step - loss: 28.1492 - mae: 28.1492\n",
      "Epoch 75/100\n",
      "2/2 [==============================] - 0s 2ms/step - loss: 10.2183 - mae: 10.2183\n",
      "Epoch 76/100\n",
      "2/2 [==============================] - 0s 2ms/step - loss: 13.1686 - mae: 13.1686\n",
      "Epoch 77/100\n",
      "2/2 [==============================] - 0s 2ms/step - loss: 18.4013 - mae: 18.4013\n",
      "Epoch 78/100\n",
      "2/2 [==============================] - 0s 1000us/step - loss: 9.0304 - mae: 9.0304\n",
      "Epoch 79/100\n",
      "2/2 [==============================] - 0s 2ms/step - loss: 23.4406 - mae: 23.4406\n",
      "Epoch 80/100\n",
      "2/2 [==============================] - 0s 2ms/step - loss: 26.1121 - mae: 26.1121\n",
      "Epoch 81/100\n",
      "2/2 [==============================] - 0s 2ms/step - loss: 11.4009 - mae: 11.4009\n",
      "Epoch 82/100\n",
      "2/2 [==============================] - 0s 2ms/step - loss: 12.5022 - mae: 12.5022\n",
      "Epoch 83/100\n",
      "2/2 [==============================] - 0s 2ms/step - loss: 17.1949 - mae: 17.1949\n",
      "Epoch 84/100\n",
      "2/2 [==============================] - 0s 2ms/step - loss: 6.6097 - mae: 6.6097\n",
      "Epoch 85/100\n",
      "2/2 [==============================] - 0s 2ms/step - loss: 20.2734 - mae: 20.2734\n",
      "Epoch 86/100\n",
      "2/2 [==============================] - 0s 2ms/step - loss: 10.1761 - mae: 10.1761\n",
      "Epoch 87/100\n"
     ]
    },
    {
     "name": "stdout",
     "output_type": "stream",
     "text": [
      "2/2 [==============================] - 0s 998us/step - loss: 24.3047 - mae: 24.3047\n",
      "Epoch 88/100\n",
      "2/2 [==============================] - 0s 3ms/step - loss: 18.9693 - mae: 18.9693\n",
      "Epoch 89/100\n",
      "2/2 [==============================] - 0s 2ms/step - loss: 7.1749 - mae: 7.1749\n",
      "Epoch 90/100\n",
      "2/2 [==============================] - 0s 1ms/step - loss: 18.2784 - mae: 18.2784\n",
      "Epoch 91/100\n",
      "2/2 [==============================] - 0s 2ms/step - loss: 13.3343 - mae: 13.3343\n",
      "Epoch 92/100\n",
      "2/2 [==============================] - 0s 2ms/step - loss: 8.7404 - mae: 8.7404\n",
      "Epoch 93/100\n",
      "2/2 [==============================] - 0s 2ms/step - loss: 14.1947 - mae: 14.1947\n",
      "Epoch 94/100\n",
      "2/2 [==============================] - 0s 2ms/step - loss: 17.1955 - mae: 17.1955\n",
      "Epoch 95/100\n",
      "2/2 [==============================] - 0s 2ms/step - loss: 16.7777 - mae: 16.7777\n",
      "Epoch 96/100\n",
      "2/2 [==============================] - 0s 2ms/step - loss: 11.1365 - mae: 11.1365\n",
      "Epoch 97/100\n",
      "2/2 [==============================] - 0s 998us/step - loss: 21.1983 - mae: 21.1983\n",
      "Epoch 98/100\n",
      "2/2 [==============================] - 0s 2ms/step - loss: 10.4874 - mae: 10.4874\n",
      "Epoch 99/100\n",
      "2/2 [==============================] - 0s 2ms/step - loss: 14.5632 - mae: 14.5632\n",
      "Epoch 100/100\n",
      "2/2 [==============================] - 0s 2ms/step - loss: 17.7188 - mae: 17.7188\n"
     ]
    },
    {
     "data": {
      "text/plain": [
       "<keras.callbacks.History at 0x1c5139abc70>"
      ]
     },
     "execution_count": 40,
     "metadata": {},
     "output_type": "execute_result"
    }
   ],
   "source": [
    "# Set random seed\n",
    "tf.random.set_seed(42)\n",
    "\n",
    "# 1. Create model\n",
    "model_2 = tf.keras.Sequential([\n",
    "    tf.keras.layers.Dense(1,input_shape=[1], name=\"input\"),\n",
    "    tf.keras.layers.Dense(1,input_shape=[1], name=\"output\")\n",
    "])\n",
    "\n",
    "# 2. Compile the model\n",
    "model_2.compile(loss=tf.keras.losses.mae,\n",
    "               optimizer=tf.keras.optimizers.SGD(),\n",
    "               metrics=[\"mae\"])\n",
    "# 3. Fit the model\n",
    "model_2.fit(X_train, y_train, epochs=100)"
   ]
  },
  {
   "cell_type": "code",
   "execution_count": 42,
   "id": "19c02ceb",
   "metadata": {},
   "outputs": [
    {
     "data": {
      "image/png": "[encoded data removed]",
      "text/plain": [
       "<Figure size 720x504 with 1 Axes>"
      ]
     },
     "metadata": {
      "needs_background": "light"
     },
     "output_type": "display_data"
    }
   ],
   "source": [
    "# Make and plot predictions for model_2\n",
    "y_preds_2 = model_2.predict(X_test)\n",
    "plot_predictions(predictions=y_preds_2)"
   ]
  },
  {
   "cell_type": "code",
   "execution_count": 43,
   "id": "249efa30",
   "metadata": {},
   "outputs": [
    {
     "data": {
      "text/plain": [
       "(<tf.Tensor: shape=(), dtype=float32, numpy=1.9097328>,\n",
       " <tf.Tensor: shape=(), dtype=float32, numpy=5.45877>)"
      ]
     },
     "execution_count": 43,
     "metadata": {},
     "output_type": "execute_result"
    }
   ],
   "source": [
    "# Calculate model_1 evaluation metrics \n",
    "mae_2 = mae(y_test,y_preds_2)\n",
    "mse_2 = mse(y_test,y_preds_2)\n",
    "mae_2,mse_2"
   ]
  },
  {
   "cell_type": "code",
   "execution_count": null,
   "id": "038cd59b",
   "metadata": {},
   "outputs": [],
   "source": []
  }
 ],
 "metadata": {
  "kernelspec": {
   "display_name": "Python 3 (ipykernel)",
   "language": "python",
   "name": "python3"
  },
  "language_info": {
   "codemirror_mode": {
    "name": "ipython",
    "version": 3
   },
   "file_extension": ".py",
   "mimetype": "text/x-python",
   "name": "python",
   "nbconvert_exporter": "python",
   "pygments_lexer": "ipython3",
   "version": "3.9.7"
  },
  "widgets": {
   "application/vnd.jupyter.widget-state+json": {
    "state": {},
    "version_major": 2,
    "version_minor": 0
   }
  }
 },
 "nbformat": 4,
 "nbformat_minor": 5
}
