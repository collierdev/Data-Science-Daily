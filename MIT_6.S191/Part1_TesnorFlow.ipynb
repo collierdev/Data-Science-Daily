{
 "cells": [
  {
   "cell_type": "markdown",
   "metadata": {},
   "source": [
    "# Lab 1: Intro to TensorFlow and Music Generation with RNNs\n",
    "\n",
    "© MIT 6.S191: Introduction to Deep Learning\n",
    "http://introtodeeplearning.com"
   ]
  },
  {
   "cell_type": "markdown",
   "metadata": {},
   "source": [
    "## 1. Intro to Tensorflow\n",
    "\n",
    "importing necessary packages"
   ]
  },
  {
   "cell_type": "code",
   "execution_count": 3,
   "metadata": {},
   "outputs": [
    {
     "name": "stdout",
     "output_type": "stream",
     "text": [
      "Requirement already satisfied: mitdeeplearning in c:\\users\\frisk\\anaconda3\\envs\\tf-gpu\\lib\\site-packages (0.2.0)\n",
      "Requirement already satisfied: numpy in c:\\users\\frisk\\anaconda3\\envs\\tf-gpu\\lib\\site-packages (from mitdeeplearning) (1.21.5)\n",
      "Requirement already satisfied: regex in c:\\users\\frisk\\anaconda3\\envs\\tf-gpu\\lib\\site-packages (from mitdeeplearning) (2022.3.15)\n",
      "Requirement already satisfied: gym in c:\\users\\frisk\\anaconda3\\envs\\tf-gpu\\lib\\site-packages (from mitdeeplearning) (0.23.1)\n",
      "Requirement already satisfied: tqdm in c:\\users\\frisk\\anaconda3\\envs\\tf-gpu\\lib\\site-packages (from mitdeeplearning) (4.63.1)\n",
      "Requirement already satisfied: cloudpickle>=1.2.0 in c:\\users\\frisk\\anaconda3\\envs\\tf-gpu\\lib\\site-packages (from gym->mitdeeplearning) (2.0.0)\n",
      "Requirement already satisfied: importlib-metadata>=4.10.0 in c:\\users\\frisk\\anaconda3\\envs\\tf-gpu\\lib\\site-packages (from gym->mitdeeplearning) (4.11.3)\n",
      "Requirement already satisfied: gym-notices>=0.0.4 in c:\\users\\frisk\\anaconda3\\envs\\tf-gpu\\lib\\site-packages (from gym->mitdeeplearning) (0.0.6)\n",
      "Requirement already satisfied: zipp>=0.5 in c:\\users\\frisk\\anaconda3\\envs\\tf-gpu\\lib\\site-packages (from importlib-metadata>=4.10.0->gym->mitdeeplearning) (3.7.0)\n",
      "Requirement already satisfied: colorama in c:\\users\\frisk\\anaconda3\\envs\\tf-gpu\\lib\\site-packages (from tqdm->mitdeeplearning) (0.4.4)\n"
     ]
    },
    {
     "ename": "ModuleNotFoundError",
     "evalue": "No module named 'matplotlib'",
     "output_type": "error",
     "traceback": [
      "\u001b[1;31m---------------------------------------------------------------------------\u001b[0m",
      "\u001b[1;31mModuleNotFoundError\u001b[0m                       Traceback (most recent call last)",
      "\u001b[1;32mc:\\Users\\frisk\\Documents\\Data Science Practice\\Data-Science-Daily\\MIT_6.S191\\Part1_TesnorFlow.ipynb Cell 3'\u001b[0m in \u001b[0;36m<cell line: 5>\u001b[1;34m()\u001b[0m\n\u001b[0;32m      <a href='vscode-notebook-cell:/c%3A/Users/frisk/Documents/Data%20Science%20Practice/Data-Science-Daily/MIT_6.S191/Part1_TesnorFlow.ipynb#ch0000004?line=2'>3</a>\u001b[0m \u001b[39m# Download and import the MIT 6.S191 package\u001b[39;00m\n\u001b[0;32m      <a href='vscode-notebook-cell:/c%3A/Users/frisk/Documents/Data%20Science%20Practice/Data-Science-Daily/MIT_6.S191/Part1_TesnorFlow.ipynb#ch0000004?line=3'>4</a>\u001b[0m get_ipython()\u001b[39m.\u001b[39msystem(\u001b[39m'\u001b[39m\u001b[39mpip install mitdeeplearning\u001b[39m\u001b[39m'\u001b[39m)\n\u001b[1;32m----> <a href='vscode-notebook-cell:/c%3A/Users/frisk/Documents/Data%20Science%20Practice/Data-Science-Daily/MIT_6.S191/Part1_TesnorFlow.ipynb#ch0000004?line=4'>5</a>\u001b[0m \u001b[39mimport\u001b[39;00m \u001b[39mmitdeeplearning\u001b[39;00m \u001b[39mas\u001b[39;00m \u001b[39mmdl\u001b[39;00m\n\u001b[0;32m      <a href='vscode-notebook-cell:/c%3A/Users/frisk/Documents/Data%20Science%20Practice/Data-Science-Daily/MIT_6.S191/Part1_TesnorFlow.ipynb#ch0000004?line=6'>7</a>\u001b[0m \u001b[39mimport\u001b[39;00m \u001b[39mnumpy\u001b[39;00m \u001b[39mas\u001b[39;00m \u001b[39mnp\u001b[39;00m\n",
      "File \u001b[1;32m~\\anaconda3\\envs\\tf-gpu\\lib\\site-packages\\mitdeeplearning\\__init__.py:1\u001b[0m, in \u001b[0;36m<module>\u001b[1;34m\u001b[0m\n\u001b[1;32m----> <a href='file:///c%3A/Users/frisk/anaconda3/envs/tf-gpu/lib/site-packages/mitdeeplearning/__init__.py?line=0'>1</a>\u001b[0m \u001b[39mimport\u001b[39;00m \u001b[39mmitdeeplearning\u001b[39;00m\u001b[39m.\u001b[39;00m\u001b[39mutil\u001b[39;00m\n\u001b[0;32m      <a href='file:///c%3A/Users/frisk/anaconda3/envs/tf-gpu/lib/site-packages/mitdeeplearning/__init__.py?line=2'>3</a>\u001b[0m \u001b[39mimport\u001b[39;00m \u001b[39mmitdeeplearning\u001b[39;00m\u001b[39m.\u001b[39;00m\u001b[39mlab1\u001b[39;00m\n\u001b[0;32m      <a href='file:///c%3A/Users/frisk/anaconda3/envs/tf-gpu/lib/site-packages/mitdeeplearning/__init__.py?line=3'>4</a>\u001b[0m \u001b[39mimport\u001b[39;00m \u001b[39mmitdeeplearning\u001b[39;00m\u001b[39m.\u001b[39;00m\u001b[39mlab2\u001b[39;00m\n",
      "File \u001b[1;32m~\\anaconda3\\envs\\tf-gpu\\lib\\site-packages\\mitdeeplearning\\util.py:1\u001b[0m, in \u001b[0;36m<module>\u001b[1;34m\u001b[0m\n\u001b[1;32m----> <a href='file:///c%3A/Users/frisk/anaconda3/envs/tf-gpu/lib/site-packages/mitdeeplearning/util.py?line=0'>1</a>\u001b[0m \u001b[39mimport\u001b[39;00m \u001b[39mmatplotlib\u001b[39;00m\u001b[39m.\u001b[39;00m\u001b[39mpyplot\u001b[39;00m \u001b[39mas\u001b[39;00m \u001b[39mplt\u001b[39;00m\n\u001b[0;32m      <a href='file:///c%3A/Users/frisk/anaconda3/envs/tf-gpu/lib/site-packages/mitdeeplearning/util.py?line=1'>2</a>\u001b[0m \u001b[39mimport\u001b[39;00m \u001b[39mtensorflow\u001b[39;00m \u001b[39mas\u001b[39;00m \u001b[39mtf\u001b[39;00m\n\u001b[0;32m      <a href='file:///c%3A/Users/frisk/anaconda3/envs/tf-gpu/lib/site-packages/mitdeeplearning/util.py?line=2'>3</a>\u001b[0m \u001b[39mimport\u001b[39;00m \u001b[39mtime\u001b[39;00m\n",
      "\u001b[1;31mModuleNotFoundError\u001b[0m: No module named 'matplotlib'"
     ]
    }
   ],
   "source": [
    "import tensorflow as tf\n",
    "\n",
    "# Download and import the MIT 6.S191 package\n",
    "!pip install mitdeeplearning\n",
    "import mitdeeplearning as mdl\n",
    "\n",
    "import numpy as np\n",
    "import matplotlib.pyplot as plt"
   ]
  },
  {
   "cell_type": "markdown",
   "metadata": {},
   "source": [
    "### "
   ]
  }
 ],
 "metadata": {
  "interpreter": {
   "hash": "6418c156c4c657c62bbf9aad3532bb52769817865b14aef67e315c59f36fc76f"
  },
  "kernelspec": {
   "display_name": "Python 3.9.7 ('tf-gpu')",
   "language": "python",
   "name": "python3"
  },
  "language_info": {
   "codemirror_mode": {
    "name": "ipython",
    "version": 3
   },
   "file_extension": ".py",
   "mimetype": "text/x-python",
   "name": "python",
   "nbconvert_exporter": "python",
   "pygments_lexer": "ipython3",
   "version": "3.9.7"
  },
  "orig_nbformat": 4
 },
 "nbformat": 4,
 "nbformat_minor": 2
}
